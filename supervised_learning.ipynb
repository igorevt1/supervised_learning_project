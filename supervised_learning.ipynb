{
 "cells": [
  {
   "cell_type": "markdown",
   "metadata": {
    "toc": true
   },
   "source": [
    "<h1>Содержание<span class=\"tocSkip\"></span></h1>\n",
    "<div class=\"toc\"><ul class=\"toc-item\"><li><span><a href=\"#Подготовка-данных\" data-toc-modified-id=\"Подготовка-данных-1\"><span class=\"toc-item-num\">1&nbsp;&nbsp;</span>Подготовка данных</a></span><ul class=\"toc-item\"><li><span><a href=\"#Описание-признаков:\" data-toc-modified-id=\"Описание-признаков:-1.1\"><span class=\"toc-item-num\">1.1&nbsp;&nbsp;</span>Описание признаков:</a></span></li><li><span><a href=\"#Импорт-библиотек.\" data-toc-modified-id=\"Импорт-библиотек.-1.2\"><span class=\"toc-item-num\">1.2&nbsp;&nbsp;</span>Импорт библиотек.</a></span></li><li><span><a href=\"#Загрузка-данных-и-первичный-анализ:\" data-toc-modified-id=\"Загрузка-данных-и-первичный-анализ:-1.3\"><span class=\"toc-item-num\">1.3&nbsp;&nbsp;</span>Загрузка данных и первичный анализ:</a></span><ul class=\"toc-item\"><li><span><a href=\"#Загрузка-данных.\" data-toc-modified-id=\"Загрузка-данных.-1.3.1\"><span class=\"toc-item-num\">1.3.1&nbsp;&nbsp;</span>Загрузка данных.</a></span></li><li><span><a href=\"#Вывод-части-данных:\" data-toc-modified-id=\"Вывод-части-данных:-1.3.2\"><span class=\"toc-item-num\">1.3.2&nbsp;&nbsp;</span>Вывод части данных:</a></span></li><li><span><a href=\"#Информация-о-структуре-датафрейма:\" data-toc-modified-id=\"Информация-о-структуре-датафрейма:-1.3.3\"><span class=\"toc-item-num\">1.3.3&nbsp;&nbsp;</span>Информация о структуре датафрейма:</a></span></li><li><span><a href=\"#Общая-статистика:\" data-toc-modified-id=\"Общая-статистика:-1.3.4\"><span class=\"toc-item-num\">1.3.4&nbsp;&nbsp;</span>Общая статистика:</a></span></li><li><span><a href=\"#Гистограммы-по-всем-признакам-датафрейма:\" data-toc-modified-id=\"Гистограммы-по-всем-признакам-датафрейма:-1.3.5\"><span class=\"toc-item-num\">1.3.5&nbsp;&nbsp;</span>Гистограммы по всем признакам датафрейма:</a></span></li><li><span><a href=\"#Комментарий-к-гистограммам:\" data-toc-modified-id=\"Комментарий-к-гистограммам:-1.3.6\"><span class=\"toc-item-num\">1.3.6&nbsp;&nbsp;</span>Комментарий к гистограммам:</a></span></li><li><span><a href=\"#Вывод-по-этапу-загрузки-данных-и-первичному-анализу-(п-1.3):\" data-toc-modified-id=\"Вывод-по-этапу-загрузки-данных-и-первичному-анализу-(п-1.3):-1.3.7\"><span class=\"toc-item-num\">1.3.7&nbsp;&nbsp;</span>Вывод по этапу загрузки данных и первичному анализу (п 1.3):</a></span></li></ul></li><li><span><a href=\"#Предобработка-данных:\" data-toc-modified-id=\"Предобработка-данных:-1.4\"><span class=\"toc-item-num\">1.4&nbsp;&nbsp;</span>Предобработка данных:</a></span><ul class=\"toc-item\"><li><span><a href=\"#Замена-NaN-в-признаке-Tenure\" data-toc-modified-id=\"Замена-NaN-в-признаке-Tenure-1.4.1\"><span class=\"toc-item-num\">1.4.1&nbsp;&nbsp;</span>Замена NaN в признаке <code>Tenure</code></a></span></li><li><span><a href=\"#Проверка-на-явные-дубликаты:\" data-toc-modified-id=\"Проверка-на-явные-дубликаты:-1.4.2\"><span class=\"toc-item-num\">1.4.2&nbsp;&nbsp;</span>Проверка на явные дубликаты:</a></span></li><li><span><a href=\"#Комментарий-по-неявным-дубликатам-и-аномалиям-в-данных:\" data-toc-modified-id=\"Комментарий-по-неявным-дубликатам-и-аномалиям-в-данных:-1.4.3\"><span class=\"toc-item-num\">1.4.3&nbsp;&nbsp;</span>Комментарий по неявным дубликатам и аномалиям в данных:</a></span></li><li><span><a href=\"#Проверка-и-промежуточный-вывод:\" data-toc-modified-id=\"Проверка-и-промежуточный-вывод:-1.4.4\"><span class=\"toc-item-num\">1.4.4&nbsp;&nbsp;</span>Проверка и промежуточный вывод:</a></span></li></ul></li><li><span><a href=\"#Подготовка-данных-к-обучению.\" data-toc-modified-id=\"Подготовка-данных-к-обучению.-1.5\"><span class=\"toc-item-num\">1.5&nbsp;&nbsp;</span>Подготовка данных к обучению.</a></span><ul class=\"toc-item\"><li><span><a href=\"#Разделение-признаков:\" data-toc-modified-id=\"Разделение-признаков:-1.5.1\"><span class=\"toc-item-num\">1.5.1&nbsp;&nbsp;</span>Разделение признаков:</a></span></li><li><span><a href=\"#Выполним-кодирование-категориальных-признаков.\" data-toc-modified-id=\"Выполним-кодирование-категориальных-признаков.-1.5.2\"><span class=\"toc-item-num\">1.5.2&nbsp;&nbsp;</span>Выполним кодирование категориальных признаков.</a></span></li><li><span><a href=\"#Разделим-выборку-на-обучающую,-валидационную-и-тестовую-в-соотношении-60%:20%:20%\" data-toc-modified-id=\"Разделим-выборку-на-обучающую,-валидационную-и-тестовую-в-соотношении-60%:20%:20%-1.5.3\"><span class=\"toc-item-num\">1.5.3&nbsp;&nbsp;</span>Разделим выборку на обучающую, валидационную и тестовую в соотношении 60%:20%:20%</a></span></li><li><span><a href=\"#Стандартизация-количественных-признаков-с-помощью-StandardScaler.\" data-toc-modified-id=\"Стандартизация-количественных-признаков-с-помощью-StandardScaler.-1.5.4\"><span class=\"toc-item-num\">1.5.4&nbsp;&nbsp;</span>Стандартизация количественных признаков с помощью StandardScaler.</a></span></li><li><span><a href=\"#Промежуточный-вывод-пункта-1.5:\" data-toc-modified-id=\"Промежуточный-вывод-пункта-1.5:-1.5.5\"><span class=\"toc-item-num\">1.5.5&nbsp;&nbsp;</span>Промежуточный вывод пункта 1.5:</a></span></li></ul></li></ul></li><li><span><a href=\"#Исследование-задачи\" data-toc-modified-id=\"Исследование-задачи-2\"><span class=\"toc-item-num\">2&nbsp;&nbsp;</span>Исследование задачи</a></span><ul class=\"toc-item\"><li><span><a href=\"#Исследование-распределения-классов-в-обучающих-данных:\" data-toc-modified-id=\"Исследование-распределения-классов-в-обучающих-данных:-2.1\"><span class=\"toc-item-num\">2.1&nbsp;&nbsp;</span>Исследование распределения классов в обучающих данных:</a></span></li><li><span><a href=\"#Обучение-моделей-на-данных-без-учета-дисбаланса:\" data-toc-modified-id=\"Обучение-моделей-на-данных-без-учета-дисбаланса:-2.2\"><span class=\"toc-item-num\">2.2&nbsp;&nbsp;</span>Обучение моделей на данных без учета дисбаланса:</a></span><ul class=\"toc-item\"><li><span><a href=\"#Модель-1---логистическая-регрессия:\" data-toc-modified-id=\"Модель-1---логистическая-регрессия:-2.2.1\"><span class=\"toc-item-num\">2.2.1&nbsp;&nbsp;</span>Модель 1 - логистическая регрессия:</a></span></li><li><span><a href=\"#Модель-2---дерево-решений:\" data-toc-modified-id=\"Модель-2---дерево-решений:-2.2.2\"><span class=\"toc-item-num\">2.2.2&nbsp;&nbsp;</span>Модель 2 - дерево решений:</a></span></li><li><span><a href=\"#Модель-3---случайный-лес:\" data-toc-modified-id=\"Модель-3---случайный-лес:-2.2.3\"><span class=\"toc-item-num\">2.2.3&nbsp;&nbsp;</span>Модель 3 - случайный лес:</a></span></li><li><span><a href=\"#Модель-4---предсказание-0-классом:\" data-toc-modified-id=\"Модель-4---предсказание-0-классом:-2.2.4\"><span class=\"toc-item-num\">2.2.4&nbsp;&nbsp;</span>Модель 4 - предсказание 0 классом:</a></span></li></ul></li><li><span><a href=\"#Выводы-по-результатам-исследования-дисбаланса-классов:\" data-toc-modified-id=\"Выводы-по-результатам-исследования-дисбаланса-классов:-2.3\"><span class=\"toc-item-num\">2.3&nbsp;&nbsp;</span>Выводы по результатам исследования дисбаланса классов:</a></span></li></ul></li><li><span><a href=\"#Борьба-с-дисбалансом\" data-toc-modified-id=\"Борьба-с-дисбалансом-3\"><span class=\"toc-item-num\">3&nbsp;&nbsp;</span>Борьба с дисбалансом</a></span><ul class=\"toc-item\"><li><span><a href=\"#Методы-борьбы-с-дисбалансом\" data-toc-modified-id=\"Методы-борьбы-с-дисбалансом-3.1\"><span class=\"toc-item-num\">3.1&nbsp;&nbsp;</span>Методы борьбы с дисбалансом</a></span></li><li><span><a href=\"#Балансирование-классов-методом-взвешивания:\" data-toc-modified-id=\"Балансирование-классов-методом-взвешивания:-3.2\"><span class=\"toc-item-num\">3.2&nbsp;&nbsp;</span>Балансирование классов методом взвешивания:</a></span><ul class=\"toc-item\"><li><span><a href=\"#Первая-модель---логистическая-регрессия:\" data-toc-modified-id=\"Первая-модель---логистическая-регрессия:-3.2.1\"><span class=\"toc-item-num\">3.2.1&nbsp;&nbsp;</span>Первая модель - логистическая регрессия:</a></span></li><li><span><a href=\"#Вторая-модель---дерево-решений:\" data-toc-modified-id=\"Вторая-модель---дерево-решений:-3.2.2\"><span class=\"toc-item-num\">3.2.2&nbsp;&nbsp;</span>Вторая модель - дерево решений:</a></span></li><li><span><a href=\"#Третья-модель---случайный-лес:\" data-toc-modified-id=\"Третья-модель---случайный-лес:-3.2.3\"><span class=\"toc-item-num\">3.2.3&nbsp;&nbsp;</span>Третья модель - случайный лес:</a></span></li><li><span><a href=\"#Результат-балансировки-классов-методом-взвешивания:\" data-toc-modified-id=\"Результат-балансировки-классов-методом-взвешивания:-3.2.4\"><span class=\"toc-item-num\">3.2.4&nbsp;&nbsp;</span>Результат балансировки классов методом взвешивания:</a></span></li></ul></li><li><span><a href=\"#Балансирование-классов-методом-upsampling:\" data-toc-modified-id=\"Балансирование-классов-методом-upsampling:-3.3\"><span class=\"toc-item-num\">3.3&nbsp;&nbsp;</span>Балансирование классов методом upsampling:</a></span><ul class=\"toc-item\"><li><span><a href=\"#Описание-метода-и-действий:\" data-toc-modified-id=\"Описание-метода-и-действий:-3.3.1\"><span class=\"toc-item-num\">3.3.1&nbsp;&nbsp;</span>Описание метода и действий:</a></span></li><li><span><a href=\"#Разделение-обучающей-выборки-на-классы:\" data-toc-modified-id=\"Разделение-обучающей-выборки-на-классы:-3.3.2\"><span class=\"toc-item-num\">3.3.2&nbsp;&nbsp;</span>Разделение обучающей выборки на классы:</a></span></li><li><span><a href=\"#Увеличение-числа-объектов-класса-1-в-4-раза--и-перемешивание:\" data-toc-modified-id=\"Увеличение-числа-объектов-класса-1-в-4-раза--и-перемешивание:-3.3.3\"><span class=\"toc-item-num\">3.3.3&nbsp;&nbsp;</span>Увеличение числа объектов класса 1 в 4 раза  и перемешивание:</a></span></li><li><span><a href=\"#Первая-модель---логистическая-регрессия:\" data-toc-modified-id=\"Первая-модель---логистическая-регрессия:-3.3.4\"><span class=\"toc-item-num\">3.3.4&nbsp;&nbsp;</span>Первая модель - логистическая регрессия:</a></span></li><li><span><a href=\"#Вторая-модель---дерево-решений:\" data-toc-modified-id=\"Вторая-модель---дерево-решений:-3.3.5\"><span class=\"toc-item-num\">3.3.5&nbsp;&nbsp;</span>Вторая модель - дерево решений:</a></span></li><li><span><a href=\"#Третья-модель---случайный-лес:\" data-toc-modified-id=\"Третья-модель---случайный-лес:-3.3.6\"><span class=\"toc-item-num\">3.3.6&nbsp;&nbsp;</span>Третья модель - случайный лес:</a></span></li><li><span><a href=\"#Результаты-балансировки-классов-методом-upsampling:\" data-toc-modified-id=\"Результаты-балансировки-классов-методом-upsampling:-3.3.7\"><span class=\"toc-item-num\">3.3.7&nbsp;&nbsp;</span>Результаты балансировки классов методом <code>upsampling</code>:</a></span></li></ul></li><li><span><a href=\"#Балансирование-классов-методом-downsampling:\" data-toc-modified-id=\"Балансирование-классов-методом-downsampling:-3.4\"><span class=\"toc-item-num\">3.4&nbsp;&nbsp;</span>Балансирование классов методом downsampling:</a></span><ul class=\"toc-item\"><li><span><a href=\"#Описание-метода-и-действий:\" data-toc-modified-id=\"Описание-метода-и-действий:-3.4.1\"><span class=\"toc-item-num\">3.4.1&nbsp;&nbsp;</span>Описание метода и действий:</a></span></li><li><span><a href=\"#Разделение-обучающей-выборки-на-классы:\" data-toc-modified-id=\"Разделение-обучающей-выборки-на-классы:-3.4.2\"><span class=\"toc-item-num\">3.4.2&nbsp;&nbsp;</span>Разделение обучающей выборки на классы:</a></span></li><li><span><a href=\"#Уменьшение-числа-объектов-0-класса-в-4-раза:\" data-toc-modified-id=\"Уменьшение-числа-объектов-0-класса-в-4-раза:-3.4.3\"><span class=\"toc-item-num\">3.4.3&nbsp;&nbsp;</span>Уменьшение числа объектов 0 класса в 4 раза:</a></span></li><li><span><a href=\"#Первая-модель---логистическая-регрессия:\" data-toc-modified-id=\"Первая-модель---логистическая-регрессия:-3.4.4\"><span class=\"toc-item-num\">3.4.4&nbsp;&nbsp;</span>Первая модель - логистическая регрессия:</a></span></li><li><span><a href=\"#Вторая-модель---дерево-решений:\" data-toc-modified-id=\"Вторая-модель---дерево-решений:-3.4.5\"><span class=\"toc-item-num\">3.4.5&nbsp;&nbsp;</span>Вторая модель - дерево решений:</a></span></li><li><span><a href=\"#Третья-модель---случайный-лес:\" data-toc-modified-id=\"Третья-модель---случайный-лес:-3.4.6\"><span class=\"toc-item-num\">3.4.6&nbsp;&nbsp;</span>Третья модель - случайный лес:</a></span></li><li><span><a href=\"#Результаты-балансировки-классов-методом-downsampling:\" data-toc-modified-id=\"Результаты-балансировки-классов-методом-downsampling:-3.4.7\"><span class=\"toc-item-num\">3.4.7&nbsp;&nbsp;</span>Результаты балансировки классов методом <code>downsampling</code>:</a></span></li></ul></li><li><span><a href=\"#Выводы-по-учету-дисбаланса-при-обучении\" data-toc-modified-id=\"Выводы-по-учету-дисбаланса-при-обучении-3.5\"><span class=\"toc-item-num\">3.5&nbsp;&nbsp;</span>Выводы по учету дисбаланса при обучении</a></span></li></ul></li><li><span><a href=\"#Тестирование-модели\" data-toc-modified-id=\"Тестирование-модели-4\"><span class=\"toc-item-num\">4&nbsp;&nbsp;</span>Тестирование модели</a></span><ul class=\"toc-item\"><li><span><a href=\"#Итоговая-модель:\" data-toc-modified-id=\"Итоговая-модель:-4.1\"><span class=\"toc-item-num\">4.1&nbsp;&nbsp;</span>Итоговая модель:</a></span></li><li><span><a href=\"#Объединение-обучающей-и-валидационной-выборок-и-исправление-дисбаланса:\" data-toc-modified-id=\"Объединение-обучающей-и-валидационной-выборок-и-исправление-дисбаланса:-4.2\"><span class=\"toc-item-num\">4.2&nbsp;&nbsp;</span>Объединение обучающей и валидационной выборок и исправление дисбаланса:</a></span></li><li><span><a href=\"#Обучение-выбранной-модели:\" data-toc-modified-id=\"Обучение-выбранной-модели:-4.3\"><span class=\"toc-item-num\">4.3&nbsp;&nbsp;</span>Обучение выбранной модели:</a></span></li><li><span><a href=\"#Выводы-по-результатам-тестирования:\" data-toc-modified-id=\"Выводы-по-результатам-тестирования:-4.4\"><span class=\"toc-item-num\">4.4&nbsp;&nbsp;</span>Выводы по результатам тестирования:</a></span></li></ul></li><li><span><a href=\"#Общий-вывод\" data-toc-modified-id=\"Общий-вывод-5\"><span class=\"toc-item-num\">5&nbsp;&nbsp;</span>Общий вывод</a></span></li><li><span><a href=\"#Чек-лист-готовности-проекта\" data-toc-modified-id=\"Чек-лист-готовности-проекта-6\"><span class=\"toc-item-num\">6&nbsp;&nbsp;</span>Чек-лист готовности проекта</a></span></li></ul></div>"
   ]
  },
  {
   "cell_type": "markdown",
   "metadata": {},
   "source": [
    "# Отток клиентов"
   ]
  },
  {
   "cell_type": "markdown",
   "metadata": {},
   "source": [
    "Из «Бета-Банка» стали уходить клиенты. Каждый месяц. Немного, но заметно. Банковские маркетологи посчитали: сохранять текущих клиентов дешевле, чем привлекать новых.\n",
    "\n",
    "Нужно спрогнозировать, уйдёт клиент из банка в ближайшее время или нет. Вам предоставлены исторические данные о поведении клиентов и расторжении договоров с банком. \n",
    "\n",
    "Постройте модель с предельно большим значением *F1*-меры. Чтобы сдать проект успешно, нужно довести метрику до 0.59. Проверьте *F1*-меру на тестовой выборке самостоятельно.\n",
    "\n",
    "Дополнительно измеряйте *AUC-ROC*, сравнивайте её значение с *F1*-мерой.\n",
    "\n",
    "Источник данных: [https://www.kaggle.com/barelydedicated/bank-customer-churn-modeling](https://www.kaggle.com/barelydedicated/bank-customer-churn-modeling)"
   ]
  },
  {
   "cell_type": "markdown",
   "metadata": {},
   "source": [
    "<b>План работы:</b>\n",
    "\n",
    "1. Загрузка данных.\n",
    " 1. Загрузка данных из файла `/datasets/Churn.csv`;\n",
    " 2. Вывод части данных;\n",
    " 3. Вывод информации о типе данных и структуре датафрейма методом `.info()`;\n",
    " 4. Общая статистика: метод `.describe()`;\n",
    " 5. Гистограммы по всем признакам в данных.\n",
    " 6. Промежуточные выводы.\n",
    "2. Предобработка данных:\n",
    " 1. Исследование типов данных, корректировка, где необходимо;\n",
    " 2. Исследование на явные и неявные дубликаты, удаление дублей;\n",
    " 3. Исследование пропусков в данных, заполнение/удаление пропусков;\n",
    " 4. Исследование аномалий в данных, корректировка/удаление аномалий;\n",
    " 5. Промежуточные выводы.\n",
    "3. Подготовка данных:\n",
    " 1. Разделение исходных данных на две части: признаки (`features`) и целевой признак (`target`);\n",
    " 2. Выделение признаков, которые будем использовать при обучении модели;\n",
    " 2. Разделение выборки на обучающую, валидационную и тестовую в соотношении 60:20:20;\n",
    " 3. Кодирование категориальных признаков методом `One-Hot Encoding`;\n",
    " 4. Масштабирование количественных признаков;\n",
    " 5. Промежуточные выводы.\n",
    "4. Исследование выборки на предмет дисбаланса классов:\n",
    " 1. Оценка распределения данных по классам 0 и 1;\n",
    " 2. Обучение `логистической регрессии` на данных без учета дисбаланса и оценка метрикой `accuracy`;\n",
    " 3. Обучение модели `DecisionTreeClassifier` на данных без учета дисбаланса и оценка метрикой `accuracy`;\n",
    " 4. Обучение модели `RandomForestClassifier` на данных без учета дисбаланса и оценка метрикой `accuracy`;\n",
    " 5. Создание столбца со значениями из наиболее частого класса в качестве предсказания и оценка метрикой `accuracy`;\n",
    " 6. Анализ результатов и выводы;\n",
    "5. Борьба с дисбалансом методом взвешивания классов:\n",
    " 1. Обучение `LogisticRegression` с гиперпараметром `class_weight='balanced'`, проверка на валидации метрикой `F1-мера`;\n",
    " 2. Обучение `DecisionTreeClassifier` с гиперпараметром `class_weight='balanced'`, проверка на валидации метрикой `F1-мера`;\n",
    " 3. Обучение `RandomForestClassifier` с гиперпараметром `class_weight='balanced'`, проверка на валидации метрикой `F1-мера`;\n",
    " 4. Промежуточный вывод;\n",
    "6. Борьба с дисбалансом методом `upsampling` и обучение моделей:\n",
    " 1. Увеличение количества представителей другого класса в обучающей выборке методом `upsampling`.\n",
    " 2. Обучение `LogisticRegression` на полученных данных, проверка на валидации метрикой `F1-мера`;\n",
    " 3. Обучение `DecisionTreeClassifier` на полученных данных, проверка на валидации метрикой `F1-мера`;\n",
    " 4. Обучение `RandomForestClassifier` на полученных данных, проверка на валидации метрикой `F1-мера`;\n",
    " 5. Промежуточный вывод;\n",
    "7. Борьба с дисбалансом методом `downsampling` и обучение моделей:\n",
    " 1. Уменьшение количества представителей другого класса в обучающей выборке методом `downsampling`.\n",
    " 2. Обучение `LogisticRegression` на полученных данных, проверка на валидации метрикой `F1-мера`;\n",
    " 3. Обучение `DecisionTreeClassifier` на полученных данных, проверка на валидации метрикой `F1-мера`;\n",
    " 4. Обучение `RandomForestClassifier` на полученных данных, проверка на валидации метрикой `F1-мера`;\n",
    " 5. Промежуточный вывод;\n",
    "8. Выводы по итогам этапов 5 - 7, выбор наилучшей модели.\n",
    "9. Финальное тестирование.\n",
    "10. Общий вывод."
   ]
  },
  {
   "cell_type": "markdown",
   "metadata": {},
   "source": [
    "## Подготовка данных"
   ]
  },
  {
   "cell_type": "markdown",
   "metadata": {},
   "source": [
    "### Описание признаков:"
   ]
  },
  {
   "cell_type": "markdown",
   "metadata": {},
   "source": [
    "\n",
    "\n",
    "|Признак|Описание|\n",
    "|:-----:|:------:|\n",
    "RowNumber|индекс строки в данных\n",
    "CustomerId|уникальный идентификатор клиента\n",
    "Surname|фамилия\n",
    "CreditScore|кредитный рейтинг\n",
    "Geography|страна проживания\n",
    "Gender|пол\n",
    "Age|возраст\n",
    "Tenure|сколько лет человек является клиентом банка\n",
    "Balance|баланс на счёте\n",
    "NumOfProducts|количество продуктов банка, используемых клиентом\n",
    "HasCrCard|наличие кредитной карты\n",
    "IsActiveMember|активность клиента\n",
    "EstimatedSalary|предполагаемая зарплата\n",
    "\n",
    "\n",
    "|Целевой признак|Описание|\n",
    "|:-------------:|:------:|\n",
    "|Exited|факт ухода клиента|"
   ]
  },
  {
   "cell_type": "markdown",
   "metadata": {},
   "source": [
    "### Импорт библиотек."
   ]
  },
  {
   "cell_type": "code",
   "execution_count": 1,
   "metadata": {},
   "outputs": [],
   "source": [
    "import pandas as pd\n",
    "import matplotlib.pyplot as plt\n",
    "from sklearn.model_selection import train_test_split\n",
    "from sklearn.preprocessing import StandardScaler\n",
    "from sklearn.metrics import accuracy_score, f1_score, roc_auc_score, precision_score, recall_score, roc_auc_score\n",
    "from sklearn.linear_model import LogisticRegression\n",
    "from sklearn.tree import DecisionTreeClassifier\n",
    "from sklearn.ensemble import RandomForestClassifier\n",
    "from sklearn.utils import shuffle"
   ]
  },
  {
   "cell_type": "markdown",
   "metadata": {},
   "source": [
    "### Загрузка данных и первичный анализ:"
   ]
  },
  {
   "cell_type": "markdown",
   "metadata": {},
   "source": [
    "#### Загрузка данных."
   ]
  },
  {
   "cell_type": "code",
   "execution_count": 2,
   "metadata": {},
   "outputs": [],
   "source": [
    "df = pd.read_csv('/datasets/Churn.csv')"
   ]
  },
  {
   "cell_type": "markdown",
   "metadata": {},
   "source": [
    "#### Вывод части данных:"
   ]
  },
  {
   "cell_type": "code",
   "execution_count": 3,
   "metadata": {},
   "outputs": [
    {
     "data": {
      "text/html": [
       "<div>\n",
       "<style scoped>\n",
       "    .dataframe tbody tr th:only-of-type {\n",
       "        vertical-align: middle;\n",
       "    }\n",
       "\n",
       "    .dataframe tbody tr th {\n",
       "        vertical-align: top;\n",
       "    }\n",
       "\n",
       "    .dataframe thead th {\n",
       "        text-align: right;\n",
       "    }\n",
       "</style>\n",
       "<table border=\"1\" class=\"dataframe\">\n",
       "  <thead>\n",
       "    <tr style=\"text-align: right;\">\n",
       "      <th></th>\n",
       "      <th>RowNumber</th>\n",
       "      <th>CustomerId</th>\n",
       "      <th>Surname</th>\n",
       "      <th>CreditScore</th>\n",
       "      <th>Geography</th>\n",
       "      <th>Gender</th>\n",
       "      <th>Age</th>\n",
       "      <th>Tenure</th>\n",
       "      <th>Balance</th>\n",
       "      <th>NumOfProducts</th>\n",
       "      <th>HasCrCard</th>\n",
       "      <th>IsActiveMember</th>\n",
       "      <th>EstimatedSalary</th>\n",
       "      <th>Exited</th>\n",
       "    </tr>\n",
       "  </thead>\n",
       "  <tbody>\n",
       "    <tr>\n",
       "      <th>0</th>\n",
       "      <td>1</td>\n",
       "      <td>15634602</td>\n",
       "      <td>Hargrave</td>\n",
       "      <td>619</td>\n",
       "      <td>France</td>\n",
       "      <td>Female</td>\n",
       "      <td>42</td>\n",
       "      <td>2.0</td>\n",
       "      <td>0.00</td>\n",
       "      <td>1</td>\n",
       "      <td>1</td>\n",
       "      <td>1</td>\n",
       "      <td>101348.88</td>\n",
       "      <td>1</td>\n",
       "    </tr>\n",
       "    <tr>\n",
       "      <th>1</th>\n",
       "      <td>2</td>\n",
       "      <td>15647311</td>\n",
       "      <td>Hill</td>\n",
       "      <td>608</td>\n",
       "      <td>Spain</td>\n",
       "      <td>Female</td>\n",
       "      <td>41</td>\n",
       "      <td>1.0</td>\n",
       "      <td>83807.86</td>\n",
       "      <td>1</td>\n",
       "      <td>0</td>\n",
       "      <td>1</td>\n",
       "      <td>112542.58</td>\n",
       "      <td>0</td>\n",
       "    </tr>\n",
       "    <tr>\n",
       "      <th>2</th>\n",
       "      <td>3</td>\n",
       "      <td>15619304</td>\n",
       "      <td>Onio</td>\n",
       "      <td>502</td>\n",
       "      <td>France</td>\n",
       "      <td>Female</td>\n",
       "      <td>42</td>\n",
       "      <td>8.0</td>\n",
       "      <td>159660.80</td>\n",
       "      <td>3</td>\n",
       "      <td>1</td>\n",
       "      <td>0</td>\n",
       "      <td>113931.57</td>\n",
       "      <td>1</td>\n",
       "    </tr>\n",
       "    <tr>\n",
       "      <th>3</th>\n",
       "      <td>4</td>\n",
       "      <td>15701354</td>\n",
       "      <td>Boni</td>\n",
       "      <td>699</td>\n",
       "      <td>France</td>\n",
       "      <td>Female</td>\n",
       "      <td>39</td>\n",
       "      <td>1.0</td>\n",
       "      <td>0.00</td>\n",
       "      <td>2</td>\n",
       "      <td>0</td>\n",
       "      <td>0</td>\n",
       "      <td>93826.63</td>\n",
       "      <td>0</td>\n",
       "    </tr>\n",
       "    <tr>\n",
       "      <th>4</th>\n",
       "      <td>5</td>\n",
       "      <td>15737888</td>\n",
       "      <td>Mitchell</td>\n",
       "      <td>850</td>\n",
       "      <td>Spain</td>\n",
       "      <td>Female</td>\n",
       "      <td>43</td>\n",
       "      <td>2.0</td>\n",
       "      <td>125510.82</td>\n",
       "      <td>1</td>\n",
       "      <td>1</td>\n",
       "      <td>1</td>\n",
       "      <td>79084.10</td>\n",
       "      <td>0</td>\n",
       "    </tr>\n",
       "  </tbody>\n",
       "</table>\n",
       "</div>"
      ],
      "text/plain": [
       "   RowNumber  CustomerId   Surname  CreditScore Geography  Gender  Age  \\\n",
       "0          1    15634602  Hargrave          619    France  Female   42   \n",
       "1          2    15647311      Hill          608     Spain  Female   41   \n",
       "2          3    15619304      Onio          502    France  Female   42   \n",
       "3          4    15701354      Boni          699    France  Female   39   \n",
       "4          5    15737888  Mitchell          850     Spain  Female   43   \n",
       "\n",
       "   Tenure    Balance  NumOfProducts  HasCrCard  IsActiveMember  \\\n",
       "0     2.0       0.00              1          1               1   \n",
       "1     1.0   83807.86              1          0               1   \n",
       "2     8.0  159660.80              3          1               0   \n",
       "3     1.0       0.00              2          0               0   \n",
       "4     2.0  125510.82              1          1               1   \n",
       "\n",
       "   EstimatedSalary  Exited  \n",
       "0        101348.88       1  \n",
       "1        112542.58       0  \n",
       "2        113931.57       1  \n",
       "3         93826.63       0  \n",
       "4         79084.10       0  "
      ]
     },
     "execution_count": 3,
     "metadata": {},
     "output_type": "execute_result"
    }
   ],
   "source": [
    "# 5 первых строк\n",
    "df.head()"
   ]
  },
  {
   "cell_type": "markdown",
   "metadata": {},
   "source": [
    "Как видно, данные успешно загружены. Можно посмотреть первые 5 строк датафрейма."
   ]
  },
  {
   "cell_type": "markdown",
   "metadata": {},
   "source": [
    "#### Информация о структуре датафрейма:"
   ]
  },
  {
   "cell_type": "code",
   "execution_count": 4,
   "metadata": {},
   "outputs": [
    {
     "name": "stdout",
     "output_type": "stream",
     "text": [
      "<class 'pandas.core.frame.DataFrame'>\n",
      "RangeIndex: 10000 entries, 0 to 9999\n",
      "Data columns (total 14 columns):\n",
      " #   Column           Non-Null Count  Dtype  \n",
      "---  ------           --------------  -----  \n",
      " 0   RowNumber        10000 non-null  int64  \n",
      " 1   CustomerId       10000 non-null  int64  \n",
      " 2   Surname          10000 non-null  object \n",
      " 3   CreditScore      10000 non-null  int64  \n",
      " 4   Geography        10000 non-null  object \n",
      " 5   Gender           10000 non-null  object \n",
      " 6   Age              10000 non-null  int64  \n",
      " 7   Tenure           9091 non-null   float64\n",
      " 8   Balance          10000 non-null  float64\n",
      " 9   NumOfProducts    10000 non-null  int64  \n",
      " 10  HasCrCard        10000 non-null  int64  \n",
      " 11  IsActiveMember   10000 non-null  int64  \n",
      " 12  EstimatedSalary  10000 non-null  float64\n",
      " 13  Exited           10000 non-null  int64  \n",
      "dtypes: float64(3), int64(8), object(3)\n",
      "memory usage: 1.1+ MB\n"
     ]
    }
   ],
   "source": [
    "# .info()\n",
    "df.info()"
   ]
  },
  {
   "cell_type": "markdown",
   "metadata": {},
   "source": [
    "По результатам вызова метода .info() можно отметить следующее:\n",
    "- в датафрейме 10 000 записей;\n",
    "- типы данных соответствуют описанию: тип `object` указан для тех столбцов, где есть текст (по описанию), в остальных случаях это `int64` или `float64` (что согласуется с описанием признаков);\n",
    "- в столбце с признаком `Tenure` есть 909 пропусков."
   ]
  },
  {
   "cell_type": "markdown",
   "metadata": {},
   "source": [
    "#### Общая статистика:"
   ]
  },
  {
   "cell_type": "code",
   "execution_count": 5,
   "metadata": {},
   "outputs": [
    {
     "data": {
      "text/html": [
       "<div>\n",
       "<style scoped>\n",
       "    .dataframe tbody tr th:only-of-type {\n",
       "        vertical-align: middle;\n",
       "    }\n",
       "\n",
       "    .dataframe tbody tr th {\n",
       "        vertical-align: top;\n",
       "    }\n",
       "\n",
       "    .dataframe thead th {\n",
       "        text-align: right;\n",
       "    }\n",
       "</style>\n",
       "<table border=\"1\" class=\"dataframe\">\n",
       "  <thead>\n",
       "    <tr style=\"text-align: right;\">\n",
       "      <th></th>\n",
       "      <th>RowNumber</th>\n",
       "      <th>CustomerId</th>\n",
       "      <th>CreditScore</th>\n",
       "      <th>Age</th>\n",
       "      <th>Tenure</th>\n",
       "      <th>Balance</th>\n",
       "      <th>NumOfProducts</th>\n",
       "      <th>HasCrCard</th>\n",
       "      <th>IsActiveMember</th>\n",
       "      <th>EstimatedSalary</th>\n",
       "      <th>Exited</th>\n",
       "    </tr>\n",
       "  </thead>\n",
       "  <tbody>\n",
       "    <tr>\n",
       "      <th>count</th>\n",
       "      <td>10000.00000</td>\n",
       "      <td>1.000000e+04</td>\n",
       "      <td>10000.000000</td>\n",
       "      <td>10000.000000</td>\n",
       "      <td>9091.000000</td>\n",
       "      <td>10000.000000</td>\n",
       "      <td>10000.000000</td>\n",
       "      <td>10000.00000</td>\n",
       "      <td>10000.000000</td>\n",
       "      <td>10000.000000</td>\n",
       "      <td>10000.000000</td>\n",
       "    </tr>\n",
       "    <tr>\n",
       "      <th>mean</th>\n",
       "      <td>5000.50000</td>\n",
       "      <td>1.569094e+07</td>\n",
       "      <td>650.528800</td>\n",
       "      <td>38.921800</td>\n",
       "      <td>4.997690</td>\n",
       "      <td>76485.889288</td>\n",
       "      <td>1.530200</td>\n",
       "      <td>0.70550</td>\n",
       "      <td>0.515100</td>\n",
       "      <td>100090.239881</td>\n",
       "      <td>0.203700</td>\n",
       "    </tr>\n",
       "    <tr>\n",
       "      <th>std</th>\n",
       "      <td>2886.89568</td>\n",
       "      <td>7.193619e+04</td>\n",
       "      <td>96.653299</td>\n",
       "      <td>10.487806</td>\n",
       "      <td>2.894723</td>\n",
       "      <td>62397.405202</td>\n",
       "      <td>0.581654</td>\n",
       "      <td>0.45584</td>\n",
       "      <td>0.499797</td>\n",
       "      <td>57510.492818</td>\n",
       "      <td>0.402769</td>\n",
       "    </tr>\n",
       "    <tr>\n",
       "      <th>min</th>\n",
       "      <td>1.00000</td>\n",
       "      <td>1.556570e+07</td>\n",
       "      <td>350.000000</td>\n",
       "      <td>18.000000</td>\n",
       "      <td>0.000000</td>\n",
       "      <td>0.000000</td>\n",
       "      <td>1.000000</td>\n",
       "      <td>0.00000</td>\n",
       "      <td>0.000000</td>\n",
       "      <td>11.580000</td>\n",
       "      <td>0.000000</td>\n",
       "    </tr>\n",
       "    <tr>\n",
       "      <th>25%</th>\n",
       "      <td>2500.75000</td>\n",
       "      <td>1.562853e+07</td>\n",
       "      <td>584.000000</td>\n",
       "      <td>32.000000</td>\n",
       "      <td>2.000000</td>\n",
       "      <td>0.000000</td>\n",
       "      <td>1.000000</td>\n",
       "      <td>0.00000</td>\n",
       "      <td>0.000000</td>\n",
       "      <td>51002.110000</td>\n",
       "      <td>0.000000</td>\n",
       "    </tr>\n",
       "    <tr>\n",
       "      <th>50%</th>\n",
       "      <td>5000.50000</td>\n",
       "      <td>1.569074e+07</td>\n",
       "      <td>652.000000</td>\n",
       "      <td>37.000000</td>\n",
       "      <td>5.000000</td>\n",
       "      <td>97198.540000</td>\n",
       "      <td>1.000000</td>\n",
       "      <td>1.00000</td>\n",
       "      <td>1.000000</td>\n",
       "      <td>100193.915000</td>\n",
       "      <td>0.000000</td>\n",
       "    </tr>\n",
       "    <tr>\n",
       "      <th>75%</th>\n",
       "      <td>7500.25000</td>\n",
       "      <td>1.575323e+07</td>\n",
       "      <td>718.000000</td>\n",
       "      <td>44.000000</td>\n",
       "      <td>7.000000</td>\n",
       "      <td>127644.240000</td>\n",
       "      <td>2.000000</td>\n",
       "      <td>1.00000</td>\n",
       "      <td>1.000000</td>\n",
       "      <td>149388.247500</td>\n",
       "      <td>0.000000</td>\n",
       "    </tr>\n",
       "    <tr>\n",
       "      <th>max</th>\n",
       "      <td>10000.00000</td>\n",
       "      <td>1.581569e+07</td>\n",
       "      <td>850.000000</td>\n",
       "      <td>92.000000</td>\n",
       "      <td>10.000000</td>\n",
       "      <td>250898.090000</td>\n",
       "      <td>4.000000</td>\n",
       "      <td>1.00000</td>\n",
       "      <td>1.000000</td>\n",
       "      <td>199992.480000</td>\n",
       "      <td>1.000000</td>\n",
       "    </tr>\n",
       "  </tbody>\n",
       "</table>\n",
       "</div>"
      ],
      "text/plain": [
       "         RowNumber    CustomerId   CreditScore           Age       Tenure  \\\n",
       "count  10000.00000  1.000000e+04  10000.000000  10000.000000  9091.000000   \n",
       "mean    5000.50000  1.569094e+07    650.528800     38.921800     4.997690   \n",
       "std     2886.89568  7.193619e+04     96.653299     10.487806     2.894723   \n",
       "min        1.00000  1.556570e+07    350.000000     18.000000     0.000000   \n",
       "25%     2500.75000  1.562853e+07    584.000000     32.000000     2.000000   \n",
       "50%     5000.50000  1.569074e+07    652.000000     37.000000     5.000000   \n",
       "75%     7500.25000  1.575323e+07    718.000000     44.000000     7.000000   \n",
       "max    10000.00000  1.581569e+07    850.000000     92.000000    10.000000   \n",
       "\n",
       "             Balance  NumOfProducts    HasCrCard  IsActiveMember  \\\n",
       "count   10000.000000   10000.000000  10000.00000    10000.000000   \n",
       "mean    76485.889288       1.530200      0.70550        0.515100   \n",
       "std     62397.405202       0.581654      0.45584        0.499797   \n",
       "min         0.000000       1.000000      0.00000        0.000000   \n",
       "25%         0.000000       1.000000      0.00000        0.000000   \n",
       "50%     97198.540000       1.000000      1.00000        1.000000   \n",
       "75%    127644.240000       2.000000      1.00000        1.000000   \n",
       "max    250898.090000       4.000000      1.00000        1.000000   \n",
       "\n",
       "       EstimatedSalary        Exited  \n",
       "count     10000.000000  10000.000000  \n",
       "mean     100090.239881      0.203700  \n",
       "std       57510.492818      0.402769  \n",
       "min          11.580000      0.000000  \n",
       "25%       51002.110000      0.000000  \n",
       "50%      100193.915000      0.000000  \n",
       "75%      149388.247500      0.000000  \n",
       "max      199992.480000      1.000000  "
      ]
     },
     "execution_count": 5,
     "metadata": {},
     "output_type": "execute_result"
    }
   ],
   "source": [
    "df.describe()"
   ]
  },
  {
   "cell_type": "markdown",
   "metadata": {},
   "source": [
    "Показатели из общей статистики дополнят комментарии к гистограммам ниже."
   ]
  },
  {
   "cell_type": "markdown",
   "metadata": {},
   "source": [
    "#### Гистограммы по всем признакам датафрейма:"
   ]
  },
  {
   "cell_type": "code",
   "execution_count": 6,
   "metadata": {
    "scrolled": false
   },
   "outputs": [
    {
     "data": {
      "image/png": "[encoded data removed]",
      "text/plain": [
       "<Figure size 1080x2520 with 12 Axes>"
      ]
     },
     "metadata": {
      "needs_background": "light"
     },
     "output_type": "display_data"
    }
   ],
   "source": [
    "# Словарь с признаками, для которых будем строить гистограммы\n",
    "features = {'CreditScore': 'Кредитный рейтинг, баллы',\n",
    "            'Geography': 'Страна',\n",
    "            'Gender': 'Пол',\n",
    "            'Age': 'Возраст, лет',\n",
    "            'Tenure': 'Сколько является клинетом банка, лет',\n",
    "            'Balance': 'Баланс счета',\n",
    "            'NumOfProducts': 'Количество используемых продуктов банка',\n",
    "            'HasCrCard': 'Наличие кредитной карты, да(1)/нет(0)',\n",
    "            'IsActiveMember': 'Активный клиент, да(1)/нет(0)',\n",
    "            'EstimatedSalary': 'Оценка ЗП',\n",
    "            'Exited': 'Признак расторжения договора, да(1)/нет(0)'\n",
    "}\n",
    "\n",
    "# Строим графики по выбранным признакам\n",
    "fig, axs = plt.subplots(nrows=len(features)//2 + 1, ncols=2, figsize=(15,35))\n",
    "\n",
    "for i, col in enumerate(features.keys()):\n",
    "    axs[i//2, i%2].hist(df[col])\n",
    "    axs[i//2, i%2].set(title=f'Гистограмма признака {col}', xlabel=features[col], ylabel='Частота')\n",
    "    axs[i//2, i%2].grid()\n",
    "\n",
    "plt.show()"
   ]
  },
  {
   "cell_type": "markdown",
   "metadata": {},
   "source": [
    "Отдельная гистограмма и статистика признака `Balance` только по положительным счетам. Комментарий будет ниже."
   ]
  },
  {
   "cell_type": "code",
   "execution_count": 7,
   "metadata": {},
   "outputs": [
    {
     "data": {
      "image/png": "[encoded data removed]",
      "text/plain": [
       "<Figure size 576x360 with 1 Axes>"
      ]
     },
     "metadata": {
      "needs_background": "light"
     },
     "output_type": "display_data"
    }
   ],
   "source": [
    "# Гистограмма\n",
    "ax = df.loc[df['Balance']>0, 'Balance'].hist(figsize=(8,5))\n",
    "ax.set(title=\"Распределение признака 'Balance', только значения > 0\",\n",
    "      xlabel='Сумма', ylabel='Частота')\n",
    "plt.show()"
   ]
  },
  {
   "cell_type": "code",
   "execution_count": 8,
   "metadata": {},
   "outputs": [
    {
     "data": {
      "text/plain": [
       "count      6383.000000\n",
       "mean     119827.493793\n",
       "std       30095.056462\n",
       "min        3768.690000\n",
       "25%      100181.975000\n",
       "50%      119839.690000\n",
       "75%      139512.290000\n",
       "max      250898.090000\n",
       "Name: Balance, dtype: float64"
      ]
     },
     "execution_count": 8,
     "metadata": {},
     "output_type": "execute_result"
    }
   ],
   "source": [
    "df.loc[df['Balance']>0, 'Balance'].describe()"
   ]
  },
  {
   "cell_type": "markdown",
   "metadata": {},
   "source": [
    "Число счетов с 0 балансом:"
   ]
  },
  {
   "cell_type": "code",
   "execution_count": 9,
   "metadata": {},
   "outputs": [
    {
     "data": {
      "text/plain": [
       "3617"
      ]
     },
     "execution_count": 9,
     "metadata": {},
     "output_type": "execute_result"
    }
   ],
   "source": [
    "(df['Balance']==0).sum()"
   ]
  },
  {
   "cell_type": "markdown",
   "metadata": {},
   "source": [
    "#### Комментарий к гистограммам:"
   ]
  },
  {
   "cell_type": "markdown",
   "metadata": {},
   "source": [
    "Из гистограмм выше можно отметить следующее:\n",
    "- Признак `CreditScore` (Кредитный рейтинг) имеет распределение, близкое к нормальному, среднее и медиана почти совпадают - 650 баллов, минимальное и максимальное значения равны 350 и 850 соответственно, 50% данных лежат в пределах от 584 (25% квантиль) до 718 баллов (75% квантиль);\n",
    "- Признак `Geography` (Страна) содержит 3 значения, причем доля представителей стран в данных разная: доля Франции примерно 50%, Германии и Испании примерно по 25%;\n",
    "- Признак `Gender` (Пол) содержит 2 значения, есть небольшое преобладание мужчин в выборке: соотношение 45% - женщины, 55% - мужчины.\n",
    "- Признак `Age` (Возраст) имеет распределение, скошенное вправо: минимальное и максимальное значения 18 и 92 лет соответственно, при этому среднее и медиана на уровне 39 и 37 лет соответственно. 50% выборки - клиенты в возрасте от 32 до 44 (25% и 75% квантили).\n",
    "- Признак `Tenure` (Сколько человек является клиентом) содержит значения от 0 до 10, а также NaN значения (которые тут не отображаются, но составляют примерно 9% всех данных). На гистограмме стоит отметить частоту значений 0 и 10, которые выделяются на фоне почти одинаковых остальных (на уровне 9%). 4% являются клиентами 0 лет (видимо, меньше года), а 13% - 14% являются клиентами 10 лет. Средний клиент \"дружит\" с банком примерно 5 лет.\n",
    "- Признак `Balance` (Баланс счета) содержит значения от 0 до 250 898. Можно отметить отметить две особенности:\n",
    "    1. Большая частота в интервале от 0 до 25 000. Это объяснсяется тем, что 3617 счетов имеют 0 баланс.\n",
    "    2. Если рассматривать только счета с балансом > 0, то распределение имеет нормальный вид, баланс среднего счета примерно 119 827. Он почти совпадает с медианой. Минимальное и максимальное значения 3768 и 250 898 соответственно. 50% таких данных лежит в интервале от 100 181 до 139 512 (25% и 75% квантили), т.е. достаточно плотно.\n",
    "- Признак `NumOfProducts` (Число продуктов в банке) содержит значения от 1 до 4. Большая часть клиентов имеет 1 или 2 продукта, это примерно 96% выборки.\n",
    "- Признак `HasCrCard` (Наличие кредитки) содержит значение 1(да) и 0(нет). В выборке примерно 70% имеют кредитную карту.\n",
    "- Признак `IsActiveMember` (Активный клиент) содержит значение 1(да) и 0(нет). Здесь соотношение 52% против 48% в пользу активных пользователей.\n",
    "- Признак `EstimatedSalary` (Предполагаемая зарплата) содержит значения от 11 до 200 000. Судя по гистограмме, признак имеет равномерное на распределение на указанном интервале.\n",
    "- Целевой признак `Exited` (Факт ухода клиента) содержит значение 1(да) и 0(нет). В выборке примерно 20% ушли из банка.\n"
   ]
  },
  {
   "cell_type": "markdown",
   "metadata": {},
   "source": [
    "#### Вывод по этапу загрузки данных и первичному анализу (п 1.3):"
   ]
  },
  {
   "cell_type": "markdown",
   "metadata": {},
   "source": [
    "1. Данные успешно загружены из файла, файл содержит 10 000 строк.\n",
    "2. Почти все признаки нормальные с точки зрения типа данных и отсутствия пропусков. Требуется корректировка признака `Tenure`, который содержит 909 пропусков. Возможные действия в этом случае:\n",
    "    1. Удалить строки с пропусками.\n",
    "    2. Заполнить медианой или средним.\n",
    "    3. Установить заглушку.\n",
    "3. Изучив гистограммы, можно сделать вывод, что каких-то аномалий в данных нет. Все в рамках нормы.\n",
    "3. Исследовав признаки в выборке, можно примерно построить следующий портрет клиента:\n",
    "    1. Житель одной из 3-х стран Еврозоны, скорее всего из Франции.\n",
    "    2. Средний возраст 39 лет.\n",
    "    3. Клиентами банка в равной степени являются и мужчины, и женщины, но есть небольшой перевес в пользу мужчин.\n",
    "    4. В среднем пользуется услугами банка на протяжении 5 лет.\n",
    "    5. Со средним доходом в районе 100 000 евро.\n",
    "    6. Средний баланс счета при наличии на нем денег 120 000 евро, однако есть высокая вероятность (36%) отсутствия денег на счете в принципе.\n",
    "    7. Скорее всего имеет кредитную карту банка."
   ]
  },
  {
   "cell_type": "markdown",
   "metadata": {},
   "source": [
    "### Предобработка данных:"
   ]
  },
  {
   "cell_type": "markdown",
   "metadata": {},
   "source": [
    "Перед обработкой зафиксируем исходный размер таблицы:"
   ]
  },
  {
   "cell_type": "code",
   "execution_count": 10,
   "metadata": {},
   "outputs": [],
   "source": [
    "df_before_size = df.shape"
   ]
  },
  {
   "cell_type": "markdown",
   "metadata": {},
   "source": [
    "#### Замена NaN в признаке `Tenure`"
   ]
  },
  {
   "cell_type": "markdown",
   "metadata": {},
   "source": [
    "Необходимо выполнить обработку данных в части пропусков в столбце `Tenure`. Есть несколько вариантов действий:\n",
    "1. Удалить строки с пропусками.\n",
    "2. Заполнить медианой или средним.\n",
    "3. Установить заглушку.\n",
    "\n",
    "Рассмотрим каждый из них:\n",
    "1. Удалить пропуски, значит потерять 9% данных, что достаточно ощутимо. Кроме того, это не решает следующую проблему: если на вход будут поданы данные с пропуском, модель не сможет их обработать.\n",
    "2. Заполнить неким средним или медианой можно по какому-то правилу. Из текущих данных не следует очевидной связи срока с какими-либо другими признаками. Можно получить искажение при обучении.\n",
    "3. Заполнить заглушкой. Можно проставить значение -1, например. Для нас это будет сигналом, что этот признак в действительности отсутствовал, при этом на таких данных мы сможем обучить модель. Также это решает проблему того, что в будущем такие данные могут прийти из системы. Модель их правильно обработает."
   ]
  },
  {
   "cell_type": "markdown",
   "metadata": {},
   "source": [
    "Замена значения NaN в столбце `Tenure` на -1:"
   ]
  },
  {
   "cell_type": "markdown",
   "metadata": {},
   "source": [
    "Перед обработкой:"
   ]
  },
  {
   "cell_type": "code",
   "execution_count": 11,
   "metadata": {},
   "outputs": [
    {
     "data": {
      "text/plain": [
       "909"
      ]
     },
     "execution_count": 11,
     "metadata": {},
     "output_type": "execute_result"
    }
   ],
   "source": [
    "df['Tenure'].isna().sum()"
   ]
  },
  {
   "cell_type": "markdown",
   "metadata": {},
   "source": [
    "Заполнение пропусками и правка типа данных на `int64`:"
   ]
  },
  {
   "cell_type": "code",
   "execution_count": 12,
   "metadata": {},
   "outputs": [],
   "source": [
    "df['Tenure'] = df['Tenure'].fillna(-1)\n",
    "df['Tenure'] = df['Tenure'].astype('int64')"
   ]
  },
  {
   "cell_type": "markdown",
   "metadata": {},
   "source": [
    "Проверка:"
   ]
  },
  {
   "cell_type": "code",
   "execution_count": 13,
   "metadata": {},
   "outputs": [
    {
     "data": {
      "text/plain": [
       "0"
      ]
     },
     "execution_count": 13,
     "metadata": {},
     "output_type": "execute_result"
    }
   ],
   "source": [
    "df['Tenure'].isna().sum()"
   ]
  },
  {
   "cell_type": "markdown",
   "metadata": {},
   "source": [
    "Проверка содержимого:"
   ]
  },
  {
   "cell_type": "code",
   "execution_count": 14,
   "metadata": {},
   "outputs": [
    {
     "data": {
      "text/html": [
       "<div>\n",
       "<style scoped>\n",
       "    .dataframe tbody tr th:only-of-type {\n",
       "        vertical-align: middle;\n",
       "    }\n",
       "\n",
       "    .dataframe tbody tr th {\n",
       "        vertical-align: top;\n",
       "    }\n",
       "\n",
       "    .dataframe thead th {\n",
       "        text-align: right;\n",
       "    }\n",
       "</style>\n",
       "<table border=\"1\" class=\"dataframe\">\n",
       "  <thead>\n",
       "    <tr style=\"text-align: right;\">\n",
       "      <th></th>\n",
       "      <th>RowNumber</th>\n",
       "      <th>CustomerId</th>\n",
       "      <th>Surname</th>\n",
       "      <th>CreditScore</th>\n",
       "      <th>Geography</th>\n",
       "      <th>Gender</th>\n",
       "      <th>Age</th>\n",
       "      <th>Tenure</th>\n",
       "      <th>Balance</th>\n",
       "      <th>NumOfProducts</th>\n",
       "      <th>HasCrCard</th>\n",
       "      <th>IsActiveMember</th>\n",
       "      <th>EstimatedSalary</th>\n",
       "      <th>Exited</th>\n",
       "    </tr>\n",
       "  </thead>\n",
       "  <tbody>\n",
       "    <tr>\n",
       "      <th>0</th>\n",
       "      <td>1</td>\n",
       "      <td>15634602</td>\n",
       "      <td>Hargrave</td>\n",
       "      <td>619</td>\n",
       "      <td>France</td>\n",
       "      <td>Female</td>\n",
       "      <td>42</td>\n",
       "      <td>2</td>\n",
       "      <td>0.00</td>\n",
       "      <td>1</td>\n",
       "      <td>1</td>\n",
       "      <td>1</td>\n",
       "      <td>101348.88</td>\n",
       "      <td>1</td>\n",
       "    </tr>\n",
       "    <tr>\n",
       "      <th>1</th>\n",
       "      <td>2</td>\n",
       "      <td>15647311</td>\n",
       "      <td>Hill</td>\n",
       "      <td>608</td>\n",
       "      <td>Spain</td>\n",
       "      <td>Female</td>\n",
       "      <td>41</td>\n",
       "      <td>1</td>\n",
       "      <td>83807.86</td>\n",
       "      <td>1</td>\n",
       "      <td>0</td>\n",
       "      <td>1</td>\n",
       "      <td>112542.58</td>\n",
       "      <td>0</td>\n",
       "    </tr>\n",
       "    <tr>\n",
       "      <th>2</th>\n",
       "      <td>3</td>\n",
       "      <td>15619304</td>\n",
       "      <td>Onio</td>\n",
       "      <td>502</td>\n",
       "      <td>France</td>\n",
       "      <td>Female</td>\n",
       "      <td>42</td>\n",
       "      <td>8</td>\n",
       "      <td>159660.80</td>\n",
       "      <td>3</td>\n",
       "      <td>1</td>\n",
       "      <td>0</td>\n",
       "      <td>113931.57</td>\n",
       "      <td>1</td>\n",
       "    </tr>\n",
       "    <tr>\n",
       "      <th>3</th>\n",
       "      <td>4</td>\n",
       "      <td>15701354</td>\n",
       "      <td>Boni</td>\n",
       "      <td>699</td>\n",
       "      <td>France</td>\n",
       "      <td>Female</td>\n",
       "      <td>39</td>\n",
       "      <td>1</td>\n",
       "      <td>0.00</td>\n",
       "      <td>2</td>\n",
       "      <td>0</td>\n",
       "      <td>0</td>\n",
       "      <td>93826.63</td>\n",
       "      <td>0</td>\n",
       "    </tr>\n",
       "    <tr>\n",
       "      <th>4</th>\n",
       "      <td>5</td>\n",
       "      <td>15737888</td>\n",
       "      <td>Mitchell</td>\n",
       "      <td>850</td>\n",
       "      <td>Spain</td>\n",
       "      <td>Female</td>\n",
       "      <td>43</td>\n",
       "      <td>2</td>\n",
       "      <td>125510.82</td>\n",
       "      <td>1</td>\n",
       "      <td>1</td>\n",
       "      <td>1</td>\n",
       "      <td>79084.10</td>\n",
       "      <td>0</td>\n",
       "    </tr>\n",
       "  </tbody>\n",
       "</table>\n",
       "</div>"
      ],
      "text/plain": [
       "   RowNumber  CustomerId   Surname  CreditScore Geography  Gender  Age  \\\n",
       "0          1    15634602  Hargrave          619    France  Female   42   \n",
       "1          2    15647311      Hill          608     Spain  Female   41   \n",
       "2          3    15619304      Onio          502    France  Female   42   \n",
       "3          4    15701354      Boni          699    France  Female   39   \n",
       "4          5    15737888  Mitchell          850     Spain  Female   43   \n",
       "\n",
       "   Tenure    Balance  NumOfProducts  HasCrCard  IsActiveMember  \\\n",
       "0       2       0.00              1          1               1   \n",
       "1       1   83807.86              1          0               1   \n",
       "2       8  159660.80              3          1               0   \n",
       "3       1       0.00              2          0               0   \n",
       "4       2  125510.82              1          1               1   \n",
       "\n",
       "   EstimatedSalary  Exited  \n",
       "0        101348.88       1  \n",
       "1        112542.58       0  \n",
       "2        113931.57       1  \n",
       "3         93826.63       0  \n",
       "4         79084.10       0  "
      ]
     },
     "execution_count": 14,
     "metadata": {},
     "output_type": "execute_result"
    }
   ],
   "source": [
    "df.head()"
   ]
  },
  {
   "cell_type": "code",
   "execution_count": 15,
   "metadata": {},
   "outputs": [
    {
     "name": "stdout",
     "output_type": "stream",
     "text": [
      "<class 'pandas.core.frame.DataFrame'>\n",
      "RangeIndex: 10000 entries, 0 to 9999\n",
      "Data columns (total 14 columns):\n",
      " #   Column           Non-Null Count  Dtype  \n",
      "---  ------           --------------  -----  \n",
      " 0   RowNumber        10000 non-null  int64  \n",
      " 1   CustomerId       10000 non-null  int64  \n",
      " 2   Surname          10000 non-null  object \n",
      " 3   CreditScore      10000 non-null  int64  \n",
      " 4   Geography        10000 non-null  object \n",
      " 5   Gender           10000 non-null  object \n",
      " 6   Age              10000 non-null  int64  \n",
      " 7   Tenure           10000 non-null  int64  \n",
      " 8   Balance          10000 non-null  float64\n",
      " 9   NumOfProducts    10000 non-null  int64  \n",
      " 10  HasCrCard        10000 non-null  int64  \n",
      " 11  IsActiveMember   10000 non-null  int64  \n",
      " 12  EstimatedSalary  10000 non-null  float64\n",
      " 13  Exited           10000 non-null  int64  \n",
      "dtypes: float64(2), int64(9), object(3)\n",
      "memory usage: 1.1+ MB\n"
     ]
    }
   ],
   "source": [
    "df.info()"
   ]
  },
  {
   "cell_type": "markdown",
   "metadata": {},
   "source": [
    "Правки данных в столбце `Tenure` прошли успешно."
   ]
  },
  {
   "cell_type": "markdown",
   "metadata": {},
   "source": [
    "Проверим данные на явные дубликаты:"
   ]
  },
  {
   "cell_type": "markdown",
   "metadata": {},
   "source": [
    "#### Проверка на явные дубликаты:"
   ]
  },
  {
   "cell_type": "code",
   "execution_count": 16,
   "metadata": {},
   "outputs": [
    {
     "data": {
      "text/plain": [
       "0"
      ]
     },
     "execution_count": 16,
     "metadata": {},
     "output_type": "execute_result"
    }
   ],
   "source": [
    "df.duplicated().sum()"
   ]
  },
  {
   "cell_type": "markdown",
   "metadata": {},
   "source": [
    "Явных дублей в данных нет."
   ]
  },
  {
   "cell_type": "markdown",
   "metadata": {},
   "source": [
    "#### Комментарий по неявным дубликатам и аномалиям в данных:"
   ]
  },
  {
   "cell_type": "markdown",
   "metadata": {},
   "source": [
    "Также стоит отметить:\n",
    "- Неявных дублей в данных тоже нет, это было видно на гистограммах с категориальными признаками, все значения признаков были уникальными.\n",
    "- Аномальных значений в данных нет, это так же было видно на гистограммах.\n"
   ]
  },
  {
   "cell_type": "markdown",
   "metadata": {},
   "source": [
    "#### Проверка и промежуточный вывод:"
   ]
  },
  {
   "cell_type": "markdown",
   "metadata": {},
   "source": [
    "После предобработки изменений размера датафрейма нет:"
   ]
  },
  {
   "cell_type": "code",
   "execution_count": 17,
   "metadata": {},
   "outputs": [
    {
     "data": {
      "text/plain": [
       "True"
      ]
     },
     "execution_count": 17,
     "metadata": {},
     "output_type": "execute_result"
    }
   ],
   "source": [
    "df_before_size == df.shape"
   ]
  },
  {
   "cell_type": "markdown",
   "metadata": {},
   "source": [
    "<b>Промежуточный вывод пункта 1.4:</b>\n",
    "\n",
    "1. Выполнена замена пропусков в столбце `Tenure` на значение -1. Это позволит не удалять 9% данных и обучить модель на предоставленных данных. Если новые данные вдруг окажутся с пропуском в этом признаке (по какой-то причине), то модель сможет их обработать.\n",
    "2. В данных нет других проблем:\n",
    "    - Явных дубликатов нет;\n",
    "    - Неявных дубликатов нет;\n",
    "    - Пропусков в других столбцах нет:\n",
    "    - Аномалий нет.\n"
   ]
  },
  {
   "cell_type": "markdown",
   "metadata": {},
   "source": [
    "### Подготовка данных к обучению."
   ]
  },
  {
   "cell_type": "markdown",
   "metadata": {},
   "source": [
    "#### Разделение признаков:"
   ]
  },
  {
   "cell_type": "markdown",
   "metadata": {},
   "source": [
    "Также на этом этапе удалим ненужные нам признаки, т.к. они являются индивидуальными для каждого объекта. Ниже список таких столбцов:"
   ]
  },
  {
   "cell_type": "code",
   "execution_count": 18,
   "metadata": {},
   "outputs": [],
   "source": [
    "cols_to_delete = ['RowNumber', 'CustomerId', 'Surname']"
   ]
  },
  {
   "cell_type": "markdown",
   "metadata": {},
   "source": [
    "Разделение:"
   ]
  },
  {
   "cell_type": "code",
   "execution_count": 19,
   "metadata": {},
   "outputs": [],
   "source": [
    "target = df['Exited']\n",
    "features = df.drop(columns=cols_to_delete + ['Exited'], axis=1)"
   ]
  },
  {
   "cell_type": "markdown",
   "metadata": {},
   "source": [
    "Вывод размеров и проверка:"
   ]
  },
  {
   "cell_type": "code",
   "execution_count": 20,
   "metadata": {},
   "outputs": [
    {
     "name": "stdout",
     "output_type": "stream",
     "text": [
      "Исходный размер: (10000, 14)\n",
      "Размер датафрейма с обучающими признаками: (10000, 10)\n",
      "Размер series с целевым признаком: (10000,)\n"
     ]
    }
   ],
   "source": [
    "print(f'Исходный размер: {df.shape}')\n",
    "print(f'Размер датафрейма с обучающими признаками: {features.shape}')\n",
    "print(f'Размер series с целевым признаком: {target.shape}')"
   ]
  },
  {
   "cell_type": "code",
   "execution_count": 21,
   "metadata": {},
   "outputs": [
    {
     "name": "stdout",
     "output_type": "stream",
     "text": [
      "Вывод target:\n"
     ]
    },
    {
     "data": {
      "text/plain": [
       "0    1\n",
       "1    0\n",
       "2    1\n",
       "3    0\n",
       "4    0\n",
       "Name: Exited, dtype: int64"
      ]
     },
     "metadata": {},
     "output_type": "display_data"
    },
    {
     "name": "stdout",
     "output_type": "stream",
     "text": [
      "Вывод features:\n"
     ]
    },
    {
     "data": {
      "text/html": [
       "<div>\n",
       "<style scoped>\n",
       "    .dataframe tbody tr th:only-of-type {\n",
       "        vertical-align: middle;\n",
       "    }\n",
       "\n",
       "    .dataframe tbody tr th {\n",
       "        vertical-align: top;\n",
       "    }\n",
       "\n",
       "    .dataframe thead th {\n",
       "        text-align: right;\n",
       "    }\n",
       "</style>\n",
       "<table border=\"1\" class=\"dataframe\">\n",
       "  <thead>\n",
       "    <tr style=\"text-align: right;\">\n",
       "      <th></th>\n",
       "      <th>CreditScore</th>\n",
       "      <th>Geography</th>\n",
       "      <th>Gender</th>\n",
       "      <th>Age</th>\n",
       "      <th>Tenure</th>\n",
       "      <th>Balance</th>\n",
       "      <th>NumOfProducts</th>\n",
       "      <th>HasCrCard</th>\n",
       "      <th>IsActiveMember</th>\n",
       "      <th>EstimatedSalary</th>\n",
       "    </tr>\n",
       "  </thead>\n",
       "  <tbody>\n",
       "    <tr>\n",
       "      <th>0</th>\n",
       "      <td>619</td>\n",
       "      <td>France</td>\n",
       "      <td>Female</td>\n",
       "      <td>42</td>\n",
       "      <td>2</td>\n",
       "      <td>0.00</td>\n",
       "      <td>1</td>\n",
       "      <td>1</td>\n",
       "      <td>1</td>\n",
       "      <td>101348.88</td>\n",
       "    </tr>\n",
       "    <tr>\n",
       "      <th>1</th>\n",
       "      <td>608</td>\n",
       "      <td>Spain</td>\n",
       "      <td>Female</td>\n",
       "      <td>41</td>\n",
       "      <td>1</td>\n",
       "      <td>83807.86</td>\n",
       "      <td>1</td>\n",
       "      <td>0</td>\n",
       "      <td>1</td>\n",
       "      <td>112542.58</td>\n",
       "    </tr>\n",
       "    <tr>\n",
       "      <th>2</th>\n",
       "      <td>502</td>\n",
       "      <td>France</td>\n",
       "      <td>Female</td>\n",
       "      <td>42</td>\n",
       "      <td>8</td>\n",
       "      <td>159660.80</td>\n",
       "      <td>3</td>\n",
       "      <td>1</td>\n",
       "      <td>0</td>\n",
       "      <td>113931.57</td>\n",
       "    </tr>\n",
       "    <tr>\n",
       "      <th>3</th>\n",
       "      <td>699</td>\n",
       "      <td>France</td>\n",
       "      <td>Female</td>\n",
       "      <td>39</td>\n",
       "      <td>1</td>\n",
       "      <td>0.00</td>\n",
       "      <td>2</td>\n",
       "      <td>0</td>\n",
       "      <td>0</td>\n",
       "      <td>93826.63</td>\n",
       "    </tr>\n",
       "    <tr>\n",
       "      <th>4</th>\n",
       "      <td>850</td>\n",
       "      <td>Spain</td>\n",
       "      <td>Female</td>\n",
       "      <td>43</td>\n",
       "      <td>2</td>\n",
       "      <td>125510.82</td>\n",
       "      <td>1</td>\n",
       "      <td>1</td>\n",
       "      <td>1</td>\n",
       "      <td>79084.10</td>\n",
       "    </tr>\n",
       "  </tbody>\n",
       "</table>\n",
       "</div>"
      ],
      "text/plain": [
       "   CreditScore Geography  Gender  Age  Tenure    Balance  NumOfProducts  \\\n",
       "0          619    France  Female   42       2       0.00              1   \n",
       "1          608     Spain  Female   41       1   83807.86              1   \n",
       "2          502    France  Female   42       8  159660.80              3   \n",
       "3          699    France  Female   39       1       0.00              2   \n",
       "4          850     Spain  Female   43       2  125510.82              1   \n",
       "\n",
       "   HasCrCard  IsActiveMember  EstimatedSalary  \n",
       "0          1               1        101348.88  \n",
       "1          0               1        112542.58  \n",
       "2          1               0        113931.57  \n",
       "3          0               0         93826.63  \n",
       "4          1               1         79084.10  "
      ]
     },
     "metadata": {},
     "output_type": "display_data"
    }
   ],
   "source": [
    "print('Вывод target:')\n",
    "display(target.head())\n",
    "print('Вывод features:')\n",
    "display(features.head())"
   ]
  },
  {
   "cell_type": "markdown",
   "metadata": {},
   "source": [
    "Как видно выше, разделение прошло успешно."
   ]
  },
  {
   "cell_type": "markdown",
   "metadata": {},
   "source": [
    "#### Выполним кодирование категориальных признаков."
   ]
  },
  {
   "cell_type": "markdown",
   "metadata": {},
   "source": [
    "Воспользуемся методом pandas get_dummies для кодирования категориальных признаков методом One-Hot Encoding:"
   ]
  },
  {
   "cell_type": "code",
   "execution_count": 22,
   "metadata": {},
   "outputs": [],
   "source": [
    "features_ohe = pd.get_dummies(features, drop_first=True)"
   ]
  },
  {
   "cell_type": "markdown",
   "metadata": {},
   "source": [
    "Проверим результат кодирования:"
   ]
  },
  {
   "cell_type": "code",
   "execution_count": 23,
   "metadata": {},
   "outputs": [
    {
     "data": {
      "text/html": [
       "<div>\n",
       "<style scoped>\n",
       "    .dataframe tbody tr th:only-of-type {\n",
       "        vertical-align: middle;\n",
       "    }\n",
       "\n",
       "    .dataframe tbody tr th {\n",
       "        vertical-align: top;\n",
       "    }\n",
       "\n",
       "    .dataframe thead th {\n",
       "        text-align: right;\n",
       "    }\n",
       "</style>\n",
       "<table border=\"1\" class=\"dataframe\">\n",
       "  <thead>\n",
       "    <tr style=\"text-align: right;\">\n",
       "      <th></th>\n",
       "      <th>CreditScore</th>\n",
       "      <th>Age</th>\n",
       "      <th>Tenure</th>\n",
       "      <th>Balance</th>\n",
       "      <th>NumOfProducts</th>\n",
       "      <th>HasCrCard</th>\n",
       "      <th>IsActiveMember</th>\n",
       "      <th>EstimatedSalary</th>\n",
       "      <th>Geography_Germany</th>\n",
       "      <th>Geography_Spain</th>\n",
       "      <th>Gender_Male</th>\n",
       "    </tr>\n",
       "  </thead>\n",
       "  <tbody>\n",
       "    <tr>\n",
       "      <th>0</th>\n",
       "      <td>619</td>\n",
       "      <td>42</td>\n",
       "      <td>2</td>\n",
       "      <td>0.00</td>\n",
       "      <td>1</td>\n",
       "      <td>1</td>\n",
       "      <td>1</td>\n",
       "      <td>101348.88</td>\n",
       "      <td>0</td>\n",
       "      <td>0</td>\n",
       "      <td>0</td>\n",
       "    </tr>\n",
       "    <tr>\n",
       "      <th>1</th>\n",
       "      <td>608</td>\n",
       "      <td>41</td>\n",
       "      <td>1</td>\n",
       "      <td>83807.86</td>\n",
       "      <td>1</td>\n",
       "      <td>0</td>\n",
       "      <td>1</td>\n",
       "      <td>112542.58</td>\n",
       "      <td>0</td>\n",
       "      <td>1</td>\n",
       "      <td>0</td>\n",
       "    </tr>\n",
       "    <tr>\n",
       "      <th>2</th>\n",
       "      <td>502</td>\n",
       "      <td>42</td>\n",
       "      <td>8</td>\n",
       "      <td>159660.80</td>\n",
       "      <td>3</td>\n",
       "      <td>1</td>\n",
       "      <td>0</td>\n",
       "      <td>113931.57</td>\n",
       "      <td>0</td>\n",
       "      <td>0</td>\n",
       "      <td>0</td>\n",
       "    </tr>\n",
       "    <tr>\n",
       "      <th>3</th>\n",
       "      <td>699</td>\n",
       "      <td>39</td>\n",
       "      <td>1</td>\n",
       "      <td>0.00</td>\n",
       "      <td>2</td>\n",
       "      <td>0</td>\n",
       "      <td>0</td>\n",
       "      <td>93826.63</td>\n",
       "      <td>0</td>\n",
       "      <td>0</td>\n",
       "      <td>0</td>\n",
       "    </tr>\n",
       "    <tr>\n",
       "      <th>4</th>\n",
       "      <td>850</td>\n",
       "      <td>43</td>\n",
       "      <td>2</td>\n",
       "      <td>125510.82</td>\n",
       "      <td>1</td>\n",
       "      <td>1</td>\n",
       "      <td>1</td>\n",
       "      <td>79084.10</td>\n",
       "      <td>0</td>\n",
       "      <td>1</td>\n",
       "      <td>0</td>\n",
       "    </tr>\n",
       "  </tbody>\n",
       "</table>\n",
       "</div>"
      ],
      "text/plain": [
       "   CreditScore  Age  Tenure    Balance  NumOfProducts  HasCrCard  \\\n",
       "0          619   42       2       0.00              1          1   \n",
       "1          608   41       1   83807.86              1          0   \n",
       "2          502   42       8  159660.80              3          1   \n",
       "3          699   39       1       0.00              2          0   \n",
       "4          850   43       2  125510.82              1          1   \n",
       "\n",
       "   IsActiveMember  EstimatedSalary  Geography_Germany  Geography_Spain  \\\n",
       "0               1        101348.88                  0                0   \n",
       "1               1        112542.58                  0                1   \n",
       "2               0        113931.57                  0                0   \n",
       "3               0         93826.63                  0                0   \n",
       "4               1         79084.10                  0                1   \n",
       "\n",
       "   Gender_Male  \n",
       "0            0  \n",
       "1            0  \n",
       "2            0  \n",
       "3            0  \n",
       "4            0  "
      ]
     },
     "execution_count": 23,
     "metadata": {},
     "output_type": "execute_result"
    }
   ],
   "source": [
    "features_ohe.head()"
   ]
  },
  {
   "cell_type": "markdown",
   "metadata": {},
   "source": [
    "Как видно, добавились 3 новых столбца `Geography_Germany`, `Geography_Spain`, `Gender_Male` и исчезли 2 старых столбца `Geography` и `Gender`. OHE кодирование выполнено верно, выполнено удаление первого столбца (дамми-ловушка)."
   ]
  },
  {
   "cell_type": "markdown",
   "metadata": {},
   "source": [
    "#### Разделим выборку на обучающую, валидационную и тестовую в соотношении 60%:20%:20%"
   ]
  },
  {
   "cell_type": "markdown",
   "metadata": {},
   "source": [
    "Выделим `20%` тестовой выборки:"
   ]
  },
  {
   "cell_type": "code",
   "execution_count": 24,
   "metadata": {},
   "outputs": [],
   "source": [
    "features_ohe_train_valid, features_ohe_test, target_train_valid, target_test = train_test_split(features_ohe, target, random_state=12345,\n",
    "                                                                                       test_size=0.2)"
   ]
  },
  {
   "cell_type": "markdown",
   "metadata": {},
   "source": [
    "Выделим `20%` валидационной выборки. Т.к. разделяться будут 80% оставшихся данных, то в них валидационная выборка составляет 25%."
   ]
  },
  {
   "cell_type": "code",
   "execution_count": 25,
   "metadata": {},
   "outputs": [],
   "source": [
    "features_ohe_train, features_ohe_valid, target_train, target_valid = train_test_split(features_ohe_train_valid, target_train_valid, \n",
    "                                                                              random_state=12345, test_size=0.25)"
   ]
  },
  {
   "cell_type": "markdown",
   "metadata": {},
   "source": [
    "Проверим разделение данных:"
   ]
  },
  {
   "cell_type": "code",
   "execution_count": 26,
   "metadata": {},
   "outputs": [
    {
     "name": "stdout",
     "output_type": "stream",
     "text": [
      "Размер исходного датафрейма features_ohe: (10000, 11)\n",
      "Размер датафрейма features_ohe_train: (6000, 11)\n",
      "Размер датафрейма features_ohe_valid: (2000, 11)\n",
      "Размер датафрейма features_ohe_test (2000, 11)\n",
      "--------------------------------------------------\n",
      "Размер исходного series target: (10000,)\n",
      "Размер series target_train: (6000,)\n",
      "Размер series target_valid: (2000,)\n",
      "Размер series target_test (2000,)\n"
     ]
    }
   ],
   "source": [
    "print(f'Размер исходного датафрейма features_ohe: {features_ohe.shape}')\n",
    "print(f'Размер датафрейма features_ohe_train: {features_ohe_train.shape}')\n",
    "print(f'Размер датафрейма features_ohe_valid: {features_ohe_valid.shape}')\n",
    "print(f'Размер датафрейма features_ohe_test {features_ohe_test.shape}')\n",
    "print('--------------------------------------------------')\n",
    "print(f'Размер исходного series target: {target.shape}')\n",
    "print(f'Размер series target_train: {target_train.shape}')\n",
    "print(f'Размер series target_valid: {target_valid.shape}')\n",
    "print(f'Размер series target_test {target_test.shape}')"
   ]
  },
  {
   "cell_type": "markdown",
   "metadata": {},
   "source": [
    "Как видно выше, разделение прошло успешно, 6000 объектов лежат в обучающей выборке (60% от 10 000), 2000 объектов лежат в валидационной выборке (20% от 10 000) и 2000 объектов лежат в тестовой выборке (20% от 10 000)."
   ]
  },
  {
   "cell_type": "markdown",
   "metadata": {},
   "source": [
    "#### Стандартизация количественных признаков с помощью StandardScaler."
   ]
  },
  {
   "cell_type": "markdown",
   "metadata": {},
   "source": [
    "Отберем признаки, которые будем стандартизировать:"
   ]
  },
  {
   "cell_type": "code",
   "execution_count": 27,
   "metadata": {},
   "outputs": [],
   "source": [
    "numeric_cols = ['CreditScore', 'Age', 'Tenure', \n",
    "                'Balance', 'NumOfProducts', 'EstimatedSalary']"
   ]
  },
  {
   "cell_type": "markdown",
   "metadata": {},
   "source": [
    "Признаки `IsActiveMember` и `HasCrCard` имеют всего два значения 0 и 1, они категориальные. Их стандартизировать не будем."
   ]
  },
  {
   "cell_type": "markdown",
   "metadata": {},
   "source": [
    "Настроим StandardScaler на обучающей выборке и стандартизируем количественные столбцы в обучающей выборке:"
   ]
  },
  {
   "cell_type": "code",
   "execution_count": 28,
   "metadata": {},
   "outputs": [
    {
     "name": "stderr",
     "output_type": "stream",
     "text": [
      "/opt/conda/lib/python3.9/site-packages/pandas/core/indexing.py:1738: SettingWithCopyWarning: \n",
      "A value is trying to be set on a copy of a slice from a DataFrame.\n",
      "Try using .loc[row_indexer,col_indexer] = value instead\n",
      "\n",
      "See the caveats in the documentation: https://pandas.pydata.org/pandas-docs/stable/user_guide/indexing.html#returning-a-view-versus-a-copy\n",
      "  self._setitem_single_column(loc, value[:, i].tolist(), pi)\n"
     ]
    }
   ],
   "source": [
    "Scaler = StandardScaler()\n",
    "Scaler.fit(features_ohe_train[numeric_cols])\n",
    "features_ohe_train.loc[:, numeric_cols] = Scaler.transform(features_ohe_train[numeric_cols])"
   ]
  },
  {
   "cell_type": "markdown",
   "metadata": {},
   "source": [
    "Проверим результат стандартизации:"
   ]
  },
  {
   "cell_type": "code",
   "execution_count": 29,
   "metadata": {},
   "outputs": [
    {
     "data": {
      "text/html": [
       "<div>\n",
       "<style scoped>\n",
       "    .dataframe tbody tr th:only-of-type {\n",
       "        vertical-align: middle;\n",
       "    }\n",
       "\n",
       "    .dataframe tbody tr th {\n",
       "        vertical-align: top;\n",
       "    }\n",
       "\n",
       "    .dataframe thead th {\n",
       "        text-align: right;\n",
       "    }\n",
       "</style>\n",
       "<table border=\"1\" class=\"dataframe\">\n",
       "  <thead>\n",
       "    <tr style=\"text-align: right;\">\n",
       "      <th></th>\n",
       "      <th>CreditScore</th>\n",
       "      <th>Age</th>\n",
       "      <th>Tenure</th>\n",
       "      <th>Balance</th>\n",
       "      <th>NumOfProducts</th>\n",
       "      <th>HasCrCard</th>\n",
       "      <th>IsActiveMember</th>\n",
       "      <th>EstimatedSalary</th>\n",
       "      <th>Geography_Germany</th>\n",
       "      <th>Geography_Spain</th>\n",
       "      <th>Gender_Male</th>\n",
       "    </tr>\n",
       "  </thead>\n",
       "  <tbody>\n",
       "    <tr>\n",
       "      <th>492</th>\n",
       "      <td>-0.134048</td>\n",
       "      <td>-0.078068</td>\n",
       "      <td>-0.137323</td>\n",
       "      <td>0.076163</td>\n",
       "      <td>0.816929</td>\n",
       "      <td>0</td>\n",
       "      <td>1</td>\n",
       "      <td>0.331571</td>\n",
       "      <td>0</td>\n",
       "      <td>0</td>\n",
       "      <td>0</td>\n",
       "    </tr>\n",
       "    <tr>\n",
       "      <th>6655</th>\n",
       "      <td>-1.010798</td>\n",
       "      <td>0.494555</td>\n",
       "      <td>-1.661443</td>\n",
       "      <td>0.136391</td>\n",
       "      <td>-0.896909</td>\n",
       "      <td>1</td>\n",
       "      <td>1</td>\n",
       "      <td>-0.727858</td>\n",
       "      <td>0</td>\n",
       "      <td>0</td>\n",
       "      <td>1</td>\n",
       "    </tr>\n",
       "    <tr>\n",
       "      <th>4287</th>\n",
       "      <td>0.639554</td>\n",
       "      <td>1.353490</td>\n",
       "      <td>-1.051795</td>\n",
       "      <td>0.358435</td>\n",
       "      <td>-0.896909</td>\n",
       "      <td>1</td>\n",
       "      <td>1</td>\n",
       "      <td>-0.477006</td>\n",
       "      <td>1</td>\n",
       "      <td>0</td>\n",
       "      <td>1</td>\n",
       "    </tr>\n",
       "    <tr>\n",
       "      <th>42</th>\n",
       "      <td>-0.990168</td>\n",
       "      <td>2.116987</td>\n",
       "      <td>-0.746971</td>\n",
       "      <td>0.651725</td>\n",
       "      <td>-0.896909</td>\n",
       "      <td>1</td>\n",
       "      <td>1</td>\n",
       "      <td>-0.100232</td>\n",
       "      <td>0</td>\n",
       "      <td>0</td>\n",
       "      <td>0</td>\n",
       "    </tr>\n",
       "    <tr>\n",
       "      <th>8178</th>\n",
       "      <td>0.567351</td>\n",
       "      <td>0.685430</td>\n",
       "      <td>0.777149</td>\n",
       "      <td>0.813110</td>\n",
       "      <td>0.816929</td>\n",
       "      <td>1</td>\n",
       "      <td>1</td>\n",
       "      <td>0.801922</td>\n",
       "      <td>0</td>\n",
       "      <td>0</td>\n",
       "      <td>0</td>\n",
       "    </tr>\n",
       "  </tbody>\n",
       "</table>\n",
       "</div>"
      ],
      "text/plain": [
       "      CreditScore       Age    Tenure   Balance  NumOfProducts  HasCrCard  \\\n",
       "492     -0.134048 -0.078068 -0.137323  0.076163       0.816929          0   \n",
       "6655    -1.010798  0.494555 -1.661443  0.136391      -0.896909          1   \n",
       "4287     0.639554  1.353490 -1.051795  0.358435      -0.896909          1   \n",
       "42      -0.990168  2.116987 -0.746971  0.651725      -0.896909          1   \n",
       "8178     0.567351  0.685430  0.777149  0.813110       0.816929          1   \n",
       "\n",
       "      IsActiveMember  EstimatedSalary  Geography_Germany  Geography_Spain  \\\n",
       "492                1         0.331571                  0                0   \n",
       "6655               1        -0.727858                  0                0   \n",
       "4287               1        -0.477006                  1                0   \n",
       "42                 1        -0.100232                  0                0   \n",
       "8178               1         0.801922                  0                0   \n",
       "\n",
       "      Gender_Male  \n",
       "492             0  \n",
       "6655            1  \n",
       "4287            1  \n",
       "42              0  \n",
       "8178            0  "
      ]
     },
     "execution_count": 29,
     "metadata": {},
     "output_type": "execute_result"
    }
   ],
   "source": [
    "features_ohe_train.head()"
   ]
  },
  {
   "cell_type": "markdown",
   "metadata": {},
   "source": [
    "Как видно, все признаки были приведены к одному масштабу."
   ]
  },
  {
   "cell_type": "markdown",
   "metadata": {},
   "source": [
    "Сделаем аналогичные преобразования с валидационной и тестовой выборками с помощью Scaler, настроенного на обучающей выборке:"
   ]
  },
  {
   "cell_type": "code",
   "execution_count": 30,
   "metadata": {},
   "outputs": [
    {
     "name": "stderr",
     "output_type": "stream",
     "text": [
      "/opt/conda/lib/python3.9/site-packages/pandas/core/indexing.py:1738: SettingWithCopyWarning: \n",
      "A value is trying to be set on a copy of a slice from a DataFrame.\n",
      "Try using .loc[row_indexer,col_indexer] = value instead\n",
      "\n",
      "See the caveats in the documentation: https://pandas.pydata.org/pandas-docs/stable/user_guide/indexing.html#returning-a-view-versus-a-copy\n",
      "  self._setitem_single_column(loc, value[:, i].tolist(), pi)\n",
      "/opt/conda/lib/python3.9/site-packages/pandas/core/indexing.py:1738: SettingWithCopyWarning: \n",
      "A value is trying to be set on a copy of a slice from a DataFrame.\n",
      "Try using .loc[row_indexer,col_indexer] = value instead\n",
      "\n",
      "See the caveats in the documentation: https://pandas.pydata.org/pandas-docs/stable/user_guide/indexing.html#returning-a-view-versus-a-copy\n",
      "  self._setitem_single_column(loc, value[:, i].tolist(), pi)\n"
     ]
    }
   ],
   "source": [
    "features_ohe_valid.loc[:, numeric_cols] = Scaler.transform(features_ohe_valid[numeric_cols])\n",
    "features_ohe_test.loc[:, numeric_cols] = Scaler.transform(features_ohe_test[numeric_cols])"
   ]
  },
  {
   "cell_type": "markdown",
   "metadata": {},
   "source": [
    "Выполним проверку преобразования:"
   ]
  },
  {
   "cell_type": "code",
   "execution_count": 31,
   "metadata": {},
   "outputs": [
    {
     "data": {
      "text/html": [
       "<div>\n",
       "<style scoped>\n",
       "    .dataframe tbody tr th:only-of-type {\n",
       "        vertical-align: middle;\n",
       "    }\n",
       "\n",
       "    .dataframe tbody tr th {\n",
       "        vertical-align: top;\n",
       "    }\n",
       "\n",
       "    .dataframe thead th {\n",
       "        text-align: right;\n",
       "    }\n",
       "</style>\n",
       "<table border=\"1\" class=\"dataframe\">\n",
       "  <thead>\n",
       "    <tr style=\"text-align: right;\">\n",
       "      <th></th>\n",
       "      <th>CreditScore</th>\n",
       "      <th>Age</th>\n",
       "      <th>Tenure</th>\n",
       "      <th>Balance</th>\n",
       "      <th>NumOfProducts</th>\n",
       "      <th>HasCrCard</th>\n",
       "      <th>IsActiveMember</th>\n",
       "      <th>EstimatedSalary</th>\n",
       "      <th>Geography_Germany</th>\n",
       "      <th>Geography_Spain</th>\n",
       "      <th>Gender_Male</th>\n",
       "    </tr>\n",
       "  </thead>\n",
       "  <tbody>\n",
       "    <tr>\n",
       "      <th>2358</th>\n",
       "      <td>0.175393</td>\n",
       "      <td>0.399118</td>\n",
       "      <td>-1.051795</td>\n",
       "      <td>1.385698</td>\n",
       "      <td>-0.896909</td>\n",
       "      <td>0</td>\n",
       "      <td>1</td>\n",
       "      <td>-1.466761</td>\n",
       "      <td>0</td>\n",
       "      <td>0</td>\n",
       "      <td>1</td>\n",
       "    </tr>\n",
       "    <tr>\n",
       "      <th>8463</th>\n",
       "      <td>-1.299609</td>\n",
       "      <td>0.971741</td>\n",
       "      <td>-0.746971</td>\n",
       "      <td>-1.232442</td>\n",
       "      <td>-0.896909</td>\n",
       "      <td>1</td>\n",
       "      <td>0</td>\n",
       "      <td>0.254415</td>\n",
       "      <td>0</td>\n",
       "      <td>1</td>\n",
       "      <td>1</td>\n",
       "    </tr>\n",
       "    <tr>\n",
       "      <th>163</th>\n",
       "      <td>0.711757</td>\n",
       "      <td>-0.268942</td>\n",
       "      <td>-0.746971</td>\n",
       "      <td>-1.232442</td>\n",
       "      <td>0.816929</td>\n",
       "      <td>1</td>\n",
       "      <td>1</td>\n",
       "      <td>0.122863</td>\n",
       "      <td>0</td>\n",
       "      <td>1</td>\n",
       "      <td>0</td>\n",
       "    </tr>\n",
       "    <tr>\n",
       "      <th>3074</th>\n",
       "      <td>-0.391916</td>\n",
       "      <td>0.494555</td>\n",
       "      <td>0.472325</td>\n",
       "      <td>0.672529</td>\n",
       "      <td>-0.896909</td>\n",
       "      <td>1</td>\n",
       "      <td>0</td>\n",
       "      <td>0.585847</td>\n",
       "      <td>1</td>\n",
       "      <td>0</td>\n",
       "      <td>0</td>\n",
       "    </tr>\n",
       "    <tr>\n",
       "      <th>5989</th>\n",
       "      <td>0.165078</td>\n",
       "      <td>1.353490</td>\n",
       "      <td>1.691621</td>\n",
       "      <td>0.536522</td>\n",
       "      <td>-0.896909</td>\n",
       "      <td>0</td>\n",
       "      <td>0</td>\n",
       "      <td>1.462457</td>\n",
       "      <td>0</td>\n",
       "      <td>0</td>\n",
       "      <td>0</td>\n",
       "    </tr>\n",
       "  </tbody>\n",
       "</table>\n",
       "</div>"
      ],
      "text/plain": [
       "      CreditScore       Age    Tenure   Balance  NumOfProducts  HasCrCard  \\\n",
       "2358     0.175393  0.399118 -1.051795  1.385698      -0.896909          0   \n",
       "8463    -1.299609  0.971741 -0.746971 -1.232442      -0.896909          1   \n",
       "163      0.711757 -0.268942 -0.746971 -1.232442       0.816929          1   \n",
       "3074    -0.391916  0.494555  0.472325  0.672529      -0.896909          1   \n",
       "5989     0.165078  1.353490  1.691621  0.536522      -0.896909          0   \n",
       "\n",
       "      IsActiveMember  EstimatedSalary  Geography_Germany  Geography_Spain  \\\n",
       "2358               1        -1.466761                  0                0   \n",
       "8463               0         0.254415                  0                1   \n",
       "163                1         0.122863                  0                1   \n",
       "3074               0         0.585847                  1                0   \n",
       "5989               0         1.462457                  0                0   \n",
       "\n",
       "      Gender_Male  \n",
       "2358            1  \n",
       "8463            1  \n",
       "163             0  \n",
       "3074            0  \n",
       "5989            0  "
      ]
     },
     "metadata": {},
     "output_type": "display_data"
    },
    {
     "data": {
      "text/html": [
       "<div>\n",
       "<style scoped>\n",
       "    .dataframe tbody tr th:only-of-type {\n",
       "        vertical-align: middle;\n",
       "    }\n",
       "\n",
       "    .dataframe tbody tr th {\n",
       "        vertical-align: top;\n",
       "    }\n",
       "\n",
       "    .dataframe thead th {\n",
       "        text-align: right;\n",
       "    }\n",
       "</style>\n",
       "<table border=\"1\" class=\"dataframe\">\n",
       "  <thead>\n",
       "    <tr style=\"text-align: right;\">\n",
       "      <th></th>\n",
       "      <th>CreditScore</th>\n",
       "      <th>Age</th>\n",
       "      <th>Tenure</th>\n",
       "      <th>Balance</th>\n",
       "      <th>NumOfProducts</th>\n",
       "      <th>HasCrCard</th>\n",
       "      <th>IsActiveMember</th>\n",
       "      <th>EstimatedSalary</th>\n",
       "      <th>Geography_Germany</th>\n",
       "      <th>Geography_Spain</th>\n",
       "      <th>Gender_Male</th>\n",
       "    </tr>\n",
       "  </thead>\n",
       "  <tbody>\n",
       "    <tr>\n",
       "      <th>7867</th>\n",
       "      <td>-0.123733</td>\n",
       "      <td>0.685430</td>\n",
       "      <td>-0.442147</td>\n",
       "      <td>-1.232442</td>\n",
       "      <td>-0.896909</td>\n",
       "      <td>1</td>\n",
       "      <td>1</td>\n",
       "      <td>0.980212</td>\n",
       "      <td>0</td>\n",
       "      <td>1</td>\n",
       "      <td>0</td>\n",
       "    </tr>\n",
       "    <tr>\n",
       "      <th>1402</th>\n",
       "      <td>1.083087</td>\n",
       "      <td>-0.937002</td>\n",
       "      <td>1.081973</td>\n",
       "      <td>0.858518</td>\n",
       "      <td>-0.896909</td>\n",
       "      <td>1</td>\n",
       "      <td>0</td>\n",
       "      <td>-0.390486</td>\n",
       "      <td>0</td>\n",
       "      <td>0</td>\n",
       "      <td>1</td>\n",
       "    </tr>\n",
       "    <tr>\n",
       "      <th>8606</th>\n",
       "      <td>1.598822</td>\n",
       "      <td>0.303681</td>\n",
       "      <td>0.167501</td>\n",
       "      <td>-1.232442</td>\n",
       "      <td>0.816929</td>\n",
       "      <td>1</td>\n",
       "      <td>1</td>\n",
       "      <td>-0.435169</td>\n",
       "      <td>0</td>\n",
       "      <td>1</td>\n",
       "      <td>1</td>\n",
       "    </tr>\n",
       "    <tr>\n",
       "      <th>8885</th>\n",
       "      <td>0.165078</td>\n",
       "      <td>0.589993</td>\n",
       "      <td>-0.137323</td>\n",
       "      <td>0.412100</td>\n",
       "      <td>0.816929</td>\n",
       "      <td>1</td>\n",
       "      <td>1</td>\n",
       "      <td>1.017079</td>\n",
       "      <td>0</td>\n",
       "      <td>1</td>\n",
       "      <td>1</td>\n",
       "    </tr>\n",
       "    <tr>\n",
       "      <th>6494</th>\n",
       "      <td>0.484834</td>\n",
       "      <td>-1.032439</td>\n",
       "      <td>0.777149</td>\n",
       "      <td>-1.232442</td>\n",
       "      <td>0.816929</td>\n",
       "      <td>1</td>\n",
       "      <td>1</td>\n",
       "      <td>-1.343558</td>\n",
       "      <td>0</td>\n",
       "      <td>0</td>\n",
       "      <td>1</td>\n",
       "    </tr>\n",
       "  </tbody>\n",
       "</table>\n",
       "</div>"
      ],
      "text/plain": [
       "      CreditScore       Age    Tenure   Balance  NumOfProducts  HasCrCard  \\\n",
       "7867    -0.123733  0.685430 -0.442147 -1.232442      -0.896909          1   \n",
       "1402     1.083087 -0.937002  1.081973  0.858518      -0.896909          1   \n",
       "8606     1.598822  0.303681  0.167501 -1.232442       0.816929          1   \n",
       "8885     0.165078  0.589993 -0.137323  0.412100       0.816929          1   \n",
       "6494     0.484834 -1.032439  0.777149 -1.232442       0.816929          1   \n",
       "\n",
       "      IsActiveMember  EstimatedSalary  Geography_Germany  Geography_Spain  \\\n",
       "7867               1         0.980212                  0                1   \n",
       "1402               0        -0.390486                  0                0   \n",
       "8606               1        -0.435169                  0                1   \n",
       "8885               1         1.017079                  0                1   \n",
       "6494               1        -1.343558                  0                0   \n",
       "\n",
       "      Gender_Male  \n",
       "7867            0  \n",
       "1402            1  \n",
       "8606            1  \n",
       "8885            1  \n",
       "6494            1  "
      ]
     },
     "execution_count": 31,
     "metadata": {},
     "output_type": "execute_result"
    }
   ],
   "source": [
    "display(features_ohe_valid.head())\n",
    "features_ohe_test.head()"
   ]
  },
  {
   "cell_type": "markdown",
   "metadata": {},
   "source": [
    "Как видно, в тестовой и валидационной выборках преобразования прошли успешно."
   ]
  },
  {
   "cell_type": "markdown",
   "metadata": {},
   "source": [
    "#### Промежуточный вывод пункта 1.5:\n",
    "\n",
    "1. Выполнено разделение датафрейма на две составляющие - таблица с обучающими признаками и целевым признаком.\n",
    "2. Выполнено кодирование категориальных признаков методом OHE: в эту категорию попали поля `Gender` и `Geography`.\n",
    "3. Выполнено разделение выборки на 3 составляющие:\n",
    "    - Обучающая выборка - 60% от исходной или 6 000 объектов;\n",
    "    - Валидационная выборка - 20% от исходной или 2 000 объектов;\n",
    "    - Тестовая выборка - 20% от исходной или 2 000 объектов;\n",
    "4. Проведено стандартизирование части количественных признаков. В эту категорию попали признаки: `CreditScore`, `Age`, `Tenure`, `Balance`, `NumOfProducts` и `EstimatedSalary`. <b>НЕ</b> стандартизировались признаки `HasCrCard` и `IsActiveMember`, т.к. они категориальные.\n"
   ]
  },
  {
   "cell_type": "markdown",
   "metadata": {},
   "source": [
    "## Исследование задачи"
   ]
  },
  {
   "cell_type": "markdown",
   "metadata": {},
   "source": [
    "### Исследование распределения классов в обучающих данных:"
   ]
  },
  {
   "cell_type": "markdown",
   "metadata": {},
   "source": [
    "Изучим распределение классов (1/0) целевого признака в обучающих данных. Для этого воспользуемся методом value_counts()."
   ]
  },
  {
   "cell_type": "code",
   "execution_count": 32,
   "metadata": {},
   "outputs": [
    {
     "data": {
      "text/plain": [
       "0    0.796833\n",
       "1    0.203167\n",
       "Name: Exited, dtype: float64"
      ]
     },
     "execution_count": 32,
     "metadata": {},
     "output_type": "execute_result"
    }
   ],
   "source": [
    "target_train.value_counts(normalize=True)"
   ]
  },
  {
   "cell_type": "markdown",
   "metadata": {},
   "source": [
    "Целевой признак `Exited` принимает значение 0 для 79,7% объектов и значение 1 для 20,3% объектов выборки. Это соотношение сильно отличается от идеального соотношения 1:1, т.е. когда представителей обоих классов примерно одинаковое количество. Исследуем, какой результат будет получаться при обучении на таких данных:\n",
    "- логистической регрессии\n",
    "- дерева решений\n",
    "- случайного леса\n",
    "\n",
    "С помощью метрики `accuracy` (т.е. доли верных предсказаний класса моделью) сравним между собой результаты предсказания этих моделей на валидационной выборки. Также сравним результаты с метрикой `accuracy`, рассчитанной для предсказания 0 классом (наиболее часто встречающийся)."
   ]
  },
  {
   "cell_type": "markdown",
   "metadata": {},
   "source": [
    "### Обучение моделей на данных без учета дисбаланса:"
   ]
  },
  {
   "cell_type": "markdown",
   "metadata": {},
   "source": [
    "Обучение моделей:\n",
    "- model_1 - логистическая регрессия;\n",
    "- model_2 - дерево решений;\n",
    "- model_3 - случайный лес;\n",
    "- model_4 - предсказание 0 классом;"
   ]
  },
  {
   "cell_type": "markdown",
   "metadata": {},
   "source": [
    "В проект для удобства добавляется несколько функций:\n",
    "1. Для вывода ряда метрик:\n",
    "- accuracy\n",
    "- f1\n",
    "- precision\n",
    "- recall\n",
    "- roc_auc\n",
    "2. Для отрисовки распределения целевого признака и предсказания целевого признака моделью на одном графике\n",
    "\n",
    "Последние 4 метрики понадобятся для сравнения моделей до и после работы с дисбалансом.\n",
    "\n",
    "Также в датафрейм `results` будут сохраняться все метрики от разных моделей и способов работы с дисбалансом."
   ]
  },
  {
   "cell_type": "code",
   "execution_count": 33,
   "metadata": {},
   "outputs": [],
   "source": [
    "def print_and_return_metrics(target, predict, predict_prob_one, model_name):\n",
    "    \"\"\"Функция печатает 4 метрики и возвращает строку, содержащую:\n",
    "        - model_name - название модели\n",
    "        - метрику accuracy\n",
    "        - метрику f1\n",
    "        - метрику precision\n",
    "        - метрику recall\n",
    "        - метрику auc_roc\n",
    "        \"\"\"\n",
    "    accuracy = accuracy_score(target, predict)\n",
    "    f1 = f1_score(target, predict)\n",
    "    precision = precision_score(target, predict)\n",
    "    recall = recall_score(target, predict)\n",
    "    roc_auc = roc_auc_score(target, predict_prob_one)\n",
    "    print(f'{model_name}, метрика accuracy = {accuracy}')\n",
    "    print(f'{model_name}, метрика F1-мера = {f1}')\n",
    "    print(f'{model_name}, метрика precision = {precision}')\n",
    "    print(f'{model_name}, метрика recall = {recall}')\n",
    "    print(f'{model_name}, метрика roc_auc = {roc_auc}')\n",
    "    \n",
    "    return model_name, accuracy, f1, precision, recall, roc_auc   \n"
   ]
  },
  {
   "cell_type": "code",
   "execution_count": 34,
   "metadata": {},
   "outputs": [],
   "source": [
    "def print_distr(target, predict, predict_prob_one, model_name):\n",
    "    \"\"\"Функция рисует столбчатую диаграмму распределения\n",
    "    целевого признака и предсказания целевого признака моделью\"\"\"\n",
    "    # расчет частоты каждого класса в целевом признаке\n",
    "    freq_target = target.value_counts(normalize=True).rename('целевой признак')\n",
    "    # расчет частоты каждого класса в предсказании\n",
    "    freq_predict = (pd.Series(predict, index=target.index, name=f'{model_name}, предсказание')\n",
    "                            .value_counts(normalize=True)\n",
    "                           )\n",
    "    res_to_plot = pd.concat([freq_target, freq_predict], axis=1)\n",
    "    # вывод датафрейма\n",
    "    display(res_to_plot)\n",
    "    # визуализация:\n",
    "    res_to_plot.plot(kind='bar', xlabel='Класс', figsize=(12, 6),\n",
    "                     ylabel='Частота', title='Распределение классов в целевом \\n признаке и предсказании')\n",
    "    plt.show()    "
   ]
  },
  {
   "cell_type": "code",
   "execution_count": 35,
   "metadata": {},
   "outputs": [],
   "source": [
    "# Датафрейм, содержащий метрики различных моделей.\n",
    "results = pd.DataFrame(columns = ['model', 'accuracy', 'f1_score', 'precision', 'recall', 'roc_auc'])"
   ]
  },
  {
   "cell_type": "markdown",
   "metadata": {},
   "source": [
    "#### Модель 1 - логистическая регрессия:"
   ]
  },
  {
   "cell_type": "code",
   "execution_count": 36,
   "metadata": {},
   "outputs": [
    {
     "name": "stdout",
     "output_type": "stream",
     "text": [
      "логистическая регрессия без учета дисбаланса, метрика accuracy = 0.8165\n",
      "логистическая регрессия без учета дисбаланса, метрика F1-мера = 0.30885122410546145\n",
      "логистическая регрессия без учета дисбаланса, метрика precision = 0.5857142857142857\n",
      "логистическая регрессия без учета дисбаланса, метрика recall = 0.20971867007672634\n",
      "логистическая регрессия без учета дисбаланса, метрика roc_auc = 0.7707715074572536\n"
     ]
    }
   ],
   "source": [
    "model_1  = LogisticRegression()\n",
    "model_1.fit(features_ohe_train, target_train)\n",
    "model_1_predict = model_1.predict(features_ohe_valid)\n",
    "model_1_predict_prob_one = model_1.predict_proba(features_ohe_valid)[:, 1]\n",
    "# параметры для функций\n",
    "parameters = (target_valid, model_1_predict, model_1_predict_prob_one, 'логистическая регрессия без учета дисбаланса')\n",
    "# вывод метрик и сохранение результата в results\n",
    "results.loc[results.shape[0] + 1,:] = print_and_return_metrics(*parameters)"
   ]
  },
  {
   "cell_type": "markdown",
   "metadata": {},
   "source": [
    "Столбчатая диаграмма с распределением целевого признака и предсказания моделью:"
   ]
  },
  {
   "cell_type": "code",
   "execution_count": 37,
   "metadata": {},
   "outputs": [
    {
     "data": {
      "text/html": [
       "<div>\n",
       "<style scoped>\n",
       "    .dataframe tbody tr th:only-of-type {\n",
       "        vertical-align: middle;\n",
       "    }\n",
       "\n",
       "    .dataframe tbody tr th {\n",
       "        vertical-align: top;\n",
       "    }\n",
       "\n",
       "    .dataframe thead th {\n",
       "        text-align: right;\n",
       "    }\n",
       "</style>\n",
       "<table border=\"1\" class=\"dataframe\">\n",
       "  <thead>\n",
       "    <tr style=\"text-align: right;\">\n",
       "      <th></th>\n",
       "      <th>целевой признак</th>\n",
       "      <th>логистическая регрессия без учета дисбаланса, предсказание</th>\n",
       "    </tr>\n",
       "  </thead>\n",
       "  <tbody>\n",
       "    <tr>\n",
       "      <th>0</th>\n",
       "      <td>0.8045</td>\n",
       "      <td>0.93</td>\n",
       "    </tr>\n",
       "    <tr>\n",
       "      <th>1</th>\n",
       "      <td>0.1955</td>\n",
       "      <td>0.07</td>\n",
       "    </tr>\n",
       "  </tbody>\n",
       "</table>\n",
       "</div>"
      ],
      "text/plain": [
       "   целевой признак  логистическая регрессия без учета дисбаланса, предсказание\n",
       "0           0.8045                                               0.93         \n",
       "1           0.1955                                               0.07         "
      ]
     },
     "metadata": {},
     "output_type": "display_data"
    },
    {
     "data": {
      "image/png": "[encoded data removed]",
      "text/plain": [
       "<Figure size 864x432 with 1 Axes>"
      ]
     },
     "metadata": {
      "needs_background": "light"
     },
     "output_type": "display_data"
    }
   ],
   "source": [
    "print_distr(*parameters)"
   ]
  },
  {
   "cell_type": "markdown",
   "metadata": {},
   "source": [
    "#### Модель 2 - дерево решений:\n",
    "\n",
    "Для это модели также потребуется подобрать параметр `max_depth`- максимальная глубина дерева."
   ]
  },
  {
   "cell_type": "code",
   "execution_count": 38,
   "metadata": {},
   "outputs": [
    {
     "name": "stdout",
     "output_type": "stream",
     "text": [
      "Лучший результата достигается при max_depth = 6\n",
      "дерево решений без учета дисбаланса, метрика accuracy = 0.8595\n",
      "дерево решений без учета дисбаланса, метрика F1-мера = 0.5078809106830122\n",
      "дерево решений без учета дисбаланса, метрика precision = 0.8055555555555556\n",
      "дерево решений без учета дисбаланса, метрика recall = 0.37084398976982097\n",
      "дерево решений без учета дисбаланса, метрика roc_auc = 0.8241016405481316\n"
     ]
    }
   ],
   "source": [
    "# стартовое значение метрики = 0, нужно получить самое большее значение на перебираемых параметрах\n",
    "max_score = 0\n",
    "# значения max_depth, которые будем перебирать\n",
    "max_depth = [1,2,3,4,5,6,7,8,9,10,11,12,13,14]\n",
    "for depth in max_depth:\n",
    "    # перебор значений, обучение, предсказание (целевого признака и вероятности отнесения к 1 классу)\n",
    "    model_2 = DecisionTreeClassifier(random_state=12345, max_depth=depth)\n",
    "    model_2.fit(features_ohe_train, target_train)\n",
    "    model_2_predict = model_2.predict(features_ohe_valid)\n",
    "    model_2_predict_prob_one = model_2.predict_proba(features_ohe_valid)[:, 1]\n",
    "    # при определении оптимального параметра будем использовать accuracy\n",
    "    model_2_accuracy = accuracy_score(target_valid, model_2_predict)\n",
    "    if max_score < model_2_accuracy:\n",
    "        # если метрика на текущем шаге больше, чем была когда-то, то записываем все параметры\n",
    "        # в переменные с припиской \"_best\"\n",
    "        max_score = model_2_accuracy\n",
    "        best_depth = depth\n",
    "        model_2_predict_best = model_2_predict\n",
    "        model_2_predict_prob_one_best = model_2_predict_prob_one\n",
    "# выводим параметр, при котором метрика достигает лучшего значения. Он будет использоваться далее.\n",
    "print(f'Лучший результата достигается при max_depth = {best_depth}')\n",
    "# параметры для функций\n",
    "parameters = (target_valid, model_2_predict_best, model_2_predict_prob_one_best, 'дерево решений без учета дисбаланса')\n",
    "# вывод метрик и сохранение результата в results\n",
    "results.loc[results.shape[0] + 1,:] = print_and_return_metrics(*parameters)"
   ]
  },
  {
   "cell_type": "markdown",
   "metadata": {},
   "source": [
    "Столбчатая диаграмма с распределением целевого признака и предсказания моделью:"
   ]
  },
  {
   "cell_type": "code",
   "execution_count": 39,
   "metadata": {},
   "outputs": [
    {
     "data": {
      "text/html": [
       "<div>\n",
       "<style scoped>\n",
       "    .dataframe tbody tr th:only-of-type {\n",
       "        vertical-align: middle;\n",
       "    }\n",
       "\n",
       "    .dataframe tbody tr th {\n",
       "        vertical-align: top;\n",
       "    }\n",
       "\n",
       "    .dataframe thead th {\n",
       "        text-align: right;\n",
       "    }\n",
       "</style>\n",
       "<table border=\"1\" class=\"dataframe\">\n",
       "  <thead>\n",
       "    <tr style=\"text-align: right;\">\n",
       "      <th></th>\n",
       "      <th>целевой признак</th>\n",
       "      <th>дерево решений без учета дисбаланса, предсказание</th>\n",
       "    </tr>\n",
       "  </thead>\n",
       "  <tbody>\n",
       "    <tr>\n",
       "      <th>0</th>\n",
       "      <td>0.8045</td>\n",
       "      <td>0.91</td>\n",
       "    </tr>\n",
       "    <tr>\n",
       "      <th>1</th>\n",
       "      <td>0.1955</td>\n",
       "      <td>0.09</td>\n",
       "    </tr>\n",
       "  </tbody>\n",
       "</table>\n",
       "</div>"
      ],
      "text/plain": [
       "   целевой признак  дерево решений без учета дисбаланса, предсказание\n",
       "0           0.8045                                               0.91\n",
       "1           0.1955                                               0.09"
      ]
     },
     "metadata": {},
     "output_type": "display_data"
    },
    {
     "data": {
      "image/png": "[encoded data removed]",
      "text/plain": [
       "<Figure size 864x432 with 1 Axes>"
      ]
     },
     "metadata": {
      "needs_background": "light"
     },
     "output_type": "display_data"
    }
   ],
   "source": [
    "print_distr(*parameters)"
   ]
  },
  {
   "cell_type": "markdown",
   "metadata": {},
   "source": [
    "#### Модель 3 - случайный лес:\n",
    "\n",
    "Для этой модели также потребуется подобрать гиперпараметры `max_depth`- максимальная глубина дерева и `n_estimators` - число деревьев:"
   ]
  },
  {
   "cell_type": "code",
   "execution_count": 40,
   "metadata": {},
   "outputs": [
    {
     "name": "stdout",
     "output_type": "stream",
     "text": [
      "Лучший результата достигается при n_estimators = 60 и max_depth = 9\n",
      "случайный лес без учета дисбаланса, метрика accuracy = 0.867\n",
      "случайный лес без учета дисбаланса, метрика F1-мера = 0.5581395348837209\n",
      "случайный лес без учета дисбаланса, метрика precision = 0.7962085308056872\n",
      "случайный лес без учета дисбаланса, метрика recall = 0.4296675191815857\n",
      "случайный лес без учета дисбаланса, метрика roc_auc = 0.8514096697127252\n"
     ]
    }
   ],
   "source": [
    "# стартовое значение метрики = 0, нужно получить самое большее значение на перебираемых параметрах\n",
    "max_score = 0\n",
    "# значения max_depth, которые будем перебирать\n",
    "max_depth = [1,2,3,4,5,6,7,8,9,10,11,12,13,14]\n",
    "# значения n_estimators, которые будем перебирать\n",
    "for n_est in range(20, 201, 20):\n",
    "    for depth in max_depth:\n",
    "        # перебор значений, обучение, предсказание (целевого признака и вероятности отнесения к 1 классу)\n",
    "        model_3 = RandomForestClassifier(random_state=12345, max_depth=depth, n_estimators=n_est)\n",
    "        model_3.fit(features_ohe_train, target_train)\n",
    "        model_3_predict = model_3.predict(features_ohe_valid)\n",
    "        model_3_predict_prob_one = model_3.predict_proba(features_ohe_valid)[:, 1]\n",
    "        # при определении оптимального параметра будем использовать accuracy\n",
    "        model_3_accuracy = accuracy_score(target_valid, model_3_predict)\n",
    "        if max_score < model_3_accuracy:\n",
    "            # если метрика на текущем шаге больше, чем была когда-то, то записываем все гиперпараметры\n",
    "            # в переменные с припиской \"_best\"\n",
    "            max_score = model_3_accuracy\n",
    "            best_n_est = n_est\n",
    "            best_max_depth = depth\n",
    "            model_3_predict_best = model_3_predict\n",
    "            model_3_predict_prob_one_best = model_3_predict_prob_one\n",
    "# выводим гиперпараметры, при которых метрика достигает лучшего значения. Они будут использоваться далее.       \n",
    "print(f'Лучший результата достигается при n_estimators = {best_n_est} и max_depth = {best_max_depth}')\n",
    "# параметры для функций\n",
    "parameters = (target_valid, model_3_predict_best, model_3_predict_prob_one_best, 'случайный лес без учета дисбаланса')\n",
    "# вывод метрик и сохранение результата в results\n",
    "results.loc[results.shape[0] + 1,:] = print_and_return_metrics(*parameters)"
   ]
  },
  {
   "cell_type": "markdown",
   "metadata": {},
   "source": [
    "Столбчатая диаграмма с распределением целевого признака и предсказания моделью:"
   ]
  },
  {
   "cell_type": "code",
   "execution_count": 41,
   "metadata": {},
   "outputs": [
    {
     "data": {
      "text/html": [
       "<div>\n",
       "<style scoped>\n",
       "    .dataframe tbody tr th:only-of-type {\n",
       "        vertical-align: middle;\n",
       "    }\n",
       "\n",
       "    .dataframe tbody tr th {\n",
       "        vertical-align: top;\n",
       "    }\n",
       "\n",
       "    .dataframe thead th {\n",
       "        text-align: right;\n",
       "    }\n",
       "</style>\n",
       "<table border=\"1\" class=\"dataframe\">\n",
       "  <thead>\n",
       "    <tr style=\"text-align: right;\">\n",
       "      <th></th>\n",
       "      <th>целевой признак</th>\n",
       "      <th>случайный лес без учета дисбаланса, предсказание</th>\n",
       "    </tr>\n",
       "  </thead>\n",
       "  <tbody>\n",
       "    <tr>\n",
       "      <th>0</th>\n",
       "      <td>0.8045</td>\n",
       "      <td>0.8945</td>\n",
       "    </tr>\n",
       "    <tr>\n",
       "      <th>1</th>\n",
       "      <td>0.1955</td>\n",
       "      <td>0.1055</td>\n",
       "    </tr>\n",
       "  </tbody>\n",
       "</table>\n",
       "</div>"
      ],
      "text/plain": [
       "   целевой признак  случайный лес без учета дисбаланса, предсказание\n",
       "0           0.8045                                            0.8945\n",
       "1           0.1955                                            0.1055"
      ]
     },
     "metadata": {},
     "output_type": "display_data"
    },
    {
     "data": {
      "image/png": "[encoded data removed]",
      "text/plain": [
       "<Figure size 864x432 with 1 Axes>"
      ]
     },
     "metadata": {
      "needs_background": "light"
     },
     "output_type": "display_data"
    }
   ],
   "source": [
    "print_distr(*parameters)"
   ]
  },
  {
   "cell_type": "markdown",
   "metadata": {},
   "source": [
    "#### Модель 4 - предсказание 0 классом:\n",
    "\n",
    "Для это модели создадим столбец размера 2000 со всеми 0."
   ]
  },
  {
   "cell_type": "code",
   "execution_count": 42,
   "metadata": {
    "scrolled": false
   },
   "outputs": [
    {
     "name": "stdout",
     "output_type": "stream",
     "text": [
      "предсказание 0 классом, метрика accuracy = 0.8045\n",
      "предсказание 0 классом, метрика F1-мера = 0.0\n",
      "предсказание 0 классом, метрика precision = 0.0\n",
      "предсказание 0 классом, метрика recall = 0.0\n",
      "предсказание 0 классом, метрика roc_auc = 0.5\n"
     ]
    },
    {
     "name": "stderr",
     "output_type": "stream",
     "text": [
      "/opt/conda/lib/python3.9/site-packages/sklearn/metrics/_classification.py:1245: UndefinedMetricWarning: Precision is ill-defined and being set to 0.0 due to no predicted samples. Use `zero_division` parameter to control this behavior.\n",
      "  _warn_prf(average, modifier, msg_start, len(result))\n"
     ]
    }
   ],
   "source": [
    "model_4_predict = pd.Series(0, index=target_valid.index)\n",
    "model_4_predict_prob_one = pd.Series(0, index=target_valid.index)\n",
    "# параметры для функций\n",
    "parameters = (target_valid, model_4_predict, model_4_predict_prob_one, 'предсказание 0 классом')\n",
    "# вывод метрик и сохранение результата в results\n",
    "results.loc[results.shape[0] + 1,:] = print_and_return_metrics(*parameters)"
   ]
  },
  {
   "cell_type": "markdown",
   "metadata": {},
   "source": [
    "Столбчатая диаграмма с распределением целевого признака и предсказания моделью:"
   ]
  },
  {
   "cell_type": "code",
   "execution_count": 43,
   "metadata": {},
   "outputs": [
    {
     "data": {
      "text/html": [
       "<div>\n",
       "<style scoped>\n",
       "    .dataframe tbody tr th:only-of-type {\n",
       "        vertical-align: middle;\n",
       "    }\n",
       "\n",
       "    .dataframe tbody tr th {\n",
       "        vertical-align: top;\n",
       "    }\n",
       "\n",
       "    .dataframe thead th {\n",
       "        text-align: right;\n",
       "    }\n",
       "</style>\n",
       "<table border=\"1\" class=\"dataframe\">\n",
       "  <thead>\n",
       "    <tr style=\"text-align: right;\">\n",
       "      <th></th>\n",
       "      <th>целевой признак</th>\n",
       "      <th>предсказание 0 классом, предсказание</th>\n",
       "    </tr>\n",
       "  </thead>\n",
       "  <tbody>\n",
       "    <tr>\n",
       "      <th>0</th>\n",
       "      <td>0.8045</td>\n",
       "      <td>1.0</td>\n",
       "    </tr>\n",
       "    <tr>\n",
       "      <th>1</th>\n",
       "      <td>0.1955</td>\n",
       "      <td>NaN</td>\n",
       "    </tr>\n",
       "  </tbody>\n",
       "</table>\n",
       "</div>"
      ],
      "text/plain": [
       "   целевой признак  предсказание 0 классом, предсказание\n",
       "0           0.8045                                   1.0\n",
       "1           0.1955                                   NaN"
      ]
     },
     "metadata": {},
     "output_type": "display_data"
    },
    {
     "data": {
      "image/png": "[encoded data removed]",
      "text/plain": [
       "<Figure size 864x432 with 1 Axes>"
      ]
     },
     "metadata": {
      "needs_background": "light"
     },
     "output_type": "display_data"
    }
   ],
   "source": [
    "print_distr(*parameters)"
   ]
  },
  {
   "cell_type": "markdown",
   "metadata": {},
   "source": [
    "### Выводы по результатам исследования дисбаланса классов:"
   ]
  },
  {
   "cell_type": "markdown",
   "metadata": {},
   "source": [
    "По результатам исследования можно сделать следующие выводы:\n",
    "- В предоставленных данных имеется дисбаланс классов: 79,7% объектов относится к одному классу, 20,3% объектов к другому.\n",
    "- При использовании метрики `accuracy` при оценке качества обучения моделей на валидационной выборке самая простая модель (`model_4` или предсказание 0 классом) показывает результат чуть хуже логистической регрессии: 0.8045 против 0.8165 у последней.\n",
    "- Модели `DecisionTreeClassifier` и `RandomForestClassifier` показывают качество чуть выше (по метрике `accuracy`): 0.8595 против 0.8045 при использовании предсказания 0 классом, что на самом деле является не очень большим выигрышем.\n",
    "- Все модели имеют свойство отдавать предпочтение 0 классу при классификации (судя по графикам). Это является следствием дисбаланса в данных: редкий класс хуже предсказывается.\n",
    "- В целом обученные на таких данных модели плохо справились с задачей классификации клиентов, т.к. в самом лучшем случае неправильно классифицированы порядка 14% клиентов. Это в свою очередь ведет к тому, что банк будет тратить ресурсы на удержание клиентов, которые и не собирались уходить, а с другой стороны, упустит клиентов, которые по каким-то причинам хотят уйти.\n",
    "- Сравнение метрик `AUC-ROC`, `F1` и прочих в этом разделе не рассматривается, но их значения фиксируются в датафрейме `results` для сравнения в следующем разделе."
   ]
  },
  {
   "cell_type": "markdown",
   "metadata": {},
   "source": [
    "## Борьба с дисбалансом"
   ]
  },
  {
   "cell_type": "markdown",
   "metadata": {},
   "source": [
    "### Методы борьбы с дисбалансом"
   ]
  },
  {
   "cell_type": "markdown",
   "metadata": {},
   "source": [
    "Для борьбы с дисбалансом применяются следующие методы:\n",
    "- взвешивание классов: увеличиение веса редкого класса при обучении модели;\n",
    "- upsampling: увеличение числа объектов в обучающей выборке за счет редкого класса с целью устранения дисбаланса;\n",
    "- downsampling: уменьшение числа объектов в обучающей выборке  за счет самого часто встречающегося класса с целью устранения дисбаланса;\n",
    "\n",
    "Также для более качестенного оценивания результатов вместо метрики accuracy, которая считает долю верных предсказаний модели, целесообразнее использовать метрику `F1-мера`, которая выражается следующей формулой:\n",
    "\n",
    "`F1_мера` = 2 * `Precision` * `Recall` / (`Precision` + `Recall`), где:\n",
    "- `Precision` - точность или отношение верно отнесенных к классу 1 ответов к количеству всех ответов 1 (верных и не верных);\n",
    "- `Recall` - полнота или отношение верно отнесенных к классу 1 ответов к количеству всех представителей класса 1 в выборке;\n",
    "\n",
    "Параллельно с этой метрикой будет считаться метрика `AUC-ROC`. Она показывает значение площади под кривой, построенной по двум другим метрикам:\n",
    "- `TPR` или `Recall` - полнота (описание выше);\n",
    "- `FPR` - доля ложноположительных ответов (ответ 1, а истиное значение 0) к числу объектов 0 класса;\n",
    "\n",
    "Значения `TPR` и `FPR` определяются путем изменения порогового значения для отнесения объекта к классу 1. По умолчанию все модели относят к классу 1 исходя из порогового значения 0.5: если вероятность объекта относиться к классу 1 >= 0.5, то проставляем метку 1 класса."
   ]
  },
  {
   "cell_type": "markdown",
   "metadata": {},
   "source": [
    "### Балансирование классов методом взвешивания:"
   ]
  },
  {
   "cell_type": "markdown",
   "metadata": {},
   "source": [
    "Обучим 3 модели с учетом значения гиперпараметра `class_weigth = 'balanced'`."
   ]
  },
  {
   "cell_type": "markdown",
   "metadata": {},
   "source": [
    "#### Первая модель - логистическая регрессия:"
   ]
  },
  {
   "cell_type": "code",
   "execution_count": 44,
   "metadata": {
    "scrolled": true
   },
   "outputs": [
    {
     "name": "stdout",
     "output_type": "stream",
     "text": [
      "логистическая регрессия, учет дисбаланса (взвешивание), метрика accuracy = 0.708\n",
      "логистическая регрессия, учет дисбаланса (взвешивание), метрика F1-мера = 0.47763864042933807\n",
      "логистическая регрессия, учет дисбаланса (взвешивание), метрика precision = 0.3672627235213205\n",
      "логистическая регрессия, учет дисбаланса (взвешивание), метрика recall = 0.6828644501278772\n",
      "логистическая регрессия, учет дисбаланса (взвешивание), метрика roc_auc = 0.7729904835174268\n"
     ]
    }
   ],
   "source": [
    "model_1  = LogisticRegression(class_weight='balanced')\n",
    "model_1.fit(features_ohe_train, target_train)\n",
    "model_1_predict = model_1.predict(features_ohe_valid)\n",
    "model_1_predict_prob_one = model_1.predict_proba(features_ohe_valid)[:, 1]\n",
    "\n",
    "# параметры для функций\n",
    "parameters = (target_valid, model_1_predict, model_1_predict_prob_one, 'логистическая регрессия, учет дисбаланса (взвешивание)')\n",
    "# вывод метрик и сохранение результата в results\n",
    "results.loc[results.shape[0] + 1,:] = print_and_return_metrics(*parameters)"
   ]
  },
  {
   "cell_type": "markdown",
   "metadata": {},
   "source": [
    "Столбчатая диаграмма с распределением целевого признака и предсказания моделью:"
   ]
  },
  {
   "cell_type": "code",
   "execution_count": 45,
   "metadata": {
    "scrolled": false
   },
   "outputs": [
    {
     "data": {
      "text/html": [
       "<div>\n",
       "<style scoped>\n",
       "    .dataframe tbody tr th:only-of-type {\n",
       "        vertical-align: middle;\n",
       "    }\n",
       "\n",
       "    .dataframe tbody tr th {\n",
       "        vertical-align: top;\n",
       "    }\n",
       "\n",
       "    .dataframe thead th {\n",
       "        text-align: right;\n",
       "    }\n",
       "</style>\n",
       "<table border=\"1\" class=\"dataframe\">\n",
       "  <thead>\n",
       "    <tr style=\"text-align: right;\">\n",
       "      <th></th>\n",
       "      <th>целевой признак</th>\n",
       "      <th>логистическая регрессия, учет дисбаланса (взвешивание), предсказание</th>\n",
       "    </tr>\n",
       "  </thead>\n",
       "  <tbody>\n",
       "    <tr>\n",
       "      <th>0</th>\n",
       "      <td>0.8045</td>\n",
       "      <td>0.6365</td>\n",
       "    </tr>\n",
       "    <tr>\n",
       "      <th>1</th>\n",
       "      <td>0.1955</td>\n",
       "      <td>0.3635</td>\n",
       "    </tr>\n",
       "  </tbody>\n",
       "</table>\n",
       "</div>"
      ],
      "text/plain": [
       "   целевой признак  \\\n",
       "0           0.8045   \n",
       "1           0.1955   \n",
       "\n",
       "   логистическая регрессия, учет дисбаланса (взвешивание), предсказание  \n",
       "0                                             0.6365                     \n",
       "1                                             0.3635                     "
      ]
     },
     "metadata": {},
     "output_type": "display_data"
    },
    {
     "data": {
      "image/png": "[encoded data removed]",
      "text/plain": [
       "<Figure size 864x432 with 1 Axes>"
      ]
     },
     "metadata": {
      "needs_background": "light"
     },
     "output_type": "display_data"
    }
   ],
   "source": [
    "print_distr(*parameters)"
   ]
  },
  {
   "cell_type": "markdown",
   "metadata": {},
   "source": [
    "#### Вторая модель - дерево решений:\n",
    "Гиперпараметры:\n",
    "- `max_depth` = 6 (подобран в предыдущем разделе);\n",
    "- `class_weight`='balanced'"
   ]
  },
  {
   "cell_type": "code",
   "execution_count": 46,
   "metadata": {
    "scrolled": false
   },
   "outputs": [
    {
     "name": "stdout",
     "output_type": "stream",
     "text": [
      "дерево решений, учет дисбаланса (взвешивание), метрика accuracy = 0.782\n",
      "дерево решений, учет дисбаланса (взвешивание), метрика F1-мера = 0.5587044534412956\n",
      "дерево решений, учет дисбаланса (взвешивание), метрика precision = 0.4623115577889447\n",
      "дерево решений, учет дисбаланса (взвешивание), метрика recall = 0.7058823529411765\n",
      "дерево решений, учет дисбаланса (взвешивание), метрика roc_auc = 0.8089018134883863\n"
     ]
    }
   ],
   "source": [
    "model_2 = DecisionTreeClassifier(random_state=12345, max_depth=6, class_weight='balanced')\n",
    "model_2.fit(features_ohe_train, target_train)\n",
    "model_2_predict = model_2.predict(features_ohe_valid)\n",
    "model_2_predict_prob_one = model_2.predict_proba(features_ohe_valid)[:, 1]\n",
    "\n",
    "# параметры для функций\n",
    "parameters = (target_valid, model_2_predict, model_2_predict_prob_one, 'дерево решений, учет дисбаланса (взвешивание)')\n",
    "# вывод метрик и сохранение результата в results\n",
    "results.loc[results.shape[0] + 1,:] = print_and_return_metrics(*parameters)"
   ]
  },
  {
   "cell_type": "markdown",
   "metadata": {},
   "source": [
    "Столбчатая диаграмма с распределением целевого признака и предсказания моделью:"
   ]
  },
  {
   "cell_type": "code",
   "execution_count": 47,
   "metadata": {
    "scrolled": false
   },
   "outputs": [
    {
     "data": {
      "text/html": [
       "<div>\n",
       "<style scoped>\n",
       "    .dataframe tbody tr th:only-of-type {\n",
       "        vertical-align: middle;\n",
       "    }\n",
       "\n",
       "    .dataframe tbody tr th {\n",
       "        vertical-align: top;\n",
       "    }\n",
       "\n",
       "    .dataframe thead th {\n",
       "        text-align: right;\n",
       "    }\n",
       "</style>\n",
       "<table border=\"1\" class=\"dataframe\">\n",
       "  <thead>\n",
       "    <tr style=\"text-align: right;\">\n",
       "      <th></th>\n",
       "      <th>целевой признак</th>\n",
       "      <th>дерево решений, учет дисбаланса (взвешивание), предсказание</th>\n",
       "    </tr>\n",
       "  </thead>\n",
       "  <tbody>\n",
       "    <tr>\n",
       "      <th>0</th>\n",
       "      <td>0.8045</td>\n",
       "      <td>0.7015</td>\n",
       "    </tr>\n",
       "    <tr>\n",
       "      <th>1</th>\n",
       "      <td>0.1955</td>\n",
       "      <td>0.2985</td>\n",
       "    </tr>\n",
       "  </tbody>\n",
       "</table>\n",
       "</div>"
      ],
      "text/plain": [
       "   целевой признак  \\\n",
       "0           0.8045   \n",
       "1           0.1955   \n",
       "\n",
       "   дерево решений, учет дисбаланса (взвешивание), предсказание  \n",
       "0                                             0.7015            \n",
       "1                                             0.2985            "
      ]
     },
     "metadata": {},
     "output_type": "display_data"
    },
    {
     "data": {
      "image/png": "[encoded data removed]",
      "text/plain": [
       "<Figure size 864x432 with 1 Axes>"
      ]
     },
     "metadata": {
      "needs_background": "light"
     },
     "output_type": "display_data"
    }
   ],
   "source": [
    "print_distr(*parameters)"
   ]
  },
  {
   "cell_type": "markdown",
   "metadata": {},
   "source": [
    "#### Третья модель - случайный лес:\n",
    "Гиперпараметры:\n",
    "- `max_depth` = 9 (подобран в предыдущем разделе);\n",
    "- `n_estimators` = 60 (подобран в предыдущем разделе);\n",
    "- `class_weight`='balanced'"
   ]
  },
  {
   "cell_type": "code",
   "execution_count": 48,
   "metadata": {},
   "outputs": [
    {
     "name": "stdout",
     "output_type": "stream",
     "text": [
      "случайный лес, учет дисбаланса (взвешивание), метрика accuracy = 0.8275\n",
      "случайный лес, учет дисбаланса (взвешивание), метрика F1-мера = 0.5828295042321643\n",
      "случайный лес, учет дисбаланса (взвешивание), метрика precision = 0.5527522935779816\n",
      "случайный лес, учет дисбаланса (взвешивание), метрика recall = 0.6163682864450127\n",
      "случайный лес, учет дисбаланса (взвешивание), метрика roc_auc = 0.849346467043596\n"
     ]
    }
   ],
   "source": [
    "model_3 = RandomForestClassifier(random_state=12345, max_depth=9, n_estimators=60, class_weight='balanced')\n",
    "model_3.fit(features_ohe_train, target_train)\n",
    "model_3_predict = model_3.predict(features_ohe_valid)\n",
    "model_3_predict_prob_one = model_3.predict_proba(features_ohe_valid)[:, 1]\n",
    "# параметры для функций\n",
    "parameters = (target_valid, model_3_predict, model_3_predict_prob_one, 'случайный лес, учет дисбаланса (взвешивание)')\n",
    "# вывод метрик и сохранение результата в results\n",
    "results.loc[results.shape[0] + 1,:] = print_and_return_metrics(*parameters)"
   ]
  },
  {
   "cell_type": "markdown",
   "metadata": {},
   "source": [
    "Столбчатая диаграмма с распределением целевого признака и предсказания моделью:"
   ]
  },
  {
   "cell_type": "code",
   "execution_count": 49,
   "metadata": {
    "scrolled": false
   },
   "outputs": [
    {
     "data": {
      "text/html": [
       "<div>\n",
       "<style scoped>\n",
       "    .dataframe tbody tr th:only-of-type {\n",
       "        vertical-align: middle;\n",
       "    }\n",
       "\n",
       "    .dataframe tbody tr th {\n",
       "        vertical-align: top;\n",
       "    }\n",
       "\n",
       "    .dataframe thead th {\n",
       "        text-align: right;\n",
       "    }\n",
       "</style>\n",
       "<table border=\"1\" class=\"dataframe\">\n",
       "  <thead>\n",
       "    <tr style=\"text-align: right;\">\n",
       "      <th></th>\n",
       "      <th>целевой признак</th>\n",
       "      <th>случайный лес, учет дисбаланса (взвешивание), предсказание</th>\n",
       "    </tr>\n",
       "  </thead>\n",
       "  <tbody>\n",
       "    <tr>\n",
       "      <th>0</th>\n",
       "      <td>0.8045</td>\n",
       "      <td>0.782</td>\n",
       "    </tr>\n",
       "    <tr>\n",
       "      <th>1</th>\n",
       "      <td>0.1955</td>\n",
       "      <td>0.218</td>\n",
       "    </tr>\n",
       "  </tbody>\n",
       "</table>\n",
       "</div>"
      ],
      "text/plain": [
       "   целевой признак  случайный лес, учет дисбаланса (взвешивание), предсказание\n",
       "0           0.8045                                              0.782         \n",
       "1           0.1955                                              0.218         "
      ]
     },
     "metadata": {},
     "output_type": "display_data"
    },
    {
     "data": {
      "image/png": "[encoded data removed]",
      "text/plain": [
       "<Figure size 864x432 with 1 Axes>"
      ]
     },
     "metadata": {
      "needs_background": "light"
     },
     "output_type": "display_data"
    }
   ],
   "source": [
    "print_distr(*parameters)"
   ]
  },
  {
   "cell_type": "markdown",
   "metadata": {},
   "source": [
    "#### Результат балансировки классов методом взвешивания:"
   ]
  },
  {
   "cell_type": "markdown",
   "metadata": {},
   "source": [
    "Как видно из графиков, модели, обученные с учетом дисбаланса методом взвешивания, стали гораздо чаще определять класс 1 для объектов валидационной выборки (от 21% до 36% выборки в зависимости от модели). На выборке без учета дисбаланса модели показывали противоположный результат: 1 класс выделялся значительно реже - в лучшем случае не более 10% выборки. Теперь детальнее по каждой модели с учетом метрик:"
   ]
  },
  {
   "cell_type": "markdown",
   "metadata": {},
   "source": [
    "<b>Логистическая регрессия</b>:"
   ]
  },
  {
   "cell_type": "code",
   "execution_count": 50,
   "metadata": {},
   "outputs": [
    {
     "data": {
      "text/html": [
       "<div>\n",
       "<style scoped>\n",
       "    .dataframe tbody tr th:only-of-type {\n",
       "        vertical-align: middle;\n",
       "    }\n",
       "\n",
       "    .dataframe tbody tr th {\n",
       "        vertical-align: top;\n",
       "    }\n",
       "\n",
       "    .dataframe thead th {\n",
       "        text-align: right;\n",
       "    }\n",
       "</style>\n",
       "<table border=\"1\" class=\"dataframe\">\n",
       "  <thead>\n",
       "    <tr style=\"text-align: right;\">\n",
       "      <th></th>\n",
       "      <th>model</th>\n",
       "      <th>accuracy</th>\n",
       "      <th>f1_score</th>\n",
       "      <th>precision</th>\n",
       "      <th>recall</th>\n",
       "      <th>roc_auc</th>\n",
       "    </tr>\n",
       "  </thead>\n",
       "  <tbody>\n",
       "    <tr>\n",
       "      <th>1</th>\n",
       "      <td>логистическая регрессия без учета дисбаланса</td>\n",
       "      <td>0.8165</td>\n",
       "      <td>0.308851</td>\n",
       "      <td>0.585714</td>\n",
       "      <td>0.209719</td>\n",
       "      <td>0.770772</td>\n",
       "    </tr>\n",
       "    <tr>\n",
       "      <th>5</th>\n",
       "      <td>логистическая регрессия, учет дисбаланса (взве...</td>\n",
       "      <td>0.708</td>\n",
       "      <td>0.477639</td>\n",
       "      <td>0.367263</td>\n",
       "      <td>0.682864</td>\n",
       "      <td>0.77299</td>\n",
       "    </tr>\n",
       "  </tbody>\n",
       "</table>\n",
       "</div>"
      ],
      "text/plain": [
       "                                               model accuracy  f1_score  \\\n",
       "1       логистическая регрессия без учета дисбаланса   0.8165  0.308851   \n",
       "5  логистическая регрессия, учет дисбаланса (взве...    0.708  0.477639   \n",
       "\n",
       "  precision    recall   roc_auc  \n",
       "1  0.585714  0.209719  0.770772  \n",
       "5  0.367263  0.682864   0.77299  "
      ]
     },
     "execution_count": 50,
     "metadata": {},
     "output_type": "execute_result"
    }
   ],
   "source": [
    "models = ['логистическая регрессия без учета дисбаланса', \n",
    "          'логистическая регрессия, учет дисбаланса (взвешивание)']\n",
    "\n",
    "results[results['model'].isin(models)]"
   ]
  },
  {
   "cell_type": "markdown",
   "metadata": {},
   "source": [
    "1. Метрика `accuracy` для модели `логистической регрессии` с учетом дисбаланса методом взвешивания стала меньше, чем была у модели без учета дисбаланса примерно на 0.11 (0.708 против 0.8165), т.е. наша модель стала хуже с точки зрения этой метрики определять верный класс;\n",
    "2. Метрика `F1` выросла примерно на 0.17 (0.477639 против 0.308851 у исходной модели), что объясняется тем, что наша модель стала более полной (`recall`: 0.682864 против 0.209719 у модели, обученной на выборке без учета дисбаланса), т.е. она стала лучше выделять верные объекты класс 1, чего мы и добивались. При этом точность нашей модели стала ниже, т.к. многие объекты были неверно отнесены к классу 1 (0.367263 против 0.585714 у модели, обученной на исходной выборке);\n",
    "3. Метрика `AUC-ROC` практически не изменилась. Это значит, что для алгоритма без учета дисбаланса существует такое пороговое значение для отнесения к классу 1, при котором метрика `F1-мера` будет приближаться к метрике `F1-мера` модели с учетом дисбаланса с пороговым значением по умолчанию (это порогове значение равно 0.5)."
   ]
  },
  {
   "cell_type": "markdown",
   "metadata": {},
   "source": [
    "<b>Дерево решений</b>:"
   ]
  },
  {
   "cell_type": "code",
   "execution_count": 51,
   "metadata": {},
   "outputs": [
    {
     "data": {
      "text/html": [
       "<div>\n",
       "<style scoped>\n",
       "    .dataframe tbody tr th:only-of-type {\n",
       "        vertical-align: middle;\n",
       "    }\n",
       "\n",
       "    .dataframe tbody tr th {\n",
       "        vertical-align: top;\n",
       "    }\n",
       "\n",
       "    .dataframe thead th {\n",
       "        text-align: right;\n",
       "    }\n",
       "</style>\n",
       "<table border=\"1\" class=\"dataframe\">\n",
       "  <thead>\n",
       "    <tr style=\"text-align: right;\">\n",
       "      <th></th>\n",
       "      <th>model</th>\n",
       "      <th>accuracy</th>\n",
       "      <th>f1_score</th>\n",
       "      <th>precision</th>\n",
       "      <th>recall</th>\n",
       "      <th>roc_auc</th>\n",
       "    </tr>\n",
       "  </thead>\n",
       "  <tbody>\n",
       "    <tr>\n",
       "      <th>2</th>\n",
       "      <td>дерево решений без учета дисбаланса</td>\n",
       "      <td>0.8595</td>\n",
       "      <td>0.507881</td>\n",
       "      <td>0.805556</td>\n",
       "      <td>0.370844</td>\n",
       "      <td>0.824102</td>\n",
       "    </tr>\n",
       "    <tr>\n",
       "      <th>6</th>\n",
       "      <td>дерево решений, учет дисбаланса (взвешивание)</td>\n",
       "      <td>0.782</td>\n",
       "      <td>0.558704</td>\n",
       "      <td>0.462312</td>\n",
       "      <td>0.705882</td>\n",
       "      <td>0.808902</td>\n",
       "    </tr>\n",
       "  </tbody>\n",
       "</table>\n",
       "</div>"
      ],
      "text/plain": [
       "                                           model accuracy  f1_score precision  \\\n",
       "2            дерево решений без учета дисбаланса   0.8595  0.507881  0.805556   \n",
       "6  дерево решений, учет дисбаланса (взвешивание)    0.782  0.558704  0.462312   \n",
       "\n",
       "     recall   roc_auc  \n",
       "2  0.370844  0.824102  \n",
       "6  0.705882  0.808902  "
      ]
     },
     "execution_count": 51,
     "metadata": {},
     "output_type": "execute_result"
    }
   ],
   "source": [
    "models = ['дерево решений без учета дисбаланса', \n",
    "          'дерево решений, учет дисбаланса (взвешивание)']\n",
    "\n",
    "results[results['model'].isin(models)]"
   ]
  },
  {
   "cell_type": "markdown",
   "metadata": {},
   "source": [
    "1. Метрика `accuracy` для модели `дерева решений` с учетом дисбаланса стала меньше, чем была у модели без учета дисбаланса примерно на 0.077 (0.782 против 0.8595 у модели, обученной без учета дисбаланса);\n",
    "2. Метрика `F1-мера` выросла примерно на 0.05, что объясняется тем, что наша модель стала более полной (`recall`: 0.7 против 0.37 в модели без учета дисбаланса). Точность нашей модели стала ниже, т.к. многие объекты были неверное отнесены к классу 1 (`precision`: 0.462312 против 0.805556 у модели, обученной на исходной выборке);\n",
    "3. Метрика `AUC-ROC` стала чуть ниже (0.808902 против 0.824102)."
   ]
  },
  {
   "cell_type": "markdown",
   "metadata": {},
   "source": [
    "<b>Случайный лес</b>:"
   ]
  },
  {
   "cell_type": "code",
   "execution_count": 52,
   "metadata": {},
   "outputs": [
    {
     "data": {
      "text/html": [
       "<div>\n",
       "<style scoped>\n",
       "    .dataframe tbody tr th:only-of-type {\n",
       "        vertical-align: middle;\n",
       "    }\n",
       "\n",
       "    .dataframe tbody tr th {\n",
       "        vertical-align: top;\n",
       "    }\n",
       "\n",
       "    .dataframe thead th {\n",
       "        text-align: right;\n",
       "    }\n",
       "</style>\n",
       "<table border=\"1\" class=\"dataframe\">\n",
       "  <thead>\n",
       "    <tr style=\"text-align: right;\">\n",
       "      <th></th>\n",
       "      <th>model</th>\n",
       "      <th>accuracy</th>\n",
       "      <th>f1_score</th>\n",
       "      <th>precision</th>\n",
       "      <th>recall</th>\n",
       "      <th>roc_auc</th>\n",
       "    </tr>\n",
       "  </thead>\n",
       "  <tbody>\n",
       "    <tr>\n",
       "      <th>3</th>\n",
       "      <td>случайный лес без учета дисбаланса</td>\n",
       "      <td>0.867</td>\n",
       "      <td>0.55814</td>\n",
       "      <td>0.796209</td>\n",
       "      <td>0.429668</td>\n",
       "      <td>0.85141</td>\n",
       "    </tr>\n",
       "    <tr>\n",
       "      <th>7</th>\n",
       "      <td>случайный лес, учет дисбаланса (взвешивание)</td>\n",
       "      <td>0.8275</td>\n",
       "      <td>0.58283</td>\n",
       "      <td>0.552752</td>\n",
       "      <td>0.616368</td>\n",
       "      <td>0.849346</td>\n",
       "    </tr>\n",
       "  </tbody>\n",
       "</table>\n",
       "</div>"
      ],
      "text/plain": [
       "                                          model accuracy f1_score precision  \\\n",
       "3            случайный лес без учета дисбаланса    0.867  0.55814  0.796209   \n",
       "7  случайный лес, учет дисбаланса (взвешивание)   0.8275  0.58283  0.552752   \n",
       "\n",
       "     recall   roc_auc  \n",
       "3  0.429668   0.85141  \n",
       "7  0.616368  0.849346  "
      ]
     },
     "execution_count": 52,
     "metadata": {},
     "output_type": "execute_result"
    }
   ],
   "source": [
    "models = ['случайный лес без учета дисбаланса', \n",
    "          'случайный лес, учет дисбаланса (взвешивание)']\n",
    "\n",
    "results[results['model'].isin(models)]"
   ]
  },
  {
   "cell_type": "markdown",
   "metadata": {},
   "source": [
    "1. Метрика `accuracy` для модели `случайного леса` с учетом дисбаланса стала меньше, чем была у модели без учета дисбаланса примерно на 0.04 (0.8275 против 0.867);\n",
    "2. Метрика `F1-мера` выросла примерно на 0.025, что объясняется тем, что наша модель стала более полной (`recall`: 0.616368 против 0.429668 в модели без учета дисбаланса). Точность нашей модели стала ниже, т.к. многие объекты были неверное отнесены к классу 1 (`precision`: 0.552752 против 0.796209 у модели, обученной на исходной выборке);\n",
    "3. Метрика `AUC-ROC` примерно одинаковая.\n",
    "4. Модель `случайного леса` с учетом дисбаланса методом `взвешивания` показала лучший результат из трех моделей по метрике `F1-мера`;"
   ]
  },
  {
   "cell_type": "markdown",
   "metadata": {},
   "source": [
    "### Балансирование классов методом upsampling:"
   ]
  },
  {
   "cell_type": "markdown",
   "metadata": {},
   "source": [
    "#### Описание метода и действий:"
   ]
  },
  {
   "cell_type": "markdown",
   "metadata": {},
   "source": [
    "Метод `upsampling` заключается в учеличиение числа объектов класса, который встречается реже. В данном случае это объекта класса 1.\n",
    "\n",
    "Для балансировки:\n",
    "- разделим обучающую выборку на 2 класса - 0 и 1;\n",
    "- увеличим число объектов класса 1 в 4 раза путем повторения существующих данных (т.к. текущее соотношение примерно 4 объекта класс 0 на 1 объект класса 1);\n",
    "- перемешаем полученные данные;\n",
    "- обучим на полученной выборке 3 модели и проверим метрики;"
   ]
  },
  {
   "cell_type": "markdown",
   "metadata": {},
   "source": [
    "#### Разделение обучающей выборки на классы:"
   ]
  },
  {
   "cell_type": "code",
   "execution_count": 53,
   "metadata": {},
   "outputs": [
    {
     "name": "stdout",
     "output_type": "stream",
     "text": [
      "Исходная выборка target_train имеет размер (6000,)\n",
      "Подвыборка исходной выборки target_train_zero имеет размер (4781,)\n",
      "Подвыборка исходной выборки target_train_one имеет размер (1219,)\n",
      "--------------------------------------------------------\n",
      "Исходная выборка features_ohe_train имеет размер (6000, 11)\n",
      "Подвыборка исходной выборки features_ohe_train_zero имеет размер (4781, 11)\n",
      "Подвыборка исходной выборки features_ohe_train_one имеет размер (1219, 11)\n"
     ]
    }
   ],
   "source": [
    "# 0 класс\n",
    "target_train_zero = target_train[target_train == 0]\n",
    "features_ohe_train_zero = features_ohe_train[target_train == 0]\n",
    "# 1 класс\n",
    "target_train_one = target_train[target_train == 1]\n",
    "features_ohe_train_one = features_ohe_train[target_train == 1]\n",
    "# проверка:\n",
    "print(f'Исходная выборка target_train имеет размер {target_train.shape}')\n",
    "print(f'Подвыборка исходной выборки target_train_zero имеет размер {target_train_zero.shape}')\n",
    "print(f'Подвыборка исходной выборки target_train_one имеет размер {target_train_one.shape}')\n",
    "print('--------------------------------------------------------')\n",
    "print(f'Исходная выборка features_ohe_train имеет размер {features_ohe_train.shape}')\n",
    "print(f'Подвыборка исходной выборки features_ohe_train_zero имеет размер {features_ohe_train_zero.shape}')\n",
    "print(f'Подвыборка исходной выборки features_ohe_train_one имеет размер {features_ohe_train_one.shape}')"
   ]
  },
  {
   "cell_type": "markdown",
   "metadata": {},
   "source": [
    "Выборка успешно разделена на 2 класса."
   ]
  },
  {
   "cell_type": "markdown",
   "metadata": {},
   "source": [
    "#### Увеличение числа объектов класса 1 в 4 раза  и перемешивание:"
   ]
  },
  {
   "cell_type": "code",
   "execution_count": 54,
   "metadata": {},
   "outputs": [
    {
     "name": "stdout",
     "output_type": "stream",
     "text": [
      "Размер нового датафрейма с признаками = (9657, 11)\n",
      "Размер нового датафрейма с целевым признаком = (9657,)\n",
      "-------------------------------------------\n",
      "Распределение целевого признака по классам:\n"
     ]
    },
    {
     "data": {
      "text/plain": [
       "1    4876\n",
       "0    4781\n",
       "Name: Exited, dtype: int64"
      ]
     },
     "execution_count": 54,
     "metadata": {},
     "output_type": "execute_result"
    }
   ],
   "source": [
    "# во сколько раз увеличим класс\n",
    "repeat = 4\n",
    "\n",
    "# увеличиение числа объектов 1-го класса:\n",
    "features_ohe_train_upsampled = pd.concat([features_ohe_train_zero] + [features_ohe_train_one] * repeat)\n",
    "target_train_upsampled = pd.concat([target_train_zero] + [target_train_one] * repeat)\n",
    "# перемешивание полученной выборки:\n",
    "features_ohe_train_upsampled, target_train_upsampled = shuffle(features_ohe_train_upsampled, target_train_upsampled, \n",
    "                                                               random_state = 12345)\n",
    "# проверка\n",
    "print(f'Размер нового датафрейма с признаками = {features_ohe_train_upsampled.shape}')\n",
    "print(f'Размер нового датафрейма с целевым признаком = {target_train_upsampled.shape}')\n",
    "print(f'-------------------------------------------')\n",
    "print('Распределение целевого признака по классам:')\n",
    "target_train_upsampled.value_counts()"
   ]
  },
  {
   "cell_type": "markdown",
   "metadata": {},
   "source": [
    "Как видно из проверки выше, метод сработал: число представителей класса 1 увеличилось в 4 раза - с 1219 до 4876 объектов. Теперь классы сбалансированны, их соотношение близко к 1:1."
   ]
  },
  {
   "cell_type": "markdown",
   "metadata": {},
   "source": [
    "#### Первая модель - логистическая регрессия:"
   ]
  },
  {
   "cell_type": "code",
   "execution_count": 55,
   "metadata": {
    "scrolled": true
   },
   "outputs": [
    {
     "name": "stdout",
     "output_type": "stream",
     "text": [
      "логистическая регрессия, учет дисбаланса (upsampling), метрика accuracy = 0.7055\n",
      "логистическая регрессия, учет дисбаланса (upsampling), метрика F1-мера = 0.4801412180052957\n",
      "логистическая регрессия, учет дисбаланса (upsampling), метрика precision = 0.3665768194070081\n",
      "логистическая регрессия, учет дисбаланса (upsampling), метрика recall = 0.6956521739130435\n",
      "логистическая регрессия, учет дисбаланса (upsampling), метрика roc_auc = 0.7730175054321996\n"
     ]
    }
   ],
   "source": [
    "model_1  = LogisticRegression()\n",
    "model_1.fit(features_ohe_train_upsampled, target_train_upsampled)\n",
    "model_1_predict = model_1.predict(features_ohe_valid)\n",
    "model_1_predict_prob_one = model_1.predict_proba(features_ohe_valid)[:, 1]\n",
    "# параметры для функций\n",
    "parameters = (target_valid, model_1_predict, model_1_predict_prob_one, 'логистическая регрессия, учет дисбаланса (upsampling)')\n",
    "# вывод метрик и сохранение результата в results\n",
    "results.loc[results.shape[0] + 1,:] = print_and_return_metrics(*parameters)"
   ]
  },
  {
   "cell_type": "markdown",
   "metadata": {},
   "source": [
    "Столбчатая диаграмма с распределением целевого признака и предсказания моделью:"
   ]
  },
  {
   "cell_type": "code",
   "execution_count": 56,
   "metadata": {
    "scrolled": false
   },
   "outputs": [
    {
     "data": {
      "text/html": [
       "<div>\n",
       "<style scoped>\n",
       "    .dataframe tbody tr th:only-of-type {\n",
       "        vertical-align: middle;\n",
       "    }\n",
       "\n",
       "    .dataframe tbody tr th {\n",
       "        vertical-align: top;\n",
       "    }\n",
       "\n",
       "    .dataframe thead th {\n",
       "        text-align: right;\n",
       "    }\n",
       "</style>\n",
       "<table border=\"1\" class=\"dataframe\">\n",
       "  <thead>\n",
       "    <tr style=\"text-align: right;\">\n",
       "      <th></th>\n",
       "      <th>целевой признак</th>\n",
       "      <th>логистическая регрессия, учет дисбаланса (upsampling), предсказание</th>\n",
       "    </tr>\n",
       "  </thead>\n",
       "  <tbody>\n",
       "    <tr>\n",
       "      <th>0</th>\n",
       "      <td>0.8045</td>\n",
       "      <td>0.629</td>\n",
       "    </tr>\n",
       "    <tr>\n",
       "      <th>1</th>\n",
       "      <td>0.1955</td>\n",
       "      <td>0.371</td>\n",
       "    </tr>\n",
       "  </tbody>\n",
       "</table>\n",
       "</div>"
      ],
      "text/plain": [
       "   целевой признак  \\\n",
       "0           0.8045   \n",
       "1           0.1955   \n",
       "\n",
       "   логистическая регрессия, учет дисбаланса (upsampling), предсказание  \n",
       "0                                              0.629                    \n",
       "1                                              0.371                    "
      ]
     },
     "metadata": {},
     "output_type": "display_data"
    },
    {
     "data": {
      "image/png": "[encoded data removed]",
      "text/plain": [
       "<Figure size 864x432 with 1 Axes>"
      ]
     },
     "metadata": {
      "needs_background": "light"
     },
     "output_type": "display_data"
    }
   ],
   "source": [
    "print_distr(*parameters)"
   ]
  },
  {
   "cell_type": "markdown",
   "metadata": {},
   "source": [
    "#### Вторая модель - дерево решений:\n",
    "Параметр `max_depth` = 6."
   ]
  },
  {
   "cell_type": "code",
   "execution_count": 57,
   "metadata": {
    "scrolled": false
   },
   "outputs": [
    {
     "name": "stdout",
     "output_type": "stream",
     "text": [
      "дерево решений, учет дисбаланса (upsampling), метрика accuracy = 0.782\n",
      "дерево решений, учет дисбаланса (upsampling), метрика F1-мера = 0.5587044534412956\n",
      "дерево решений, учет дисбаланса (upsampling), метрика precision = 0.4623115577889447\n",
      "дерево решений, учет дисбаланса (upsampling), метрика recall = 0.7058823529411765\n",
      "дерево решений, учет дисбаланса (upsampling), метрика roc_auc = 0.8088890972931989\n"
     ]
    }
   ],
   "source": [
    "model_2 = DecisionTreeClassifier(random_state=12345, max_depth=6)\n",
    "model_2.fit(features_ohe_train_upsampled, target_train_upsampled)\n",
    "model_2_predict = model_2.predict(features_ohe_valid)\n",
    "model_2_predict_prob_one = model_2.predict_proba(features_ohe_valid)[:, 1]\n",
    "\n",
    "# параметры для функций\n",
    "parameters = (target_valid, model_2_predict, model_2_predict_prob_one, 'дерево решений, учет дисбаланса (upsampling)')\n",
    "# вывод метрик и сохранение результата в results\n",
    "results.loc[results.shape[0] + 1,:] = print_and_return_metrics(*parameters)"
   ]
  },
  {
   "cell_type": "markdown",
   "metadata": {},
   "source": [
    "Столбчатая диаграмма с распределением целевого признака и предсказания моделью:"
   ]
  },
  {
   "cell_type": "code",
   "execution_count": 58,
   "metadata": {
    "scrolled": false
   },
   "outputs": [
    {
     "data": {
      "text/html": [
       "<div>\n",
       "<style scoped>\n",
       "    .dataframe tbody tr th:only-of-type {\n",
       "        vertical-align: middle;\n",
       "    }\n",
       "\n",
       "    .dataframe tbody tr th {\n",
       "        vertical-align: top;\n",
       "    }\n",
       "\n",
       "    .dataframe thead th {\n",
       "        text-align: right;\n",
       "    }\n",
       "</style>\n",
       "<table border=\"1\" class=\"dataframe\">\n",
       "  <thead>\n",
       "    <tr style=\"text-align: right;\">\n",
       "      <th></th>\n",
       "      <th>целевой признак</th>\n",
       "      <th>дерево решений, учет дисбаланса (upsampling), предсказание</th>\n",
       "    </tr>\n",
       "  </thead>\n",
       "  <tbody>\n",
       "    <tr>\n",
       "      <th>0</th>\n",
       "      <td>0.8045</td>\n",
       "      <td>0.7015</td>\n",
       "    </tr>\n",
       "    <tr>\n",
       "      <th>1</th>\n",
       "      <td>0.1955</td>\n",
       "      <td>0.2985</td>\n",
       "    </tr>\n",
       "  </tbody>\n",
       "</table>\n",
       "</div>"
      ],
      "text/plain": [
       "   целевой признак  дерево решений, учет дисбаланса (upsampling), предсказание\n",
       "0           0.8045                                             0.7015         \n",
       "1           0.1955                                             0.2985         "
      ]
     },
     "metadata": {},
     "output_type": "display_data"
    },
    {
     "data": {
      "image/png": "[encoded data removed]",
      "text/plain": [
       "<Figure size 864x432 with 1 Axes>"
      ]
     },
     "metadata": {
      "needs_background": "light"
     },
     "output_type": "display_data"
    }
   ],
   "source": [
    "print_distr(*parameters)"
   ]
  },
  {
   "cell_type": "markdown",
   "metadata": {},
   "source": [
    "#### Третья модель - случайный лес:\n",
    "Параметры `max_depth` = 9 и `n_estimators` = 60."
   ]
  },
  {
   "cell_type": "code",
   "execution_count": 59,
   "metadata": {},
   "outputs": [
    {
     "name": "stdout",
     "output_type": "stream",
     "text": [
      "случайный лес, учет дисбаланса (upsampling), метрика accuracy = 0.817\n",
      "случайный лес, учет дисбаланса (upsampling), метрика F1-мера = 0.5924276169265035\n",
      "случайный лес, учет дисбаланса (upsampling), метрика precision = 0.52465483234714\n",
      "случайный лес, учет дисбаланса (upsampling), метрика recall = 0.680306905370844\n",
      "случайный лес, учет дисбаланса (upsampling), метрика roc_auc = 0.8533012037468269\n"
     ]
    }
   ],
   "source": [
    "model_3 = RandomForestClassifier(random_state=12345, max_depth=9, n_estimators=60)\n",
    "model_3.fit(features_ohe_train_upsampled, target_train_upsampled)\n",
    "model_3_predict = model_3.predict(features_ohe_valid)\n",
    "model_3_predict_prob_one = model_3.predict_proba(features_ohe_valid)[:, 1]\n",
    "\n",
    "# параметры для функций\n",
    "parameters = (target_valid, model_3_predict, model_3_predict_prob_one, 'случайный лес, учет дисбаланса (upsampling)')\n",
    "# вывод метрик и сохранение результата в results\n",
    "results.loc[results.shape[0] + 1,:] = print_and_return_metrics(*parameters)"
   ]
  },
  {
   "cell_type": "markdown",
   "metadata": {},
   "source": [
    "Столбчатая диаграмма с распределением целевого признака и предсказания моделью:"
   ]
  },
  {
   "cell_type": "code",
   "execution_count": 60,
   "metadata": {
    "scrolled": false
   },
   "outputs": [
    {
     "data": {
      "text/html": [
       "<div>\n",
       "<style scoped>\n",
       "    .dataframe tbody tr th:only-of-type {\n",
       "        vertical-align: middle;\n",
       "    }\n",
       "\n",
       "    .dataframe tbody tr th {\n",
       "        vertical-align: top;\n",
       "    }\n",
       "\n",
       "    .dataframe thead th {\n",
       "        text-align: right;\n",
       "    }\n",
       "</style>\n",
       "<table border=\"1\" class=\"dataframe\">\n",
       "  <thead>\n",
       "    <tr style=\"text-align: right;\">\n",
       "      <th></th>\n",
       "      <th>целевой признак</th>\n",
       "      <th>случайный лес, учет дисбаланса (upsampling), предсказание</th>\n",
       "    </tr>\n",
       "  </thead>\n",
       "  <tbody>\n",
       "    <tr>\n",
       "      <th>0</th>\n",
       "      <td>0.8045</td>\n",
       "      <td>0.7465</td>\n",
       "    </tr>\n",
       "    <tr>\n",
       "      <th>1</th>\n",
       "      <td>0.1955</td>\n",
       "      <td>0.2535</td>\n",
       "    </tr>\n",
       "  </tbody>\n",
       "</table>\n",
       "</div>"
      ],
      "text/plain": [
       "   целевой признак  случайный лес, учет дисбаланса (upsampling), предсказание\n",
       "0           0.8045                                             0.7465        \n",
       "1           0.1955                                             0.2535        "
      ]
     },
     "metadata": {},
     "output_type": "display_data"
    },
    {
     "data": {
      "image/png": "[encoded data removed]",
      "text/plain": [
       "<Figure size 864x432 with 1 Axes>"
      ]
     },
     "metadata": {
      "needs_background": "light"
     },
     "output_type": "display_data"
    }
   ],
   "source": [
    "print_distr(*parameters)"
   ]
  },
  {
   "cell_type": "markdown",
   "metadata": {},
   "source": [
    "#### Результаты балансировки классов методом `upsampling`:"
   ]
  },
  {
   "cell_type": "markdown",
   "metadata": {},
   "source": [
    "<b>Логистическая регрессия</b>:"
   ]
  },
  {
   "cell_type": "code",
   "execution_count": 61,
   "metadata": {},
   "outputs": [
    {
     "data": {
      "text/html": [
       "<div>\n",
       "<style scoped>\n",
       "    .dataframe tbody tr th:only-of-type {\n",
       "        vertical-align: middle;\n",
       "    }\n",
       "\n",
       "    .dataframe tbody tr th {\n",
       "        vertical-align: top;\n",
       "    }\n",
       "\n",
       "    .dataframe thead th {\n",
       "        text-align: right;\n",
       "    }\n",
       "</style>\n",
       "<table border=\"1\" class=\"dataframe\">\n",
       "  <thead>\n",
       "    <tr style=\"text-align: right;\">\n",
       "      <th></th>\n",
       "      <th>model</th>\n",
       "      <th>accuracy</th>\n",
       "      <th>f1_score</th>\n",
       "      <th>precision</th>\n",
       "      <th>recall</th>\n",
       "      <th>roc_auc</th>\n",
       "    </tr>\n",
       "  </thead>\n",
       "  <tbody>\n",
       "    <tr>\n",
       "      <th>1</th>\n",
       "      <td>логистическая регрессия без учета дисбаланса</td>\n",
       "      <td>0.8165</td>\n",
       "      <td>0.308851</td>\n",
       "      <td>0.585714</td>\n",
       "      <td>0.209719</td>\n",
       "      <td>0.770772</td>\n",
       "    </tr>\n",
       "    <tr>\n",
       "      <th>5</th>\n",
       "      <td>логистическая регрессия, учет дисбаланса (взве...</td>\n",
       "      <td>0.708</td>\n",
       "      <td>0.477639</td>\n",
       "      <td>0.367263</td>\n",
       "      <td>0.682864</td>\n",
       "      <td>0.77299</td>\n",
       "    </tr>\n",
       "    <tr>\n",
       "      <th>8</th>\n",
       "      <td>логистическая регрессия, учет дисбаланса (upsa...</td>\n",
       "      <td>0.7055</td>\n",
       "      <td>0.480141</td>\n",
       "      <td>0.366577</td>\n",
       "      <td>0.695652</td>\n",
       "      <td>0.773018</td>\n",
       "    </tr>\n",
       "  </tbody>\n",
       "</table>\n",
       "</div>"
      ],
      "text/plain": [
       "                                               model accuracy  f1_score  \\\n",
       "1       логистическая регрессия без учета дисбаланса   0.8165  0.308851   \n",
       "5  логистическая регрессия, учет дисбаланса (взве...    0.708  0.477639   \n",
       "8  логистическая регрессия, учет дисбаланса (upsa...   0.7055  0.480141   \n",
       "\n",
       "  precision    recall   roc_auc  \n",
       "1  0.585714  0.209719  0.770772  \n",
       "5  0.367263  0.682864   0.77299  \n",
       "8  0.366577  0.695652  0.773018  "
      ]
     },
     "execution_count": 61,
     "metadata": {},
     "output_type": "execute_result"
    }
   ],
   "source": [
    "models = ['логистическая регрессия без учета дисбаланса', \n",
    "          'логистическая регрессия, учет дисбаланса (взвешивание)',\n",
    "          'логистическая регрессия, учет дисбаланса (upsampling)']\n",
    "\n",
    "results[results['model'].isin(models)]"
   ]
  },
  {
   "cell_type": "markdown",
   "metadata": {},
   "source": [
    "1. Метрика `accuracy` для модели `логистической регрессии` с учетом дисбаланса методом `upsampling` стала меньше, чем была у модели без учета дисбаланса примерно на 0.11 (0.7055 против 0.8165);\n",
    "2. Метрика `F1-мера` выросла примерно на 0.17 (0.480141 против 0.308851 у исходной модели), что объясняется тем, что наша модель стала более полной (`recall`: 0.695652 против 0.209719 у модели, обученной на выборке без учета дисбаланса). При этом точность нашей модели стала ниже, т.к. многие объекты были неверно отнесены к классу 1 (0.366577 против 0.585714 у модели, обученной на исходной выборке);\n",
    "3. Метрика `AUC-ROC` практически не изменилась."
   ]
  },
  {
   "cell_type": "markdown",
   "metadata": {},
   "source": [
    "<b>Дерево решений</b>:"
   ]
  },
  {
   "cell_type": "code",
   "execution_count": 62,
   "metadata": {},
   "outputs": [
    {
     "data": {
      "text/html": [
       "<div>\n",
       "<style scoped>\n",
       "    .dataframe tbody tr th:only-of-type {\n",
       "        vertical-align: middle;\n",
       "    }\n",
       "\n",
       "    .dataframe tbody tr th {\n",
       "        vertical-align: top;\n",
       "    }\n",
       "\n",
       "    .dataframe thead th {\n",
       "        text-align: right;\n",
       "    }\n",
       "</style>\n",
       "<table border=\"1\" class=\"dataframe\">\n",
       "  <thead>\n",
       "    <tr style=\"text-align: right;\">\n",
       "      <th></th>\n",
       "      <th>model</th>\n",
       "      <th>accuracy</th>\n",
       "      <th>f1_score</th>\n",
       "      <th>precision</th>\n",
       "      <th>recall</th>\n",
       "      <th>roc_auc</th>\n",
       "    </tr>\n",
       "  </thead>\n",
       "  <tbody>\n",
       "    <tr>\n",
       "      <th>2</th>\n",
       "      <td>дерево решений без учета дисбаланса</td>\n",
       "      <td>0.8595</td>\n",
       "      <td>0.507881</td>\n",
       "      <td>0.805556</td>\n",
       "      <td>0.370844</td>\n",
       "      <td>0.824102</td>\n",
       "    </tr>\n",
       "    <tr>\n",
       "      <th>6</th>\n",
       "      <td>дерево решений, учет дисбаланса (взвешивание)</td>\n",
       "      <td>0.782</td>\n",
       "      <td>0.558704</td>\n",
       "      <td>0.462312</td>\n",
       "      <td>0.705882</td>\n",
       "      <td>0.808902</td>\n",
       "    </tr>\n",
       "    <tr>\n",
       "      <th>9</th>\n",
       "      <td>дерево решений, учет дисбаланса (upsampling)</td>\n",
       "      <td>0.782</td>\n",
       "      <td>0.558704</td>\n",
       "      <td>0.462312</td>\n",
       "      <td>0.705882</td>\n",
       "      <td>0.808889</td>\n",
       "    </tr>\n",
       "  </tbody>\n",
       "</table>\n",
       "</div>"
      ],
      "text/plain": [
       "                                           model accuracy  f1_score precision  \\\n",
       "2            дерево решений без учета дисбаланса   0.8595  0.507881  0.805556   \n",
       "6  дерево решений, учет дисбаланса (взвешивание)    0.782  0.558704  0.462312   \n",
       "9   дерево решений, учет дисбаланса (upsampling)    0.782  0.558704  0.462312   \n",
       "\n",
       "     recall   roc_auc  \n",
       "2  0.370844  0.824102  \n",
       "6  0.705882  0.808902  \n",
       "9  0.705882  0.808889  "
      ]
     },
     "execution_count": 62,
     "metadata": {},
     "output_type": "execute_result"
    }
   ],
   "source": [
    "models = ['дерево решений без учета дисбаланса', \n",
    "          'дерево решений, учет дисбаланса (взвешивание)',\n",
    "          'дерево решений, учет дисбаланса (upsampling)']\n",
    "\n",
    "results[results['model'].isin(models)]"
   ]
  },
  {
   "cell_type": "markdown",
   "metadata": {},
   "source": [
    "1. Метрика `accuracy` для модели `дерева решений` с учетом дисбаланса методом `upsampling` стала меньше, чем была у модели без учета дисбаланса примерно на 0.077 (0.782 против 0.8595 у модели, обученной без учета дисбаланса);\n",
    "2. Метрика `F1-мера` выросла примерно на 0.05, что объясняется тем, что наша модель стала более полной (`recall`: 0.7 против 0.37 в модели без учета дисбаланса). Точность нашей модели стала ниже, т.к. многие объекты были неверное отнесены к классу 1 (`precision`: 0.462312 против 0.805556 у модели, обученной на исходной выборке);\n",
    "3. Метрика `AUC-ROC` стала чуть ниже (0.808889 против 0.824102).\n",
    "4. Результаты валидации модели на выборке, полученной методом `upsampling`, оказались схожими с результатами, полученными моделью, обученной с учетом `взвешивания классов`."
   ]
  },
  {
   "cell_type": "markdown",
   "metadata": {},
   "source": [
    "<b>Случайный лес</b>:"
   ]
  },
  {
   "cell_type": "code",
   "execution_count": 63,
   "metadata": {},
   "outputs": [
    {
     "data": {
      "text/html": [
       "<div>\n",
       "<style scoped>\n",
       "    .dataframe tbody tr th:only-of-type {\n",
       "        vertical-align: middle;\n",
       "    }\n",
       "\n",
       "    .dataframe tbody tr th {\n",
       "        vertical-align: top;\n",
       "    }\n",
       "\n",
       "    .dataframe thead th {\n",
       "        text-align: right;\n",
       "    }\n",
       "</style>\n",
       "<table border=\"1\" class=\"dataframe\">\n",
       "  <thead>\n",
       "    <tr style=\"text-align: right;\">\n",
       "      <th></th>\n",
       "      <th>model</th>\n",
       "      <th>accuracy</th>\n",
       "      <th>f1_score</th>\n",
       "      <th>precision</th>\n",
       "      <th>recall</th>\n",
       "      <th>roc_auc</th>\n",
       "    </tr>\n",
       "  </thead>\n",
       "  <tbody>\n",
       "    <tr>\n",
       "      <th>3</th>\n",
       "      <td>случайный лес без учета дисбаланса</td>\n",
       "      <td>0.867</td>\n",
       "      <td>0.55814</td>\n",
       "      <td>0.796209</td>\n",
       "      <td>0.429668</td>\n",
       "      <td>0.85141</td>\n",
       "    </tr>\n",
       "    <tr>\n",
       "      <th>7</th>\n",
       "      <td>случайный лес, учет дисбаланса (взвешивание)</td>\n",
       "      <td>0.8275</td>\n",
       "      <td>0.58283</td>\n",
       "      <td>0.552752</td>\n",
       "      <td>0.616368</td>\n",
       "      <td>0.849346</td>\n",
       "    </tr>\n",
       "    <tr>\n",
       "      <th>10</th>\n",
       "      <td>случайный лес, учет дисбаланса (upsampling)</td>\n",
       "      <td>0.817</td>\n",
       "      <td>0.592428</td>\n",
       "      <td>0.524655</td>\n",
       "      <td>0.680307</td>\n",
       "      <td>0.853301</td>\n",
       "    </tr>\n",
       "  </tbody>\n",
       "</table>\n",
       "</div>"
      ],
      "text/plain": [
       "                                           model accuracy  f1_score precision  \\\n",
       "3             случайный лес без учета дисбаланса    0.867   0.55814  0.796209   \n",
       "7   случайный лес, учет дисбаланса (взвешивание)   0.8275   0.58283  0.552752   \n",
       "10   случайный лес, учет дисбаланса (upsampling)    0.817  0.592428  0.524655   \n",
       "\n",
       "      recall   roc_auc  \n",
       "3   0.429668   0.85141  \n",
       "7   0.616368  0.849346  \n",
       "10  0.680307  0.853301  "
      ]
     },
     "execution_count": 63,
     "metadata": {},
     "output_type": "execute_result"
    }
   ],
   "source": [
    "models = ['случайный лес без учета дисбаланса', \n",
    "          'случайный лес, учет дисбаланса (взвешивание)',\n",
    "          'случайный лес, учет дисбаланса (upsampling)']\n",
    "\n",
    "results[results['model'].isin(models)]"
   ]
  },
  {
   "cell_type": "markdown",
   "metadata": {},
   "source": [
    "1. Метрика `accuracy` для модели `случайного леса` с учетом дисбаланса методом `upsampling` стала меньше, чем была у модели без учета дисбаланса примерно на 0.05 (0.817 против 0.867);\n",
    "2. Метрика `F1-мера` выросла примерно на 0.034, что объясняется тем, что наша модель стала более полной (`recall`: 0.680307 против 0.429668 в модели без учета дисбаланса). Точность нашей модели стала ниже, т.к. многие объекты были неверное отнесены к классу 1 (`precision`: 0.524655 против 0.796209 у модели, обученной на исходной выборке);\n",
    "3. Метрика `AUC-ROC` примерно одинаковая.\n",
    "4. Модель `случайного леса` с учетом дисбаланса методом `upsampling` показала лучший результат из трех моделей по метрике `F1-мера`;\n",
    "5. Значение метрики `F1-мера` превысило значение 0.59. Эта модель - кандидат для обработки тестовой выборки."
   ]
  },
  {
   "cell_type": "markdown",
   "metadata": {},
   "source": [
    "### Выводы по учету дисбаланса при обучении"
   ]
  },
  {
   "cell_type": "markdown",
   "metadata": {},
   "source": [
    "1. Для каждого метода в промежуточных выводах даны количественные сравнения показателей разных метрик в рамках одинаковых моделей (до балансировки и после балансировки определенным методом).\n",
    "2. Все методы балансировки в целом работают: количество проставленных моделями меток c классом 1 на валидационной выборке выросло с показателя от 7%-10% до 21%-36% от объема выборки, при том что реальное распределение меток примерно 80% на 20% (0 и 1 соответственно).\n",
    "3. Для всех моделей характерно увеличение метрики `F1-мера` при устранении дисбаланса. Это происходит за счет роста метрики `recall`. Если при обучении моделей на выборке без учета дисбаланса этот показатель в зависимости от модели был равен от 0.20 до 0.42, то после устранения дисбаланса стал равен от 0.61 до 0.71. Т.е. мы добились того, что наши модели лучше находят истинные объекты 1 класса. В то же время достаточно сильно падает точность: наши модели стали чаще ошибочно проставлять метки 1 класса.\n",
    "4. Если рассматривать методы устранения дисбаланса, то их эффективность можно ранжировать так (по убыванию):\n",
    "- `upsampling` - среднее значение метрики `F1-мера` = 0.5437577627910316\n",
    "- `взвешивание классов` - среднее значение метрики `F1-мера` = 0.5397241993675993\n",
    "- `downsampling` - среднее значение метрики `F1-мера` = 0.5224409367204506\n",
    "5. Лучший результат был достигнут на модели `случайный лес`, обученной на выборке, полученной с помощью метода `upsampling`; \n",
    "6. Метрика `AUC-ROC` в рамках одних и тех же моделей ведет себя достаточно стабильно вне зависимости от того, на каких данных мы обучаем модели в отличие от `F1-меры`, которая меняется в зависимости от обучающей выборки. У этого есть объяснение: когда мы считаем `F1-меру`, мы используем предсказанные моделью целевые признаки, которые были рассчитаны исходя из порогового значения = 0.5. При улучшении классификации больше объектов 1 класса попадает правее 0.5, а объекты 0 класса попадают левее 0.5.При расчете метрики `AUC-ROC` мы строим кривую, которая получается при изменении порогового значения от 0 до 1, затем вычисляем площадь под ней. Если у модели есть какое-то пороговое значение, которое неплохо разделяет два класса (высокое значение TPR и низкое FPR) и оно отличается от 0.5, то мы можем использовать его в классификации, и по качеству такая модель будет не хуже модели, обученной на сбалансированной выборке."
   ]
  },
  {
   "cell_type": "markdown",
   "metadata": {},
   "source": [
    "Ниже выводы для демонстрации утверждений пунктов 4 и 5:"
   ]
  },
  {
   "cell_type": "markdown",
   "metadata": {},
   "source": [
    "Для сравнения `AUC-ROC` и `F1-меры`:"
   ]
  },
  {
   "cell_type": "code",
   "execution_count": 74,
   "metadata": {},
   "outputs": [
    {
     "data": {
      "text/html": [
       "<div>\n",
       "<style scoped>\n",
       "    .dataframe tbody tr th:only-of-type {\n",
       "        vertical-align: middle;\n",
       "    }\n",
       "\n",
       "    .dataframe tbody tr th {\n",
       "        vertical-align: top;\n",
       "    }\n",
       "\n",
       "    .dataframe thead th {\n",
       "        text-align: right;\n",
       "    }\n",
       "</style>\n",
       "<table border=\"1\" class=\"dataframe\">\n",
       "  <thead>\n",
       "    <tr style=\"text-align: right;\">\n",
       "      <th></th>\n",
       "      <th>model</th>\n",
       "      <th>roc_auc</th>\n",
       "      <th>f1_score</th>\n",
       "    </tr>\n",
       "  </thead>\n",
       "  <tbody>\n",
       "    <tr>\n",
       "      <th>1</th>\n",
       "      <td>логистическая регрессия без учета дисбаланса</td>\n",
       "      <td>0.770772</td>\n",
       "      <td>0.308851</td>\n",
       "    </tr>\n",
       "    <tr>\n",
       "      <th>5</th>\n",
       "      <td>логистическая регрессия, учет дисбаланса (взве...</td>\n",
       "      <td>0.77299</td>\n",
       "      <td>0.477639</td>\n",
       "    </tr>\n",
       "    <tr>\n",
       "      <th>8</th>\n",
       "      <td>логистическая регрессия, учет дисбаланса (upsa...</td>\n",
       "      <td>0.773018</td>\n",
       "      <td>0.480141</td>\n",
       "    </tr>\n",
       "    <tr>\n",
       "      <th>11</th>\n",
       "      <td>логистическая регрессия, учет дисбаланса (down...</td>\n",
       "      <td>0.773963</td>\n",
       "      <td>0.477954</td>\n",
       "    </tr>\n",
       "  </tbody>\n",
       "</table>\n",
       "</div>"
      ],
      "text/plain": [
       "                                                model   roc_auc  f1_score\n",
       "1        логистическая регрессия без учета дисбаланса  0.770772  0.308851\n",
       "5   логистическая регрессия, учет дисбаланса (взве...   0.77299  0.477639\n",
       "8   логистическая регрессия, учет дисбаланса (upsa...  0.773018  0.480141\n",
       "11  логистическая регрессия, учет дисбаланса (down...  0.773963  0.477954"
      ]
     },
     "execution_count": 74,
     "metadata": {},
     "output_type": "execute_result"
    }
   ],
   "source": [
    "# AUC-ROC в зависимоти от модели\n",
    "# логистическая регрессия\n",
    "results.loc[results['model'].str.contains('логистич'), ['model', 'roc_auc', 'f1_score']]"
   ]
  },
  {
   "cell_type": "code",
   "execution_count": 75,
   "metadata": {},
   "outputs": [
    {
     "data": {
      "text/html": [
       "<div>\n",
       "<style scoped>\n",
       "    .dataframe tbody tr th:only-of-type {\n",
       "        vertical-align: middle;\n",
       "    }\n",
       "\n",
       "    .dataframe tbody tr th {\n",
       "        vertical-align: top;\n",
       "    }\n",
       "\n",
       "    .dataframe thead th {\n",
       "        text-align: right;\n",
       "    }\n",
       "</style>\n",
       "<table border=\"1\" class=\"dataframe\">\n",
       "  <thead>\n",
       "    <tr style=\"text-align: right;\">\n",
       "      <th></th>\n",
       "      <th>model</th>\n",
       "      <th>roc_auc</th>\n",
       "      <th>f1_score</th>\n",
       "    </tr>\n",
       "  </thead>\n",
       "  <tbody>\n",
       "    <tr>\n",
       "      <th>2</th>\n",
       "      <td>дерево решений без учета дисбаланса</td>\n",
       "      <td>0.824102</td>\n",
       "      <td>0.507881</td>\n",
       "    </tr>\n",
       "    <tr>\n",
       "      <th>6</th>\n",
       "      <td>дерево решений, учет дисбаланса (взвешивание)</td>\n",
       "      <td>0.808902</td>\n",
       "      <td>0.558704</td>\n",
       "    </tr>\n",
       "    <tr>\n",
       "      <th>9</th>\n",
       "      <td>дерево решений, учет дисбаланса (upsampling)</td>\n",
       "      <td>0.808889</td>\n",
       "      <td>0.558704</td>\n",
       "    </tr>\n",
       "    <tr>\n",
       "      <th>12</th>\n",
       "      <td>дерево решений, учет дисбаланса (downsampling)</td>\n",
       "      <td>0.811208</td>\n",
       "      <td>0.540541</td>\n",
       "    </tr>\n",
       "  </tbody>\n",
       "</table>\n",
       "</div>"
      ],
      "text/plain": [
       "                                             model   roc_auc  f1_score\n",
       "2              дерево решений без учета дисбаланса  0.824102  0.507881\n",
       "6    дерево решений, учет дисбаланса (взвешивание)  0.808902  0.558704\n",
       "9     дерево решений, учет дисбаланса (upsampling)  0.808889  0.558704\n",
       "12  дерево решений, учет дисбаланса (downsampling)  0.811208  0.540541"
      ]
     },
     "execution_count": 75,
     "metadata": {},
     "output_type": "execute_result"
    }
   ],
   "source": [
    "# дерево решений\n",
    "results.loc[results['model'].str.contains('дерево решений'), ['model', 'roc_auc', 'f1_score']]"
   ]
  },
  {
   "cell_type": "code",
   "execution_count": 76,
   "metadata": {},
   "outputs": [
    {
     "data": {
      "text/html": [
       "<div>\n",
       "<style scoped>\n",
       "    .dataframe tbody tr th:only-of-type {\n",
       "        vertical-align: middle;\n",
       "    }\n",
       "\n",
       "    .dataframe tbody tr th {\n",
       "        vertical-align: top;\n",
       "    }\n",
       "\n",
       "    .dataframe thead th {\n",
       "        text-align: right;\n",
       "    }\n",
       "</style>\n",
       "<table border=\"1\" class=\"dataframe\">\n",
       "  <thead>\n",
       "    <tr style=\"text-align: right;\">\n",
       "      <th></th>\n",
       "      <th>model</th>\n",
       "      <th>roc_auc</th>\n",
       "      <th>f1_score</th>\n",
       "    </tr>\n",
       "  </thead>\n",
       "  <tbody>\n",
       "    <tr>\n",
       "      <th>3</th>\n",
       "      <td>случайный лес без учета дисбаланса</td>\n",
       "      <td>0.85141</td>\n",
       "      <td>0.55814</td>\n",
       "    </tr>\n",
       "    <tr>\n",
       "      <th>7</th>\n",
       "      <td>случайный лес, учет дисбаланса (взвешивание)</td>\n",
       "      <td>0.849346</td>\n",
       "      <td>0.58283</td>\n",
       "    </tr>\n",
       "    <tr>\n",
       "      <th>10</th>\n",
       "      <td>случайный лес, учет дисбаланса (upsampling)</td>\n",
       "      <td>0.853301</td>\n",
       "      <td>0.592428</td>\n",
       "    </tr>\n",
       "    <tr>\n",
       "      <th>13</th>\n",
       "      <td>случайный лес, учет дисбаланса (downsampling)</td>\n",
       "      <td>0.848045</td>\n",
       "      <td>0.548828</td>\n",
       "    </tr>\n",
       "  </tbody>\n",
       "</table>\n",
       "</div>"
      ],
      "text/plain": [
       "                                            model   roc_auc  f1_score\n",
       "3              случайный лес без учета дисбаланса   0.85141   0.55814\n",
       "7    случайный лес, учет дисбаланса (взвешивание)  0.849346   0.58283\n",
       "10    случайный лес, учет дисбаланса (upsampling)  0.853301  0.592428\n",
       "13  случайный лес, учет дисбаланса (downsampling)  0.848045  0.548828"
      ]
     },
     "execution_count": 76,
     "metadata": {},
     "output_type": "execute_result"
    }
   ],
   "source": [
    "# случайный лес\n",
    "results.loc[results['model'].str.contains('случайный лес'), ['model', 'roc_auc', 'f1_score']]"
   ]
  },
  {
   "cell_type": "markdown",
   "metadata": {},
   "source": [
    "Для пункта 4: среднее значение `F1-меры` в зависимости от метода борьбы с дисбалансом."
   ]
  },
  {
   "cell_type": "code",
   "execution_count": 77,
   "metadata": {},
   "outputs": [
    {
     "name": "stdout",
     "output_type": "stream",
     "text": [
      "\"upsampling\": среднее значение F1 моделей 0.5437577627910316\n",
      "\"взвешивание классов\": среднее значение F1 моделей 0.5397241993675993\n",
      "\"downsampling\": среднее значение F1 моделей 0.5224409367204506\n"
     ]
    }
   ],
   "source": [
    "# расчет средних значений F1 в зависимости от метода устранения дисбаланса\n",
    "print('\"upsampling\": среднее значение F1 моделей', results.loc[results['model'].str.contains('upsampling'),'f1_score'].mean())\n",
    "print('\"взвешивание классов\": среднее значение F1 моделей', results.loc[results['model'].str.contains('взвешивание'),'f1_score'].mean())\n",
    "print('\"downsampling\": среднее значение F1 моделей', results.loc[results['model'].str.contains('downsampling'),'f1_score'].mean())"
   ]
  },
  {
   "cell_type": "markdown",
   "metadata": {},
   "source": [
    "## Тестирование модели"
   ]
  },
  {
   "cell_type": "markdown",
   "metadata": {},
   "source": [
    "### Итоговая модель:\n",
    "Выбрана модель `случайный лес`, обученная на данных, полученных с помощью метода `upsampling`. Параметры модели:\n",
    "- `max_depth` = 9;\n",
    "- `n_estimators` = 60;\n",
    "\n",
    "Проведем на ней финальное тестирование, замерим метрику и исследуем кривую AUC-ROC."
   ]
  },
  {
   "cell_type": "markdown",
   "metadata": {},
   "source": [
    "### Объединение обучающей и валидационной выборок и исправление дисбаланса:"
   ]
  },
  {
   "cell_type": "markdown",
   "metadata": {},
   "source": [
    "Объединим обучающую и валидационную выборки:"
   ]
  },
  {
   "cell_type": "code",
   "execution_count": 78,
   "metadata": {},
   "outputs": [
    {
     "name": "stdout",
     "output_type": "stream",
     "text": [
      "Объединенная выборка features_ohe_train_valid имеет размер (8000, 11)\n",
      "Объединенная выборка target_train_valid имеет размер (8000,)\n",
      "Исходная выборка target_train_valid имеет размер (8000,)\n",
      "Подвыборка исходной выборки target_train_valid_zero имеет размер (6390,)\n",
      "Подвыборка исходной выборки target_train_valid_one имеет размер (1610,)\n",
      "--------------------------------------------------------\n",
      "Исходная выборка features_ohe_train_valid имеет размер (8000, 11)\n",
      "Подвыборка исходной выборки features_ohe_train_valid_zero имеет размер (6390, 11)\n",
      "Подвыборка исходной выборки features_ohe_train_valid_one имеет размер (1610, 11)\n"
     ]
    }
   ],
   "source": [
    "# объединение обучающей и валидационной выборки\n",
    "features_ohe_train_valid = pd.concat([features_ohe_train, features_ohe_valid])\n",
    "target_train_valid = pd.concat([target_train, target_valid])\n",
    "# проверка объединения\n",
    "print(f'Объединенная выборка features_ohe_train_valid имеет размер {features_ohe_train_valid.shape}')\n",
    "print(f'Объединенная выборка target_train_valid имеет размер {target_train_valid.shape}')\n",
    "\n",
    "# разделение на классы\n",
    "features_ohe_train_valid_zero = features_ohe_train_valid[target_train_valid == 0]\n",
    "target_train_valid_zero = target_train_valid[target_train_valid == 0]\n",
    "features_ohe_train_valid_one = features_ohe_train_valid[target_train_valid == 1]\n",
    "target_train_valid_one = target_train_valid[target_train_valid == 1]\n",
    "#проверка разделения на классы\n",
    "print(f'Исходная выборка target_train_valid имеет размер {target_train_valid.shape}')\n",
    "print(f'Подвыборка исходной выборки target_train_valid_zero имеет размер {target_train_valid_zero.shape}')\n",
    "print(f'Подвыборка исходной выборки target_train_valid_one имеет размер {target_train_valid_one.shape}')\n",
    "print('--------------------------------------------------------')\n",
    "print(f'Исходная выборка features_ohe_train_valid имеет размер {features_ohe_train_valid.shape}')\n",
    "print(f'Подвыборка исходной выборки features_ohe_train_valid_zero имеет размер {features_ohe_train_valid_zero.shape}')\n",
    "print(f'Подвыборка исходной выборки features_ohe_train_valid_one имеет размер {features_ohe_train_valid_one.shape}')\n",
    "\n",
    "# во сколько раз увеличиваем число объектов класса 1\n",
    "repeat = 4\n",
    "\n",
    "# увеличиение числа объектов 1-го класса:\n",
    "features_ohe_train_valid_upsampled = pd.concat([features_ohe_train_valid_zero] + [features_ohe_train_valid_one] * repeat)\n",
    "target_train_valid_upsampled = pd.concat([target_train_valid_zero] + [target_train_valid_one] * repeat)\n",
    "# перемешивание полученной выборки:\n",
    "features_ohe_train_valid_upsampled, target_train_valid_upsampled = shuffle(features_ohe_train_valid_upsampled, \n",
    "                                                                           target_train_valid_upsampled, \n",
    "                                                                           random_state = 12345)"
   ]
  },
  {
   "cell_type": "markdown",
   "metadata": {},
   "source": [
    "Проверим распределение классов в новых данных:"
   ]
  },
  {
   "cell_type": "code",
   "execution_count": 79,
   "metadata": {},
   "outputs": [
    {
     "data": {
      "text/plain": [
       "1    6440\n",
       "0    6390\n",
       "Name: Exited, dtype: int64"
      ]
     },
     "metadata": {},
     "output_type": "display_data"
    },
    {
     "data": {
      "text/plain": [
       "1    0.501949\n",
       "0    0.498051\n",
       "Name: Exited, dtype: float64"
      ]
     },
     "execution_count": 79,
     "metadata": {},
     "output_type": "execute_result"
    }
   ],
   "source": [
    "display(target_train_valid_upsampled.value_counts())\n",
    "target_train_valid_upsampled.value_counts(normalize=True)"
   ]
  },
  {
   "cell_type": "markdown",
   "metadata": {},
   "source": [
    "Число объектов класса 1 увеличилось с 1610 до 6440, т.е. в 4 раза."
   ]
  },
  {
   "cell_type": "markdown",
   "metadata": {},
   "source": [
    "### Обучение выбранной модели:"
   ]
  },
  {
   "cell_type": "code",
   "execution_count": 80,
   "metadata": {},
   "outputs": [
    {
     "name": "stdout",
     "output_type": "stream",
     "text": [
      "случайный лес, учет дисбаланса (upsampling), тест, метрика accuracy = 0.821\n",
      "случайный лес, учет дисбаланса (upsampling), тест, метрика F1-мера = 0.6331967213114753\n",
      "случайный лес, учет дисбаланса (upsampling), тест, метрика precision = 0.5628415300546448\n",
      "случайный лес, учет дисбаланса (upsampling), тест, метрика recall = 0.7236533957845434\n",
      "случайный лес, учет дисбаланса (upsampling), тест, метрика roc_auc = 0.8654132752493409\n"
     ]
    }
   ],
   "source": [
    "# инициализация модели\n",
    "model_3 = RandomForestClassifier(random_state=12345, max_depth=5, n_estimators=100)\n",
    "# обучение на новых данных\n",
    "model_3.fit(features_ohe_train_valid_upsampled, target_train_valid_upsampled)\n",
    "# предсказание\n",
    "model_3_predict = model_3.predict(features_ohe_test)\n",
    "model_3_predict_prob_one = model_3.predict_proba(features_ohe_test)[:, 1]\n",
    "# параметры для функций\n",
    "parameters = (target_test, model_3_predict, model_3_predict_prob_one, 'случайный лес, учет дисбаланса (upsampling), тест')\n",
    "# вывод метрик и сохранение результата в results\n",
    "results.loc[results.shape[0] + 1,:] = print_and_return_metrics(*parameters)"
   ]
  },
  {
   "cell_type": "markdown",
   "metadata": {},
   "source": [
    "Столбчатая диаграмма с распределением целевого признака и предсказания моделью:"
   ]
  },
  {
   "cell_type": "code",
   "execution_count": 81,
   "metadata": {
    "scrolled": false
   },
   "outputs": [
    {
     "data": {
      "text/html": [
       "<div>\n",
       "<style scoped>\n",
       "    .dataframe tbody tr th:only-of-type {\n",
       "        vertical-align: middle;\n",
       "    }\n",
       "\n",
       "    .dataframe tbody tr th {\n",
       "        vertical-align: top;\n",
       "    }\n",
       "\n",
       "    .dataframe thead th {\n",
       "        text-align: right;\n",
       "    }\n",
       "</style>\n",
       "<table border=\"1\" class=\"dataframe\">\n",
       "  <thead>\n",
       "    <tr style=\"text-align: right;\">\n",
       "      <th></th>\n",
       "      <th>целевой признак</th>\n",
       "      <th>случайный лес, учет дисбаланса (upsampling), тест, предсказание</th>\n",
       "    </tr>\n",
       "  </thead>\n",
       "  <tbody>\n",
       "    <tr>\n",
       "      <th>0</th>\n",
       "      <td>0.7865</td>\n",
       "      <td>0.7255</td>\n",
       "    </tr>\n",
       "    <tr>\n",
       "      <th>1</th>\n",
       "      <td>0.2135</td>\n",
       "      <td>0.2745</td>\n",
       "    </tr>\n",
       "  </tbody>\n",
       "</table>\n",
       "</div>"
      ],
      "text/plain": [
       "   целевой признак  \\\n",
       "0           0.7865   \n",
       "1           0.2135   \n",
       "\n",
       "   случайный лес, учет дисбаланса (upsampling), тест, предсказание  \n",
       "0                                             0.7255                \n",
       "1                                             0.2745                "
      ]
     },
     "metadata": {},
     "output_type": "display_data"
    },
    {
     "data": {
      "image/png": "[encoded data removed]",
      "text/plain": [
       "<Figure size 864x432 with 1 Axes>"
      ]
     },
     "metadata": {
      "needs_background": "light"
     },
     "output_type": "display_data"
    }
   ],
   "source": [
    "print_distr(*parameters)"
   ]
  },
  {
   "cell_type": "markdown",
   "metadata": {},
   "source": [
    "### Выводы по результатам тестирования:"
   ]
  },
  {
   "cell_type": "markdown",
   "metadata": {},
   "source": [
    "Как видим, метрика `F1-мера` принимает значение = 0.6331967213114753, что выше требуемых 0.59."
   ]
  },
  {
   "cell_type": "markdown",
   "metadata": {},
   "source": [
    "## Общий вывод"
   ]
  },
  {
   "cell_type": "markdown",
   "metadata": {},
   "source": [
    "<b>Исходная задача состояла в следующем</b>: необходимо спрогнозировать уход клиента из банка в ближайшее время. Для этого необходима модель, способная достаточно хорошо классифицировать таких клиентов. Качество модели предлагается измерять значением `F1 меры` - ее значение для итоговой модели должно быть не ниже 0.59.\n",
    "\n",
    "<b>Исходные данные:</b> исторические данные банка - данные о клиентах и отметки о том, остались они клиентами банка или нет. В данных есть дисбаланс классов: клиентов, раасторгнувих договор, меньше, чем оставшихся в банке.\n",
    "\n",
    "<b>Модель:</b> в качестве итоговой выбрана модель `RandomForestClassifier` (случайный лес) с гиперпараметрами `n_estimators` = 60 и `max_depth` = 9. В качестве обучающей выборки для тестовой модели используется обучающая + валидационная выборка с балансировкой классов методом `upsmapling`.\n",
    "\n",
    "<b>Результат:</b> Метрика `F1 мера` на тестовой выборке достигла значения 0.6331967213114753.\n",
    "\n",
    "<b>Основные этапы:</b>\n",
    "1. Предобработка данных:\n",
    "    - Данные были проверены на пропуски, дубликаты, аномалии;\n",
    "    - В столбце `Tenure` были обнаружены пропуски. Было принято решение заменить их на значение -1;\n",
    "    - Категориальные признаки были преобразованы методом `One-Hot Encoding`;\n",
    "    - Числовыие признаки были стандартизированы;\n",
    "2. Выделение обучающей, валидационной и тестовой выборок:\n",
    "    - 60% выборки (6000 объектов) было выделено для обучения моделей;\n",
    "    - 20% выборки (2000 объектов) было выделено для валидации моделей;\n",
    "    - 20% выборки (2000 объектов) было выделено для теста итоговой модели;\n",
    "3. Для дальнейших исследований были отобраны три модели и три метода борьбы с дисбалансом:\n",
    "    - Модели: логистическая регрессия, дерево решений, случайный лес;\n",
    "    - Методы борьбы с дисбалансом: взвешивание классов, upsmapling, downsmaplingl;\n",
    "4. Исследовано влияние дисбаланса в выборке на результаты прогнозирования моделей (на валидационной выборке). Существенное преобладание одного класса над другим в выборке (в данной задаче - в 4 раза) приводит к тому, что обученные на таких данных модели при прогнозировании чаще отдают предпочтение преобладающему классу. Это видно по распределению целевого признака в валидационной выборке и распределению пронгоза целевого признака на валидационной выборке, также значение `F1 меры` на таких данных очень низкое (за счет низкого значения метрики `recall`). Итоговые показатели всех метрик можно посмотреть ниже в результирующей таблице;\n",
    "5. Исследовано влияние балансировки классов на результаты прогнозирования моделей (на валидационной выборке). Каждый из 3-х методов дает существенное улучшение качества, однако в моей реализации лучшие результаты показали следующие методы (по убыванию результативности):\n",
    "    - upsampling - среднее значение `F1 меры` по 3 моделям, обученным на выборке, сбалансированной этим методом, равно 0.5437577627910316 \n",
    "    - взвешивание классов - среднее значение `F1 меры` по 3 моделям, обученным на выборке, сбалансированной этим методом, равно 0.5397241993675993\n",
    "    - downsampling - среднее значение `F1 меры` по 3 моделям, обученным на выборке, сбалансированной этим методом, равно 0.5224409367204506.\n",
    "6. Вне зависимости от того, устраняем мы дисбаланс или нет, разные модели по-разному справляются с этой задачей. Эффективность моделей (по убыванию эффективности, мера - среднее значение `F1 меры`):\n",
    "    - RandomForestClassifier (случайный лес) - среднее значение `F1 меры` = 0.5705561952605972\n",
    "    - DecisionTreeClassifier (дерево решений) - среднее значение `F1 меры` = 0.5414575895265361\n",
    "    - LogisticRegression (логистическая регрессия) - среднее значение `F1 меры` = 0.43614630679022665\n"
   ]
  },
  {
   "cell_type": "code",
   "execution_count": 82,
   "metadata": {},
   "outputs": [
    {
     "name": "stdout",
     "output_type": "stream",
     "text": [
      "Влияние факторов на целевую \n",
      " переменную (в долях):\n",
      "-----------------------------\n",
      "Age                  0.354241\n",
      "NumOfProducts        0.226319\n",
      "Balance              0.108545\n",
      "IsActiveMember       0.072105\n",
      "CreditScore          0.057683\n",
      "Geography_Germany    0.055210\n",
      "EstimatedSalary      0.055021\n",
      "Tenure               0.030979\n",
      "Gender_Male          0.025007\n",
      "Geography_Spain      0.007726\n",
      "HasCrCard            0.007164\n",
      "Name: feature_importances (proportion), dtype: float64\n"
     ]
    }
   ],
   "source": [
    "# вывод таблицы с влиянием признаков на целевую переменную\n",
    "feature_importances = pd.Series(model_3.feature_importances_, \n",
    "                                index=features_ohe_train_valid_upsampled.columns, \n",
    "                                name='feature_importances (proportion)').sort_values(ascending=False)\n",
    "print('Влияние факторов на целевую \\n переменную (в долях):')\n",
    "print('-----------------------------')\n",
    "print(feature_importances)"
   ]
  },
  {
   "cell_type": "code",
   "execution_count": 83,
   "metadata": {
    "scrolled": true
   },
   "outputs": [
    {
     "data": {
      "image/png": "[encoded data removed]",
      "text/plain": [
       "<Figure size 720x576 with 1 Axes>"
      ]
     },
     "metadata": {
      "needs_background": "light"
     },
     "output_type": "display_data"
    }
   ],
   "source": [
    "# график, отражающий влияние факторов на целевую переменную (по убыванию значимости)\n",
    "feature_importances.plot(kind='bar', figsize=(10,8), grid=True,\n",
    "                              title='Влияние признаков на целевую переменную',\n",
    "                              ylabel = 'Влияние')\n",
    "plt.show()"
   ]
  },
  {
   "cell_type": "markdown",
   "metadata": {},
   "source": [
    "Согласно `feature_importance`, самые важные признаки, влияющие на целевую переменную, - это:\n",
    "- Возраст клиента (Age) - 35.4% влияния;\n",
    "- Количество продуктов банка у клиента (NumOfProducts) - 22.6% влияния;\n",
    "- Размер счета (Balance) - 10.8% влияния;\n",
    "\n",
    "На эти три признака приходится примерно 68.8% влияния, они основные\n",
    "\n",
    "Слабо влияющие признаки:\n",
    "- Страна проживания - Испания (Geography_Spain) - 0.77% влияния\n",
    "- Наличие кредитной карты (HasCrCard) - 0.72% влияния\n",
    "\n",
    "На эти признаки приходится примерно 1.5% влияния.\n",
    "\n",
    "Влияние остальных признаков оценивается от 2.5% до 5.8%. Их суммарное влияние на целевую переменную примерно 29.7%.\n"
   ]
  },
  {
   "cell_type": "markdown",
   "metadata": {},
   "source": [
    "<b>Итоговая таблица со всеми метриками в разрезе моделей и методов борьбы с дисбалансом</b>.\n",
    "\n",
    "Таблица отсортирована по убыванию `F1 меры`."
   ]
  },
  {
   "cell_type": "code",
   "execution_count": 84,
   "metadata": {},
   "outputs": [
    {
     "data": {
      "text/html": [
       "<div>\n",
       "<style scoped>\n",
       "    .dataframe tbody tr th:only-of-type {\n",
       "        vertical-align: middle;\n",
       "    }\n",
       "\n",
       "    .dataframe tbody tr th {\n",
       "        vertical-align: top;\n",
       "    }\n",
       "\n",
       "    .dataframe thead th {\n",
       "        text-align: right;\n",
       "    }\n",
       "</style>\n",
       "<table border=\"1\" class=\"dataframe\">\n",
       "  <thead>\n",
       "    <tr style=\"text-align: right;\">\n",
       "      <th></th>\n",
       "      <th>model</th>\n",
       "      <th>accuracy</th>\n",
       "      <th>f1_score</th>\n",
       "      <th>precision</th>\n",
       "      <th>recall</th>\n",
       "      <th>roc_auc</th>\n",
       "    </tr>\n",
       "  </thead>\n",
       "  <tbody>\n",
       "    <tr>\n",
       "      <th>14</th>\n",
       "      <td>случайный лес, учет дисбаланса (upsampling), тест</td>\n",
       "      <td>0.821</td>\n",
       "      <td>0.633197</td>\n",
       "      <td>0.562842</td>\n",
       "      <td>0.723653</td>\n",
       "      <td>0.865413</td>\n",
       "    </tr>\n",
       "    <tr>\n",
       "      <th>10</th>\n",
       "      <td>случайный лес, учет дисбаланса (upsampling)</td>\n",
       "      <td>0.817</td>\n",
       "      <td>0.592428</td>\n",
       "      <td>0.524655</td>\n",
       "      <td>0.680307</td>\n",
       "      <td>0.853301</td>\n",
       "    </tr>\n",
       "    <tr>\n",
       "      <th>7</th>\n",
       "      <td>случайный лес, учет дисбаланса (взвешивание)</td>\n",
       "      <td>0.8275</td>\n",
       "      <td>0.58283</td>\n",
       "      <td>0.552752</td>\n",
       "      <td>0.616368</td>\n",
       "      <td>0.849346</td>\n",
       "    </tr>\n",
       "    <tr>\n",
       "      <th>6</th>\n",
       "      <td>дерево решений, учет дисбаланса (взвешивание)</td>\n",
       "      <td>0.782</td>\n",
       "      <td>0.558704</td>\n",
       "      <td>0.462312</td>\n",
       "      <td>0.705882</td>\n",
       "      <td>0.808902</td>\n",
       "    </tr>\n",
       "    <tr>\n",
       "      <th>9</th>\n",
       "      <td>дерево решений, учет дисбаланса (upsampling)</td>\n",
       "      <td>0.782</td>\n",
       "      <td>0.558704</td>\n",
       "      <td>0.462312</td>\n",
       "      <td>0.705882</td>\n",
       "      <td>0.808889</td>\n",
       "    </tr>\n",
       "    <tr>\n",
       "      <th>3</th>\n",
       "      <td>случайный лес без учета дисбаланса</td>\n",
       "      <td>0.867</td>\n",
       "      <td>0.55814</td>\n",
       "      <td>0.796209</td>\n",
       "      <td>0.429668</td>\n",
       "      <td>0.85141</td>\n",
       "    </tr>\n",
       "    <tr>\n",
       "      <th>13</th>\n",
       "      <td>случайный лес, учет дисбаланса (downsampling)</td>\n",
       "      <td>0.769</td>\n",
       "      <td>0.548828</td>\n",
       "      <td>0.443918</td>\n",
       "      <td>0.71867</td>\n",
       "      <td>0.848045</td>\n",
       "    </tr>\n",
       "    <tr>\n",
       "      <th>12</th>\n",
       "      <td>дерево решений, учет дисбаланса (downsampling)</td>\n",
       "      <td>0.7535</td>\n",
       "      <td>0.540541</td>\n",
       "      <td>0.42522</td>\n",
       "      <td>0.741688</td>\n",
       "      <td>0.811208</td>\n",
       "    </tr>\n",
       "    <tr>\n",
       "      <th>2</th>\n",
       "      <td>дерево решений без учета дисбаланса</td>\n",
       "      <td>0.8595</td>\n",
       "      <td>0.507881</td>\n",
       "      <td>0.805556</td>\n",
       "      <td>0.370844</td>\n",
       "      <td>0.824102</td>\n",
       "    </tr>\n",
       "    <tr>\n",
       "      <th>8</th>\n",
       "      <td>логистическая регрессия, учет дисбаланса (upsa...</td>\n",
       "      <td>0.7055</td>\n",
       "      <td>0.480141</td>\n",
       "      <td>0.366577</td>\n",
       "      <td>0.695652</td>\n",
       "      <td>0.773018</td>\n",
       "    </tr>\n",
       "    <tr>\n",
       "      <th>11</th>\n",
       "      <td>логистическая регрессия, учет дисбаланса (down...</td>\n",
       "      <td>0.704</td>\n",
       "      <td>0.477954</td>\n",
       "      <td>0.364738</td>\n",
       "      <td>0.693095</td>\n",
       "      <td>0.773963</td>\n",
       "    </tr>\n",
       "    <tr>\n",
       "      <th>5</th>\n",
       "      <td>логистическая регрессия, учет дисбаланса (взве...</td>\n",
       "      <td>0.708</td>\n",
       "      <td>0.477639</td>\n",
       "      <td>0.367263</td>\n",
       "      <td>0.682864</td>\n",
       "      <td>0.77299</td>\n",
       "    </tr>\n",
       "    <tr>\n",
       "      <th>1</th>\n",
       "      <td>логистическая регрессия без учета дисбаланса</td>\n",
       "      <td>0.8165</td>\n",
       "      <td>0.308851</td>\n",
       "      <td>0.585714</td>\n",
       "      <td>0.209719</td>\n",
       "      <td>0.770772</td>\n",
       "    </tr>\n",
       "    <tr>\n",
       "      <th>4</th>\n",
       "      <td>предсказание 0 классом</td>\n",
       "      <td>0.8045</td>\n",
       "      <td>0.0</td>\n",
       "      <td>0.0</td>\n",
       "      <td>0.0</td>\n",
       "      <td>0.5</td>\n",
       "    </tr>\n",
       "  </tbody>\n",
       "</table>\n",
       "</div>"
      ],
      "text/plain": [
       "                                                model accuracy  f1_score  \\\n",
       "14  случайный лес, учет дисбаланса (upsampling), тест    0.821  0.633197   \n",
       "10        случайный лес, учет дисбаланса (upsampling)    0.817  0.592428   \n",
       "7        случайный лес, учет дисбаланса (взвешивание)   0.8275   0.58283   \n",
       "6       дерево решений, учет дисбаланса (взвешивание)    0.782  0.558704   \n",
       "9        дерево решений, учет дисбаланса (upsampling)    0.782  0.558704   \n",
       "3                  случайный лес без учета дисбаланса    0.867   0.55814   \n",
       "13      случайный лес, учет дисбаланса (downsampling)    0.769  0.548828   \n",
       "12     дерево решений, учет дисбаланса (downsampling)   0.7535  0.540541   \n",
       "2                 дерево решений без учета дисбаланса   0.8595  0.507881   \n",
       "8   логистическая регрессия, учет дисбаланса (upsa...   0.7055  0.480141   \n",
       "11  логистическая регрессия, учет дисбаланса (down...    0.704  0.477954   \n",
       "5   логистическая регрессия, учет дисбаланса (взве...    0.708  0.477639   \n",
       "1        логистическая регрессия без учета дисбаланса   0.8165  0.308851   \n",
       "4                              предсказание 0 классом   0.8045       0.0   \n",
       "\n",
       "   precision    recall   roc_auc  \n",
       "14  0.562842  0.723653  0.865413  \n",
       "10  0.524655  0.680307  0.853301  \n",
       "7   0.552752  0.616368  0.849346  \n",
       "6   0.462312  0.705882  0.808902  \n",
       "9   0.462312  0.705882  0.808889  \n",
       "3   0.796209  0.429668   0.85141  \n",
       "13  0.443918   0.71867  0.848045  \n",
       "12   0.42522  0.741688  0.811208  \n",
       "2   0.805556  0.370844  0.824102  \n",
       "8   0.366577  0.695652  0.773018  \n",
       "11  0.364738  0.693095  0.773963  \n",
       "5   0.367263  0.682864   0.77299  \n",
       "1   0.585714  0.209719  0.770772  \n",
       "4        0.0       0.0       0.5  "
      ]
     },
     "execution_count": 84,
     "metadata": {},
     "output_type": "execute_result"
    }
   ],
   "source": [
    "results.sort_values(by='f1_score', ascending=False)"
   ]
  },
  {
   "cell_type": "markdown",
   "metadata": {},
   "source": [
    "Для средний значений F1 меры в зависимости от модели:"
   ]
  },
  {
   "cell_type": "code",
   "execution_count": 85,
   "metadata": {},
   "outputs": [
    {
     "name": "stdout",
     "output_type": "stream",
     "text": [
      "\"случайный лес\": среднее значение F1 моделей 0.5705561952605972\n",
      "\"дерево решений\": среднее значение F1 моделей 0.5414575895265361\n",
      "\"логистическая регрессия\": среднее значение F1 моделей 0.43614630679022665\n"
     ]
    }
   ],
   "source": [
    "# расчет средних значений F1 в зависимости от метода устранения дисбаланса\n",
    "print('\"случайный лес\": среднее значение F1 моделей', results.loc[(results['model'].str.contains('случайный лес')) & (~results['model'].str.contains('тест')),'f1_score'].mean())\n",
    "print('\"дерево решений\": среднее значение F1 моделей', results.loc[results['model'].str.contains('дерево решений'),'f1_score'].mean())\n",
    "print('\"логистическая регрессия\": среднее значение F1 моделей', results.loc[results['model'].str.contains('логистическая регрессия'),'f1_score'].mean())"
   ]
  }
 ],
 "metadata": {
  "ExecuteTimeLog": [
   {
    "duration": 448,
    "start_time": "2023-10-16T19:44:06.476Z"
   },
   {
    "duration": 81,
    "start_time": "2023-10-16T19:45:38.362Z"
   },
   {
    "duration": 21,
    "start_time": "2023-10-16T19:46:39.266Z"
   },
   {
    "duration": 15,
    "start_time": "2023-10-16T19:47:38.036Z"
   },
   {
    "duration": 7,
    "start_time": "2023-10-16T19:59:40.786Z"
   },
   {
    "duration": 23,
    "start_time": "2023-10-16T19:59:58.683Z"
   },
   {
    "duration": 10,
    "start_time": "2023-10-16T20:00:59.100Z"
   },
   {
    "duration": 68,
    "start_time": "2023-10-16T20:02:25.531Z"
   },
   {
    "duration": 9,
    "start_time": "2023-10-16T20:02:28.916Z"
   },
   {
    "duration": 13,
    "start_time": "2023-10-16T20:02:35.399Z"
   },
   {
    "duration": 121,
    "start_time": "2023-10-16T20:02:46.173Z"
   },
   {
    "duration": 9,
    "start_time": "2023-10-16T20:03:53.441Z"
   },
   {
    "duration": 21,
    "start_time": "2023-10-16T20:03:58.226Z"
   },
   {
    "duration": 19,
    "start_time": "2023-10-16T20:05:43.450Z"
   },
   {
    "duration": 11,
    "start_time": "2023-10-16T20:44:55.865Z"
   },
   {
    "duration": 154,
    "start_time": "2023-10-16T20:45:20.076Z"
   },
   {
    "duration": 6,
    "start_time": "2023-10-16T20:45:23.683Z"
   },
   {
    "duration": 329,
    "start_time": "2023-10-16T20:45:28.373Z"
   },
   {
    "duration": 20,
    "start_time": "2023-10-16T20:45:34.825Z"
   },
   {
    "duration": 12,
    "start_time": "2023-10-16T20:45:38.035Z"
   },
   {
    "duration": 166,
    "start_time": "2023-10-16T20:45:47.807Z"
   },
   {
    "duration": 152,
    "start_time": "2023-10-16T20:46:03.794Z"
   },
   {
    "duration": 972,
    "start_time": "2023-10-16T20:46:24.784Z"
   },
   {
    "duration": 9,
    "start_time": "2023-10-16T20:47:00.155Z"
   },
   {
    "duration": 11,
    "start_time": "2023-10-16T20:47:08.118Z"
   },
   {
    "duration": 9,
    "start_time": "2023-10-16T20:47:20.923Z"
   },
   {
    "duration": 5,
    "start_time": "2023-10-16T20:47:36.441Z"
   },
   {
    "duration": 14,
    "start_time": "2023-10-16T20:47:42.900Z"
   },
   {
    "duration": 12,
    "start_time": "2023-10-16T20:47:49.657Z"
   },
   {
    "duration": 971,
    "start_time": "2023-10-16T20:48:04.076Z"
   },
   {
    "duration": 889,
    "start_time": "2023-10-16T20:48:14.645Z"
   },
   {
    "duration": 1126,
    "start_time": "2023-10-16T20:49:17.041Z"
   },
   {
    "duration": 954,
    "start_time": "2023-10-16T20:49:23.525Z"
   },
   {
    "duration": 968,
    "start_time": "2023-10-16T20:49:32.883Z"
   },
   {
    "duration": 1070,
    "start_time": "2023-10-16T20:49:41.674Z"
   },
   {
    "duration": 123,
    "start_time": "2023-10-16T20:49:50.696Z"
   },
   {
    "duration": 126,
    "start_time": "2023-10-16T20:50:33.871Z"
   },
   {
    "duration": 1391,
    "start_time": "2023-10-16T20:52:16.584Z"
   },
   {
    "duration": 1612,
    "start_time": "2023-10-16T20:52:28.633Z"
   },
   {
    "duration": 1886,
    "start_time": "2023-10-16T20:52:55.034Z"
   },
   {
    "duration": 1854,
    "start_time": "2023-10-16T20:53:02.256Z"
   },
   {
    "duration": 57,
    "start_time": "2023-10-16T21:02:51.121Z"
   },
   {
    "duration": 1610,
    "start_time": "2023-10-16T21:07:25.344Z"
   },
   {
    "duration": 1231,
    "start_time": "2023-10-16T21:08:05.127Z"
   },
   {
    "duration": 736,
    "start_time": "2023-10-16T21:08:19.783Z"
   },
   {
    "duration": 746,
    "start_time": "2023-10-16T21:08:44.851Z"
   },
   {
    "duration": 11,
    "start_time": "2023-10-16T21:10:04.534Z"
   },
   {
    "duration": 728,
    "start_time": "2023-10-16T21:10:10.453Z"
   },
   {
    "duration": 868,
    "start_time": "2023-10-16T21:12:17.459Z"
   },
   {
    "duration": 2380,
    "start_time": "2023-10-16T21:12:34.198Z"
   },
   {
    "duration": 6106,
    "start_time": "2023-10-16T21:12:49.743Z"
   },
   {
    "duration": 823,
    "start_time": "2023-10-16T21:12:59.535Z"
   },
   {
    "duration": 1374,
    "start_time": "2023-10-16T21:13:35.058Z"
   },
   {
    "duration": 1556,
    "start_time": "2023-10-16T21:13:51.385Z"
   },
   {
    "duration": 5834,
    "start_time": "2023-10-16T21:14:09.143Z"
   },
   {
    "duration": 905,
    "start_time": "2023-10-16T21:15:03.642Z"
   },
   {
    "duration": 1284,
    "start_time": "2023-10-16T21:15:37.173Z"
   },
   {
    "duration": 1511,
    "start_time": "2023-10-16T21:15:43.173Z"
   },
   {
    "duration": 1388,
    "start_time": "2023-10-16T21:15:51.444Z"
   },
   {
    "duration": 1180,
    "start_time": "2023-10-16T21:15:55.020Z"
   },
   {
    "duration": 922,
    "start_time": "2023-10-16T21:16:02.555Z"
   },
   {
    "duration": 1169,
    "start_time": "2023-10-16T21:16:29.118Z"
   },
   {
    "duration": 1030,
    "start_time": "2023-10-16T21:17:27.219Z"
   },
   {
    "duration": 907,
    "start_time": "2023-10-16T21:17:34.051Z"
   },
   {
    "duration": 846,
    "start_time": "2023-10-16T21:17:42.522Z"
   },
   {
    "duration": 750,
    "start_time": "2023-10-16T21:17:50.219Z"
   },
   {
    "duration": 926,
    "start_time": "2023-10-16T21:18:02.138Z"
   },
   {
    "duration": 769,
    "start_time": "2023-10-16T21:18:37.450Z"
   },
   {
    "duration": 742,
    "start_time": "2023-10-16T21:18:42.541Z"
   },
   {
    "duration": 971,
    "start_time": "2023-10-16T21:19:09.274Z"
   },
   {
    "duration": 767,
    "start_time": "2023-10-16T21:19:22.523Z"
   },
   {
    "duration": 1012,
    "start_time": "2023-10-16T21:19:49.460Z"
   },
   {
    "duration": 942,
    "start_time": "2023-10-16T21:19:58.741Z"
   },
   {
    "duration": 1498,
    "start_time": "2023-10-16T21:20:15.992Z"
   },
   {
    "duration": 1450,
    "start_time": "2023-10-16T21:20:21.140Z"
   },
   {
    "duration": 1682,
    "start_time": "2023-10-16T21:20:25.782Z"
   },
   {
    "duration": 1515,
    "start_time": "2023-10-16T21:20:34.152Z"
   },
   {
    "duration": 1856,
    "start_time": "2023-10-16T21:20:42.092Z"
   },
   {
    "duration": 1643,
    "start_time": "2023-10-16T21:20:49.087Z"
   },
   {
    "duration": 1722,
    "start_time": "2023-10-16T21:20:54.277Z"
   },
   {
    "duration": 1194,
    "start_time": "2023-10-16T21:21:29.101Z"
   },
   {
    "duration": 1431,
    "start_time": "2023-10-16T21:21:58.550Z"
   },
   {
    "duration": 1848,
    "start_time": "2023-10-16T21:22:45.270Z"
   },
   {
    "duration": 1934,
    "start_time": "2023-10-16T21:22:55.240Z"
   },
   {
    "duration": 1987,
    "start_time": "2023-10-16T21:23:34.849Z"
   },
   {
    "duration": 2055,
    "start_time": "2023-10-16T21:23:53.839Z"
   },
   {
    "duration": 25,
    "start_time": "2023-10-16T21:37:20.454Z"
   },
   {
    "duration": 1547,
    "start_time": "2023-10-16T21:37:30.372Z"
   },
   {
    "duration": 1437,
    "start_time": "2023-10-16T21:37:37.486Z"
   },
   {
    "duration": 2114,
    "start_time": "2023-10-16T21:38:35.583Z"
   },
   {
    "duration": 2200,
    "start_time": "2023-10-16T21:38:44.551Z"
   },
   {
    "duration": 2016,
    "start_time": "2023-10-16T21:38:56.532Z"
   },
   {
    "duration": 72,
    "start_time": "2023-10-18T19:50:19.221Z"
   },
   {
    "duration": 844,
    "start_time": "2023-10-18T19:50:44.526Z"
   },
   {
    "duration": 95,
    "start_time": "2023-10-18T19:50:45.372Z"
   },
   {
    "duration": 20,
    "start_time": "2023-10-18T19:50:45.469Z"
   },
   {
    "duration": 23,
    "start_time": "2023-10-18T19:50:45.492Z"
   },
   {
    "duration": 62,
    "start_time": "2023-10-18T19:50:45.517Z"
   },
   {
    "duration": 1989,
    "start_time": "2023-10-18T19:50:45.581Z"
   },
   {
    "duration": 6,
    "start_time": "2023-10-18T19:50:48.985Z"
   },
   {
    "duration": 135,
    "start_time": "2023-10-18T19:55:14.432Z"
   },
   {
    "duration": 131,
    "start_time": "2023-10-18T19:55:21.810Z"
   },
   {
    "duration": 150,
    "start_time": "2023-10-18T19:55:35.045Z"
   },
   {
    "duration": 120,
    "start_time": "2023-10-18T19:55:42.767Z"
   },
   {
    "duration": 131,
    "start_time": "2023-10-18T19:55:48.165Z"
   },
   {
    "duration": 148,
    "start_time": "2023-10-18T19:57:16.775Z"
   },
   {
    "duration": 8,
    "start_time": "2023-10-18T19:57:42.502Z"
   },
   {
    "duration": 5,
    "start_time": "2023-10-18T20:00:04.279Z"
   },
   {
    "duration": 57,
    "start_time": "2023-10-18T20:09:09.603Z"
   },
   {
    "duration": 8,
    "start_time": "2023-10-18T20:09:21.239Z"
   },
   {
    "duration": 6,
    "start_time": "2023-10-18T20:09:25.226Z"
   },
   {
    "duration": 7,
    "start_time": "2023-10-18T20:14:56.873Z"
   },
   {
    "duration": 17,
    "start_time": "2023-10-18T20:58:07.287Z"
   },
   {
    "duration": 7,
    "start_time": "2023-10-18T20:58:10.551Z"
   },
   {
    "duration": 5,
    "start_time": "2023-10-18T20:58:22.934Z"
   },
   {
    "duration": 4,
    "start_time": "2023-10-18T20:58:36.059Z"
   },
   {
    "duration": 4,
    "start_time": "2023-10-18T20:58:48.663Z"
   },
   {
    "duration": 6,
    "start_time": "2023-10-18T20:59:02.910Z"
   },
   {
    "duration": 14,
    "start_time": "2023-10-18T20:59:22.385Z"
   },
   {
    "duration": 4,
    "start_time": "2023-10-18T21:00:12.806Z"
   },
   {
    "duration": 5,
    "start_time": "2023-10-18T21:00:14.881Z"
   },
   {
    "duration": 12,
    "start_time": "2023-10-18T21:00:16.706Z"
   },
   {
    "duration": 14,
    "start_time": "2023-10-18T21:00:26.259Z"
   },
   {
    "duration": 15,
    "start_time": "2023-10-18T21:01:49.745Z"
   },
   {
    "duration": 10,
    "start_time": "2023-10-18T21:01:52.922Z"
   },
   {
    "duration": 3,
    "start_time": "2023-10-18T21:05:04.170Z"
   },
   {
    "duration": 3,
    "start_time": "2023-10-18T21:05:09.635Z"
   },
   {
    "duration": 7,
    "start_time": "2023-10-18T21:06:53.647Z"
   },
   {
    "duration": 5,
    "start_time": "2023-10-18T21:07:01.557Z"
   },
   {
    "duration": 118,
    "start_time": "2023-10-18T21:10:38.187Z"
   },
   {
    "duration": 6,
    "start_time": "2023-10-18T21:21:40.903Z"
   },
   {
    "duration": 3,
    "start_time": "2023-10-18T21:22:37.907Z"
   },
   {
    "duration": 4,
    "start_time": "2023-10-18T21:23:20.798Z"
   },
   {
    "duration": 3,
    "start_time": "2023-10-18T21:23:54.152Z"
   },
   {
    "duration": 5,
    "start_time": "2023-10-18T21:24:48.040Z"
   },
   {
    "duration": 239,
    "start_time": "2023-10-18T21:25:04.027Z"
   },
   {
    "duration": 5,
    "start_time": "2023-10-18T21:25:08.270Z"
   },
   {
    "duration": 4,
    "start_time": "2023-10-18T21:25:18.293Z"
   },
   {
    "duration": 15,
    "start_time": "2023-10-18T21:25:28.951Z"
   },
   {
    "duration": 21,
    "start_time": "2023-10-18T21:25:57.445Z"
   },
   {
    "duration": 14,
    "start_time": "2023-10-18T21:26:05.285Z"
   },
   {
    "duration": 723,
    "start_time": "2023-10-18T21:27:57.730Z"
   },
   {
    "duration": 24,
    "start_time": "2023-10-18T21:28:09.205Z"
   },
   {
    "duration": 9,
    "start_time": "2023-10-18T21:30:13.798Z"
   },
   {
    "duration": 20,
    "start_time": "2023-10-18T21:30:18.330Z"
   },
   {
    "duration": 19,
    "start_time": "2023-10-18T21:30:23.445Z"
   },
   {
    "duration": 7,
    "start_time": "2023-10-18T21:30:28.894Z"
   },
   {
    "duration": 9,
    "start_time": "2023-10-18T21:33:23.306Z"
   },
   {
    "duration": 4,
    "start_time": "2023-10-18T21:35:27.369Z"
   },
   {
    "duration": 6,
    "start_time": "2023-10-18T21:35:52.568Z"
   },
   {
    "duration": 5,
    "start_time": "2023-10-18T21:35:57.870Z"
   },
   {
    "duration": 5,
    "start_time": "2023-10-18T21:36:01.511Z"
   },
   {
    "duration": 4,
    "start_time": "2023-10-18T21:36:38.182Z"
   },
   {
    "duration": 5,
    "start_time": "2023-10-18T21:41:16.225Z"
   },
   {
    "duration": 4,
    "start_time": "2023-10-18T21:41:45.973Z"
   },
   {
    "duration": 5,
    "start_time": "2023-10-18T21:42:03.202Z"
   },
   {
    "duration": 5,
    "start_time": "2023-10-18T21:42:32.557Z"
   },
   {
    "duration": 4,
    "start_time": "2023-10-18T21:42:33.598Z"
   },
   {
    "duration": 15,
    "start_time": "2023-10-18T21:42:33.872Z"
   },
   {
    "duration": 6,
    "start_time": "2023-10-18T21:42:35.539Z"
   },
   {
    "duration": 6,
    "start_time": "2023-10-18T21:42:36.251Z"
   },
   {
    "duration": 6,
    "start_time": "2023-10-18T21:42:37.048Z"
   },
   {
    "duration": 15,
    "start_time": "2023-10-18T21:42:49.114Z"
   },
   {
    "duration": 47,
    "start_time": "2023-10-19T20:29:51.251Z"
   },
   {
    "duration": 1622,
    "start_time": "2023-10-19T20:29:55.958Z"
   },
   {
    "duration": 93,
    "start_time": "2023-10-19T20:29:57.582Z"
   },
   {
    "duration": 17,
    "start_time": "2023-10-19T20:29:57.677Z"
   },
   {
    "duration": 19,
    "start_time": "2023-10-19T20:29:57.695Z"
   },
   {
    "duration": 40,
    "start_time": "2023-10-19T20:29:57.717Z"
   },
   {
    "duration": 1928,
    "start_time": "2023-10-19T20:29:57.758Z"
   },
   {
    "duration": 248,
    "start_time": "2023-10-19T20:29:59.688Z"
   },
   {
    "duration": 9,
    "start_time": "2023-10-19T20:29:59.938Z"
   },
   {
    "duration": 12,
    "start_time": "2023-10-19T20:29:59.948Z"
   },
   {
    "duration": 26,
    "start_time": "2023-10-19T20:29:59.962Z"
   },
   {
    "duration": 25,
    "start_time": "2023-10-19T20:29:59.990Z"
   },
   {
    "duration": 102,
    "start_time": "2023-10-19T20:30:00.017Z"
   },
   {
    "duration": 159,
    "start_time": "2023-10-19T20:30:00.121Z"
   },
   {
    "duration": 172,
    "start_time": "2023-10-19T20:30:00.282Z"
   },
   {
    "duration": 168,
    "start_time": "2023-10-19T20:30:00.456Z"
   },
   {
    "duration": 85,
    "start_time": "2023-10-19T20:30:00.625Z"
   },
   {
    "duration": 44,
    "start_time": "2023-10-19T20:30:00.718Z"
   },
   {
    "duration": 93,
    "start_time": "2023-10-19T20:30:00.764Z"
   },
   {
    "duration": 84,
    "start_time": "2023-10-19T20:30:00.859Z"
   },
   {
    "duration": 147,
    "start_time": "2023-10-19T20:30:00.945Z"
   },
   {
    "duration": 182,
    "start_time": "2023-10-19T20:30:01.094Z"
   },
   {
    "duration": 11,
    "start_time": "2023-10-19T20:30:05.772Z"
   },
   {
    "duration": 11,
    "start_time": "2023-10-19T20:30:11.795Z"
   },
   {
    "duration": 17,
    "start_time": "2023-10-19T20:30:18.130Z"
   },
   {
    "duration": 7,
    "start_time": "2023-10-19T20:31:49.688Z"
   },
   {
    "duration": 7,
    "start_time": "2023-10-19T20:31:51.141Z"
   },
   {
    "duration": 14,
    "start_time": "2023-10-19T20:31:52.400Z"
   },
   {
    "duration": 6,
    "start_time": "2023-10-19T20:32:04.046Z"
   },
   {
    "duration": 12,
    "start_time": "2023-10-19T20:32:39.062Z"
   },
   {
    "duration": 7,
    "start_time": "2023-10-19T20:35:57.635Z"
   },
   {
    "duration": 6,
    "start_time": "2023-10-19T20:35:57.939Z"
   },
   {
    "duration": 6,
    "start_time": "2023-10-19T20:35:58.251Z"
   },
   {
    "duration": 3,
    "start_time": "2023-10-19T20:51:13.126Z"
   },
   {
    "duration": 3,
    "start_time": "2023-10-19T20:54:03.148Z"
   },
   {
    "duration": 65,
    "start_time": "2023-10-19T20:55:33.622Z"
   },
   {
    "duration": 2,
    "start_time": "2023-10-19T20:55:36.527Z"
   },
   {
    "duration": 20,
    "start_time": "2023-10-19T20:55:37.280Z"
   },
   {
    "duration": 18,
    "start_time": "2023-10-19T20:56:35.062Z"
   },
   {
    "duration": 1445,
    "start_time": "2023-10-19T21:00:20.294Z"
   },
   {
    "duration": 43,
    "start_time": "2023-10-19T21:00:21.741Z"
   },
   {
    "duration": 29,
    "start_time": "2023-10-19T21:00:21.786Z"
   },
   {
    "duration": 14,
    "start_time": "2023-10-19T21:00:21.817Z"
   },
   {
    "duration": 41,
    "start_time": "2023-10-19T21:00:21.832Z"
   },
   {
    "duration": 1840,
    "start_time": "2023-10-19T21:00:21.875Z"
   },
   {
    "duration": 246,
    "start_time": "2023-10-19T21:00:23.717Z"
   },
   {
    "duration": 8,
    "start_time": "2023-10-19T21:00:23.965Z"
   },
   {
    "duration": 44,
    "start_time": "2023-10-19T21:00:23.975Z"
   },
   {
    "duration": 28,
    "start_time": "2023-10-19T21:00:24.021Z"
   },
   {
    "duration": 37,
    "start_time": "2023-10-19T21:00:24.051Z"
   },
   {
    "duration": 26,
    "start_time": "2023-10-19T21:00:24.090Z"
   },
   {
    "duration": 8,
    "start_time": "2023-10-19T21:00:24.118Z"
   },
   {
    "duration": 22,
    "start_time": "2023-10-19T21:00:24.127Z"
   },
   {
    "duration": 17,
    "start_time": "2023-10-19T21:00:24.151Z"
   },
   {
    "duration": 13,
    "start_time": "2023-10-19T21:00:24.170Z"
   },
   {
    "duration": 7,
    "start_time": "2023-10-19T21:00:24.185Z"
   },
   {
    "duration": 26,
    "start_time": "2023-10-19T21:00:24.194Z"
   },
   {
    "duration": 37,
    "start_time": "2023-10-19T21:00:24.223Z"
   },
   {
    "duration": 18,
    "start_time": "2023-10-19T21:00:24.262Z"
   },
   {
    "duration": 38,
    "start_time": "2023-10-19T21:00:24.282Z"
   },
   {
    "duration": 27,
    "start_time": "2023-10-19T21:00:24.322Z"
   },
   {
    "duration": 20,
    "start_time": "2023-10-19T21:00:24.350Z"
   },
   {
    "duration": 13,
    "start_time": "2023-10-19T21:00:24.372Z"
   },
   {
    "duration": 24,
    "start_time": "2023-10-19T21:00:24.387Z"
   },
   {
    "duration": 37,
    "start_time": "2023-10-19T21:00:24.414Z"
   },
   {
    "duration": 20,
    "start_time": "2023-10-19T21:00:24.452Z"
   },
   {
    "duration": 157,
    "start_time": "2023-10-19T21:00:24.475Z"
   },
   {
    "duration": 0,
    "start_time": "2023-10-19T21:00:24.633Z"
   },
   {
    "duration": 1463,
    "start_time": "2023-10-19T21:00:50.991Z"
   },
   {
    "duration": 44,
    "start_time": "2023-10-19T21:00:52.456Z"
   },
   {
    "duration": 17,
    "start_time": "2023-10-19T21:00:52.514Z"
   },
   {
    "duration": 16,
    "start_time": "2023-10-19T21:00:52.533Z"
   },
   {
    "duration": 64,
    "start_time": "2023-10-19T21:00:52.551Z"
   },
   {
    "duration": 1921,
    "start_time": "2023-10-19T21:00:52.617Z"
   },
   {
    "duration": 316,
    "start_time": "2023-10-19T21:00:54.540Z"
   },
   {
    "duration": 10,
    "start_time": "2023-10-19T21:00:54.858Z"
   },
   {
    "duration": 12,
    "start_time": "2023-10-19T21:00:54.870Z"
   },
   {
    "duration": 8,
    "start_time": "2023-10-19T21:00:54.905Z"
   },
   {
    "duration": 25,
    "start_time": "2023-10-19T21:00:54.915Z"
   },
   {
    "duration": 13,
    "start_time": "2023-10-19T21:00:54.942Z"
   },
   {
    "duration": 19,
    "start_time": "2023-10-19T21:00:54.957Z"
   },
   {
    "duration": 31,
    "start_time": "2023-10-19T21:00:54.978Z"
   },
   {
    "duration": 66,
    "start_time": "2023-10-19T21:00:55.011Z"
   },
   {
    "duration": 50,
    "start_time": "2023-10-19T21:00:55.078Z"
   },
   {
    "duration": 36,
    "start_time": "2023-10-19T21:00:55.130Z"
   },
   {
    "duration": 70,
    "start_time": "2023-10-19T21:00:55.168Z"
   },
   {
    "duration": 32,
    "start_time": "2023-10-19T21:00:55.240Z"
   },
   {
    "duration": 105,
    "start_time": "2023-10-19T21:00:55.274Z"
   },
   {
    "duration": 77,
    "start_time": "2023-10-19T21:00:55.381Z"
   },
   {
    "duration": 75,
    "start_time": "2023-10-19T21:00:55.460Z"
   },
   {
    "duration": 101,
    "start_time": "2023-10-19T21:00:55.537Z"
   },
   {
    "duration": 57,
    "start_time": "2023-10-19T21:00:55.640Z"
   },
   {
    "duration": 43,
    "start_time": "2023-10-19T21:00:55.699Z"
   },
   {
    "duration": 29,
    "start_time": "2023-10-19T21:00:55.743Z"
   },
   {
    "duration": 37,
    "start_time": "2023-10-19T21:00:55.774Z"
   },
   {
    "duration": 225,
    "start_time": "2023-10-19T21:00:55.814Z"
   },
   {
    "duration": 0,
    "start_time": "2023-10-19T21:00:56.041Z"
   },
   {
    "duration": 16,
    "start_time": "2023-10-19T21:01:54.346Z"
   },
   {
    "duration": 22,
    "start_time": "2023-10-19T21:01:58.612Z"
   },
   {
    "duration": 17,
    "start_time": "2023-10-19T21:02:01.442Z"
   },
   {
    "duration": 13,
    "start_time": "2023-10-19T21:03:19.833Z"
   },
   {
    "duration": 1487,
    "start_time": "2023-10-19T21:04:41.787Z"
   },
   {
    "duration": 53,
    "start_time": "2023-10-19T21:04:43.276Z"
   },
   {
    "duration": 22,
    "start_time": "2023-10-19T21:04:43.331Z"
   },
   {
    "duration": 30,
    "start_time": "2023-10-19T21:04:43.355Z"
   },
   {
    "duration": 66,
    "start_time": "2023-10-19T21:04:43.386Z"
   },
   {
    "duration": 2024,
    "start_time": "2023-10-19T21:04:43.454Z"
   },
   {
    "duration": 265,
    "start_time": "2023-10-19T21:04:45.480Z"
   },
   {
    "duration": 9,
    "start_time": "2023-10-19T21:04:45.747Z"
   },
   {
    "duration": 55,
    "start_time": "2023-10-19T21:04:45.758Z"
   },
   {
    "duration": 21,
    "start_time": "2023-10-19T21:04:45.816Z"
   },
   {
    "duration": 34,
    "start_time": "2023-10-19T21:04:45.838Z"
   },
   {
    "duration": 13,
    "start_time": "2023-10-19T21:04:45.874Z"
   },
   {
    "duration": 71,
    "start_time": "2023-10-19T21:04:45.889Z"
   },
   {
    "duration": 47,
    "start_time": "2023-10-19T21:04:45.962Z"
   },
   {
    "duration": 15,
    "start_time": "2023-10-19T21:04:46.011Z"
   },
   {
    "duration": 28,
    "start_time": "2023-10-19T21:04:46.028Z"
   },
   {
    "duration": 19,
    "start_time": "2023-10-19T21:04:46.058Z"
   },
   {
    "duration": 10,
    "start_time": "2023-10-19T21:04:46.079Z"
   },
   {
    "duration": 22,
    "start_time": "2023-10-19T21:04:46.091Z"
   },
   {
    "duration": 13,
    "start_time": "2023-10-19T21:04:46.114Z"
   },
   {
    "duration": 41,
    "start_time": "2023-10-19T21:04:46.128Z"
   },
   {
    "duration": 22,
    "start_time": "2023-10-19T21:04:46.170Z"
   },
   {
    "duration": 14,
    "start_time": "2023-10-19T21:04:46.194Z"
   },
   {
    "duration": 20,
    "start_time": "2023-10-19T21:04:46.212Z"
   },
   {
    "duration": 10,
    "start_time": "2023-10-19T21:04:46.234Z"
   },
   {
    "duration": 34,
    "start_time": "2023-10-19T21:04:46.246Z"
   },
   {
    "duration": 12,
    "start_time": "2023-10-19T21:04:46.282Z"
   },
   {
    "duration": 142,
    "start_time": "2023-10-19T21:04:46.297Z"
   },
   {
    "duration": 0,
    "start_time": "2023-10-19T21:04:46.441Z"
   },
   {
    "duration": 18,
    "start_time": "2023-10-19T21:05:28.434Z"
   },
   {
    "duration": 13,
    "start_time": "2023-10-19T21:05:32.362Z"
   },
   {
    "duration": 26,
    "start_time": "2023-10-19T21:06:35.493Z"
   },
   {
    "duration": 25,
    "start_time": "2023-10-19T21:07:11.579Z"
   },
   {
    "duration": 52,
    "start_time": "2023-10-24T19:50:02.973Z"
   },
   {
    "duration": 1461,
    "start_time": "2023-10-24T19:50:10.150Z"
   },
   {
    "duration": 84,
    "start_time": "2023-10-24T19:50:11.613Z"
   },
   {
    "duration": 17,
    "start_time": "2023-10-24T19:50:11.698Z"
   },
   {
    "duration": 27,
    "start_time": "2023-10-24T19:50:11.717Z"
   },
   {
    "duration": 44,
    "start_time": "2023-10-24T19:50:11.746Z"
   },
   {
    "duration": 1723,
    "start_time": "2023-10-24T19:50:11.791Z"
   },
   {
    "duration": 250,
    "start_time": "2023-10-24T19:50:13.516Z"
   },
   {
    "duration": 10,
    "start_time": "2023-10-24T19:50:13.767Z"
   },
   {
    "duration": 28,
    "start_time": "2023-10-24T19:50:13.778Z"
   },
   {
    "duration": 39,
    "start_time": "2023-10-24T19:50:13.810Z"
   },
   {
    "duration": 31,
    "start_time": "2023-10-24T19:50:13.851Z"
   },
   {
    "duration": 23,
    "start_time": "2023-10-24T19:50:13.883Z"
   },
   {
    "duration": 51,
    "start_time": "2023-10-24T19:50:13.908Z"
   },
   {
    "duration": 48,
    "start_time": "2023-10-24T19:50:13.961Z"
   },
   {
    "duration": 31,
    "start_time": "2023-10-24T19:50:14.011Z"
   },
   {
    "duration": 29,
    "start_time": "2023-10-24T19:50:14.044Z"
   },
   {
    "duration": 37,
    "start_time": "2023-10-24T19:50:14.075Z"
   },
   {
    "duration": 49,
    "start_time": "2023-10-24T19:50:14.114Z"
   },
   {
    "duration": 23,
    "start_time": "2023-10-24T19:50:14.165Z"
   },
   {
    "duration": 33,
    "start_time": "2023-10-24T19:50:14.189Z"
   },
   {
    "duration": 20,
    "start_time": "2023-10-24T19:50:14.224Z"
   },
   {
    "duration": 17,
    "start_time": "2023-10-24T19:50:14.246Z"
   },
   {
    "duration": 25,
    "start_time": "2023-10-24T19:50:14.264Z"
   },
   {
    "duration": 17,
    "start_time": "2023-10-24T19:50:14.291Z"
   },
   {
    "duration": 29,
    "start_time": "2023-10-24T19:50:14.310Z"
   },
   {
    "duration": 23,
    "start_time": "2023-10-24T19:50:14.341Z"
   },
   {
    "duration": 15,
    "start_time": "2023-10-24T19:50:14.366Z"
   },
   {
    "duration": 44,
    "start_time": "2023-10-24T19:50:14.384Z"
   },
   {
    "duration": 23,
    "start_time": "2023-10-24T19:50:14.430Z"
   },
   {
    "duration": 38,
    "start_time": "2023-10-24T19:50:14.455Z"
   },
   {
    "duration": 35,
    "start_time": "2023-10-24T19:50:14.495Z"
   },
   {
    "duration": 16,
    "start_time": "2023-10-24T19:50:14.532Z"
   },
   {
    "duration": 6,
    "start_time": "2023-10-24T19:50:29.533Z"
   },
   {
    "duration": 7,
    "start_time": "2023-10-24T19:53:40.038Z"
   },
   {
    "duration": 6,
    "start_time": "2023-10-24T19:53:46.790Z"
   },
   {
    "duration": 3,
    "start_time": "2023-10-24T19:58:38.725Z"
   },
   {
    "duration": 3,
    "start_time": "2023-10-24T19:59:14.179Z"
   },
   {
    "duration": 24,
    "start_time": "2023-10-24T20:07:01.649Z"
   },
   {
    "duration": 32,
    "start_time": "2023-10-24T20:07:40.414Z"
   },
   {
    "duration": 308,
    "start_time": "2023-10-24T20:09:58.501Z"
   },
   {
    "duration": 167,
    "start_time": "2023-10-24T20:11:44.949Z"
   },
   {
    "duration": 4,
    "start_time": "2023-10-24T20:14:06.260Z"
   },
   {
    "duration": 5,
    "start_time": "2023-10-24T20:14:23.209Z"
   },
   {
    "duration": 89,
    "start_time": "2023-10-24T20:21:20.359Z"
   },
   {
    "duration": 151,
    "start_time": "2023-10-24T20:21:29.292Z"
   },
   {
    "duration": 22,
    "start_time": "2023-10-24T20:22:00.258Z"
   },
   {
    "duration": 22,
    "start_time": "2023-10-24T20:22:06.414Z"
   },
   {
    "duration": 1758,
    "start_time": "2023-10-24T20:25:42.744Z"
   },
   {
    "duration": 181,
    "start_time": "2023-10-24T20:26:33.174Z"
   },
   {
    "duration": 3,
    "start_time": "2023-10-24T20:26:37.573Z"
   },
   {
    "duration": 2,
    "start_time": "2023-10-24T20:27:12.971Z"
   },
   {
    "duration": 79,
    "start_time": "2023-10-24T20:27:20.366Z"
   },
   {
    "duration": 4,
    "start_time": "2023-10-24T20:27:24.550Z"
   },
   {
    "duration": 134,
    "start_time": "2023-10-24T20:27:36.128Z"
   },
   {
    "duration": 47,
    "start_time": "2023-10-24T20:28:04.131Z"
   },
   {
    "duration": 1388,
    "start_time": "2023-10-24T20:28:19.454Z"
   },
   {
    "duration": 44,
    "start_time": "2023-10-24T20:28:20.844Z"
   },
   {
    "duration": 19,
    "start_time": "2023-10-24T20:28:20.890Z"
   },
   {
    "duration": 21,
    "start_time": "2023-10-24T20:28:20.911Z"
   },
   {
    "duration": 42,
    "start_time": "2023-10-24T20:28:20.933Z"
   },
   {
    "duration": 1857,
    "start_time": "2023-10-24T20:28:20.977Z"
   },
   {
    "duration": 161,
    "start_time": "2023-10-24T20:28:22.835Z"
   },
   {
    "duration": 10,
    "start_time": "2023-10-24T20:28:22.998Z"
   },
   {
    "duration": 17,
    "start_time": "2023-10-24T20:28:23.010Z"
   },
   {
    "duration": 5,
    "start_time": "2023-10-24T20:28:23.030Z"
   },
   {
    "duration": 5,
    "start_time": "2023-10-24T20:28:23.037Z"
   },
   {
    "duration": 10,
    "start_time": "2023-10-24T20:28:23.044Z"
   },
   {
    "duration": 5,
    "start_time": "2023-10-24T20:28:23.056Z"
   },
   {
    "duration": 25,
    "start_time": "2023-10-24T20:28:23.062Z"
   },
   {
    "duration": 25,
    "start_time": "2023-10-24T20:28:23.089Z"
   },
   {
    "duration": 15,
    "start_time": "2023-10-24T20:28:23.115Z"
   },
   {
    "duration": 8,
    "start_time": "2023-10-24T20:28:23.132Z"
   },
   {
    "duration": 5,
    "start_time": "2023-10-24T20:28:23.142Z"
   },
   {
    "duration": 22,
    "start_time": "2023-10-24T20:28:23.149Z"
   },
   {
    "duration": 4,
    "start_time": "2023-10-24T20:28:23.172Z"
   },
   {
    "duration": 25,
    "start_time": "2023-10-24T20:28:23.178Z"
   },
   {
    "duration": 13,
    "start_time": "2023-10-24T20:28:23.205Z"
   },
   {
    "duration": 28,
    "start_time": "2023-10-24T20:28:23.219Z"
   },
   {
    "duration": 12,
    "start_time": "2023-10-24T20:28:23.249Z"
   },
   {
    "duration": 10,
    "start_time": "2023-10-24T20:28:23.262Z"
   },
   {
    "duration": 19,
    "start_time": "2023-10-24T20:28:23.273Z"
   },
   {
    "duration": 18,
    "start_time": "2023-10-24T20:28:23.294Z"
   },
   {
    "duration": 24,
    "start_time": "2023-10-24T20:28:23.315Z"
   },
   {
    "duration": 11,
    "start_time": "2023-10-24T20:28:23.340Z"
   },
   {
    "duration": 16,
    "start_time": "2023-10-24T20:28:23.352Z"
   },
   {
    "duration": 19,
    "start_time": "2023-10-24T20:28:23.370Z"
   },
   {
    "duration": 7,
    "start_time": "2023-10-24T20:28:23.406Z"
   },
   {
    "duration": 194,
    "start_time": "2023-10-24T20:28:23.414Z"
   },
   {
    "duration": 259,
    "start_time": "2023-10-24T20:28:23.611Z"
   },
   {
    "duration": 1785,
    "start_time": "2023-10-24T20:28:23.872Z"
   },
   {
    "duration": 1847,
    "start_time": "2023-10-24T20:28:31.875Z"
   },
   {
    "duration": 1807,
    "start_time": "2023-10-24T20:28:37.682Z"
   },
   {
    "duration": 4,
    "start_time": "2023-10-24T20:29:53.415Z"
   },
   {
    "duration": 3,
    "start_time": "2023-10-24T20:30:41.618Z"
   },
   {
    "duration": 6,
    "start_time": "2023-10-24T20:30:46.667Z"
   },
   {
    "duration": 4,
    "start_time": "2023-10-24T20:31:01.089Z"
   },
   {
    "duration": 5,
    "start_time": "2023-10-24T20:31:35.618Z"
   },
   {
    "duration": 6,
    "start_time": "2023-10-24T21:02:21.422Z"
   },
   {
    "duration": 119,
    "start_time": "2023-10-24T21:06:22.638Z"
   },
   {
    "duration": 10,
    "start_time": "2023-10-24T21:06:27.307Z"
   },
   {
    "duration": 9,
    "start_time": "2023-10-24T21:06:36.727Z"
   },
   {
    "duration": 167,
    "start_time": "2023-10-24T21:07:00.911Z"
   },
   {
    "duration": 10,
    "start_time": "2023-10-24T21:07:19.009Z"
   },
   {
    "duration": 2873,
    "start_time": "2023-10-24T21:07:29.280Z"
   },
   {
    "duration": 14,
    "start_time": "2023-10-24T21:08:00.574Z"
   },
   {
    "duration": 10,
    "start_time": "2023-10-24T21:09:14.320Z"
   },
   {
    "duration": 4,
    "start_time": "2023-10-24T21:10:23.327Z"
   },
   {
    "duration": 140,
    "start_time": "2023-10-24T21:10:37.680Z"
   },
   {
    "duration": 129,
    "start_time": "2023-10-24T21:10:54.894Z"
   },
   {
    "duration": 6,
    "start_time": "2023-10-24T21:11:06.565Z"
   },
   {
    "duration": 109,
    "start_time": "2023-10-24T21:11:24.841Z"
   },
   {
    "duration": 108,
    "start_time": "2023-10-24T21:11:31.639Z"
   },
   {
    "duration": 106,
    "start_time": "2023-10-24T21:11:41.524Z"
   },
   {
    "duration": 114,
    "start_time": "2023-10-24T21:11:52.922Z"
   },
   {
    "duration": 11,
    "start_time": "2023-10-24T21:12:01.732Z"
   },
   {
    "duration": 115,
    "start_time": "2023-10-24T21:12:04.909Z"
   },
   {
    "duration": 384,
    "start_time": "2023-10-24T21:12:16.300Z"
   },
   {
    "duration": 117,
    "start_time": "2023-10-24T21:12:20.990Z"
   },
   {
    "duration": 125,
    "start_time": "2023-10-24T21:12:30.745Z"
   },
   {
    "duration": 112,
    "start_time": "2023-10-24T21:12:43.930Z"
   },
   {
    "duration": 152,
    "start_time": "2023-10-24T21:14:05.984Z"
   },
   {
    "duration": 107,
    "start_time": "2023-10-24T21:14:16.709Z"
   },
   {
    "duration": 4,
    "start_time": "2023-10-24T21:14:26.191Z"
   },
   {
    "duration": 99,
    "start_time": "2023-10-24T21:16:12.383Z"
   },
   {
    "duration": 112,
    "start_time": "2023-10-24T21:16:23.484Z"
   },
   {
    "duration": 12,
    "start_time": "2023-10-24T21:16:37.972Z"
   },
   {
    "duration": 139,
    "start_time": "2023-10-24T21:18:57.783Z"
   },
   {
    "duration": 216,
    "start_time": "2023-10-24T21:19:05.018Z"
   },
   {
    "duration": 209,
    "start_time": "2023-10-24T21:19:36.933Z"
   },
   {
    "duration": 16,
    "start_time": "2023-10-24T21:22:37.419Z"
   },
   {
    "duration": 12,
    "start_time": "2023-10-24T21:22:58.302Z"
   },
   {
    "duration": 7,
    "start_time": "2023-10-24T21:23:03.404Z"
   },
   {
    "duration": 5,
    "start_time": "2023-10-24T21:23:08.780Z"
   },
   {
    "duration": 6,
    "start_time": "2023-10-24T21:23:13.239Z"
   },
   {
    "duration": 9,
    "start_time": "2023-10-24T21:23:18.185Z"
   },
   {
    "duration": 4,
    "start_time": "2023-10-24T21:23:20.352Z"
   },
   {
    "duration": 12,
    "start_time": "2023-10-24T21:24:55.746Z"
   },
   {
    "duration": 14,
    "start_time": "2023-10-24T21:25:01.329Z"
   },
   {
    "duration": 12,
    "start_time": "2023-10-24T21:25:04.002Z"
   },
   {
    "duration": 85,
    "start_time": "2023-10-24T21:25:12.892Z"
   },
   {
    "duration": 82,
    "start_time": "2023-10-24T21:25:17.192Z"
   },
   {
    "duration": 77,
    "start_time": "2023-10-24T21:25:19.188Z"
   },
   {
    "duration": 11,
    "start_time": "2023-10-24T21:25:25.104Z"
   },
   {
    "duration": 12,
    "start_time": "2023-10-24T21:26:17.518Z"
   },
   {
    "duration": 18,
    "start_time": "2023-10-24T21:26:47.866Z"
   },
   {
    "duration": 122,
    "start_time": "2023-10-24T21:27:02.808Z"
   },
   {
    "duration": 128,
    "start_time": "2023-10-24T21:27:38.471Z"
   },
   {
    "duration": 130,
    "start_time": "2023-10-24T21:28:24.849Z"
   },
   {
    "duration": 126,
    "start_time": "2023-10-24T21:28:33.048Z"
   },
   {
    "duration": 89,
    "start_time": "2023-10-24T21:28:52.139Z"
   },
   {
    "duration": 152,
    "start_time": "2023-10-24T21:28:57.119Z"
   },
   {
    "duration": 139,
    "start_time": "2023-10-24T21:29:04.843Z"
   },
   {
    "duration": 131,
    "start_time": "2023-10-24T21:29:09.447Z"
   },
   {
    "duration": 134,
    "start_time": "2023-10-24T21:30:29.468Z"
   },
   {
    "duration": 137,
    "start_time": "2023-10-24T21:30:59.861Z"
   },
   {
    "duration": 140,
    "start_time": "2023-10-24T21:31:09.378Z"
   },
   {
    "duration": 148,
    "start_time": "2023-10-24T21:32:13.683Z"
   },
   {
    "duration": 152,
    "start_time": "2023-10-24T21:32:55.621Z"
   },
   {
    "duration": 154,
    "start_time": "2023-10-24T21:34:47.234Z"
   },
   {
    "duration": 1339,
    "start_time": "2023-10-24T21:37:14.396Z"
   },
   {
    "duration": 44,
    "start_time": "2023-10-24T21:37:15.738Z"
   },
   {
    "duration": 17,
    "start_time": "2023-10-24T21:37:15.783Z"
   },
   {
    "duration": 29,
    "start_time": "2023-10-24T21:37:15.802Z"
   },
   {
    "duration": 38,
    "start_time": "2023-10-24T21:37:15.833Z"
   },
   {
    "duration": 1842,
    "start_time": "2023-10-24T21:37:15.872Z"
   },
   {
    "duration": 151,
    "start_time": "2023-10-24T21:37:17.715Z"
   },
   {
    "duration": 8,
    "start_time": "2023-10-24T21:37:17.867Z"
   },
   {
    "duration": 6,
    "start_time": "2023-10-24T21:37:17.877Z"
   },
   {
    "duration": 2,
    "start_time": "2023-10-24T21:37:17.885Z"
   },
   {
    "duration": 19,
    "start_time": "2023-10-24T21:37:17.889Z"
   },
   {
    "duration": 5,
    "start_time": "2023-10-24T21:37:17.909Z"
   },
   {
    "duration": 4,
    "start_time": "2023-10-24T21:37:17.915Z"
   },
   {
    "duration": 11,
    "start_time": "2023-10-24T21:37:17.922Z"
   },
   {
    "duration": 12,
    "start_time": "2023-10-24T21:37:17.935Z"
   },
   {
    "duration": 10,
    "start_time": "2023-10-24T21:37:17.949Z"
   },
   {
    "duration": 5,
    "start_time": "2023-10-24T21:37:17.961Z"
   },
   {
    "duration": 4,
    "start_time": "2023-10-24T21:37:17.967Z"
   },
   {
    "duration": 5,
    "start_time": "2023-10-24T21:37:18.006Z"
   },
   {
    "duration": 22,
    "start_time": "2023-10-24T21:37:18.013Z"
   },
   {
    "duration": 18,
    "start_time": "2023-10-24T21:37:18.036Z"
   },
   {
    "duration": 9,
    "start_time": "2023-10-24T21:37:18.055Z"
   },
   {
    "duration": 9,
    "start_time": "2023-10-24T21:37:18.066Z"
   },
   {
    "duration": 7,
    "start_time": "2023-10-24T21:37:18.076Z"
   },
   {
    "duration": 24,
    "start_time": "2023-10-24T21:37:18.084Z"
   },
   {
    "duration": 5,
    "start_time": "2023-10-24T21:37:18.110Z"
   },
   {
    "duration": 9,
    "start_time": "2023-10-24T21:37:18.117Z"
   },
   {
    "duration": 23,
    "start_time": "2023-10-24T21:37:18.127Z"
   },
   {
    "duration": 10,
    "start_time": "2023-10-24T21:37:18.151Z"
   },
   {
    "duration": 16,
    "start_time": "2023-10-24T21:37:18.163Z"
   },
   {
    "duration": 34,
    "start_time": "2023-10-24T21:37:18.181Z"
   },
   {
    "duration": 5,
    "start_time": "2023-10-24T21:37:18.217Z"
   },
   {
    "duration": 287,
    "start_time": "2023-10-24T21:37:18.223Z"
   },
   {
    "duration": 308,
    "start_time": "2023-10-24T21:37:18.512Z"
   },
   {
    "duration": 158,
    "start_time": "2023-10-24T21:37:18.821Z"
   },
   {
    "duration": 145,
    "start_time": "2023-10-24T21:37:18.980Z"
   },
   {
    "duration": 1725,
    "start_time": "2023-10-24T21:37:19.126Z"
   },
   {
    "duration": 156,
    "start_time": "2023-10-24T21:37:20.853Z"
   },
   {
    "duration": 5,
    "start_time": "2023-10-24T21:37:21.011Z"
   },
   {
    "duration": 141,
    "start_time": "2023-10-24T21:40:15.430Z"
   },
   {
    "duration": 124,
    "start_time": "2023-10-24T22:37:17.290Z"
   },
   {
    "duration": 170,
    "start_time": "2023-10-24T22:37:54.343Z"
   },
   {
    "duration": 115,
    "start_time": "2023-10-24T22:37:59.498Z"
   },
   {
    "duration": 23,
    "start_time": "2023-10-24T22:40:34.450Z"
   },
   {
    "duration": 23,
    "start_time": "2023-10-24T22:41:02.675Z"
   },
   {
    "duration": 106,
    "start_time": "2023-10-24T22:43:53.039Z"
   },
   {
    "duration": 173,
    "start_time": "2023-10-24T22:44:05.537Z"
   },
   {
    "duration": 158,
    "start_time": "2023-10-24T22:45:47.655Z"
   },
   {
    "duration": 274,
    "start_time": "2023-10-24T22:46:22.934Z"
   },
   {
    "duration": 4,
    "start_time": "2023-10-24T22:47:27.853Z"
   },
   {
    "duration": 127,
    "start_time": "2023-10-24T22:48:46.586Z"
   },
   {
    "duration": 229,
    "start_time": "2023-10-24T22:49:03.682Z"
   },
   {
    "duration": 27,
    "start_time": "2023-10-24T22:52:03.247Z"
   },
   {
    "duration": 27,
    "start_time": "2023-10-24T22:52:10.269Z"
   },
   {
    "duration": 174,
    "start_time": "2023-10-24T22:52:53.453Z"
   },
   {
    "duration": 184,
    "start_time": "2023-10-24T22:52:57.718Z"
   },
   {
    "duration": 252,
    "start_time": "2023-10-24T22:53:22.920Z"
   },
   {
    "duration": 181,
    "start_time": "2023-10-24T22:53:28.900Z"
   },
   {
    "duration": 255,
    "start_time": "2023-10-24T22:53:32.146Z"
   },
   {
    "duration": 172,
    "start_time": "2023-10-24T22:53:37.738Z"
   },
   {
    "duration": 250,
    "start_time": "2023-10-24T22:53:42.315Z"
   },
   {
    "duration": 325,
    "start_time": "2023-10-24T22:53:47.771Z"
   },
   {
    "duration": 406,
    "start_time": "2023-10-24T22:53:51.468Z"
   },
   {
    "duration": 816,
    "start_time": "2023-10-24T22:53:55.469Z"
   },
   {
    "duration": 797,
    "start_time": "2023-10-24T22:54:00.050Z"
   },
   {
    "duration": 94,
    "start_time": "2023-10-24T22:54:03.940Z"
   },
   {
    "duration": 176,
    "start_time": "2023-10-24T22:54:07.721Z"
   },
   {
    "duration": 1535,
    "start_time": "2023-10-25T09:11:56.231Z"
   },
   {
    "duration": 81,
    "start_time": "2023-10-25T09:11:57.768Z"
   },
   {
    "duration": 15,
    "start_time": "2023-10-25T09:11:57.851Z"
   },
   {
    "duration": 20,
    "start_time": "2023-10-25T09:11:57.868Z"
   },
   {
    "duration": 33,
    "start_time": "2023-10-25T09:11:57.890Z"
   },
   {
    "duration": 1628,
    "start_time": "2023-10-25T09:11:57.925Z"
   },
   {
    "duration": 152,
    "start_time": "2023-10-25T09:11:59.555Z"
   },
   {
    "duration": 8,
    "start_time": "2023-10-25T09:11:59.708Z"
   },
   {
    "duration": 8,
    "start_time": "2023-10-25T09:11:59.717Z"
   },
   {
    "duration": 2,
    "start_time": "2023-10-25T09:11:59.741Z"
   },
   {
    "duration": 5,
    "start_time": "2023-10-25T09:11:59.745Z"
   },
   {
    "duration": 4,
    "start_time": "2023-10-25T09:11:59.751Z"
   },
   {
    "duration": 7,
    "start_time": "2023-10-25T09:11:59.757Z"
   },
   {
    "duration": 15,
    "start_time": "2023-10-25T09:11:59.765Z"
   },
   {
    "duration": 14,
    "start_time": "2023-10-25T09:11:59.781Z"
   },
   {
    "duration": 45,
    "start_time": "2023-10-25T09:11:59.798Z"
   },
   {
    "duration": 3,
    "start_time": "2023-10-25T09:11:59.845Z"
   },
   {
    "duration": 9,
    "start_time": "2023-10-25T09:11:59.849Z"
   },
   {
    "duration": 18,
    "start_time": "2023-10-25T09:11:59.859Z"
   },
   {
    "duration": 4,
    "start_time": "2023-10-25T09:11:59.878Z"
   },
   {
    "duration": 16,
    "start_time": "2023-10-25T09:11:59.883Z"
   },
   {
    "duration": 10,
    "start_time": "2023-10-25T09:11:59.900Z"
   },
   {
    "duration": 36,
    "start_time": "2023-10-25T09:11:59.911Z"
   },
   {
    "duration": 13,
    "start_time": "2023-10-25T09:11:59.948Z"
   },
   {
    "duration": 5,
    "start_time": "2023-10-25T09:11:59.963Z"
   },
   {
    "duration": 6,
    "start_time": "2023-10-25T09:11:59.969Z"
   },
   {
    "duration": 4,
    "start_time": "2023-10-25T09:11:59.976Z"
   },
   {
    "duration": 21,
    "start_time": "2023-10-25T09:11:59.983Z"
   },
   {
    "duration": 40,
    "start_time": "2023-10-25T09:12:00.006Z"
   },
   {
    "duration": 54,
    "start_time": "2023-10-25T09:12:00.048Z"
   },
   {
    "duration": 28,
    "start_time": "2023-10-25T09:12:00.104Z"
   },
   {
    "duration": 6,
    "start_time": "2023-10-25T09:12:00.134Z"
   },
   {
    "duration": 28,
    "start_time": "2023-10-25T09:12:00.142Z"
   },
   {
    "duration": 36,
    "start_time": "2023-10-25T09:12:00.172Z"
   },
   {
    "duration": 132,
    "start_time": "2023-10-25T09:12:00.209Z"
   },
   {
    "duration": 256,
    "start_time": "2023-10-25T09:12:00.344Z"
   },
   {
    "duration": 185,
    "start_time": "2023-10-25T09:12:00.602Z"
   },
   {
    "duration": 141,
    "start_time": "2023-10-25T09:12:00.789Z"
   },
   {
    "duration": 1942,
    "start_time": "2023-10-25T09:12:00.931Z"
   },
   {
    "duration": 140,
    "start_time": "2023-10-25T09:12:02.874Z"
   },
   {
    "duration": 4,
    "start_time": "2023-10-25T09:12:03.016Z"
   },
   {
    "duration": 152,
    "start_time": "2023-10-25T09:12:03.021Z"
   },
   {
    "duration": 169,
    "start_time": "2023-10-25T09:12:03.174Z"
   },
   {
    "duration": 124,
    "start_time": "2023-10-25T09:12:03.345Z"
   },
   {
    "duration": 212,
    "start_time": "2023-10-25T09:12:03.471Z"
   },
   {
    "duration": 8,
    "start_time": "2023-10-25T09:12:45.983Z"
   },
   {
    "duration": 1634,
    "start_time": "2023-10-25T09:12:55.314Z"
   },
   {
    "duration": 98,
    "start_time": "2023-10-25T09:12:56.954Z"
   },
   {
    "duration": 137,
    "start_time": "2023-10-25T09:15:14.082Z"
   },
   {
    "duration": 625,
    "start_time": "2023-10-25T09:15:33.615Z"
   },
   {
    "duration": 4,
    "start_time": "2023-10-25T09:16:52.244Z"
   },
   {
    "duration": 35,
    "start_time": "2023-10-25T09:16:53.817Z"
   },
   {
    "duration": 160,
    "start_time": "2023-10-25T09:16:59.739Z"
   },
   {
    "duration": 5,
    "start_time": "2023-10-25T09:17:19.418Z"
   },
   {
    "duration": 61,
    "start_time": "2023-10-25T09:17:20.479Z"
   },
   {
    "duration": 141,
    "start_time": "2023-10-25T09:17:24.263Z"
   },
   {
    "duration": 180,
    "start_time": "2023-10-25T09:18:36.032Z"
   },
   {
    "duration": 173,
    "start_time": "2023-10-25T09:18:57.763Z"
   },
   {
    "duration": 172,
    "start_time": "2023-10-25T09:20:12.460Z"
   },
   {
    "duration": 5,
    "start_time": "2023-10-25T09:22:54.640Z"
   },
   {
    "duration": 5,
    "start_time": "2023-10-25T09:22:59.591Z"
   },
   {
    "duration": 8,
    "start_time": "2023-10-25T09:23:04.542Z"
   },
   {
    "duration": 104,
    "start_time": "2023-10-25T09:23:24.639Z"
   },
   {
    "duration": 5,
    "start_time": "2023-10-25T09:23:32.715Z"
   },
   {
    "duration": 3,
    "start_time": "2023-10-25T09:24:19.793Z"
   },
   {
    "duration": 4,
    "start_time": "2023-10-25T09:24:30.781Z"
   },
   {
    "duration": 3,
    "start_time": "2023-10-25T09:24:40.676Z"
   },
   {
    "duration": 4,
    "start_time": "2023-10-25T09:24:41.058Z"
   },
   {
    "duration": 5,
    "start_time": "2023-10-25T09:24:41.444Z"
   },
   {
    "duration": 302,
    "start_time": "2023-10-25T09:24:43.048Z"
   },
   {
    "duration": 12,
    "start_time": "2023-10-25T09:24:56.630Z"
   },
   {
    "duration": 8,
    "start_time": "2023-10-25T09:26:15.442Z"
   },
   {
    "duration": 10,
    "start_time": "2023-10-25T09:26:23.917Z"
   },
   {
    "duration": 4,
    "start_time": "2023-10-25T09:26:54.681Z"
   },
   {
    "duration": 173,
    "start_time": "2023-10-25T09:26:58.269Z"
   },
   {
    "duration": 11,
    "start_time": "2023-10-25T09:27:00.805Z"
   },
   {
    "duration": 7,
    "start_time": "2023-10-25T09:27:13.882Z"
   },
   {
    "duration": 4,
    "start_time": "2023-10-25T09:27:47.167Z"
   },
   {
    "duration": 11,
    "start_time": "2023-10-25T09:27:48.837Z"
   },
   {
    "duration": 11,
    "start_time": "2023-10-25T09:27:56.260Z"
   },
   {
    "duration": 20,
    "start_time": "2023-10-25T09:28:04.624Z"
   },
   {
    "duration": 4,
    "start_time": "2023-10-25T09:28:07.060Z"
   },
   {
    "duration": 525,
    "start_time": "2023-10-25T09:28:10.327Z"
   },
   {
    "duration": 16,
    "start_time": "2023-10-25T09:28:11.040Z"
   },
   {
    "duration": 24,
    "start_time": "2023-10-25T09:28:22.664Z"
   },
   {
    "duration": 3,
    "start_time": "2023-10-25T09:28:58.660Z"
   },
   {
    "duration": 8,
    "start_time": "2023-10-25T09:29:08.516Z"
   },
   {
    "duration": 8,
    "start_time": "2023-10-25T09:29:11.356Z"
   },
   {
    "duration": 90,
    "start_time": "2023-10-25T09:29:33.560Z"
   },
   {
    "duration": 8,
    "start_time": "2023-10-25T09:29:33.896Z"
   },
   {
    "duration": 7,
    "start_time": "2023-10-25T09:29:34.557Z"
   },
   {
    "duration": 282,
    "start_time": "2023-10-25T09:29:46.259Z"
   },
   {
    "duration": 45,
    "start_time": "2023-10-25T09:30:06.104Z"
   },
   {
    "duration": 8,
    "start_time": "2023-10-25T09:30:09.888Z"
   },
   {
    "duration": 5,
    "start_time": "2023-10-25T09:32:41.708Z"
   },
   {
    "duration": 6,
    "start_time": "2023-10-25T09:34:50.147Z"
   },
   {
    "duration": 359,
    "start_time": "2023-10-25T09:35:00.692Z"
   },
   {
    "duration": 151,
    "start_time": "2023-10-25T09:35:03.297Z"
   },
   {
    "duration": 7,
    "start_time": "2023-10-25T09:35:29.294Z"
   },
   {
    "duration": 144,
    "start_time": "2023-10-25T09:35:58.843Z"
   },
   {
    "duration": 4,
    "start_time": "2023-10-25T09:36:20.341Z"
   },
   {
    "duration": 246,
    "start_time": "2023-10-25T09:36:23.211Z"
   },
   {
    "duration": 265,
    "start_time": "2023-10-25T09:37:17.182Z"
   },
   {
    "duration": 10,
    "start_time": "2023-10-25T09:37:27.879Z"
   },
   {
    "duration": 3,
    "start_time": "2023-10-25T09:38:22.053Z"
   },
   {
    "duration": 4,
    "start_time": "2023-10-25T09:38:25.604Z"
   },
   {
    "duration": 189,
    "start_time": "2023-10-25T09:38:34.660Z"
   },
   {
    "duration": 6,
    "start_time": "2023-10-25T09:38:36.349Z"
   },
   {
    "duration": 9,
    "start_time": "2023-10-25T09:38:42.798Z"
   },
   {
    "duration": 6,
    "start_time": "2023-10-25T09:38:54.260Z"
   },
   {
    "duration": 1044,
    "start_time": "2023-10-25T09:38:55.096Z"
   },
   {
    "duration": 10,
    "start_time": "2023-10-25T09:39:01.653Z"
   },
   {
    "duration": 91,
    "start_time": "2023-10-25T09:39:03.753Z"
   },
   {
    "duration": 7,
    "start_time": "2023-10-25T09:39:04.323Z"
   },
   {
    "duration": 8,
    "start_time": "2023-10-25T09:40:54.237Z"
   },
   {
    "duration": 90,
    "start_time": "2023-10-25T09:40:57.163Z"
   },
   {
    "duration": 161,
    "start_time": "2023-10-25T09:40:59.054Z"
   },
   {
    "duration": 169,
    "start_time": "2023-10-25T09:41:06.042Z"
   },
   {
    "duration": 8,
    "start_time": "2023-10-25T09:41:11.380Z"
   },
   {
    "duration": 160,
    "start_time": "2023-10-25T09:41:13.926Z"
   },
   {
    "duration": 10,
    "start_time": "2023-10-25T09:41:16.315Z"
   },
   {
    "duration": 168,
    "start_time": "2023-10-25T09:41:20.405Z"
   },
   {
    "duration": 192,
    "start_time": "2023-10-25T09:41:45.448Z"
   },
   {
    "duration": 10,
    "start_time": "2023-10-25T09:41:52.704Z"
   },
   {
    "duration": 5,
    "start_time": "2023-10-25T09:41:59.014Z"
   },
   {
    "duration": 209,
    "start_time": "2023-10-25T09:42:00.937Z"
   },
   {
    "duration": 7,
    "start_time": "2023-10-25T09:42:06.811Z"
   },
   {
    "duration": 4,
    "start_time": "2023-10-25T09:43:12.765Z"
   },
   {
    "duration": 215,
    "start_time": "2023-10-25T09:44:33.228Z"
   },
   {
    "duration": 151,
    "start_time": "2023-10-25T09:44:38.636Z"
   },
   {
    "duration": 8,
    "start_time": "2023-10-25T09:45:53.187Z"
   },
   {
    "duration": 1910,
    "start_time": "2023-10-25T09:55:02.019Z"
   },
   {
    "duration": 146,
    "start_time": "2023-10-25T09:55:08.979Z"
   },
   {
    "duration": 9,
    "start_time": "2023-10-25T09:56:18.153Z"
   },
   {
    "duration": 74,
    "start_time": "2023-10-25T09:57:40.404Z"
   },
   {
    "duration": 143,
    "start_time": "2023-10-25T09:57:54.547Z"
   },
   {
    "duration": 13,
    "start_time": "2023-10-25T10:01:02.513Z"
   },
   {
    "duration": 144,
    "start_time": "2023-10-25T10:01:05.165Z"
   },
   {
    "duration": 215,
    "start_time": "2023-10-25T10:09:40.725Z"
   },
   {
    "duration": 10,
    "start_time": "2023-10-25T10:11:16.015Z"
   },
   {
    "duration": 191,
    "start_time": "2023-10-25T10:11:22.528Z"
   },
   {
    "duration": 79,
    "start_time": "2023-10-25T10:12:09.063Z"
   },
   {
    "duration": 11,
    "start_time": "2023-10-25T10:12:17.418Z"
   },
   {
    "duration": 6,
    "start_time": "2023-10-25T10:12:51.559Z"
   },
   {
    "duration": 39,
    "start_time": "2023-10-25T10:13:48.167Z"
   },
   {
    "duration": 218,
    "start_time": "2023-10-25T10:13:53.536Z"
   },
   {
    "duration": 8,
    "start_time": "2023-10-25T10:16:51.444Z"
   },
   {
    "duration": 202,
    "start_time": "2023-10-25T10:17:04.929Z"
   },
   {
    "duration": 8,
    "start_time": "2023-10-25T10:17:05.561Z"
   },
   {
    "duration": 161,
    "start_time": "2023-10-25T10:17:09.743Z"
   },
   {
    "duration": 1274,
    "start_time": "2023-10-25T10:18:56.950Z"
   },
   {
    "duration": 41,
    "start_time": "2023-10-25T10:18:58.225Z"
   },
   {
    "duration": 14,
    "start_time": "2023-10-25T10:18:58.267Z"
   },
   {
    "duration": 18,
    "start_time": "2023-10-25T10:18:58.283Z"
   },
   {
    "duration": 32,
    "start_time": "2023-10-25T10:18:58.303Z"
   },
   {
    "duration": 1601,
    "start_time": "2023-10-25T10:18:58.336Z"
   },
   {
    "duration": 148,
    "start_time": "2023-10-25T10:18:59.939Z"
   },
   {
    "duration": 7,
    "start_time": "2023-10-25T10:19:00.089Z"
   },
   {
    "duration": 37,
    "start_time": "2023-10-25T10:19:00.097Z"
   },
   {
    "duration": 12,
    "start_time": "2023-10-25T10:19:00.136Z"
   },
   {
    "duration": 23,
    "start_time": "2023-10-25T10:19:00.149Z"
   },
   {
    "duration": 14,
    "start_time": "2023-10-25T10:19:00.174Z"
   },
   {
    "duration": 28,
    "start_time": "2023-10-25T10:19:00.190Z"
   },
   {
    "duration": 27,
    "start_time": "2023-10-25T10:19:00.219Z"
   },
   {
    "duration": 38,
    "start_time": "2023-10-25T10:19:00.247Z"
   },
   {
    "duration": 31,
    "start_time": "2023-10-25T10:19:00.286Z"
   },
   {
    "duration": 27,
    "start_time": "2023-10-25T10:19:00.319Z"
   },
   {
    "duration": 66,
    "start_time": "2023-10-25T10:19:00.347Z"
   },
   {
    "duration": 40,
    "start_time": "2023-10-25T10:19:00.415Z"
   },
   {
    "duration": 41,
    "start_time": "2023-10-25T10:19:00.456Z"
   },
   {
    "duration": 37,
    "start_time": "2023-10-25T10:19:00.498Z"
   },
   {
    "duration": 25,
    "start_time": "2023-10-25T10:19:00.536Z"
   },
   {
    "duration": 52,
    "start_time": "2023-10-25T10:19:00.562Z"
   },
   {
    "duration": 52,
    "start_time": "2023-10-25T10:19:00.615Z"
   },
   {
    "duration": 56,
    "start_time": "2023-10-25T10:19:00.668Z"
   },
   {
    "duration": 26,
    "start_time": "2023-10-25T10:19:00.726Z"
   },
   {
    "duration": 28,
    "start_time": "2023-10-25T10:19:00.753Z"
   },
   {
    "duration": 34,
    "start_time": "2023-10-25T10:19:00.784Z"
   },
   {
    "duration": 27,
    "start_time": "2023-10-25T10:19:00.819Z"
   },
   {
    "duration": 59,
    "start_time": "2023-10-25T10:19:00.848Z"
   },
   {
    "duration": 61,
    "start_time": "2023-10-25T10:19:00.909Z"
   },
   {
    "duration": 14,
    "start_time": "2023-10-25T10:19:00.971Z"
   },
   {
    "duration": 51,
    "start_time": "2023-10-25T10:19:00.987Z"
   },
   {
    "duration": 141,
    "start_time": "2023-10-25T10:19:01.039Z"
   },
   {
    "duration": 56,
    "start_time": "2023-10-25T10:19:01.181Z"
   },
   {
    "duration": 109,
    "start_time": "2023-10-25T10:19:01.238Z"
   },
   {
    "duration": 349,
    "start_time": "2023-10-25T10:19:01.348Z"
   },
   {
    "duration": 183,
    "start_time": "2023-10-25T10:19:01.698Z"
   },
   {
    "duration": 160,
    "start_time": "2023-10-25T10:19:01.882Z"
   },
   {
    "duration": 1888,
    "start_time": "2023-10-25T10:19:02.044Z"
   },
   {
    "duration": 150,
    "start_time": "2023-10-25T10:19:03.934Z"
   },
   {
    "duration": 10,
    "start_time": "2023-10-25T10:19:04.085Z"
   },
   {
    "duration": 158,
    "start_time": "2023-10-25T10:19:04.096Z"
   },
   {
    "duration": 95,
    "start_time": "2023-10-25T10:19:04.255Z"
   },
   {
    "duration": 340,
    "start_time": "2023-10-25T10:19:04.351Z"
   },
   {
    "duration": 28,
    "start_time": "2023-10-25T10:19:04.693Z"
   },
   {
    "duration": 167,
    "start_time": "2023-10-25T10:19:04.722Z"
   },
   {
    "duration": 192,
    "start_time": "2023-10-25T10:19:04.890Z"
   },
   {
    "duration": 158,
    "start_time": "2023-10-25T10:19:05.083Z"
   },
   {
    "duration": 11,
    "start_time": "2023-10-25T10:20:05.500Z"
   },
   {
    "duration": 1567,
    "start_time": "2023-10-25T19:12:36.123Z"
   },
   {
    "duration": 138,
    "start_time": "2023-10-25T19:16:24.916Z"
   },
   {
    "duration": 1449,
    "start_time": "2023-10-25T19:16:34.320Z"
   },
   {
    "duration": 86,
    "start_time": "2023-10-25T19:16:35.771Z"
   },
   {
    "duration": 18,
    "start_time": "2023-10-25T19:16:35.859Z"
   },
   {
    "duration": 38,
    "start_time": "2023-10-25T19:16:35.879Z"
   },
   {
    "duration": 37,
    "start_time": "2023-10-25T19:16:35.919Z"
   },
   {
    "duration": 1817,
    "start_time": "2023-10-25T19:16:35.958Z"
   },
   {
    "duration": 158,
    "start_time": "2023-10-25T19:16:37.777Z"
   },
   {
    "duration": 10,
    "start_time": "2023-10-25T19:16:37.937Z"
   },
   {
    "duration": 5,
    "start_time": "2023-10-25T19:16:37.949Z"
   },
   {
    "duration": 7,
    "start_time": "2023-10-25T19:16:37.957Z"
   },
   {
    "duration": 20,
    "start_time": "2023-10-25T19:16:37.965Z"
   },
   {
    "duration": 7,
    "start_time": "2023-10-25T19:16:37.987Z"
   },
   {
    "duration": 13,
    "start_time": "2023-10-25T19:16:37.996Z"
   },
   {
    "duration": 15,
    "start_time": "2023-10-25T19:16:38.010Z"
   },
   {
    "duration": 25,
    "start_time": "2023-10-25T19:16:38.027Z"
   },
   {
    "duration": 10,
    "start_time": "2023-10-25T19:16:38.054Z"
   },
   {
    "duration": 25,
    "start_time": "2023-10-25T19:16:38.065Z"
   },
   {
    "duration": 15,
    "start_time": "2023-10-25T19:16:38.092Z"
   },
   {
    "duration": 7,
    "start_time": "2023-10-25T19:16:38.109Z"
   },
   {
    "duration": 20,
    "start_time": "2023-10-25T19:16:38.118Z"
   },
   {
    "duration": 50,
    "start_time": "2023-10-25T19:16:38.140Z"
   },
   {
    "duration": 13,
    "start_time": "2023-10-25T19:16:38.194Z"
   },
   {
    "duration": 22,
    "start_time": "2023-10-25T19:16:38.209Z"
   },
   {
    "duration": 35,
    "start_time": "2023-10-25T19:16:38.233Z"
   },
   {
    "duration": 28,
    "start_time": "2023-10-25T19:16:38.270Z"
   },
   {
    "duration": 45,
    "start_time": "2023-10-25T19:16:38.299Z"
   },
   {
    "duration": 19,
    "start_time": "2023-10-25T19:16:38.346Z"
   },
   {
    "duration": 43,
    "start_time": "2023-10-25T19:16:38.368Z"
   },
   {
    "duration": 38,
    "start_time": "2023-10-25T19:16:38.413Z"
   },
   {
    "duration": 36,
    "start_time": "2023-10-25T19:16:38.454Z"
   },
   {
    "duration": 23,
    "start_time": "2023-10-25T19:16:38.492Z"
   },
   {
    "duration": 21,
    "start_time": "2023-10-25T19:16:38.516Z"
   },
   {
    "duration": 29,
    "start_time": "2023-10-25T19:16:38.539Z"
   },
   {
    "duration": 40,
    "start_time": "2023-10-25T19:16:38.570Z"
   },
   {
    "duration": 44,
    "start_time": "2023-10-25T19:16:38.612Z"
   },
   {
    "duration": 188,
    "start_time": "2023-10-25T19:16:38.657Z"
   },
   {
    "duration": 270,
    "start_time": "2023-10-25T19:16:38.847Z"
   },
   {
    "duration": 170,
    "start_time": "2023-10-25T19:16:39.119Z"
   },
   {
    "duration": 168,
    "start_time": "2023-10-25T19:16:39.291Z"
   },
   {
    "duration": 1838,
    "start_time": "2023-10-25T19:16:39.461Z"
   },
   {
    "duration": 174,
    "start_time": "2023-10-25T19:16:41.301Z"
   },
   {
    "duration": 12,
    "start_time": "2023-10-25T19:16:41.477Z"
   },
   {
    "duration": 182,
    "start_time": "2023-10-25T19:16:41.490Z"
   },
   {
    "duration": 77,
    "start_time": "2023-10-25T19:16:41.674Z"
   },
   {
    "duration": 348,
    "start_time": "2023-10-25T19:16:41.753Z"
   },
   {
    "duration": 30,
    "start_time": "2023-10-25T19:16:42.103Z"
   },
   {
    "duration": 201,
    "start_time": "2023-10-25T19:16:42.144Z"
   },
   {
    "duration": 230,
    "start_time": "2023-10-25T19:16:42.347Z"
   },
   {
    "duration": 203,
    "start_time": "2023-10-25T19:16:42.579Z"
   },
   {
    "duration": 7,
    "start_time": "2023-10-25T19:16:42.785Z"
   },
   {
    "duration": 118,
    "start_time": "2023-10-25T19:17:32.013Z"
   },
   {
    "duration": 8,
    "start_time": "2023-10-25T19:17:35.209Z"
   },
   {
    "duration": 8,
    "start_time": "2023-10-25T19:18:24.138Z"
   },
   {
    "duration": 8,
    "start_time": "2023-10-25T19:19:02.187Z"
   },
   {
    "duration": 7,
    "start_time": "2023-10-25T19:19:17.834Z"
   },
   {
    "duration": 11,
    "start_time": "2023-10-25T19:20:01.014Z"
   },
   {
    "duration": 10,
    "start_time": "2023-10-25T19:20:12.915Z"
   },
   {
    "duration": 29,
    "start_time": "2023-10-25T19:23:47.836Z"
   },
   {
    "duration": 9,
    "start_time": "2023-10-25T19:23:58.630Z"
   },
   {
    "duration": 26,
    "start_time": "2023-10-25T19:24:02.219Z"
   },
   {
    "duration": 9,
    "start_time": "2023-10-25T19:25:04.600Z"
   },
   {
    "duration": 16,
    "start_time": "2023-10-25T19:25:08.111Z"
   },
   {
    "duration": 6,
    "start_time": "2023-10-25T19:26:00.088Z"
   },
   {
    "duration": 10,
    "start_time": "2023-10-25T19:27:27.621Z"
   },
   {
    "duration": 16,
    "start_time": "2023-10-25T19:27:31.475Z"
   },
   {
    "duration": 5,
    "start_time": "2023-10-25T19:27:36.699Z"
   },
   {
    "duration": 11,
    "start_time": "2023-10-25T19:28:55.791Z"
   },
   {
    "duration": 11,
    "start_time": "2023-10-25T19:29:05.918Z"
   },
   {
    "duration": 105,
    "start_time": "2023-10-25T19:29:30.661Z"
   },
   {
    "duration": 11,
    "start_time": "2023-10-25T19:29:32.913Z"
   },
   {
    "duration": 23,
    "start_time": "2023-10-25T19:31:01.843Z"
   },
   {
    "duration": 12,
    "start_time": "2023-10-25T19:31:40.617Z"
   },
   {
    "duration": 17,
    "start_time": "2023-10-25T19:31:51.322Z"
   },
   {
    "duration": 13,
    "start_time": "2023-10-25T19:32:13.964Z"
   },
   {
    "duration": 19,
    "start_time": "2023-10-25T19:32:38.543Z"
   },
   {
    "duration": 16,
    "start_time": "2023-10-25T19:32:53.781Z"
   },
   {
    "duration": 448,
    "start_time": "2023-10-25T19:37:59.399Z"
   },
   {
    "duration": 174,
    "start_time": "2023-10-25T19:38:27.267Z"
   },
   {
    "duration": 34,
    "start_time": "2023-10-25T19:38:31.416Z"
   },
   {
    "duration": 181,
    "start_time": "2023-10-25T19:38:35.624Z"
   },
   {
    "duration": 289,
    "start_time": "2023-10-25T19:38:44.572Z"
   },
   {
    "duration": 255,
    "start_time": "2023-10-25T19:38:45.981Z"
   },
   {
    "duration": 382,
    "start_time": "2023-10-25T19:39:12.868Z"
   },
   {
    "duration": 501,
    "start_time": "2023-10-25T19:39:18.196Z"
   },
   {
    "duration": 645,
    "start_time": "2023-10-25T19:39:23.268Z"
   },
   {
    "duration": 368,
    "start_time": "2023-10-25T19:39:29.308Z"
   },
   {
    "duration": 286,
    "start_time": "2023-10-25T19:39:33.435Z"
   },
   {
    "duration": 376,
    "start_time": "2023-10-25T19:39:36.206Z"
   },
   {
    "duration": 314,
    "start_time": "2023-10-25T19:39:39.095Z"
   },
   {
    "duration": 457,
    "start_time": "2023-10-25T19:39:42.311Z"
   },
   {
    "duration": 512,
    "start_time": "2023-10-25T19:39:45.883Z"
   },
   {
    "duration": 623,
    "start_time": "2023-10-25T19:39:50.613Z"
   },
   {
    "duration": 311,
    "start_time": "2023-10-25T19:39:54.663Z"
   },
   {
    "duration": 330,
    "start_time": "2023-10-25T19:40:00.739Z"
   },
   {
    "duration": 360,
    "start_time": "2023-10-25T19:40:06.895Z"
   },
   {
    "duration": 415,
    "start_time": "2023-10-25T19:40:10.191Z"
   },
   {
    "duration": 393,
    "start_time": "2023-10-25T19:40:12.887Z"
   },
   {
    "duration": 168,
    "start_time": "2023-10-25T19:40:17.700Z"
   },
   {
    "duration": 184,
    "start_time": "2023-10-25T19:40:20.367Z"
   },
   {
    "duration": 272,
    "start_time": "2023-10-25T19:40:27.931Z"
   },
   {
    "duration": 301,
    "start_time": "2023-10-25T19:40:30.536Z"
   },
   {
    "duration": 306,
    "start_time": "2023-10-25T19:40:32.726Z"
   },
   {
    "duration": 350,
    "start_time": "2023-10-25T19:40:34.726Z"
   },
   {
    "duration": 391,
    "start_time": "2023-10-25T19:40:37.040Z"
   },
   {
    "duration": 440,
    "start_time": "2023-10-25T19:40:40.100Z"
   },
   {
    "duration": 412,
    "start_time": "2023-10-25T19:40:42.846Z"
   },
   {
    "duration": 438,
    "start_time": "2023-10-25T19:40:45.920Z"
   },
   {
    "duration": 378,
    "start_time": "2023-10-25T19:40:49.041Z"
   },
   {
    "duration": 347,
    "start_time": "2023-10-25T19:40:51.959Z"
   },
   {
    "duration": 509,
    "start_time": "2023-10-25T19:40:55.256Z"
   },
   {
    "duration": 660,
    "start_time": "2023-10-25T19:40:58.627Z"
   },
   {
    "duration": 632,
    "start_time": "2023-10-25T19:41:02.830Z"
   },
   {
    "duration": 426,
    "start_time": "2023-10-25T19:41:06.404Z"
   },
   {
    "duration": 481,
    "start_time": "2023-10-25T19:41:11.107Z"
   },
   {
    "duration": 518,
    "start_time": "2023-10-25T19:41:15.924Z"
   },
   {
    "duration": 493,
    "start_time": "2023-10-25T19:41:20.304Z"
   },
   {
    "duration": 387,
    "start_time": "2023-10-25T19:41:24.500Z"
   },
   {
    "duration": 254,
    "start_time": "2023-10-25T19:41:32.529Z"
   },
   {
    "duration": 188,
    "start_time": "2023-10-25T19:43:48.318Z"
   },
   {
    "duration": 209,
    "start_time": "2023-10-25T19:45:14.708Z"
   },
   {
    "duration": 263,
    "start_time": "2023-10-25T19:45:37.899Z"
   },
   {
    "duration": 316,
    "start_time": "2023-10-25T19:45:58.500Z"
   },
   {
    "duration": 397,
    "start_time": "2023-10-25T19:46:03.221Z"
   },
   {
    "duration": 30,
    "start_time": "2023-10-25T19:46:45.663Z"
   },
   {
    "duration": 49,
    "start_time": "2023-10-25T19:46:53.238Z"
   },
   {
    "duration": 42,
    "start_time": "2023-10-25T19:46:56.422Z"
   },
   {
    "duration": 42,
    "start_time": "2023-10-25T19:46:58.966Z"
   },
   {
    "duration": 33,
    "start_time": "2023-10-25T19:47:02.362Z"
   },
   {
    "duration": 40,
    "start_time": "2023-10-25T19:47:06.128Z"
   },
   {
    "duration": 27,
    "start_time": "2023-10-25T19:47:08.866Z"
   },
   {
    "duration": 30,
    "start_time": "2023-10-25T19:47:11.214Z"
   },
   {
    "duration": 1702,
    "start_time": "2023-10-25T19:47:23.995Z"
   },
   {
    "duration": 49,
    "start_time": "2023-10-25T19:47:25.699Z"
   },
   {
    "duration": 23,
    "start_time": "2023-10-25T19:47:25.757Z"
   },
   {
    "duration": 13,
    "start_time": "2023-10-25T19:47:25.782Z"
   },
   {
    "duration": 59,
    "start_time": "2023-10-25T19:47:25.797Z"
   },
   {
    "duration": 2661,
    "start_time": "2023-10-25T19:47:25.858Z"
   },
   {
    "duration": 276,
    "start_time": "2023-10-25T19:47:28.523Z"
   },
   {
    "duration": 12,
    "start_time": "2023-10-25T19:47:28.801Z"
   },
   {
    "duration": 18,
    "start_time": "2023-10-25T19:47:28.815Z"
   },
   {
    "duration": 23,
    "start_time": "2023-10-25T19:47:28.836Z"
   },
   {
    "duration": 23,
    "start_time": "2023-10-25T19:47:28.861Z"
   },
   {
    "duration": 7,
    "start_time": "2023-10-25T19:47:28.886Z"
   },
   {
    "duration": 26,
    "start_time": "2023-10-25T19:47:28.896Z"
   },
   {
    "duration": 56,
    "start_time": "2023-10-25T19:47:28.924Z"
   },
   {
    "duration": 15,
    "start_time": "2023-10-25T19:47:28.982Z"
   },
   {
    "duration": 14,
    "start_time": "2023-10-25T19:47:28.999Z"
   },
   {
    "duration": 8,
    "start_time": "2023-10-25T19:47:29.016Z"
   },
   {
    "duration": 9,
    "start_time": "2023-10-25T19:47:29.026Z"
   },
   {
    "duration": 20,
    "start_time": "2023-10-25T19:47:29.038Z"
   },
   {
    "duration": 17,
    "start_time": "2023-10-25T19:47:29.060Z"
   },
   {
    "duration": 25,
    "start_time": "2023-10-25T19:47:29.081Z"
   },
   {
    "duration": 13,
    "start_time": "2023-10-25T19:47:29.107Z"
   },
   {
    "duration": 19,
    "start_time": "2023-10-25T19:47:29.121Z"
   },
   {
    "duration": 17,
    "start_time": "2023-10-25T19:47:29.141Z"
   },
   {
    "duration": 7,
    "start_time": "2023-10-25T19:47:29.160Z"
   },
   {
    "duration": 11,
    "start_time": "2023-10-25T19:47:29.173Z"
   },
   {
    "duration": 8,
    "start_time": "2023-10-25T19:47:29.186Z"
   },
   {
    "duration": 20,
    "start_time": "2023-10-25T19:47:29.197Z"
   },
   {
    "duration": 11,
    "start_time": "2023-10-25T19:47:29.219Z"
   },
   {
    "duration": 27,
    "start_time": "2023-10-25T19:47:29.247Z"
   },
   {
    "duration": 31,
    "start_time": "2023-10-25T19:47:29.277Z"
   },
   {
    "duration": 8,
    "start_time": "2023-10-25T19:47:29.311Z"
   },
   {
    "duration": 24,
    "start_time": "2023-10-25T19:47:29.320Z"
   },
   {
    "duration": 9,
    "start_time": "2023-10-25T19:47:29.346Z"
   },
   {
    "duration": 20,
    "start_time": "2023-10-25T19:47:29.357Z"
   },
   {
    "duration": 286,
    "start_time": "2023-10-25T19:47:29.380Z"
   },
   {
    "duration": 343,
    "start_time": "2023-10-25T19:47:29.682Z"
   },
   {
    "duration": 215,
    "start_time": "2023-10-25T19:47:30.027Z"
   },
   {
    "duration": 219,
    "start_time": "2023-10-25T19:47:30.244Z"
   },
   {
    "duration": 2071,
    "start_time": "2023-10-25T19:47:30.465Z"
   },
   {
    "duration": 185,
    "start_time": "2023-10-25T19:47:32.538Z"
   },
   {
    "duration": 23,
    "start_time": "2023-10-25T19:47:32.725Z"
   },
   {
    "duration": 188,
    "start_time": "2023-10-25T19:47:32.749Z"
   },
   {
    "duration": 241,
    "start_time": "2023-10-25T19:47:32.945Z"
   },
   {
    "duration": 297,
    "start_time": "2023-10-25T19:47:33.191Z"
   },
   {
    "duration": 27,
    "start_time": "2023-10-25T19:47:33.490Z"
   },
   {
    "duration": 217,
    "start_time": "2023-10-25T19:47:33.519Z"
   },
   {
    "duration": 250,
    "start_time": "2023-10-25T19:47:33.738Z"
   },
   {
    "duration": 225,
    "start_time": "2023-10-25T19:47:33.990Z"
   },
   {
    "duration": 8,
    "start_time": "2023-10-25T19:47:34.217Z"
   },
   {
    "duration": 86,
    "start_time": "2023-10-25T19:47:34.227Z"
   },
   {
    "duration": 443,
    "start_time": "2023-10-25T19:47:34.315Z"
   },
   {
    "duration": 346,
    "start_time": "2023-10-25T19:47:34.759Z"
   },
   {
    "duration": 46,
    "start_time": "2023-10-25T19:47:35.107Z"
   },
   {
    "duration": 209,
    "start_time": "2023-10-25T19:47:35.156Z"
   },
   {
    "duration": 276,
    "start_time": "2023-10-25T19:47:35.367Z"
   },
   {
    "duration": 312,
    "start_time": "2023-10-25T19:47:35.645Z"
   },
   {
    "duration": 329,
    "start_time": "2023-10-25T19:48:03.104Z"
   },
   {
    "duration": 406,
    "start_time": "2023-10-25T19:48:05.996Z"
   },
   {
    "duration": 204,
    "start_time": "2023-10-25T19:48:09.222Z"
   },
   {
    "duration": 267,
    "start_time": "2023-10-25T19:48:12.764Z"
   },
   {
    "duration": 208,
    "start_time": "2023-10-25T19:48:16.034Z"
   },
   {
    "duration": 12,
    "start_time": "2023-10-25T19:49:38.692Z"
   },
   {
    "duration": 904,
    "start_time": "2023-10-25T19:49:40.141Z"
   },
   {
    "duration": 178,
    "start_time": "2023-10-25T19:49:42.016Z"
   },
   {
    "duration": 35,
    "start_time": "2023-10-25T19:49:43.564Z"
   },
   {
    "duration": 184,
    "start_time": "2023-10-25T19:49:45.112Z"
   },
   {
    "duration": 234,
    "start_time": "2023-10-25T19:49:47.495Z"
   },
   {
    "duration": 187,
    "start_time": "2023-10-25T19:49:52.813Z"
   },
   {
    "duration": 1656,
    "start_time": "2023-10-25T19:51:08.660Z"
   },
   {
    "duration": 57,
    "start_time": "2023-10-25T19:51:10.318Z"
   },
   {
    "duration": 17,
    "start_time": "2023-10-25T19:51:10.376Z"
   },
   {
    "duration": 12,
    "start_time": "2023-10-25T19:51:10.395Z"
   },
   {
    "duration": 55,
    "start_time": "2023-10-25T19:51:10.409Z"
   },
   {
    "duration": 2029,
    "start_time": "2023-10-25T19:51:10.466Z"
   },
   {
    "duration": 184,
    "start_time": "2023-10-25T19:51:12.497Z"
   },
   {
    "duration": 9,
    "start_time": "2023-10-25T19:51:12.683Z"
   },
   {
    "duration": 4,
    "start_time": "2023-10-25T19:51:12.694Z"
   },
   {
    "duration": 5,
    "start_time": "2023-10-25T19:51:12.700Z"
   },
   {
    "duration": 24,
    "start_time": "2023-10-25T19:51:12.707Z"
   },
   {
    "duration": 15,
    "start_time": "2023-10-25T19:51:12.732Z"
   },
   {
    "duration": 7,
    "start_time": "2023-10-25T19:51:12.756Z"
   },
   {
    "duration": 19,
    "start_time": "2023-10-25T19:51:12.766Z"
   },
   {
    "duration": 12,
    "start_time": "2023-10-25T19:51:12.786Z"
   },
   {
    "duration": 11,
    "start_time": "2023-10-25T19:51:12.800Z"
   },
   {
    "duration": 8,
    "start_time": "2023-10-25T19:51:12.812Z"
   },
   {
    "duration": 9,
    "start_time": "2023-10-25T19:51:12.822Z"
   },
   {
    "duration": 35,
    "start_time": "2023-10-25T19:51:12.832Z"
   },
   {
    "duration": 11,
    "start_time": "2023-10-25T19:51:12.868Z"
   },
   {
    "duration": 20,
    "start_time": "2023-10-25T19:51:12.881Z"
   },
   {
    "duration": 10,
    "start_time": "2023-10-25T19:51:12.902Z"
   },
   {
    "duration": 10,
    "start_time": "2023-10-25T19:51:12.914Z"
   },
   {
    "duration": 9,
    "start_time": "2023-10-25T19:51:12.926Z"
   },
   {
    "duration": 24,
    "start_time": "2023-10-25T19:51:12.937Z"
   },
   {
    "duration": 11,
    "start_time": "2023-10-25T19:51:12.968Z"
   },
   {
    "duration": 4,
    "start_time": "2023-10-25T19:51:12.981Z"
   },
   {
    "duration": 30,
    "start_time": "2023-10-25T19:51:12.986Z"
   },
   {
    "duration": 12,
    "start_time": "2023-10-25T19:51:13.018Z"
   },
   {
    "duration": 43,
    "start_time": "2023-10-25T19:51:13.031Z"
   },
   {
    "duration": 20,
    "start_time": "2023-10-25T19:51:13.081Z"
   },
   {
    "duration": 5,
    "start_time": "2023-10-25T19:51:13.103Z"
   },
   {
    "duration": 15,
    "start_time": "2023-10-25T19:51:13.109Z"
   },
   {
    "duration": 14,
    "start_time": "2023-10-25T19:51:13.126Z"
   },
   {
    "duration": 15,
    "start_time": "2023-10-25T19:51:13.142Z"
   },
   {
    "duration": 311,
    "start_time": "2023-10-25T19:51:13.159Z"
   },
   {
    "duration": 257,
    "start_time": "2023-10-25T19:51:13.471Z"
   },
   {
    "duration": 330,
    "start_time": "2023-10-25T19:51:13.730Z"
   },
   {
    "duration": 159,
    "start_time": "2023-10-25T19:51:14.066Z"
   },
   {
    "duration": 5052,
    "start_time": "2023-10-25T19:51:14.228Z"
   },
   {
    "duration": 204,
    "start_time": "2023-10-25T19:51:19.284Z"
   },
   {
    "duration": 11,
    "start_time": "2023-10-25T19:51:19.491Z"
   },
   {
    "duration": 188,
    "start_time": "2023-10-25T19:51:19.504Z"
   },
   {
    "duration": 586,
    "start_time": "2023-10-25T19:51:19.694Z"
   },
   {
    "duration": 281,
    "start_time": "2023-10-25T19:51:20.347Z"
   },
   {
    "duration": 41,
    "start_time": "2023-10-25T19:51:20.630Z"
   },
   {
    "duration": 188,
    "start_time": "2023-10-25T19:51:20.672Z"
   },
   {
    "duration": 201,
    "start_time": "2023-10-25T19:51:20.862Z"
   },
   {
    "duration": 197,
    "start_time": "2023-10-25T19:51:21.067Z"
   },
   {
    "duration": 9,
    "start_time": "2023-10-25T19:51:21.270Z"
   },
   {
    "duration": 22,
    "start_time": "2023-10-25T19:51:21.281Z"
   },
   {
    "duration": 673,
    "start_time": "2023-10-25T19:51:21.304Z"
   },
   {
    "duration": 252,
    "start_time": "2023-10-25T19:51:21.979Z"
   },
   {
    "duration": 47,
    "start_time": "2023-10-25T19:51:22.233Z"
   },
   {
    "duration": 204,
    "start_time": "2023-10-25T19:51:22.281Z"
   },
   {
    "duration": 260,
    "start_time": "2023-10-25T19:51:22.486Z"
   },
   {
    "duration": 280,
    "start_time": "2023-10-25T19:51:22.752Z"
   },
   {
    "duration": 1493,
    "start_time": "2023-10-25T19:52:37.126Z"
   },
   {
    "duration": 62,
    "start_time": "2023-10-25T19:52:38.621Z"
   },
   {
    "duration": 20,
    "start_time": "2023-10-25T19:52:38.685Z"
   },
   {
    "duration": 16,
    "start_time": "2023-10-25T19:52:38.708Z"
   },
   {
    "duration": 64,
    "start_time": "2023-10-25T19:52:38.725Z"
   },
   {
    "duration": 2080,
    "start_time": "2023-10-25T19:52:38.791Z"
   },
   {
    "duration": 183,
    "start_time": "2023-10-25T19:52:40.873Z"
   },
   {
    "duration": 14,
    "start_time": "2023-10-25T19:52:41.058Z"
   },
   {
    "duration": 6,
    "start_time": "2023-10-25T19:52:41.074Z"
   },
   {
    "duration": 3,
    "start_time": "2023-10-25T19:52:41.083Z"
   },
   {
    "duration": 9,
    "start_time": "2023-10-25T19:52:41.088Z"
   },
   {
    "duration": 28,
    "start_time": "2023-10-25T19:52:41.099Z"
   },
   {
    "duration": 11,
    "start_time": "2023-10-25T19:52:41.129Z"
   },
   {
    "duration": 20,
    "start_time": "2023-10-25T19:52:41.141Z"
   },
   {
    "duration": 32,
    "start_time": "2023-10-25T19:52:41.163Z"
   },
   {
    "duration": 21,
    "start_time": "2023-10-25T19:52:41.197Z"
   },
   {
    "duration": 6,
    "start_time": "2023-10-25T19:52:41.220Z"
   },
   {
    "duration": 4,
    "start_time": "2023-10-25T19:52:41.228Z"
   },
   {
    "duration": 7,
    "start_time": "2023-10-25T19:52:41.233Z"
   },
   {
    "duration": 18,
    "start_time": "2023-10-25T19:52:41.241Z"
   },
   {
    "duration": 22,
    "start_time": "2023-10-25T19:52:41.261Z"
   },
   {
    "duration": 47,
    "start_time": "2023-10-25T19:52:41.284Z"
   },
   {
    "duration": 13,
    "start_time": "2023-10-25T19:52:41.333Z"
   },
   {
    "duration": 18,
    "start_time": "2023-10-25T19:52:41.348Z"
   },
   {
    "duration": 18,
    "start_time": "2023-10-25T19:52:41.368Z"
   },
   {
    "duration": 29,
    "start_time": "2023-10-25T19:52:41.388Z"
   },
   {
    "duration": 29,
    "start_time": "2023-10-25T19:52:41.419Z"
   },
   {
    "duration": 39,
    "start_time": "2023-10-25T19:52:41.453Z"
   },
   {
    "duration": 11,
    "start_time": "2023-10-25T19:52:41.494Z"
   },
   {
    "duration": 30,
    "start_time": "2023-10-25T19:52:41.507Z"
   },
   {
    "duration": 41,
    "start_time": "2023-10-25T19:52:41.539Z"
   },
   {
    "duration": 6,
    "start_time": "2023-10-25T19:52:41.582Z"
   },
   {
    "duration": 20,
    "start_time": "2023-10-25T19:52:41.590Z"
   },
   {
    "duration": 14,
    "start_time": "2023-10-25T19:52:41.611Z"
   },
   {
    "duration": 42,
    "start_time": "2023-10-25T19:52:41.627Z"
   },
   {
    "duration": 280,
    "start_time": "2023-10-25T19:52:41.671Z"
   },
   {
    "duration": 228,
    "start_time": "2023-10-25T19:52:41.956Z"
   },
   {
    "duration": 314,
    "start_time": "2023-10-25T19:52:42.186Z"
   },
   {
    "duration": 229,
    "start_time": "2023-10-25T19:52:42.502Z"
   },
   {
    "duration": 5351,
    "start_time": "2023-10-25T19:52:42.733Z"
   },
   {
    "duration": 226,
    "start_time": "2023-10-25T19:52:48.086Z"
   },
   {
    "duration": 11,
    "start_time": "2023-10-25T19:52:48.313Z"
   },
   {
    "duration": 207,
    "start_time": "2023-10-25T19:52:48.326Z"
   },
   {
    "duration": 312,
    "start_time": "2023-10-25T19:52:48.535Z"
   },
   {
    "duration": 309,
    "start_time": "2023-10-25T19:52:48.859Z"
   },
   {
    "duration": 34,
    "start_time": "2023-10-25T19:52:49.170Z"
   },
   {
    "duration": 221,
    "start_time": "2023-10-25T19:52:49.205Z"
   },
   {
    "duration": 225,
    "start_time": "2023-10-25T19:52:49.428Z"
   },
   {
    "duration": 223,
    "start_time": "2023-10-25T19:52:49.654Z"
   },
   {
    "duration": 13,
    "start_time": "2023-10-25T19:52:49.881Z"
   },
   {
    "duration": 38,
    "start_time": "2023-10-25T19:52:49.896Z"
   },
   {
    "duration": 431,
    "start_time": "2023-10-25T19:52:49.936Z"
   },
   {
    "duration": 286,
    "start_time": "2023-10-25T19:52:50.370Z"
   },
   {
    "duration": 41,
    "start_time": "2023-10-25T19:52:50.658Z"
   },
   {
    "duration": 226,
    "start_time": "2023-10-25T19:52:50.701Z"
   },
   {
    "duration": 305,
    "start_time": "2023-10-25T19:52:50.929Z"
   },
   {
    "duration": 316,
    "start_time": "2023-10-25T19:52:51.236Z"
   },
   {
    "duration": 711,
    "start_time": "2023-10-25T19:53:41.484Z"
   },
   {
    "duration": 930,
    "start_time": "2023-10-25T19:53:56.822Z"
   },
   {
    "duration": 73410,
    "start_time": "2023-10-25T19:56:08.307Z"
   },
   {
    "duration": 345,
    "start_time": "2023-10-25T19:57:41.096Z"
   },
   {
    "duration": 474,
    "start_time": "2023-10-25T19:57:59.792Z"
   },
   {
    "duration": 1404,
    "start_time": "2023-10-25T19:59:38.856Z"
   },
   {
    "duration": 45,
    "start_time": "2023-10-25T19:59:40.262Z"
   },
   {
    "duration": 19,
    "start_time": "2023-10-25T19:59:40.309Z"
   },
   {
    "duration": 27,
    "start_time": "2023-10-25T19:59:40.330Z"
   },
   {
    "duration": 80,
    "start_time": "2023-10-25T19:59:40.359Z"
   },
   {
    "duration": 1837,
    "start_time": "2023-10-25T19:59:40.442Z"
   },
   {
    "duration": 156,
    "start_time": "2023-10-25T19:59:42.281Z"
   },
   {
    "duration": 19,
    "start_time": "2023-10-25T19:59:42.439Z"
   },
   {
    "duration": 7,
    "start_time": "2023-10-25T19:59:42.460Z"
   },
   {
    "duration": 7,
    "start_time": "2023-10-25T19:59:42.469Z"
   },
   {
    "duration": 9,
    "start_time": "2023-10-25T19:59:42.477Z"
   },
   {
    "duration": 5,
    "start_time": "2023-10-25T19:59:42.488Z"
   },
   {
    "duration": 4,
    "start_time": "2023-10-25T19:59:42.495Z"
   },
   {
    "duration": 13,
    "start_time": "2023-10-25T19:59:42.501Z"
   },
   {
    "duration": 37,
    "start_time": "2023-10-25T19:59:42.515Z"
   },
   {
    "duration": 12,
    "start_time": "2023-10-25T19:59:42.556Z"
   },
   {
    "duration": 8,
    "start_time": "2023-10-25T19:59:42.569Z"
   },
   {
    "duration": 9,
    "start_time": "2023-10-25T19:59:42.578Z"
   },
   {
    "duration": 6,
    "start_time": "2023-10-25T19:59:42.588Z"
   },
   {
    "duration": 29,
    "start_time": "2023-10-25T19:59:42.595Z"
   },
   {
    "duration": 33,
    "start_time": "2023-10-25T19:59:42.626Z"
   },
   {
    "duration": 11,
    "start_time": "2023-10-25T19:59:42.660Z"
   },
   {
    "duration": 15,
    "start_time": "2023-10-25T19:59:42.673Z"
   },
   {
    "duration": 18,
    "start_time": "2023-10-25T19:59:42.689Z"
   },
   {
    "duration": 28,
    "start_time": "2023-10-25T19:59:42.708Z"
   },
   {
    "duration": 17,
    "start_time": "2023-10-25T19:59:42.738Z"
   },
   {
    "duration": 23,
    "start_time": "2023-10-25T19:59:42.757Z"
   },
   {
    "duration": 28,
    "start_time": "2023-10-25T19:59:42.783Z"
   },
   {
    "duration": 11,
    "start_time": "2023-10-25T19:59:42.812Z"
   },
   {
    "duration": 18,
    "start_time": "2023-10-25T19:59:42.824Z"
   },
   {
    "duration": 25,
    "start_time": "2023-10-25T19:59:42.850Z"
   },
   {
    "duration": 8,
    "start_time": "2023-10-25T19:59:42.876Z"
   },
   {
    "duration": 13,
    "start_time": "2023-10-25T19:59:42.885Z"
   },
   {
    "duration": 22,
    "start_time": "2023-10-25T19:59:42.899Z"
   },
   {
    "duration": 42,
    "start_time": "2023-10-25T19:59:42.922Z"
   },
   {
    "duration": 399,
    "start_time": "2023-10-25T19:59:42.966Z"
   },
   {
    "duration": 312,
    "start_time": "2023-10-25T19:59:43.367Z"
   },
   {
    "duration": 297,
    "start_time": "2023-10-25T19:59:43.681Z"
   },
   {
    "duration": 181,
    "start_time": "2023-10-25T19:59:43.980Z"
   },
   {
    "duration": 75371,
    "start_time": "2023-10-25T19:59:44.162Z"
   },
   {
    "duration": 188,
    "start_time": "2023-10-25T20:00:59.535Z"
   },
   {
    "duration": 26,
    "start_time": "2023-10-25T20:00:59.726Z"
   },
   {
    "duration": 183,
    "start_time": "2023-10-25T20:00:59.754Z"
   },
   {
    "duration": 408,
    "start_time": "2023-10-25T20:00:59.938Z"
   },
   {
    "duration": 275,
    "start_time": "2023-10-25T20:01:00.349Z"
   },
   {
    "duration": 40,
    "start_time": "2023-10-25T20:01:00.626Z"
   },
   {
    "duration": 238,
    "start_time": "2023-10-25T20:01:00.668Z"
   },
   {
    "duration": 382,
    "start_time": "2023-10-25T20:01:00.907Z"
   },
   {
    "duration": 199,
    "start_time": "2023-10-25T20:01:01.290Z"
   },
   {
    "duration": 9,
    "start_time": "2023-10-25T20:01:01.490Z"
   },
   {
    "duration": 140,
    "start_time": "2023-10-25T20:01:01.501Z"
   },
   {
    "duration": 312,
    "start_time": "2023-10-25T20:01:01.643Z"
   },
   {
    "duration": 270,
    "start_time": "2023-10-25T20:01:02.045Z"
   },
   {
    "duration": 43,
    "start_time": "2023-10-25T20:01:02.317Z"
   },
   {
    "duration": 283,
    "start_time": "2023-10-25T20:01:02.362Z"
   },
   {
    "duration": 451,
    "start_time": "2023-10-25T20:01:02.647Z"
   },
   {
    "duration": 183,
    "start_time": "2023-10-25T20:01:03.100Z"
   },
   {
    "duration": 12,
    "start_time": "2023-10-25T20:03:45.255Z"
   },
   {
    "duration": 832,
    "start_time": "2023-10-25T20:03:46.616Z"
   },
   {
    "duration": 178,
    "start_time": "2023-10-25T20:03:49.244Z"
   },
   {
    "duration": 34,
    "start_time": "2023-10-25T20:03:50.313Z"
   },
   {
    "duration": 171,
    "start_time": "2023-10-25T20:03:51.764Z"
   },
   {
    "duration": 412,
    "start_time": "2023-10-25T20:03:52.820Z"
   },
   {
    "duration": 1413,
    "start_time": "2023-10-25T20:04:25.765Z"
   },
   {
    "duration": 44,
    "start_time": "2023-10-25T20:04:27.179Z"
   },
   {
    "duration": 16,
    "start_time": "2023-10-25T20:04:27.224Z"
   },
   {
    "duration": 27,
    "start_time": "2023-10-25T20:04:27.242Z"
   },
   {
    "duration": 48,
    "start_time": "2023-10-25T20:04:27.271Z"
   },
   {
    "duration": 1815,
    "start_time": "2023-10-25T20:04:27.320Z"
   },
   {
    "duration": 181,
    "start_time": "2023-10-25T20:04:29.137Z"
   },
   {
    "duration": 8,
    "start_time": "2023-10-25T20:04:29.320Z"
   },
   {
    "duration": 14,
    "start_time": "2023-10-25T20:04:29.330Z"
   },
   {
    "duration": 3,
    "start_time": "2023-10-25T20:04:29.347Z"
   },
   {
    "duration": 8,
    "start_time": "2023-10-25T20:04:29.352Z"
   },
   {
    "duration": 9,
    "start_time": "2023-10-25T20:04:29.361Z"
   },
   {
    "duration": 8,
    "start_time": "2023-10-25T20:04:29.371Z"
   },
   {
    "duration": 38,
    "start_time": "2023-10-25T20:04:29.381Z"
   },
   {
    "duration": 27,
    "start_time": "2023-10-25T20:04:29.420Z"
   },
   {
    "duration": 29,
    "start_time": "2023-10-25T20:04:29.449Z"
   },
   {
    "duration": 26,
    "start_time": "2023-10-25T20:04:29.480Z"
   },
   {
    "duration": 21,
    "start_time": "2023-10-25T20:04:29.507Z"
   },
   {
    "duration": 36,
    "start_time": "2023-10-25T20:04:29.530Z"
   },
   {
    "duration": 17,
    "start_time": "2023-10-25T20:04:29.567Z"
   },
   {
    "duration": 31,
    "start_time": "2023-10-25T20:04:29.586Z"
   },
   {
    "duration": 14,
    "start_time": "2023-10-25T20:04:29.618Z"
   },
   {
    "duration": 12,
    "start_time": "2023-10-25T20:04:29.634Z"
   },
   {
    "duration": 10,
    "start_time": "2023-10-25T20:04:29.647Z"
   },
   {
    "duration": 10,
    "start_time": "2023-10-25T20:04:29.658Z"
   },
   {
    "duration": 6,
    "start_time": "2023-10-25T20:04:29.670Z"
   },
   {
    "duration": 16,
    "start_time": "2023-10-25T20:04:29.677Z"
   },
   {
    "duration": 23,
    "start_time": "2023-10-25T20:04:29.696Z"
   },
   {
    "duration": 22,
    "start_time": "2023-10-25T20:04:29.720Z"
   },
   {
    "duration": 29,
    "start_time": "2023-10-25T20:04:29.744Z"
   },
   {
    "duration": 42,
    "start_time": "2023-10-25T20:04:29.775Z"
   },
   {
    "duration": 10,
    "start_time": "2023-10-25T20:04:29.818Z"
   },
   {
    "duration": 28,
    "start_time": "2023-10-25T20:04:29.829Z"
   },
   {
    "duration": 31,
    "start_time": "2023-10-25T20:04:29.859Z"
   },
   {
    "duration": 20,
    "start_time": "2023-10-25T20:04:29.892Z"
   },
   {
    "duration": 333,
    "start_time": "2023-10-25T20:04:29.914Z"
   },
   {
    "duration": 253,
    "start_time": "2023-10-25T20:04:30.250Z"
   },
   {
    "duration": 282,
    "start_time": "2023-10-25T20:04:30.505Z"
   },
   {
    "duration": 167,
    "start_time": "2023-10-25T20:04:30.789Z"
   },
   {
    "duration": 72366,
    "start_time": "2023-10-25T20:04:30.958Z"
   },
   {
    "duration": 172,
    "start_time": "2023-10-25T20:05:43.326Z"
   },
   {
    "duration": 11,
    "start_time": "2023-10-25T20:05:43.500Z"
   },
   {
    "duration": 201,
    "start_time": "2023-10-25T20:05:43.512Z"
   },
   {
    "duration": 336,
    "start_time": "2023-10-25T20:05:43.715Z"
   },
   {
    "duration": 265,
    "start_time": "2023-10-25T20:05:44.057Z"
   },
   {
    "duration": 43,
    "start_time": "2023-10-25T20:05:44.324Z"
   },
   {
    "duration": 251,
    "start_time": "2023-10-25T20:05:44.368Z"
   },
   {
    "duration": 392,
    "start_time": "2023-10-25T20:05:44.621Z"
   },
   {
    "duration": 202,
    "start_time": "2023-10-25T20:05:45.014Z"
   },
   {
    "duration": 42,
    "start_time": "2023-10-25T20:05:45.218Z"
   },
   {
    "duration": 137,
    "start_time": "2023-10-25T20:05:45.262Z"
   },
   {
    "duration": 544,
    "start_time": "2023-10-25T20:05:45.401Z"
   },
   {
    "duration": 202,
    "start_time": "2023-10-25T20:05:45.947Z"
   },
   {
    "duration": 34,
    "start_time": "2023-10-25T20:05:46.151Z"
   },
   {
    "duration": 298,
    "start_time": "2023-10-25T20:05:46.187Z"
   },
   {
    "duration": 473,
    "start_time": "2023-10-25T20:05:46.487Z"
   },
   {
    "duration": 207,
    "start_time": "2023-10-25T20:05:46.962Z"
   },
   {
    "duration": 9,
    "start_time": "2023-10-25T20:07:15.710Z"
   },
   {
    "duration": 13,
    "start_time": "2023-10-25T20:15:52.403Z"
   },
   {
    "duration": 120,
    "start_time": "2023-10-25T20:16:37.959Z"
   },
   {
    "duration": 13,
    "start_time": "2023-10-25T20:16:42.403Z"
   },
   {
    "duration": 13,
    "start_time": "2023-10-25T20:16:49.290Z"
   },
   {
    "duration": 14,
    "start_time": "2023-10-25T20:16:58.498Z"
   },
   {
    "duration": 12,
    "start_time": "2023-10-25T20:18:35.650Z"
   },
   {
    "duration": 133,
    "start_time": "2023-10-25T20:18:37.911Z"
   },
   {
    "duration": 180,
    "start_time": "2023-10-25T20:18:42.911Z"
   },
   {
    "duration": 25,
    "start_time": "2023-10-25T20:18:44.914Z"
   },
   {
    "duration": 166,
    "start_time": "2023-10-25T20:18:47.499Z"
   },
   {
    "duration": 208,
    "start_time": "2023-10-25T20:18:51.809Z"
   },
   {
    "duration": 186,
    "start_time": "2023-10-25T20:18:54.142Z"
   },
   {
    "duration": 14,
    "start_time": "2023-10-25T20:19:07.114Z"
   },
   {
    "duration": 202,
    "start_time": "2023-10-25T20:19:07.844Z"
   },
   {
    "duration": 168,
    "start_time": "2023-10-25T20:19:08.695Z"
   },
   {
    "duration": 20,
    "start_time": "2023-10-25T20:19:10.630Z"
   },
   {
    "duration": 169,
    "start_time": "2023-10-25T20:19:11.394Z"
   },
   {
    "duration": 214,
    "start_time": "2023-10-25T20:19:12.942Z"
   },
   {
    "duration": 12,
    "start_time": "2023-10-25T20:20:03.855Z"
   },
   {
    "duration": 12,
    "start_time": "2023-10-25T20:20:10.507Z"
   },
   {
    "duration": 301,
    "start_time": "2023-10-25T20:20:13.548Z"
   },
   {
    "duration": 169,
    "start_time": "2023-10-25T20:20:17.903Z"
   },
   {
    "duration": 33,
    "start_time": "2023-10-25T20:20:22.855Z"
   },
   {
    "duration": 214,
    "start_time": "2023-10-25T20:20:24.432Z"
   },
   {
    "duration": 414,
    "start_time": "2023-10-25T20:20:26.991Z"
   },
   {
    "duration": 171,
    "start_time": "2023-10-25T20:20:30.453Z"
   },
   {
    "duration": 15,
    "start_time": "2023-10-25T20:20:33.353Z"
   },
   {
    "duration": 187,
    "start_time": "2023-10-25T20:20:34.857Z"
   },
   {
    "duration": 174,
    "start_time": "2023-10-25T20:20:36.464Z"
   },
   {
    "duration": 23,
    "start_time": "2023-10-25T20:20:37.442Z"
   },
   {
    "duration": 166,
    "start_time": "2023-10-25T20:20:38.534Z"
   },
   {
    "duration": 206,
    "start_time": "2023-10-25T20:20:39.911Z"
   },
   {
    "duration": 12,
    "start_time": "2023-10-25T20:21:40.965Z"
   },
   {
    "duration": 295,
    "start_time": "2023-10-25T20:21:42.249Z"
   },
   {
    "duration": 193,
    "start_time": "2023-10-25T20:21:44.247Z"
   },
   {
    "duration": 35,
    "start_time": "2023-10-25T20:21:45.516Z"
   },
   {
    "duration": 167,
    "start_time": "2023-10-25T20:21:47.699Z"
   },
   {
    "duration": 440,
    "start_time": "2023-10-25T20:21:49.407Z"
   },
   {
    "duration": 285,
    "start_time": "2023-10-25T20:21:50.915Z"
   },
   {
    "duration": 14,
    "start_time": "2023-10-25T20:22:58.019Z"
   },
   {
    "duration": 128,
    "start_time": "2023-10-25T20:22:59.117Z"
   },
   {
    "duration": 183,
    "start_time": "2023-10-25T20:22:59.924Z"
   },
   {
    "duration": 22,
    "start_time": "2023-10-25T20:23:01.115Z"
   },
   {
    "duration": 179,
    "start_time": "2023-10-25T20:23:01.942Z"
   },
   {
    "duration": 201,
    "start_time": "2023-10-25T20:23:02.964Z"
   },
   {
    "duration": 163,
    "start_time": "2023-10-25T20:23:08.294Z"
   },
   {
    "duration": 163,
    "start_time": "2023-10-25T20:23:41.920Z"
   },
   {
    "duration": 260,
    "start_time": "2023-10-25T20:23:47.147Z"
   },
   {
    "duration": 118,
    "start_time": "2023-10-25T20:23:51.244Z"
   },
   {
    "duration": 144,
    "start_time": "2023-10-25T20:23:55.307Z"
   },
   {
    "duration": 363,
    "start_time": "2023-10-25T20:23:59.227Z"
   },
   {
    "duration": 191,
    "start_time": "2023-10-25T20:24:05.810Z"
   },
   {
    "duration": 1452,
    "start_time": "2023-10-25T20:25:15.855Z"
   },
   {
    "duration": 42,
    "start_time": "2023-10-25T20:25:17.309Z"
   },
   {
    "duration": 16,
    "start_time": "2023-10-25T20:25:17.353Z"
   },
   {
    "duration": 59,
    "start_time": "2023-10-25T20:25:17.370Z"
   },
   {
    "duration": 42,
    "start_time": "2023-10-25T20:25:17.430Z"
   },
   {
    "duration": 1762,
    "start_time": "2023-10-25T20:25:17.473Z"
   },
   {
    "duration": 162,
    "start_time": "2023-10-25T20:25:19.237Z"
   },
   {
    "duration": 9,
    "start_time": "2023-10-25T20:25:19.400Z"
   },
   {
    "duration": 8,
    "start_time": "2023-10-25T20:25:19.410Z"
   },
   {
    "duration": 4,
    "start_time": "2023-10-25T20:25:19.420Z"
   },
   {
    "duration": 19,
    "start_time": "2023-10-25T20:25:19.426Z"
   },
   {
    "duration": 4,
    "start_time": "2023-10-25T20:25:19.446Z"
   },
   {
    "duration": 27,
    "start_time": "2023-10-25T20:25:19.451Z"
   },
   {
    "duration": 24,
    "start_time": "2023-10-25T20:25:19.479Z"
   },
   {
    "duration": 16,
    "start_time": "2023-10-25T20:25:19.505Z"
   },
   {
    "duration": 10,
    "start_time": "2023-10-25T20:25:19.522Z"
   },
   {
    "duration": 20,
    "start_time": "2023-10-25T20:25:19.534Z"
   },
   {
    "duration": 17,
    "start_time": "2023-10-25T20:25:19.556Z"
   },
   {
    "duration": 20,
    "start_time": "2023-10-25T20:25:19.575Z"
   },
   {
    "duration": 7,
    "start_time": "2023-10-25T20:25:19.597Z"
   },
   {
    "duration": 19,
    "start_time": "2023-10-25T20:25:19.606Z"
   },
   {
    "duration": 10,
    "start_time": "2023-10-25T20:25:19.626Z"
   },
   {
    "duration": 23,
    "start_time": "2023-10-25T20:25:19.637Z"
   },
   {
    "duration": 7,
    "start_time": "2023-10-25T20:25:19.662Z"
   },
   {
    "duration": 5,
    "start_time": "2023-10-25T20:25:19.671Z"
   },
   {
    "duration": 7,
    "start_time": "2023-10-25T20:25:19.677Z"
   },
   {
    "duration": 4,
    "start_time": "2023-10-25T20:25:19.685Z"
   },
   {
    "duration": 22,
    "start_time": "2023-10-25T20:25:19.692Z"
   },
   {
    "duration": 12,
    "start_time": "2023-10-25T20:25:19.715Z"
   },
   {
    "duration": 26,
    "start_time": "2023-10-25T20:25:19.728Z"
   },
   {
    "duration": 20,
    "start_time": "2023-10-25T20:25:19.756Z"
   },
   {
    "duration": 12,
    "start_time": "2023-10-25T20:25:19.777Z"
   },
   {
    "duration": 6,
    "start_time": "2023-10-25T20:25:19.790Z"
   },
   {
    "duration": 8,
    "start_time": "2023-10-25T20:25:19.797Z"
   },
   {
    "duration": 15,
    "start_time": "2023-10-25T20:25:19.806Z"
   },
   {
    "duration": 322,
    "start_time": "2023-10-25T20:25:19.823Z"
   },
   {
    "duration": 251,
    "start_time": "2023-10-25T20:25:20.148Z"
   },
   {
    "duration": 271,
    "start_time": "2023-10-25T20:25:20.401Z"
   },
   {
    "duration": 168,
    "start_time": "2023-10-25T20:25:20.673Z"
   },
   {
    "duration": 70555,
    "start_time": "2023-10-25T20:25:20.843Z"
   },
   {
    "duration": 177,
    "start_time": "2023-10-25T20:26:31.400Z"
   },
   {
    "duration": 11,
    "start_time": "2023-10-25T20:26:31.579Z"
   },
   {
    "duration": 290,
    "start_time": "2023-10-25T20:26:31.591Z"
   },
   {
    "duration": 262,
    "start_time": "2023-10-25T20:26:31.883Z"
   },
   {
    "duration": 270,
    "start_time": "2023-10-25T20:26:32.148Z"
   },
   {
    "duration": 38,
    "start_time": "2023-10-25T20:26:32.420Z"
   },
   {
    "duration": 371,
    "start_time": "2023-10-25T20:26:32.460Z"
   },
   {
    "duration": 345,
    "start_time": "2023-10-25T20:26:32.833Z"
   },
   {
    "duration": 194,
    "start_time": "2023-10-25T20:26:33.180Z"
   },
   {
    "duration": 9,
    "start_time": "2023-10-25T20:26:33.375Z"
   },
   {
    "duration": 38,
    "start_time": "2023-10-25T20:26:33.386Z"
   },
   {
    "duration": 330,
    "start_time": "2023-10-25T20:26:33.426Z"
   },
   {
    "duration": 177,
    "start_time": "2023-10-25T20:26:33.845Z"
   },
   {
    "duration": 36,
    "start_time": "2023-10-25T20:26:34.023Z"
   },
   {
    "duration": 271,
    "start_time": "2023-10-25T20:26:34.061Z"
   },
   {
    "duration": 484,
    "start_time": "2023-10-25T20:26:34.334Z"
   },
   {
    "duration": 185,
    "start_time": "2023-10-25T20:26:34.820Z"
   },
   {
    "duration": 14,
    "start_time": "2023-10-25T20:26:35.006Z"
   },
   {
    "duration": 228,
    "start_time": "2023-10-25T20:26:35.021Z"
   },
   {
    "duration": 270,
    "start_time": "2023-10-25T20:26:35.253Z"
   },
   {
    "duration": 25,
    "start_time": "2023-10-25T20:26:35.525Z"
   },
   {
    "duration": 184,
    "start_time": "2023-10-25T20:26:35.551Z"
   },
   {
    "duration": 207,
    "start_time": "2023-10-25T20:26:35.736Z"
   },
   {
    "duration": 182,
    "start_time": "2023-10-25T20:26:35.945Z"
   },
   {
    "duration": 5,
    "start_time": "2023-10-25T20:35:03.931Z"
   },
   {
    "duration": 7,
    "start_time": "2023-10-25T20:35:40.083Z"
   },
   {
    "duration": 563,
    "start_time": "2023-10-25T20:38:03.999Z"
   },
   {
    "duration": 552,
    "start_time": "2023-10-25T20:38:33.335Z"
   },
   {
    "duration": 174,
    "start_time": "2023-10-25T20:38:44.604Z"
   },
   {
    "duration": 1360,
    "start_time": "2023-10-25T20:40:51.923Z"
   },
   {
    "duration": 42,
    "start_time": "2023-10-25T20:40:53.285Z"
   },
   {
    "duration": 16,
    "start_time": "2023-10-25T20:40:53.328Z"
   },
   {
    "duration": 12,
    "start_time": "2023-10-25T20:40:53.345Z"
   },
   {
    "duration": 38,
    "start_time": "2023-10-25T20:40:53.359Z"
   },
   {
    "duration": 1897,
    "start_time": "2023-10-25T20:40:53.398Z"
   },
   {
    "duration": 149,
    "start_time": "2023-10-25T20:40:55.297Z"
   },
   {
    "duration": 8,
    "start_time": "2023-10-25T20:40:55.448Z"
   },
   {
    "duration": 18,
    "start_time": "2023-10-25T20:40:55.458Z"
   },
   {
    "duration": 18,
    "start_time": "2023-10-25T20:40:55.478Z"
   },
   {
    "duration": 13,
    "start_time": "2023-10-25T20:40:55.497Z"
   },
   {
    "duration": 16,
    "start_time": "2023-10-25T20:40:55.512Z"
   },
   {
    "duration": 11,
    "start_time": "2023-10-25T20:40:55.530Z"
   },
   {
    "duration": 18,
    "start_time": "2023-10-25T20:40:55.545Z"
   },
   {
    "duration": 16,
    "start_time": "2023-10-25T20:40:55.565Z"
   },
   {
    "duration": 14,
    "start_time": "2023-10-25T20:40:55.583Z"
   },
   {
    "duration": 8,
    "start_time": "2023-10-25T20:40:55.599Z"
   },
   {
    "duration": 4,
    "start_time": "2023-10-25T20:40:55.608Z"
   },
   {
    "duration": 10,
    "start_time": "2023-10-25T20:40:55.613Z"
   },
   {
    "duration": 12,
    "start_time": "2023-10-25T20:40:55.624Z"
   },
   {
    "duration": 17,
    "start_time": "2023-10-25T20:40:55.637Z"
   },
   {
    "duration": 24,
    "start_time": "2023-10-25T20:40:55.656Z"
   },
   {
    "duration": 23,
    "start_time": "2023-10-25T20:40:55.682Z"
   },
   {
    "duration": 11,
    "start_time": "2023-10-25T20:40:55.707Z"
   },
   {
    "duration": 15,
    "start_time": "2023-10-25T20:40:55.720Z"
   },
   {
    "duration": 9,
    "start_time": "2023-10-25T20:40:55.737Z"
   },
   {
    "duration": 3,
    "start_time": "2023-10-25T20:40:55.747Z"
   },
   {
    "duration": 20,
    "start_time": "2023-10-25T20:40:55.752Z"
   },
   {
    "duration": 40,
    "start_time": "2023-10-25T20:40:55.774Z"
   },
   {
    "duration": 23,
    "start_time": "2023-10-25T20:40:55.816Z"
   },
   {
    "duration": 20,
    "start_time": "2023-10-25T20:40:55.841Z"
   },
   {
    "duration": 5,
    "start_time": "2023-10-25T20:40:55.863Z"
   },
   {
    "duration": 4,
    "start_time": "2023-10-25T20:40:55.870Z"
   },
   {
    "duration": 9,
    "start_time": "2023-10-25T20:40:55.875Z"
   },
   {
    "duration": 9,
    "start_time": "2023-10-25T20:40:55.885Z"
   },
   {
    "duration": 354,
    "start_time": "2023-10-25T20:40:55.896Z"
   },
   {
    "duration": 251,
    "start_time": "2023-10-25T20:40:56.252Z"
   },
   {
    "duration": 274,
    "start_time": "2023-10-25T20:40:56.505Z"
   },
   {
    "duration": 156,
    "start_time": "2023-10-25T20:40:56.781Z"
   },
   {
    "duration": 70052,
    "start_time": "2023-10-25T20:40:56.943Z"
   },
   {
    "duration": 161,
    "start_time": "2023-10-25T20:42:06.999Z"
   },
   {
    "duration": 11,
    "start_time": "2023-10-25T20:42:07.162Z"
   },
   {
    "duration": 172,
    "start_time": "2023-10-25T20:42:07.174Z"
   },
   {
    "duration": 297,
    "start_time": "2023-10-25T20:42:07.348Z"
   },
   {
    "duration": 269,
    "start_time": "2023-10-25T20:42:07.647Z"
   },
   {
    "duration": 36,
    "start_time": "2023-10-25T20:42:07.918Z"
   },
   {
    "duration": 176,
    "start_time": "2023-10-25T20:42:07.956Z"
   },
   {
    "duration": 328,
    "start_time": "2023-10-25T20:42:08.134Z"
   },
   {
    "duration": 174,
    "start_time": "2023-10-25T20:42:08.464Z"
   },
   {
    "duration": 10,
    "start_time": "2023-10-25T20:42:08.639Z"
   },
   {
    "duration": 16,
    "start_time": "2023-10-25T20:42:08.650Z"
   },
   {
    "duration": 376,
    "start_time": "2023-10-25T20:42:08.668Z"
   },
   {
    "duration": 188,
    "start_time": "2023-10-25T20:42:09.046Z"
   },
   {
    "duration": 38,
    "start_time": "2023-10-25T20:42:09.236Z"
   },
   {
    "duration": 280,
    "start_time": "2023-10-25T20:42:09.275Z"
   },
   {
    "duration": 407,
    "start_time": "2023-10-25T20:42:09.557Z"
   },
   {
    "duration": 172,
    "start_time": "2023-10-25T20:42:09.966Z"
   },
   {
    "duration": 13,
    "start_time": "2023-10-25T20:42:10.139Z"
   },
   {
    "duration": 95,
    "start_time": "2023-10-25T20:42:10.154Z"
   },
   {
    "duration": 257,
    "start_time": "2023-10-25T20:42:10.250Z"
   },
   {
    "duration": 19,
    "start_time": "2023-10-25T20:42:10.509Z"
   },
   {
    "duration": 195,
    "start_time": "2023-10-25T20:42:10.530Z"
   },
   {
    "duration": 211,
    "start_time": "2023-10-25T20:42:10.727Z"
   },
   {
    "duration": 185,
    "start_time": "2023-10-25T20:42:10.939Z"
   },
   {
    "duration": 5,
    "start_time": "2023-10-25T20:42:11.126Z"
   },
   {
    "duration": 12,
    "start_time": "2023-10-25T20:42:11.132Z"
   },
   {
    "duration": 487,
    "start_time": "2023-10-25T20:42:11.146Z"
   },
   {
    "duration": 186,
    "start_time": "2023-10-25T20:42:11.635Z"
   },
   {
    "duration": 13,
    "start_time": "2023-10-25T20:44:13.994Z"
   },
   {
    "duration": 345,
    "start_time": "2023-10-25T20:44:15.700Z"
   },
   {
    "duration": 180,
    "start_time": "2023-10-25T20:44:17.498Z"
   },
   {
    "duration": 27,
    "start_time": "2023-10-25T20:44:18.914Z"
   },
   {
    "duration": 163,
    "start_time": "2023-10-25T20:44:19.958Z"
   },
   {
    "duration": 363,
    "start_time": "2023-10-25T20:44:20.884Z"
   },
   {
    "duration": 166,
    "start_time": "2023-10-25T20:44:24.198Z"
   },
   {
    "duration": 13,
    "start_time": "2023-10-25T20:44:26.938Z"
   },
   {
    "duration": 185,
    "start_time": "2023-10-25T20:44:29.060Z"
   },
   {
    "duration": 178,
    "start_time": "2023-10-25T20:44:30.250Z"
   },
   {
    "duration": 21,
    "start_time": "2023-10-25T20:44:30.632Z"
   },
   {
    "duration": 204,
    "start_time": "2023-10-25T20:44:31.204Z"
   },
   {
    "duration": 220,
    "start_time": "2023-10-25T20:44:32.307Z"
   },
   {
    "duration": 172,
    "start_time": "2023-10-25T20:44:32.793Z"
   },
   {
    "duration": 5,
    "start_time": "2023-10-25T20:44:42.390Z"
   },
   {
    "duration": 6,
    "start_time": "2023-10-25T20:44:43.222Z"
   },
   {
    "duration": 439,
    "start_time": "2023-10-25T20:44:44.637Z"
   },
   {
    "duration": 163,
    "start_time": "2023-10-25T20:44:51.789Z"
   },
   {
    "duration": 13,
    "start_time": "2023-10-25T20:45:45.546Z"
   },
   {
    "duration": 440,
    "start_time": "2023-10-25T20:45:46.105Z"
   },
   {
    "duration": 285,
    "start_time": "2023-10-25T20:45:46.547Z"
   },
   {
    "duration": 39,
    "start_time": "2023-10-25T20:45:46.834Z"
   },
   {
    "duration": 278,
    "start_time": "2023-10-25T20:45:47.004Z"
   },
   {
    "duration": 459,
    "start_time": "2023-10-25T20:45:47.297Z"
   },
   {
    "duration": 174,
    "start_time": "2023-10-25T20:45:47.758Z"
   },
   {
    "duration": 13,
    "start_time": "2023-10-25T20:45:49.299Z"
   },
   {
    "duration": 137,
    "start_time": "2023-10-25T20:45:49.914Z"
   },
   {
    "duration": 180,
    "start_time": "2023-10-25T20:45:50.542Z"
   },
   {
    "duration": 21,
    "start_time": "2023-10-25T20:45:53.285Z"
   },
   {
    "duration": 202,
    "start_time": "2023-10-25T20:45:53.693Z"
   },
   {
    "duration": 198,
    "start_time": "2023-10-25T20:45:55.287Z"
   },
   {
    "duration": 178,
    "start_time": "2023-10-25T20:45:56.239Z"
   },
   {
    "duration": 6,
    "start_time": "2023-10-25T20:45:59.846Z"
   },
   {
    "duration": 7,
    "start_time": "2023-10-25T20:46:00.542Z"
   },
   {
    "duration": 558,
    "start_time": "2023-10-25T20:46:01.704Z"
   },
   {
    "duration": 3,
    "start_time": "2023-10-25T20:46:24.618Z"
   },
   {
    "duration": 7,
    "start_time": "2023-10-25T20:46:25.643Z"
   },
   {
    "duration": 460,
    "start_time": "2023-10-25T20:46:27.901Z"
   },
   {
    "duration": 178,
    "start_time": "2023-10-25T20:46:33.593Z"
   },
   {
    "duration": 6,
    "start_time": "2023-10-25T20:47:12.110Z"
   },
   {
    "duration": 6,
    "start_time": "2023-10-25T20:47:13.221Z"
   },
   {
    "duration": 528,
    "start_time": "2023-10-25T20:47:17.148Z"
   },
   {
    "duration": 117,
    "start_time": "2023-10-25T20:54:10.219Z"
   },
   {
    "duration": 19,
    "start_time": "2023-10-25T20:54:12.066Z"
   },
   {
    "duration": 6,
    "start_time": "2023-10-25T20:54:14.204Z"
   },
   {
    "duration": 9,
    "start_time": "2023-10-25T20:54:33.291Z"
   },
   {
    "duration": 8,
    "start_time": "2023-10-25T20:55:24.123Z"
   },
   {
    "duration": 580,
    "start_time": "2023-10-25T20:55:24.985Z"
   },
   {
    "duration": 184,
    "start_time": "2023-10-25T20:55:29.430Z"
   },
   {
    "duration": 17,
    "start_time": "2023-10-25T21:00:06.890Z"
   },
   {
    "duration": 10,
    "start_time": "2023-10-25T21:08:05.602Z"
   },
   {
    "duration": 3,
    "start_time": "2023-10-25T21:08:19.970Z"
   },
   {
    "duration": 4,
    "start_time": "2023-10-25T21:12:04.009Z"
   },
   {
    "duration": 5,
    "start_time": "2023-10-25T21:16:27.982Z"
   },
   {
    "duration": 1409,
    "start_time": "2023-10-25T21:19:36.879Z"
   },
   {
    "duration": 44,
    "start_time": "2023-10-25T21:19:38.290Z"
   },
   {
    "duration": 25,
    "start_time": "2023-10-25T21:19:38.336Z"
   },
   {
    "duration": 14,
    "start_time": "2023-10-25T21:19:38.363Z"
   },
   {
    "duration": 39,
    "start_time": "2023-10-25T21:19:38.378Z"
   },
   {
    "duration": 1880,
    "start_time": "2023-10-25T21:19:38.419Z"
   },
   {
    "duration": 164,
    "start_time": "2023-10-25T21:19:40.301Z"
   },
   {
    "duration": 8,
    "start_time": "2023-10-25T21:19:40.467Z"
   },
   {
    "duration": 6,
    "start_time": "2023-10-25T21:19:40.476Z"
   },
   {
    "duration": 21,
    "start_time": "2023-10-25T21:19:40.484Z"
   },
   {
    "duration": 21,
    "start_time": "2023-10-25T21:19:40.506Z"
   },
   {
    "duration": 21,
    "start_time": "2023-10-25T21:19:40.529Z"
   },
   {
    "duration": 6,
    "start_time": "2023-10-25T21:19:40.552Z"
   },
   {
    "duration": 28,
    "start_time": "2023-10-25T21:19:40.560Z"
   },
   {
    "duration": 25,
    "start_time": "2023-10-25T21:19:40.589Z"
   },
   {
    "duration": 14,
    "start_time": "2023-10-25T21:19:40.616Z"
   },
   {
    "duration": 14,
    "start_time": "2023-10-25T21:19:40.632Z"
   },
   {
    "duration": 13,
    "start_time": "2023-10-25T21:19:40.648Z"
   },
   {
    "duration": 17,
    "start_time": "2023-10-25T21:19:40.663Z"
   },
   {
    "duration": 22,
    "start_time": "2023-10-25T21:19:40.681Z"
   },
   {
    "duration": 53,
    "start_time": "2023-10-25T21:19:40.705Z"
   },
   {
    "duration": 11,
    "start_time": "2023-10-25T21:19:40.759Z"
   },
   {
    "duration": 13,
    "start_time": "2023-10-25T21:19:40.771Z"
   },
   {
    "duration": 9,
    "start_time": "2023-10-25T21:19:40.786Z"
   },
   {
    "duration": 7,
    "start_time": "2023-10-25T21:19:40.796Z"
   },
   {
    "duration": 7,
    "start_time": "2023-10-25T21:19:40.804Z"
   },
   {
    "duration": 32,
    "start_time": "2023-10-25T21:19:40.812Z"
   },
   {
    "duration": 22,
    "start_time": "2023-10-25T21:19:40.849Z"
   },
   {
    "duration": 17,
    "start_time": "2023-10-25T21:19:40.873Z"
   },
   {
    "duration": 29,
    "start_time": "2023-10-25T21:19:40.891Z"
   },
   {
    "duration": 45,
    "start_time": "2023-10-25T21:19:40.921Z"
   },
   {
    "duration": 5,
    "start_time": "2023-10-25T21:19:40.968Z"
   },
   {
    "duration": 9,
    "start_time": "2023-10-25T21:19:40.975Z"
   },
   {
    "duration": 8,
    "start_time": "2023-10-25T21:19:40.985Z"
   },
   {
    "duration": 4,
    "start_time": "2023-10-25T21:19:44.270Z"
   },
   {
    "duration": 90,
    "start_time": "2023-10-25T21:19:45.881Z"
   },
   {
    "duration": 463,
    "start_time": "2023-10-25T21:19:51.156Z"
   },
   {
    "duration": 244,
    "start_time": "2023-10-25T21:20:06.703Z"
   },
   {
    "duration": 5,
    "start_time": "2023-10-25T21:21:19.716Z"
   },
   {
    "duration": 5,
    "start_time": "2023-10-25T21:21:20.001Z"
   },
   {
    "duration": 5,
    "start_time": "2023-10-25T21:21:20.932Z"
   },
   {
    "duration": 279,
    "start_time": "2023-10-25T21:21:22.374Z"
   },
   {
    "duration": 141,
    "start_time": "2023-10-25T21:27:55.917Z"
   },
   {
    "duration": 8,
    "start_time": "2023-10-25T21:27:59.742Z"
   },
   {
    "duration": 5,
    "start_time": "2023-10-25T21:27:59.972Z"
   },
   {
    "duration": 6,
    "start_time": "2023-10-25T21:28:00.208Z"
   },
   {
    "duration": 225,
    "start_time": "2023-10-25T21:28:01.223Z"
   },
   {
    "duration": 8,
    "start_time": "2023-10-25T21:28:09.394Z"
   },
   {
    "duration": 176,
    "start_time": "2023-10-25T21:28:12.940Z"
   },
   {
    "duration": 2140,
    "start_time": "2023-10-25T21:29:10.709Z"
   },
   {
    "duration": 314,
    "start_time": "2023-10-25T21:29:27.902Z"
   },
   {
    "duration": 167,
    "start_time": "2023-10-25T21:29:31.329Z"
   },
   {
    "duration": 183,
    "start_time": "2023-10-25T21:30:09.829Z"
   },
   {
    "duration": 79869,
    "start_time": "2023-10-25T21:30:10.395Z"
   },
   {
    "duration": 0,
    "start_time": "2023-10-25T21:31:30.266Z"
   },
   {
    "duration": 79444,
    "start_time": "2023-10-25T21:31:34.683Z"
   },
   {
    "duration": 313,
    "start_time": "2023-10-25T21:35:36.926Z"
   },
   {
    "duration": 153,
    "start_time": "2023-10-25T21:35:44.778Z"
   },
   {
    "duration": 158,
    "start_time": "2023-10-25T21:38:28.198Z"
   },
   {
    "duration": 13,
    "start_time": "2023-10-25T21:38:30.980Z"
   },
   {
    "duration": 173,
    "start_time": "2023-10-25T21:38:36.388Z"
   },
   {
    "duration": 125,
    "start_time": "2023-10-25T21:39:27.826Z"
   },
   {
    "duration": 186,
    "start_time": "2023-10-25T21:39:30.493Z"
   },
   {
    "duration": 33,
    "start_time": "2023-10-25T21:40:06.000Z"
   },
   {
    "duration": 361,
    "start_time": "2023-10-25T21:40:30.141Z"
   },
   {
    "duration": 276,
    "start_time": "2023-10-25T21:41:01.187Z"
   },
   {
    "duration": 11,
    "start_time": "2023-10-25T21:41:03.795Z"
   },
   {
    "duration": 13,
    "start_time": "2023-10-25T21:41:11.349Z"
   },
   {
    "duration": 265,
    "start_time": "2023-10-25T21:41:13.680Z"
   },
   {
    "duration": 166,
    "start_time": "2023-10-25T21:41:16.546Z"
   },
   {
    "duration": 37,
    "start_time": "2023-10-25T21:41:38.917Z"
   },
   {
    "duration": 185,
    "start_time": "2023-10-25T21:42:00.872Z"
   },
   {
    "duration": 462,
    "start_time": "2023-10-25T21:42:01.834Z"
   },
   {
    "duration": 171,
    "start_time": "2023-10-25T21:42:04.891Z"
   },
   {
    "duration": 14,
    "start_time": "2023-10-25T21:42:11.940Z"
   },
   {
    "duration": 198,
    "start_time": "2023-10-25T21:42:27.751Z"
   },
   {
    "duration": 24,
    "start_time": "2023-10-25T21:42:48.280Z"
   },
   {
    "duration": 241,
    "start_time": "2023-10-25T21:43:09.759Z"
   },
   {
    "duration": 190,
    "start_time": "2023-10-25T21:43:16.649Z"
   },
   {
    "duration": 17,
    "start_time": "2023-10-25T21:43:21.990Z"
   },
   {
    "duration": 8,
    "start_time": "2023-10-25T21:43:23.086Z"
   },
   {
    "duration": 567,
    "start_time": "2023-10-25T21:43:50.016Z"
   },
   {
    "duration": 586,
    "start_time": "2023-10-25T21:44:06.546Z"
   },
   {
    "duration": 169,
    "start_time": "2023-10-25T21:44:10.683Z"
   },
   {
    "duration": 1458,
    "start_time": "2023-10-25T21:57:54.709Z"
   },
   {
    "duration": 43,
    "start_time": "2023-10-25T21:57:56.169Z"
   },
   {
    "duration": 17,
    "start_time": "2023-10-25T21:57:56.214Z"
   },
   {
    "duration": 15,
    "start_time": "2023-10-25T21:57:56.234Z"
   },
   {
    "duration": 40,
    "start_time": "2023-10-25T21:57:56.251Z"
   },
   {
    "duration": 1846,
    "start_time": "2023-10-25T21:57:56.293Z"
   },
   {
    "duration": 161,
    "start_time": "2023-10-25T21:57:58.141Z"
   },
   {
    "duration": 8,
    "start_time": "2023-10-25T21:57:58.304Z"
   },
   {
    "duration": 7,
    "start_time": "2023-10-25T21:57:58.313Z"
   },
   {
    "duration": 21,
    "start_time": "2023-10-25T21:57:58.323Z"
   },
   {
    "duration": 5,
    "start_time": "2023-10-25T21:57:58.345Z"
   },
   {
    "duration": 11,
    "start_time": "2023-10-25T21:57:58.352Z"
   },
   {
    "duration": 21,
    "start_time": "2023-10-25T21:57:58.364Z"
   },
   {
    "duration": 26,
    "start_time": "2023-10-25T21:57:58.387Z"
   },
   {
    "duration": 13,
    "start_time": "2023-10-25T21:57:58.415Z"
   },
   {
    "duration": 14,
    "start_time": "2023-10-25T21:57:58.430Z"
   },
   {
    "duration": 4,
    "start_time": "2023-10-25T21:57:58.445Z"
   },
   {
    "duration": 10,
    "start_time": "2023-10-25T21:57:58.451Z"
   },
   {
    "duration": 35,
    "start_time": "2023-10-25T21:57:58.463Z"
   },
   {
    "duration": 10,
    "start_time": "2023-10-25T21:57:58.499Z"
   },
   {
    "duration": 25,
    "start_time": "2023-10-25T21:57:58.510Z"
   },
   {
    "duration": 13,
    "start_time": "2023-10-25T21:57:58.537Z"
   },
   {
    "duration": 12,
    "start_time": "2023-10-25T21:57:58.551Z"
   },
   {
    "duration": 10,
    "start_time": "2023-10-25T21:57:58.565Z"
   },
   {
    "duration": 16,
    "start_time": "2023-10-25T21:57:58.576Z"
   },
   {
    "duration": 11,
    "start_time": "2023-10-25T21:57:58.594Z"
   },
   {
    "duration": 15,
    "start_time": "2023-10-25T21:57:58.607Z"
   },
   {
    "duration": 32,
    "start_time": "2023-10-25T21:57:58.627Z"
   },
   {
    "duration": 13,
    "start_time": "2023-10-25T21:57:58.661Z"
   },
   {
    "duration": 44,
    "start_time": "2023-10-25T21:57:58.676Z"
   },
   {
    "duration": 58,
    "start_time": "2023-10-25T21:57:58.722Z"
   },
   {
    "duration": 38,
    "start_time": "2023-10-25T21:57:58.782Z"
   },
   {
    "duration": 31,
    "start_time": "2023-10-25T21:57:58.822Z"
   },
   {
    "duration": 18,
    "start_time": "2023-10-25T21:57:58.855Z"
   },
   {
    "duration": 21,
    "start_time": "2023-10-25T21:57:58.875Z"
   },
   {
    "duration": 345,
    "start_time": "2023-10-25T21:57:58.898Z"
   },
   {
    "duration": 165,
    "start_time": "2023-10-25T21:57:59.246Z"
   },
   {
    "duration": 326,
    "start_time": "2023-10-25T21:57:59.413Z"
   },
   {
    "duration": 170,
    "start_time": "2023-10-25T21:57:59.741Z"
   },
   {
    "duration": 76588,
    "start_time": "2023-10-25T21:57:59.913Z"
   },
   {
    "duration": 169,
    "start_time": "2023-10-25T21:59:16.503Z"
   },
   {
    "duration": 18,
    "start_time": "2023-10-25T21:59:16.674Z"
   },
   {
    "duration": 180,
    "start_time": "2023-10-25T21:59:16.694Z"
   },
   {
    "duration": 269,
    "start_time": "2023-10-25T21:59:16.875Z"
   },
   {
    "duration": 258,
    "start_time": "2023-10-25T21:59:17.147Z"
   },
   {
    "duration": 39,
    "start_time": "2023-10-25T21:59:17.408Z"
   },
   {
    "duration": 180,
    "start_time": "2023-10-25T21:59:17.448Z"
   },
   {
    "duration": 367,
    "start_time": "2023-10-25T21:59:17.630Z"
   },
   {
    "duration": 186,
    "start_time": "2023-10-25T21:59:17.999Z"
   },
   {
    "duration": 9,
    "start_time": "2023-10-25T21:59:18.187Z"
   },
   {
    "duration": 20,
    "start_time": "2023-10-25T21:59:18.197Z"
   },
   {
    "duration": 333,
    "start_time": "2023-10-25T21:59:18.219Z"
   },
   {
    "duration": 273,
    "start_time": "2023-10-25T21:59:18.554Z"
   },
   {
    "duration": 40,
    "start_time": "2023-10-25T21:59:18.829Z"
   },
   {
    "duration": 275,
    "start_time": "2023-10-25T21:59:18.870Z"
   },
   {
    "duration": 503,
    "start_time": "2023-10-25T21:59:19.147Z"
   },
   {
    "duration": 180,
    "start_time": "2023-10-25T21:59:19.652Z"
   },
   {
    "duration": 23,
    "start_time": "2023-10-25T21:59:19.834Z"
   },
   {
    "duration": 285,
    "start_time": "2023-10-25T21:59:19.859Z"
   },
   {
    "duration": 190,
    "start_time": "2023-10-25T21:59:20.146Z"
   },
   {
    "duration": 25,
    "start_time": "2023-10-25T21:59:20.338Z"
   },
   {
    "duration": 207,
    "start_time": "2023-10-25T21:59:20.365Z"
   },
   {
    "duration": 232,
    "start_time": "2023-10-25T21:59:20.574Z"
   },
   {
    "duration": 184,
    "start_time": "2023-10-25T21:59:20.807Z"
   },
   {
    "duration": 23,
    "start_time": "2023-10-25T21:59:20.993Z"
   },
   {
    "duration": 27,
    "start_time": "2023-10-25T21:59:21.018Z"
   },
   {
    "duration": 616,
    "start_time": "2023-10-25T21:59:21.047Z"
   },
   {
    "duration": 185,
    "start_time": "2023-10-25T21:59:21.665Z"
   },
   {
    "duration": 349,
    "start_time": "2023-10-25T22:02:29.100Z"
   },
   {
    "duration": 5,
    "start_time": "2023-10-25T22:02:37.152Z"
   },
   {
    "duration": 5,
    "start_time": "2023-10-25T22:02:50.500Z"
   },
   {
    "duration": 4,
    "start_time": "2023-10-25T22:02:56.713Z"
   },
   {
    "duration": 4,
    "start_time": "2023-10-25T22:03:06.139Z"
   },
   {
    "duration": 5,
    "start_time": "2023-10-25T22:03:09.979Z"
   },
   {
    "duration": 5,
    "start_time": "2023-10-25T22:03:14.261Z"
   },
   {
    "duration": 13,
    "start_time": "2023-10-25T22:04:14.121Z"
   },
   {
    "duration": 12,
    "start_time": "2023-10-25T22:04:25.186Z"
   },
   {
    "duration": 12,
    "start_time": "2023-10-25T22:04:31.812Z"
   },
   {
    "duration": 11,
    "start_time": "2023-10-25T22:04:36.868Z"
   },
   {
    "duration": 12,
    "start_time": "2023-10-25T22:04:40.207Z"
   },
   {
    "duration": 12,
    "start_time": "2023-10-25T22:04:42.915Z"
   },
   {
    "duration": 13,
    "start_time": "2023-10-25T22:04:45.585Z"
   },
   {
    "duration": 12,
    "start_time": "2023-10-25T22:04:51.816Z"
   },
   {
    "duration": 13,
    "start_time": "2023-10-25T22:04:55.987Z"
   },
   {
    "duration": 12,
    "start_time": "2023-10-25T22:05:01.250Z"
   },
   {
    "duration": 17,
    "start_time": "2023-10-25T22:05:10.907Z"
   },
   {
    "duration": 15,
    "start_time": "2023-10-25T22:05:14.111Z"
   },
   {
    "duration": 16,
    "start_time": "2023-10-25T22:05:17.212Z"
   },
   {
    "duration": 12,
    "start_time": "2023-10-25T22:05:20.830Z"
   },
   {
    "duration": 14,
    "start_time": "2023-10-25T22:05:23.707Z"
   },
   {
    "duration": 13,
    "start_time": "2023-10-25T22:05:27.517Z"
   },
   {
    "duration": 12,
    "start_time": "2023-10-25T22:05:30.406Z"
   },
   {
    "duration": 13,
    "start_time": "2023-10-25T22:05:52.150Z"
   },
   {
    "duration": 13,
    "start_time": "2023-10-25T22:05:55.715Z"
   },
   {
    "duration": 13,
    "start_time": "2023-10-25T22:06:01.926Z"
   },
   {
    "duration": 13,
    "start_time": "2023-10-25T22:06:09.809Z"
   },
   {
    "duration": 13,
    "start_time": "2023-10-25T22:06:19.679Z"
   },
   {
    "duration": 12,
    "start_time": "2023-10-25T22:06:23.344Z"
   },
   {
    "duration": 12,
    "start_time": "2023-10-25T22:06:28.207Z"
   },
   {
    "duration": 13,
    "start_time": "2023-10-25T22:06:31.730Z"
   },
   {
    "duration": 13,
    "start_time": "2023-10-25T22:06:34.313Z"
   },
   {
    "duration": 13,
    "start_time": "2023-10-25T22:06:37.807Z"
   },
   {
    "duration": 12,
    "start_time": "2023-10-25T22:06:41.078Z"
   },
   {
    "duration": 13,
    "start_time": "2023-10-25T22:06:43.521Z"
   },
   {
    "duration": 11,
    "start_time": "2023-10-25T22:06:46.588Z"
   },
   {
    "duration": 11,
    "start_time": "2023-10-25T22:06:49.096Z"
   },
   {
    "duration": 12,
    "start_time": "2023-10-25T22:06:52.380Z"
   },
   {
    "duration": 12,
    "start_time": "2023-10-25T22:06:55.884Z"
   },
   {
    "duration": 5,
    "start_time": "2023-10-25T22:07:04.804Z"
   },
   {
    "duration": 618,
    "start_time": "2023-10-25T22:12:43.595Z"
   },
   {
    "duration": 581,
    "start_time": "2023-10-25T22:12:50.095Z"
   },
   {
    "duration": 1416,
    "start_time": "2023-10-25T22:13:07.343Z"
   },
   {
    "duration": 42,
    "start_time": "2023-10-25T22:13:08.761Z"
   },
   {
    "duration": 16,
    "start_time": "2023-10-25T22:13:08.805Z"
   },
   {
    "duration": 12,
    "start_time": "2023-10-25T22:13:08.823Z"
   },
   {
    "duration": 38,
    "start_time": "2023-10-25T22:13:08.837Z"
   },
   {
    "duration": 1934,
    "start_time": "2023-10-25T22:13:08.877Z"
   },
   {
    "duration": 155,
    "start_time": "2023-10-25T22:13:10.813Z"
   },
   {
    "duration": 9,
    "start_time": "2023-10-25T22:13:10.969Z"
   },
   {
    "duration": 4,
    "start_time": "2023-10-25T22:13:10.980Z"
   },
   {
    "duration": 18,
    "start_time": "2023-10-25T22:13:10.986Z"
   },
   {
    "duration": 9,
    "start_time": "2023-10-25T22:13:11.005Z"
   },
   {
    "duration": 18,
    "start_time": "2023-10-25T22:13:11.015Z"
   },
   {
    "duration": 13,
    "start_time": "2023-10-25T22:13:11.035Z"
   },
   {
    "duration": 18,
    "start_time": "2023-10-25T22:13:11.050Z"
   },
   {
    "duration": 13,
    "start_time": "2023-10-25T22:13:11.070Z"
   },
   {
    "duration": 12,
    "start_time": "2023-10-25T22:13:11.084Z"
   },
   {
    "duration": 5,
    "start_time": "2023-10-25T22:13:11.097Z"
   },
   {
    "duration": 8,
    "start_time": "2023-10-25T22:13:11.103Z"
   },
   {
    "duration": 35,
    "start_time": "2023-10-25T22:13:11.113Z"
   },
   {
    "duration": 11,
    "start_time": "2023-10-25T22:13:11.149Z"
   },
   {
    "duration": 24,
    "start_time": "2023-10-25T22:13:11.161Z"
   },
   {
    "duration": 10,
    "start_time": "2023-10-25T22:13:11.187Z"
   },
   {
    "duration": 10,
    "start_time": "2023-10-25T22:13:11.199Z"
   },
   {
    "duration": 32,
    "start_time": "2023-10-25T22:13:11.211Z"
   },
   {
    "duration": 6,
    "start_time": "2023-10-25T22:13:11.245Z"
   },
   {
    "duration": 10,
    "start_time": "2023-10-25T22:13:11.253Z"
   },
   {
    "duration": 7,
    "start_time": "2023-10-25T22:13:11.264Z"
   },
   {
    "duration": 21,
    "start_time": "2023-10-25T22:13:11.275Z"
   },
   {
    "duration": 16,
    "start_time": "2023-10-25T22:13:11.297Z"
   },
   {
    "duration": 17,
    "start_time": "2023-10-25T22:13:11.344Z"
   },
   {
    "duration": 20,
    "start_time": "2023-10-25T22:13:11.363Z"
   },
   {
    "duration": 5,
    "start_time": "2023-10-25T22:13:11.385Z"
   },
   {
    "duration": 4,
    "start_time": "2023-10-25T22:13:11.392Z"
   },
   {
    "duration": 7,
    "start_time": "2023-10-25T22:13:11.397Z"
   },
   {
    "duration": 39,
    "start_time": "2023-10-25T22:13:11.405Z"
   },
   {
    "duration": 801,
    "start_time": "2023-10-25T22:13:11.446Z"
   },
   {
    "duration": 168,
    "start_time": "2023-10-25T22:13:12.249Z"
   },
   {
    "duration": 300,
    "start_time": "2023-10-25T22:13:12.419Z"
   },
   {
    "duration": 163,
    "start_time": "2023-10-25T22:13:12.721Z"
   },
   {
    "duration": 75377,
    "start_time": "2023-10-25T22:13:12.886Z"
   },
   {
    "duration": 162,
    "start_time": "2023-10-25T22:14:28.265Z"
   },
   {
    "duration": 22,
    "start_time": "2023-10-25T22:14:28.429Z"
   },
   {
    "duration": 166,
    "start_time": "2023-10-25T22:14:28.452Z"
   },
   {
    "duration": 325,
    "start_time": "2023-10-25T22:14:28.620Z"
   },
   {
    "duration": 282,
    "start_time": "2023-10-25T22:14:28.947Z"
   },
   {
    "duration": 48,
    "start_time": "2023-10-25T22:14:29.230Z"
   },
   {
    "duration": 199,
    "start_time": "2023-10-25T22:14:29.280Z"
   },
   {
    "duration": 355,
    "start_time": "2023-10-25T22:14:29.481Z"
   },
   {
    "duration": 190,
    "start_time": "2023-10-25T22:14:29.838Z"
   },
   {
    "duration": 19,
    "start_time": "2023-10-25T22:14:30.030Z"
   },
   {
    "duration": 92,
    "start_time": "2023-10-25T22:14:30.051Z"
   },
   {
    "duration": 602,
    "start_time": "2023-10-25T22:14:30.145Z"
   },
   {
    "duration": 279,
    "start_time": "2023-10-25T22:14:30.749Z"
   },
   {
    "duration": 39,
    "start_time": "2023-10-25T22:14:31.030Z"
   },
   {
    "duration": 331,
    "start_time": "2023-10-25T22:14:31.071Z"
   },
   {
    "duration": 486,
    "start_time": "2023-10-25T22:14:31.404Z"
   },
   {
    "duration": 189,
    "start_time": "2023-10-25T22:14:31.892Z"
   },
   {
    "duration": 14,
    "start_time": "2023-10-25T22:14:32.083Z"
   },
   {
    "duration": 649,
    "start_time": "2023-10-25T22:14:32.098Z"
   },
   {
    "duration": 189,
    "start_time": "2023-10-25T22:14:32.749Z"
   },
   {
    "duration": 25,
    "start_time": "2023-10-25T22:14:32.939Z"
   },
   {
    "duration": 203,
    "start_time": "2023-10-25T22:14:32.966Z"
   },
   {
    "duration": 251,
    "start_time": "2023-10-25T22:14:33.171Z"
   },
   {
    "duration": 189,
    "start_time": "2023-10-25T22:14:33.424Z"
   },
   {
    "duration": 29,
    "start_time": "2023-10-25T22:14:33.615Z"
   },
   {
    "duration": 10,
    "start_time": "2023-10-25T22:14:33.646Z"
   },
   {
    "duration": 642,
    "start_time": "2023-10-25T22:14:33.658Z"
   },
   {
    "duration": 229,
    "start_time": "2023-10-25T22:14:34.302Z"
   },
   {
    "duration": 10,
    "start_time": "2023-10-25T22:30:44.600Z"
   },
   {
    "duration": 115,
    "start_time": "2023-10-25T22:32:04.711Z"
   },
   {
    "duration": 10,
    "start_time": "2023-10-25T22:32:20.044Z"
   },
   {
    "duration": 11,
    "start_time": "2023-10-25T22:32:50.599Z"
   },
   {
    "duration": 78,
    "start_time": "2023-10-26T20:49:11.634Z"
   },
   {
    "duration": 1607,
    "start_time": "2023-10-26T20:49:41.484Z"
   },
   {
    "duration": 87,
    "start_time": "2023-10-26T20:49:43.094Z"
   },
   {
    "duration": 20,
    "start_time": "2023-10-26T20:49:43.183Z"
   },
   {
    "duration": 21,
    "start_time": "2023-10-26T20:49:43.206Z"
   },
   {
    "duration": 47,
    "start_time": "2023-10-26T20:49:43.229Z"
   },
   {
    "duration": 1756,
    "start_time": "2023-10-26T20:49:43.278Z"
   },
   {
    "duration": 170,
    "start_time": "2023-10-26T20:49:45.035Z"
   },
   {
    "duration": 9,
    "start_time": "2023-10-26T20:49:45.207Z"
   },
   {
    "duration": 21,
    "start_time": "2023-10-26T20:49:45.217Z"
   },
   {
    "duration": 25,
    "start_time": "2023-10-26T20:49:45.241Z"
   },
   {
    "duration": 16,
    "start_time": "2023-10-26T20:49:45.267Z"
   },
   {
    "duration": 16,
    "start_time": "2023-10-26T20:49:45.285Z"
   },
   {
    "duration": 7,
    "start_time": "2023-10-26T20:49:45.303Z"
   },
   {
    "duration": 19,
    "start_time": "2023-10-26T20:49:45.312Z"
   },
   {
    "duration": 18,
    "start_time": "2023-10-26T20:49:45.333Z"
   },
   {
    "duration": 25,
    "start_time": "2023-10-26T20:49:45.353Z"
   },
   {
    "duration": 4,
    "start_time": "2023-10-26T20:49:45.380Z"
   },
   {
    "duration": 10,
    "start_time": "2023-10-26T20:49:45.385Z"
   },
   {
    "duration": 6,
    "start_time": "2023-10-26T20:49:45.397Z"
   },
   {
    "duration": 8,
    "start_time": "2023-10-26T20:49:45.405Z"
   },
   {
    "duration": 28,
    "start_time": "2023-10-26T20:49:45.416Z"
   },
   {
    "duration": 13,
    "start_time": "2023-10-26T20:49:45.446Z"
   },
   {
    "duration": 12,
    "start_time": "2023-10-26T20:49:45.461Z"
   },
   {
    "duration": 9,
    "start_time": "2023-10-26T20:49:45.475Z"
   },
   {
    "duration": 6,
    "start_time": "2023-10-26T20:49:45.486Z"
   },
   {
    "duration": 8,
    "start_time": "2023-10-26T20:49:45.493Z"
   },
   {
    "duration": 36,
    "start_time": "2023-10-26T20:49:45.503Z"
   },
   {
    "duration": 19,
    "start_time": "2023-10-26T20:49:45.545Z"
   },
   {
    "duration": 12,
    "start_time": "2023-10-26T20:49:45.565Z"
   },
   {
    "duration": 19,
    "start_time": "2023-10-26T20:49:45.579Z"
   },
   {
    "duration": 48,
    "start_time": "2023-10-26T20:49:45.600Z"
   },
   {
    "duration": 7,
    "start_time": "2023-10-26T20:49:45.650Z"
   },
   {
    "duration": 7,
    "start_time": "2023-10-26T20:49:45.659Z"
   },
   {
    "duration": 18,
    "start_time": "2023-10-26T20:49:45.668Z"
   },
   {
    "duration": 9,
    "start_time": "2023-10-26T20:49:45.688Z"
   },
   {
    "duration": 158,
    "start_time": "2023-10-26T20:49:45.699Z"
   },
   {
    "duration": 362,
    "start_time": "2023-10-26T20:49:45.863Z"
   },
   {
    "duration": 341,
    "start_time": "2023-10-26T20:49:46.226Z"
   },
   {
    "duration": 167,
    "start_time": "2023-10-26T20:49:46.569Z"
   },
   {
    "duration": 84175,
    "start_time": "2023-10-26T20:49:46.738Z"
   },
   {
    "duration": 156,
    "start_time": "2023-10-26T20:51:10.915Z"
   },
   {
    "duration": 12,
    "start_time": "2023-10-26T20:51:11.072Z"
   },
   {
    "duration": 192,
    "start_time": "2023-10-26T20:51:11.085Z"
   },
   {
    "duration": 564,
    "start_time": "2023-10-26T20:51:11.278Z"
   },
   {
    "duration": 205,
    "start_time": "2023-10-26T20:51:11.844Z"
   },
   {
    "duration": 32,
    "start_time": "2023-10-26T20:51:12.051Z"
   },
   {
    "duration": 179,
    "start_time": "2023-10-26T20:51:12.085Z"
   },
   {
    "duration": 420,
    "start_time": "2023-10-26T20:51:12.265Z"
   },
   {
    "duration": 221,
    "start_time": "2023-10-26T20:51:12.686Z"
   },
   {
    "duration": 9,
    "start_time": "2023-10-26T20:52:59.140Z"
   },
   {
    "duration": 89,
    "start_time": "2023-10-26T20:53:21.729Z"
   },
   {
    "duration": 1584,
    "start_time": "2023-10-26T20:53:26.290Z"
   },
   {
    "duration": 6,
    "start_time": "2023-10-26T20:53:48.356Z"
   },
   {
    "duration": 4,
    "start_time": "2023-10-26T20:54:00.589Z"
   },
   {
    "duration": 6,
    "start_time": "2023-10-26T20:54:11.940Z"
   },
   {
    "duration": 5,
    "start_time": "2023-10-26T20:54:34.609Z"
   },
   {
    "duration": 11,
    "start_time": "2023-10-26T20:55:13.700Z"
   },
   {
    "duration": 8,
    "start_time": "2023-10-26T20:55:34.784Z"
   },
   {
    "duration": 8,
    "start_time": "2023-10-26T20:55:41.522Z"
   },
   {
    "duration": 6,
    "start_time": "2023-10-26T20:56:17.490Z"
   },
   {
    "duration": 5,
    "start_time": "2023-10-26T20:56:24.494Z"
   },
   {
    "duration": 5,
    "start_time": "2023-10-26T20:56:36.072Z"
   },
   {
    "duration": 5,
    "start_time": "2023-10-26T20:56:47.431Z"
   },
   {
    "duration": 9,
    "start_time": "2023-10-26T20:57:21.823Z"
   },
   {
    "duration": 9,
    "start_time": "2023-10-26T20:57:54.112Z"
   },
   {
    "duration": 7,
    "start_time": "2023-10-26T21:12:06.808Z"
   },
   {
    "duration": 3,
    "start_time": "2023-10-26T21:12:18.428Z"
   },
   {
    "duration": 5,
    "start_time": "2023-10-26T21:12:58.904Z"
   },
   {
    "duration": 5,
    "start_time": "2023-10-26T21:13:06.459Z"
   },
   {
    "duration": 5,
    "start_time": "2023-10-26T21:13:10.360Z"
   },
   {
    "duration": 5,
    "start_time": "2023-10-26T21:13:13.807Z"
   },
   {
    "duration": 4,
    "start_time": "2023-10-26T21:13:18.977Z"
   },
   {
    "duration": 6,
    "start_time": "2023-10-26T21:13:30.189Z"
   },
   {
    "duration": 1389,
    "start_time": "2023-10-26T21:14:06.363Z"
   },
   {
    "duration": 5,
    "start_time": "2023-10-26T21:14:17.622Z"
   },
   {
    "duration": 6,
    "start_time": "2023-10-26T21:14:22.493Z"
   },
   {
    "duration": 5,
    "start_time": "2023-10-26T21:14:36.667Z"
   },
   {
    "duration": 5,
    "start_time": "2023-10-26T21:14:40.468Z"
   },
   {
    "duration": 5,
    "start_time": "2023-10-26T21:14:45.123Z"
   },
   {
    "duration": 5,
    "start_time": "2023-10-26T21:14:47.498Z"
   },
   {
    "duration": 5,
    "start_time": "2023-10-26T21:14:50.367Z"
   },
   {
    "duration": 18,
    "start_time": "2023-10-26T21:14:57.934Z"
   },
   {
    "duration": 7,
    "start_time": "2023-10-26T21:15:31.321Z"
   },
   {
    "duration": 8,
    "start_time": "2023-10-26T21:15:35.363Z"
   },
   {
    "duration": 8,
    "start_time": "2023-10-26T21:15:38.783Z"
   },
   {
    "duration": 9,
    "start_time": "2023-10-26T21:16:00.553Z"
   },
   {
    "duration": 8,
    "start_time": "2023-10-26T21:16:03.554Z"
   },
   {
    "duration": 20,
    "start_time": "2023-10-26T21:27:13.139Z"
   },
   {
    "duration": 8,
    "start_time": "2023-10-26T21:27:21.412Z"
   },
   {
    "duration": 1513,
    "start_time": "2023-10-26T21:28:26.477Z"
   },
   {
    "duration": 37,
    "start_time": "2023-10-26T21:28:27.991Z"
   },
   {
    "duration": 25,
    "start_time": "2023-10-26T21:28:28.029Z"
   },
   {
    "duration": 17,
    "start_time": "2023-10-26T21:28:28.060Z"
   },
   {
    "duration": 38,
    "start_time": "2023-10-26T21:28:28.078Z"
   },
   {
    "duration": 1596,
    "start_time": "2023-10-26T21:28:28.117Z"
   },
   {
    "duration": 145,
    "start_time": "2023-10-26T21:28:29.714Z"
   },
   {
    "duration": 7,
    "start_time": "2023-10-26T21:28:29.860Z"
   },
   {
    "duration": 3,
    "start_time": "2023-10-26T21:28:29.868Z"
   },
   {
    "duration": 4,
    "start_time": "2023-10-26T21:28:29.873Z"
   },
   {
    "duration": 5,
    "start_time": "2023-10-26T21:28:29.878Z"
   },
   {
    "duration": 4,
    "start_time": "2023-10-26T21:28:29.884Z"
   },
   {
    "duration": 3,
    "start_time": "2023-10-26T21:28:29.889Z"
   },
   {
    "duration": 12,
    "start_time": "2023-10-26T21:28:29.893Z"
   },
   {
    "duration": 15,
    "start_time": "2023-10-26T21:28:29.906Z"
   },
   {
    "duration": 9,
    "start_time": "2023-10-26T21:28:29.922Z"
   },
   {
    "duration": 16,
    "start_time": "2023-10-26T21:28:29.932Z"
   },
   {
    "duration": 2,
    "start_time": "2023-10-26T21:28:29.953Z"
   },
   {
    "duration": 12,
    "start_time": "2023-10-26T21:28:29.957Z"
   },
   {
    "duration": 3,
    "start_time": "2023-10-26T21:28:29.971Z"
   },
   {
    "duration": 13,
    "start_time": "2023-10-26T21:28:29.975Z"
   },
   {
    "duration": 8,
    "start_time": "2023-10-26T21:28:29.989Z"
   },
   {
    "duration": 8,
    "start_time": "2023-10-26T21:28:29.999Z"
   },
   {
    "duration": 54,
    "start_time": "2023-10-26T21:28:30.008Z"
   },
   {
    "duration": 22,
    "start_time": "2023-10-26T21:28:30.064Z"
   },
   {
    "duration": 48,
    "start_time": "2023-10-26T21:28:30.087Z"
   },
   {
    "duration": 52,
    "start_time": "2023-10-26T21:28:30.136Z"
   },
   {
    "duration": 44,
    "start_time": "2023-10-26T21:28:30.191Z"
   },
   {
    "duration": 27,
    "start_time": "2023-10-26T21:28:30.236Z"
   },
   {
    "duration": 37,
    "start_time": "2023-10-26T21:28:30.264Z"
   },
   {
    "duration": 64,
    "start_time": "2023-10-26T21:28:30.303Z"
   },
   {
    "duration": 38,
    "start_time": "2023-10-26T21:28:30.369Z"
   },
   {
    "duration": 49,
    "start_time": "2023-10-26T21:28:30.409Z"
   },
   {
    "duration": 41,
    "start_time": "2023-10-26T21:28:30.459Z"
   },
   {
    "duration": 32,
    "start_time": "2023-10-26T21:28:30.502Z"
   },
   {
    "duration": 309,
    "start_time": "2023-10-26T21:28:30.535Z"
   },
   {
    "duration": 258,
    "start_time": "2023-10-26T21:28:30.846Z"
   },
   {
    "duration": 318,
    "start_time": "2023-10-26T21:28:31.105Z"
   },
   {
    "duration": 158,
    "start_time": "2023-10-26T21:28:31.424Z"
   },
   {
    "duration": 78452,
    "start_time": "2023-10-26T21:28:31.583Z"
   },
   {
    "duration": 161,
    "start_time": "2023-10-26T21:29:50.039Z"
   },
   {
    "duration": 12,
    "start_time": "2023-10-26T21:29:50.202Z"
   },
   {
    "duration": 162,
    "start_time": "2023-10-26T21:29:50.216Z"
   },
   {
    "duration": 572,
    "start_time": "2023-10-26T21:29:50.380Z"
   },
   {
    "duration": 275,
    "start_time": "2023-10-26T21:29:50.960Z"
   },
   {
    "duration": 42,
    "start_time": "2023-10-26T21:29:51.236Z"
   },
   {
    "duration": 155,
    "start_time": "2023-10-26T21:29:51.279Z"
   },
   {
    "duration": 396,
    "start_time": "2023-10-26T21:29:51.436Z"
   },
   {
    "duration": 167,
    "start_time": "2023-10-26T21:29:51.833Z"
   },
   {
    "duration": 9,
    "start_time": "2023-10-26T21:29:52.001Z"
   },
   {
    "duration": 24,
    "start_time": "2023-10-26T21:29:52.011Z"
   },
   {
    "duration": 4,
    "start_time": "2023-10-26T21:30:47.299Z"
   },
   {
    "duration": 4,
    "start_time": "2023-10-26T21:34:28.513Z"
   },
   {
    "duration": 10,
    "start_time": "2023-10-26T21:42:00.823Z"
   },
   {
    "duration": 3,
    "start_time": "2023-10-26T21:42:33.062Z"
   },
   {
    "duration": 3,
    "start_time": "2023-10-26T21:43:48.246Z"
   },
   {
    "duration": 1257,
    "start_time": "2023-10-26T21:54:25.790Z"
   },
   {
    "duration": 36,
    "start_time": "2023-10-26T21:54:27.049Z"
   },
   {
    "duration": 15,
    "start_time": "2023-10-26T21:54:27.086Z"
   },
   {
    "duration": 10,
    "start_time": "2023-10-26T21:54:27.103Z"
   },
   {
    "duration": 35,
    "start_time": "2023-10-26T21:54:27.114Z"
   },
   {
    "duration": 1551,
    "start_time": "2023-10-26T21:54:27.150Z"
   },
   {
    "duration": 134,
    "start_time": "2023-10-26T21:54:28.703Z"
   },
   {
    "duration": 6,
    "start_time": "2023-10-26T21:54:28.839Z"
   },
   {
    "duration": 8,
    "start_time": "2023-10-26T21:54:28.847Z"
   },
   {
    "duration": 4,
    "start_time": "2023-10-26T21:54:28.857Z"
   },
   {
    "duration": 6,
    "start_time": "2023-10-26T21:54:28.862Z"
   },
   {
    "duration": 6,
    "start_time": "2023-10-26T21:54:28.870Z"
   },
   {
    "duration": 5,
    "start_time": "2023-10-26T21:54:28.877Z"
   },
   {
    "duration": 12,
    "start_time": "2023-10-26T21:54:28.884Z"
   },
   {
    "duration": 15,
    "start_time": "2023-10-26T21:54:28.898Z"
   },
   {
    "duration": 26,
    "start_time": "2023-10-26T21:54:28.915Z"
   },
   {
    "duration": 4,
    "start_time": "2023-10-26T21:54:28.942Z"
   },
   {
    "duration": 12,
    "start_time": "2023-10-26T21:54:28.947Z"
   },
   {
    "duration": 6,
    "start_time": "2023-10-26T21:54:28.961Z"
   },
   {
    "duration": 26,
    "start_time": "2023-10-26T21:54:28.968Z"
   },
   {
    "duration": 23,
    "start_time": "2023-10-26T21:54:28.995Z"
   },
   {
    "duration": 9,
    "start_time": "2023-10-26T21:54:29.019Z"
   },
   {
    "duration": 9,
    "start_time": "2023-10-26T21:54:29.029Z"
   },
   {
    "duration": 6,
    "start_time": "2023-10-26T21:54:29.039Z"
   },
   {
    "duration": 6,
    "start_time": "2023-10-26T21:54:29.046Z"
   },
   {
    "duration": 5,
    "start_time": "2023-10-26T21:54:29.053Z"
   },
   {
    "duration": 3,
    "start_time": "2023-10-26T21:54:29.059Z"
   },
   {
    "duration": 19,
    "start_time": "2023-10-26T21:54:29.066Z"
   },
   {
    "duration": 10,
    "start_time": "2023-10-26T21:54:29.086Z"
   },
   {
    "duration": 42,
    "start_time": "2023-10-26T21:54:29.097Z"
   },
   {
    "duration": 16,
    "start_time": "2023-10-26T21:54:29.141Z"
   },
   {
    "duration": 5,
    "start_time": "2023-10-26T21:54:29.158Z"
   },
   {
    "duration": 4,
    "start_time": "2023-10-26T21:54:29.164Z"
   },
   {
    "duration": 4,
    "start_time": "2023-10-26T21:54:29.170Z"
   },
   {
    "duration": 11,
    "start_time": "2023-10-26T21:54:29.176Z"
   },
   {
    "duration": 456,
    "start_time": "2023-10-26T21:54:29.189Z"
   },
   {
    "duration": 236,
    "start_time": "2023-10-26T21:54:29.647Z"
   },
   {
    "duration": 313,
    "start_time": "2023-10-26T21:54:29.884Z"
   },
   {
    "duration": 147,
    "start_time": "2023-10-26T21:54:30.198Z"
   },
   {
    "duration": 75358,
    "start_time": "2023-10-26T21:54:30.347Z"
   },
   {
    "duration": 142,
    "start_time": "2023-10-26T21:55:45.707Z"
   },
   {
    "duration": 11,
    "start_time": "2023-10-26T21:55:45.850Z"
   },
   {
    "duration": 158,
    "start_time": "2023-10-26T21:55:45.862Z"
   },
   {
    "duration": 130,
    "start_time": "2023-10-26T21:55:46.021Z"
   },
   {
    "duration": 308,
    "start_time": "2023-10-26T21:55:46.153Z"
   },
   {
    "duration": 30,
    "start_time": "2023-10-26T21:55:46.462Z"
   },
   {
    "duration": 158,
    "start_time": "2023-10-26T21:55:46.493Z"
   },
   {
    "duration": 358,
    "start_time": "2023-10-26T21:55:46.652Z"
   },
   {
    "duration": 161,
    "start_time": "2023-10-26T21:55:47.012Z"
   },
   {
    "duration": 9,
    "start_time": "2023-10-26T21:55:47.174Z"
   },
   {
    "duration": 10,
    "start_time": "2023-10-26T21:55:47.184Z"
   },
   {
    "duration": 13,
    "start_time": "2023-10-26T21:55:47.196Z"
   },
   {
    "duration": 8,
    "start_time": "2023-10-26T21:55:47.210Z"
   },
   {
    "duration": 27,
    "start_time": "2023-10-26T21:55:47.220Z"
   },
   {
    "duration": 292,
    "start_time": "2023-10-26T21:55:47.248Z"
   },
   {
    "duration": 254,
    "start_time": "2023-10-26T21:55:47.541Z"
   },
   {
    "duration": 35,
    "start_time": "2023-10-26T21:55:47.796Z"
   },
   {
    "duration": 225,
    "start_time": "2023-10-26T21:55:47.839Z"
   },
   {
    "duration": 486,
    "start_time": "2023-10-26T21:55:48.066Z"
   },
   {
    "duration": 159,
    "start_time": "2023-10-26T21:55:48.553Z"
   },
   {
    "duration": 8,
    "start_time": "2023-10-26T21:57:04.565Z"
   },
   {
    "duration": 9,
    "start_time": "2023-10-26T21:57:40.829Z"
   },
   {
    "duration": 9,
    "start_time": "2023-10-26T21:57:42.944Z"
   },
   {
    "duration": 11,
    "start_time": "2023-10-26T21:57:45.833Z"
   },
   {
    "duration": 4,
    "start_time": "2023-10-26T21:59:29.198Z"
   },
   {
    "duration": 3,
    "start_time": "2023-10-26T21:59:38.958Z"
   },
   {
    "duration": 3,
    "start_time": "2023-10-26T21:59:46.421Z"
   },
   {
    "duration": 1209,
    "start_time": "2023-10-26T22:04:25.868Z"
   },
   {
    "duration": 37,
    "start_time": "2023-10-26T22:04:27.078Z"
   },
   {
    "duration": 14,
    "start_time": "2023-10-26T22:04:27.116Z"
   },
   {
    "duration": 10,
    "start_time": "2023-10-26T22:04:27.132Z"
   },
   {
    "duration": 32,
    "start_time": "2023-10-26T22:04:27.144Z"
   },
   {
    "duration": 1523,
    "start_time": "2023-10-26T22:04:27.178Z"
   },
   {
    "duration": 134,
    "start_time": "2023-10-26T22:04:28.702Z"
   },
   {
    "duration": 7,
    "start_time": "2023-10-26T22:04:28.839Z"
   },
   {
    "duration": 4,
    "start_time": "2023-10-26T22:04:28.847Z"
   },
   {
    "duration": 4,
    "start_time": "2023-10-26T22:04:28.852Z"
   },
   {
    "duration": 6,
    "start_time": "2023-10-26T22:04:28.857Z"
   },
   {
    "duration": 18,
    "start_time": "2023-10-26T22:04:28.864Z"
   },
   {
    "duration": 14,
    "start_time": "2023-10-26T22:04:28.883Z"
   },
   {
    "duration": 24,
    "start_time": "2023-10-26T22:04:28.900Z"
   },
   {
    "duration": 20,
    "start_time": "2023-10-26T22:04:28.926Z"
   },
   {
    "duration": 9,
    "start_time": "2023-10-26T22:04:28.947Z"
   },
   {
    "duration": 15,
    "start_time": "2023-10-26T22:04:28.957Z"
   },
   {
    "duration": 9,
    "start_time": "2023-10-26T22:04:28.973Z"
   },
   {
    "duration": 11,
    "start_time": "2023-10-26T22:04:28.983Z"
   },
   {
    "duration": 15,
    "start_time": "2023-10-26T22:04:28.995Z"
   },
   {
    "duration": 19,
    "start_time": "2023-10-26T22:04:29.011Z"
   },
   {
    "duration": 16,
    "start_time": "2023-10-26T22:04:29.031Z"
   },
   {
    "duration": 13,
    "start_time": "2023-10-26T22:04:29.048Z"
   },
   {
    "duration": 21,
    "start_time": "2023-10-26T22:04:29.063Z"
   },
   {
    "duration": 18,
    "start_time": "2023-10-26T22:04:29.086Z"
   },
   {
    "duration": 5,
    "start_time": "2023-10-26T22:04:29.105Z"
   },
   {
    "duration": 28,
    "start_time": "2023-10-26T22:04:29.112Z"
   },
   {
    "duration": 21,
    "start_time": "2023-10-26T22:04:29.141Z"
   },
   {
    "duration": 17,
    "start_time": "2023-10-26T22:04:29.163Z"
   },
   {
    "duration": 36,
    "start_time": "2023-10-26T22:04:29.181Z"
   },
   {
    "duration": 22,
    "start_time": "2023-10-26T22:04:29.218Z"
   },
   {
    "duration": 5,
    "start_time": "2023-10-26T22:04:29.241Z"
   },
   {
    "duration": 16,
    "start_time": "2023-10-26T22:04:29.247Z"
   },
   {
    "duration": 11,
    "start_time": "2023-10-26T22:04:29.265Z"
   },
   {
    "duration": 36,
    "start_time": "2023-10-26T22:04:29.278Z"
   },
   {
    "duration": 126,
    "start_time": "2023-10-26T22:04:29.315Z"
   },
   {
    "duration": 233,
    "start_time": "2023-10-26T22:04:29.443Z"
   },
   {
    "duration": 311,
    "start_time": "2023-10-26T22:04:29.678Z"
   },
   {
    "duration": 154,
    "start_time": "2023-10-26T22:04:29.991Z"
   },
   {
    "duration": 74529,
    "start_time": "2023-10-26T22:04:30.146Z"
   },
   {
    "duration": 140,
    "start_time": "2023-10-26T22:05:44.679Z"
   },
   {
    "duration": 22,
    "start_time": "2023-10-26T22:05:44.821Z"
   },
   {
    "duration": 142,
    "start_time": "2023-10-26T22:05:44.845Z"
   },
   {
    "duration": 153,
    "start_time": "2023-10-26T22:05:44.989Z"
   },
   {
    "duration": 244,
    "start_time": "2023-10-26T22:05:45.143Z"
   },
   {
    "duration": 29,
    "start_time": "2023-10-26T22:05:45.388Z"
   },
   {
    "duration": 156,
    "start_time": "2023-10-26T22:05:45.418Z"
   },
   {
    "duration": 354,
    "start_time": "2023-10-26T22:05:45.575Z"
   },
   {
    "duration": 154,
    "start_time": "2023-10-26T22:05:45.930Z"
   },
   {
    "duration": 9,
    "start_time": "2023-10-26T22:05:46.085Z"
   },
   {
    "duration": 16,
    "start_time": "2023-10-26T22:05:46.095Z"
   },
   {
    "duration": 24,
    "start_time": "2023-10-26T22:05:46.112Z"
   },
   {
    "duration": 26,
    "start_time": "2023-10-26T22:05:46.137Z"
   },
   {
    "duration": 10,
    "start_time": "2023-10-26T22:05:46.165Z"
   },
   {
    "duration": 264,
    "start_time": "2023-10-26T22:05:46.176Z"
   },
   {
    "duration": 230,
    "start_time": "2023-10-26T22:05:46.442Z"
   },
   {
    "duration": 35,
    "start_time": "2023-10-26T22:05:46.674Z"
   },
   {
    "duration": 228,
    "start_time": "2023-10-26T22:05:46.711Z"
   },
   {
    "duration": 485,
    "start_time": "2023-10-26T22:05:46.941Z"
   },
   {
    "duration": 162,
    "start_time": "2023-10-26T22:05:47.428Z"
   },
   {
    "duration": 10,
    "start_time": "2023-10-26T22:05:47.591Z"
   },
   {
    "duration": 11,
    "start_time": "2023-10-26T22:05:47.602Z"
   },
   {
    "duration": 8,
    "start_time": "2023-10-26T22:09:14.172Z"
   },
   {
    "duration": 2,
    "start_time": "2023-10-26T22:09:58.803Z"
   },
   {
    "duration": 3,
    "start_time": "2023-10-26T22:10:35.289Z"
   },
   {
    "duration": 1229,
    "start_time": "2023-10-26T22:16:27.240Z"
   },
   {
    "duration": 36,
    "start_time": "2023-10-26T22:16:28.471Z"
   },
   {
    "duration": 15,
    "start_time": "2023-10-26T22:16:28.508Z"
   },
   {
    "duration": 11,
    "start_time": "2023-10-26T22:16:28.526Z"
   },
   {
    "duration": 32,
    "start_time": "2023-10-26T22:16:28.538Z"
   },
   {
    "duration": 1613,
    "start_time": "2023-10-26T22:16:28.572Z"
   },
   {
    "duration": 167,
    "start_time": "2023-10-26T22:16:30.186Z"
   },
   {
    "duration": 7,
    "start_time": "2023-10-26T22:16:30.355Z"
   },
   {
    "duration": 19,
    "start_time": "2023-10-26T22:16:30.363Z"
   },
   {
    "duration": 17,
    "start_time": "2023-10-26T22:16:30.384Z"
   },
   {
    "duration": 29,
    "start_time": "2023-10-26T22:16:30.402Z"
   },
   {
    "duration": 22,
    "start_time": "2023-10-26T22:16:30.432Z"
   },
   {
    "duration": 28,
    "start_time": "2023-10-26T22:16:30.455Z"
   },
   {
    "duration": 30,
    "start_time": "2023-10-26T22:16:30.484Z"
   },
   {
    "duration": 36,
    "start_time": "2023-10-26T22:16:30.515Z"
   },
   {
    "duration": 20,
    "start_time": "2023-10-26T22:16:30.553Z"
   },
   {
    "duration": 16,
    "start_time": "2023-10-26T22:16:30.574Z"
   },
   {
    "duration": 42,
    "start_time": "2023-10-26T22:16:30.592Z"
   },
   {
    "duration": 19,
    "start_time": "2023-10-26T22:16:30.635Z"
   },
   {
    "duration": 37,
    "start_time": "2023-10-26T22:16:30.655Z"
   },
   {
    "duration": 35,
    "start_time": "2023-10-26T22:16:30.694Z"
   },
   {
    "duration": 32,
    "start_time": "2023-10-26T22:16:30.730Z"
   },
   {
    "duration": 32,
    "start_time": "2023-10-26T22:16:30.763Z"
   },
   {
    "duration": 19,
    "start_time": "2023-10-26T22:16:30.797Z"
   },
   {
    "duration": 21,
    "start_time": "2023-10-26T22:16:30.818Z"
   },
   {
    "duration": 35,
    "start_time": "2023-10-26T22:16:30.841Z"
   },
   {
    "duration": 36,
    "start_time": "2023-10-26T22:16:30.877Z"
   },
   {
    "duration": 41,
    "start_time": "2023-10-26T22:16:30.917Z"
   },
   {
    "duration": 47,
    "start_time": "2023-10-26T22:16:30.960Z"
   },
   {
    "duration": 37,
    "start_time": "2023-10-26T22:16:31.008Z"
   },
   {
    "duration": 26,
    "start_time": "2023-10-26T22:16:31.046Z"
   },
   {
    "duration": 24,
    "start_time": "2023-10-26T22:16:31.073Z"
   },
   {
    "duration": 33,
    "start_time": "2023-10-26T22:16:31.098Z"
   },
   {
    "duration": 29,
    "start_time": "2023-10-26T22:16:31.133Z"
   },
   {
    "duration": 31,
    "start_time": "2023-10-26T22:16:31.163Z"
   },
   {
    "duration": 146,
    "start_time": "2023-10-26T22:16:31.196Z"
   },
   {
    "duration": 236,
    "start_time": "2023-10-26T22:16:31.344Z"
   },
   {
    "duration": 310,
    "start_time": "2023-10-26T22:16:31.582Z"
   },
   {
    "duration": 148,
    "start_time": "2023-10-26T22:16:31.893Z"
   },
   {
    "duration": 75153,
    "start_time": "2023-10-26T22:16:32.043Z"
   },
   {
    "duration": 148,
    "start_time": "2023-10-26T22:17:47.197Z"
   },
   {
    "duration": 11,
    "start_time": "2023-10-26T22:17:47.347Z"
   },
   {
    "duration": 159,
    "start_time": "2023-10-26T22:17:47.359Z"
   },
   {
    "duration": 322,
    "start_time": "2023-10-26T22:17:47.520Z"
   },
   {
    "duration": 245,
    "start_time": "2023-10-26T22:17:47.843Z"
   },
   {
    "duration": 30,
    "start_time": "2023-10-26T22:17:48.090Z"
   },
   {
    "duration": 167,
    "start_time": "2023-10-26T22:17:48.122Z"
   },
   {
    "duration": 362,
    "start_time": "2023-10-26T22:17:48.291Z"
   },
   {
    "duration": 162,
    "start_time": "2023-10-26T22:17:48.654Z"
   },
   {
    "duration": 9,
    "start_time": "2023-10-26T22:17:48.818Z"
   },
   {
    "duration": 18,
    "start_time": "2023-10-26T22:17:48.828Z"
   },
   {
    "duration": 10,
    "start_time": "2023-10-26T22:17:48.847Z"
   },
   {
    "duration": 34,
    "start_time": "2023-10-26T22:17:48.858Z"
   },
   {
    "duration": 16,
    "start_time": "2023-10-26T22:17:48.893Z"
   },
   {
    "duration": 129,
    "start_time": "2023-10-26T22:17:48.911Z"
   },
   {
    "duration": 247,
    "start_time": "2023-10-26T22:17:49.042Z"
   },
   {
    "duration": 34,
    "start_time": "2023-10-26T22:17:49.291Z"
   },
   {
    "duration": 231,
    "start_time": "2023-10-26T22:17:49.326Z"
   },
   {
    "duration": 490,
    "start_time": "2023-10-26T22:17:49.558Z"
   },
   {
    "duration": 165,
    "start_time": "2023-10-26T22:17:50.049Z"
   },
   {
    "duration": 8,
    "start_time": "2023-10-26T22:17:50.216Z"
   },
   {
    "duration": 22,
    "start_time": "2023-10-26T22:17:50.225Z"
   },
   {
    "duration": 11,
    "start_time": "2023-10-26T22:17:50.248Z"
   },
   {
    "duration": 12,
    "start_time": "2023-10-26T22:17:50.260Z"
   },
   {
    "duration": 80,
    "start_time": "2023-10-26T22:17:50.273Z"
   },
   {
    "duration": 244,
    "start_time": "2023-10-26T22:17:50.441Z"
   },
   {
    "duration": 20,
    "start_time": "2023-10-26T22:17:50.687Z"
   },
   {
    "duration": 167,
    "start_time": "2023-10-26T22:17:50.709Z"
   },
   {
    "duration": 223,
    "start_time": "2023-10-26T22:17:50.878Z"
   },
   {
    "duration": 161,
    "start_time": "2023-10-26T22:17:51.103Z"
   },
   {
    "duration": 9,
    "start_time": "2023-10-26T22:17:51.265Z"
   },
   {
    "duration": 13,
    "start_time": "2023-10-26T22:17:51.275Z"
   },
   {
    "duration": 17,
    "start_time": "2023-10-26T22:17:51.290Z"
   },
   {
    "duration": 3,
    "start_time": "2023-10-26T22:20:10.135Z"
   },
   {
    "duration": 4,
    "start_time": "2023-10-26T22:21:01.960Z"
   },
   {
    "duration": 4,
    "start_time": "2023-10-26T22:23:22.649Z"
   },
   {
    "duration": 3,
    "start_time": "2023-10-26T22:23:33.314Z"
   },
   {
    "duration": 3,
    "start_time": "2023-10-26T22:24:14.168Z"
   },
   {
    "duration": 4,
    "start_time": "2023-10-26T22:24:54.704Z"
   },
   {
    "duration": 9,
    "start_time": "2023-10-26T22:58:51.214Z"
   },
   {
    "duration": 6,
    "start_time": "2023-10-26T22:59:02.392Z"
   },
   {
    "duration": 5,
    "start_time": "2023-10-26T22:59:07.294Z"
   },
   {
    "duration": 5,
    "start_time": "2023-10-26T22:59:11.804Z"
   },
   {
    "duration": 6,
    "start_time": "2023-10-26T23:00:42.667Z"
   },
   {
    "duration": 7,
    "start_time": "2023-10-26T23:00:59.204Z"
   },
   {
    "duration": 6,
    "start_time": "2023-10-26T23:01:30.234Z"
   },
   {
    "duration": 7,
    "start_time": "2023-10-26T23:01:42.104Z"
   },
   {
    "duration": 6,
    "start_time": "2023-10-26T23:02:12.270Z"
   },
   {
    "duration": 6,
    "start_time": "2023-10-26T23:02:35.178Z"
   },
   {
    "duration": 102,
    "start_time": "2023-10-26T23:04:46.695Z"
   },
   {
    "duration": 9,
    "start_time": "2023-10-26T23:05:01.772Z"
   },
   {
    "duration": 8,
    "start_time": "2023-10-26T23:05:20.863Z"
   },
   {
    "duration": 8,
    "start_time": "2023-10-26T23:05:51.352Z"
   },
   {
    "duration": 12,
    "start_time": "2023-10-26T23:06:09.238Z"
   },
   {
    "duration": 1326,
    "start_time": "2023-10-26T23:08:47.127Z"
   },
   {
    "duration": 37,
    "start_time": "2023-10-26T23:08:48.455Z"
   },
   {
    "duration": 14,
    "start_time": "2023-10-26T23:08:48.493Z"
   },
   {
    "duration": 10,
    "start_time": "2023-10-26T23:08:48.509Z"
   },
   {
    "duration": 39,
    "start_time": "2023-10-26T23:08:48.520Z"
   },
   {
    "duration": 1569,
    "start_time": "2023-10-26T23:08:48.560Z"
   },
   {
    "duration": 140,
    "start_time": "2023-10-26T23:08:50.131Z"
   },
   {
    "duration": 8,
    "start_time": "2023-10-26T23:08:50.272Z"
   },
   {
    "duration": 25,
    "start_time": "2023-10-26T23:08:50.281Z"
   },
   {
    "duration": 25,
    "start_time": "2023-10-26T23:08:50.308Z"
   },
   {
    "duration": 22,
    "start_time": "2023-10-26T23:08:50.334Z"
   },
   {
    "duration": 12,
    "start_time": "2023-10-26T23:08:50.358Z"
   },
   {
    "duration": 12,
    "start_time": "2023-10-26T23:08:50.372Z"
   },
   {
    "duration": 28,
    "start_time": "2023-10-26T23:08:50.386Z"
   },
   {
    "duration": 13,
    "start_time": "2023-10-26T23:08:50.415Z"
   },
   {
    "duration": 9,
    "start_time": "2023-10-26T23:08:50.429Z"
   },
   {
    "duration": 12,
    "start_time": "2023-10-26T23:08:50.444Z"
   },
   {
    "duration": 10,
    "start_time": "2023-10-26T23:08:50.458Z"
   },
   {
    "duration": 5,
    "start_time": "2023-10-26T23:08:50.469Z"
   },
   {
    "duration": 15,
    "start_time": "2023-10-26T23:08:50.476Z"
   },
   {
    "duration": 26,
    "start_time": "2023-10-26T23:08:50.492Z"
   },
   {
    "duration": 34,
    "start_time": "2023-10-26T23:08:50.520Z"
   },
   {
    "duration": 30,
    "start_time": "2023-10-26T23:08:50.555Z"
   },
   {
    "duration": 14,
    "start_time": "2023-10-26T23:08:50.586Z"
   },
   {
    "duration": 5,
    "start_time": "2023-10-26T23:08:50.601Z"
   },
   {
    "duration": 12,
    "start_time": "2023-10-26T23:08:50.607Z"
   },
   {
    "duration": 12,
    "start_time": "2023-10-26T23:08:50.620Z"
   },
   {
    "duration": 33,
    "start_time": "2023-10-26T23:08:50.636Z"
   },
   {
    "duration": 9,
    "start_time": "2023-10-26T23:08:50.671Z"
   },
   {
    "duration": 40,
    "start_time": "2023-10-26T23:08:50.682Z"
   },
   {
    "duration": 36,
    "start_time": "2023-10-26T23:08:50.724Z"
   },
   {
    "duration": 5,
    "start_time": "2023-10-26T23:08:50.762Z"
   },
   {
    "duration": 4,
    "start_time": "2023-10-26T23:08:50.769Z"
   },
   {
    "duration": 11,
    "start_time": "2023-10-26T23:08:50.775Z"
   },
   {
    "duration": 30,
    "start_time": "2023-10-26T23:08:50.788Z"
   },
   {
    "duration": 736,
    "start_time": "2023-10-26T23:08:50.819Z"
   },
   {
    "duration": 232,
    "start_time": "2023-10-26T23:08:51.557Z"
   },
   {
    "duration": 315,
    "start_time": "2023-10-26T23:08:51.791Z"
   },
   {
    "duration": 152,
    "start_time": "2023-10-26T23:08:52.107Z"
   },
   {
    "duration": 77495,
    "start_time": "2023-10-26T23:08:52.261Z"
   },
   {
    "duration": 151,
    "start_time": "2023-10-26T23:10:09.757Z"
   },
   {
    "duration": 10,
    "start_time": "2023-10-26T23:10:09.909Z"
   },
   {
    "duration": 161,
    "start_time": "2023-10-26T23:10:09.921Z"
   },
   {
    "duration": 277,
    "start_time": "2023-10-26T23:10:10.083Z"
   },
   {
    "duration": 317,
    "start_time": "2023-10-26T23:10:10.362Z"
   },
   {
    "duration": 31,
    "start_time": "2023-10-26T23:10:10.681Z"
   },
   {
    "duration": 175,
    "start_time": "2023-10-26T23:10:10.713Z"
   },
   {
    "duration": 371,
    "start_time": "2023-10-26T23:10:10.890Z"
   },
   {
    "duration": 159,
    "start_time": "2023-10-26T23:10:11.262Z"
   },
   {
    "duration": 19,
    "start_time": "2023-10-26T23:10:11.423Z"
   },
   {
    "duration": 26,
    "start_time": "2023-10-26T23:10:11.453Z"
   },
   {
    "duration": 41,
    "start_time": "2023-10-26T23:10:11.480Z"
   },
   {
    "duration": 44,
    "start_time": "2023-10-26T23:10:11.522Z"
   },
   {
    "duration": 20,
    "start_time": "2023-10-26T23:10:11.568Z"
   },
   {
    "duration": 574,
    "start_time": "2023-10-26T23:10:11.590Z"
   },
   {
    "duration": 172,
    "start_time": "2023-10-26T23:10:12.239Z"
   },
   {
    "duration": 56,
    "start_time": "2023-10-26T23:10:12.414Z"
   },
   {
    "duration": 242,
    "start_time": "2023-10-26T23:10:12.472Z"
   },
   {
    "duration": 488,
    "start_time": "2023-10-26T23:10:12.715Z"
   },
   {
    "duration": 168,
    "start_time": "2023-10-26T23:10:13.205Z"
   },
   {
    "duration": 8,
    "start_time": "2023-10-26T23:10:13.375Z"
   },
   {
    "duration": 38,
    "start_time": "2023-10-26T23:10:13.384Z"
   },
   {
    "duration": 30,
    "start_time": "2023-10-26T23:10:13.423Z"
   },
   {
    "duration": 41,
    "start_time": "2023-10-26T23:10:13.455Z"
   },
   {
    "duration": 63,
    "start_time": "2023-10-26T23:10:13.497Z"
   },
   {
    "duration": 343,
    "start_time": "2023-10-26T23:10:13.561Z"
   },
   {
    "duration": 23,
    "start_time": "2023-10-26T23:10:13.905Z"
   },
   {
    "duration": 166,
    "start_time": "2023-10-26T23:10:13.929Z"
   },
   {
    "duration": 223,
    "start_time": "2023-10-26T23:10:14.096Z"
   },
   {
    "duration": 160,
    "start_time": "2023-10-26T23:10:14.320Z"
   },
   {
    "duration": 8,
    "start_time": "2023-10-26T23:10:14.482Z"
   },
   {
    "duration": 36,
    "start_time": "2023-10-26T23:10:14.492Z"
   },
   {
    "duration": 47,
    "start_time": "2023-10-26T23:10:14.529Z"
   },
   {
    "duration": 30,
    "start_time": "2023-10-26T23:10:14.577Z"
   },
   {
    "duration": 29,
    "start_time": "2023-10-26T23:10:14.608Z"
   },
   {
    "duration": 23,
    "start_time": "2023-10-26T23:10:14.638Z"
   },
   {
    "duration": 17,
    "start_time": "2023-10-26T23:10:14.663Z"
   },
   {
    "duration": 29,
    "start_time": "2023-10-26T23:10:14.681Z"
   },
   {
    "duration": 37,
    "start_time": "2023-10-26T23:10:14.711Z"
   },
   {
    "duration": 645,
    "start_time": "2023-10-26T23:10:14.752Z"
   },
   {
    "duration": 165,
    "start_time": "2023-10-26T23:10:15.399Z"
   },
   {
    "duration": 9,
    "start_time": "2023-10-26T23:10:15.568Z"
   },
   {
    "duration": 51,
    "start_time": "2023-10-27T21:09:04.018Z"
   },
   {
    "duration": 1548,
    "start_time": "2023-10-27T21:09:10.947Z"
   },
   {
    "duration": 89,
    "start_time": "2023-10-27T21:09:12.497Z"
   },
   {
    "duration": 18,
    "start_time": "2023-10-27T21:09:12.588Z"
   },
   {
    "duration": 13,
    "start_time": "2023-10-27T21:09:12.608Z"
   },
   {
    "duration": 52,
    "start_time": "2023-10-27T21:09:12.622Z"
   },
   {
    "duration": 1621,
    "start_time": "2023-10-27T21:09:12.676Z"
   },
   {
    "duration": 136,
    "start_time": "2023-10-27T21:09:14.299Z"
   },
   {
    "duration": 7,
    "start_time": "2023-10-27T21:09:14.439Z"
   },
   {
    "duration": 5,
    "start_time": "2023-10-27T21:09:14.447Z"
   },
   {
    "duration": 3,
    "start_time": "2023-10-27T21:09:14.455Z"
   },
   {
    "duration": 5,
    "start_time": "2023-10-27T21:09:14.459Z"
   },
   {
    "duration": 5,
    "start_time": "2023-10-27T21:09:14.465Z"
   },
   {
    "duration": 4,
    "start_time": "2023-10-27T21:09:14.472Z"
   },
   {
    "duration": 15,
    "start_time": "2023-10-27T21:09:14.478Z"
   },
   {
    "duration": 50,
    "start_time": "2023-10-27T21:09:14.494Z"
   },
   {
    "duration": 10,
    "start_time": "2023-10-27T21:09:14.545Z"
   },
   {
    "duration": 3,
    "start_time": "2023-10-27T21:09:14.556Z"
   },
   {
    "duration": 3,
    "start_time": "2023-10-27T21:09:14.561Z"
   },
   {
    "duration": 5,
    "start_time": "2023-10-27T21:09:14.565Z"
   },
   {
    "duration": 3,
    "start_time": "2023-10-27T21:09:14.572Z"
   },
   {
    "duration": 17,
    "start_time": "2023-10-27T21:09:14.577Z"
   },
   {
    "duration": 55,
    "start_time": "2023-10-27T21:09:14.596Z"
   },
   {
    "duration": 10,
    "start_time": "2023-10-27T21:09:14.652Z"
   },
   {
    "duration": 7,
    "start_time": "2023-10-27T21:09:14.664Z"
   },
   {
    "duration": 5,
    "start_time": "2023-10-27T21:09:14.673Z"
   },
   {
    "duration": 6,
    "start_time": "2023-10-27T21:09:14.679Z"
   },
   {
    "duration": 3,
    "start_time": "2023-10-27T21:09:14.686Z"
   },
   {
    "duration": 15,
    "start_time": "2023-10-27T21:09:14.693Z"
   },
   {
    "duration": 48,
    "start_time": "2023-10-27T21:09:14.710Z"
   },
   {
    "duration": 19,
    "start_time": "2023-10-27T21:09:14.760Z"
   },
   {
    "duration": 23,
    "start_time": "2023-10-27T21:09:14.781Z"
   },
   {
    "duration": 6,
    "start_time": "2023-10-27T21:09:14.805Z"
   },
   {
    "duration": 13,
    "start_time": "2023-10-27T21:09:14.812Z"
   },
   {
    "duration": 5,
    "start_time": "2023-10-27T21:09:14.853Z"
   },
   {
    "duration": 9,
    "start_time": "2023-10-27T21:09:14.859Z"
   },
   {
    "duration": 591,
    "start_time": "2023-10-27T21:09:14.869Z"
   },
   {
    "duration": 244,
    "start_time": "2023-10-27T21:09:15.461Z"
   },
   {
    "duration": 315,
    "start_time": "2023-10-27T21:09:15.706Z"
   },
   {
    "duration": 159,
    "start_time": "2023-10-27T21:09:16.022Z"
   },
   {
    "duration": 79682,
    "start_time": "2023-10-27T21:09:16.182Z"
   },
   {
    "duration": 160,
    "start_time": "2023-10-27T21:10:35.866Z"
   },
   {
    "duration": 17,
    "start_time": "2023-10-27T21:10:36.028Z"
   },
   {
    "duration": 181,
    "start_time": "2023-10-27T21:10:36.046Z"
   },
   {
    "duration": 133,
    "start_time": "2023-10-27T21:10:36.228Z"
   },
   {
    "duration": 169,
    "start_time": "2023-10-27T21:10:36.440Z"
   },
   {
    "duration": 39,
    "start_time": "2023-10-27T21:10:36.610Z"
   },
   {
    "duration": 184,
    "start_time": "2023-10-27T21:10:36.651Z"
   },
   {
    "duration": 394,
    "start_time": "2023-10-27T21:10:36.837Z"
   },
   {
    "duration": 164,
    "start_time": "2023-10-27T21:10:37.233Z"
   },
   {
    "duration": 8,
    "start_time": "2023-10-27T21:10:37.399Z"
   },
   {
    "duration": 11,
    "start_time": "2023-10-27T21:10:37.409Z"
   },
   {
    "duration": 24,
    "start_time": "2023-10-27T21:10:37.421Z"
   },
   {
    "duration": 8,
    "start_time": "2023-10-27T21:10:37.446Z"
   },
   {
    "duration": 12,
    "start_time": "2023-10-27T21:10:37.456Z"
   },
   {
    "duration": 474,
    "start_time": "2023-10-27T21:10:37.470Z"
   },
   {
    "duration": 242,
    "start_time": "2023-10-27T21:10:37.946Z"
   },
   {
    "duration": 36,
    "start_time": "2023-10-27T21:10:38.190Z"
   },
   {
    "duration": 237,
    "start_time": "2023-10-27T21:10:38.228Z"
   },
   {
    "duration": 505,
    "start_time": "2023-10-27T21:10:38.467Z"
   },
   {
    "duration": 159,
    "start_time": "2023-10-27T21:10:38.973Z"
   },
   {
    "duration": 13,
    "start_time": "2023-10-27T21:10:39.133Z"
   },
   {
    "duration": 11,
    "start_time": "2023-10-27T21:10:39.147Z"
   },
   {
    "duration": 9,
    "start_time": "2023-10-27T21:10:39.160Z"
   },
   {
    "duration": 11,
    "start_time": "2023-10-27T21:10:39.170Z"
   },
   {
    "duration": 162,
    "start_time": "2023-10-27T21:10:39.183Z"
   },
   {
    "duration": 272,
    "start_time": "2023-10-27T21:10:39.347Z"
   },
   {
    "duration": 32,
    "start_time": "2023-10-27T21:10:39.620Z"
   },
   {
    "duration": 162,
    "start_time": "2023-10-27T21:10:39.654Z"
   },
   {
    "duration": 262,
    "start_time": "2023-10-27T21:10:39.818Z"
   },
   {
    "duration": 191,
    "start_time": "2023-10-27T21:10:40.081Z"
   },
   {
    "duration": 13,
    "start_time": "2023-10-27T21:10:40.274Z"
   },
   {
    "duration": 12,
    "start_time": "2023-10-27T21:10:40.289Z"
   },
   {
    "duration": 14,
    "start_time": "2023-10-27T21:10:40.302Z"
   },
   {
    "duration": 26,
    "start_time": "2023-10-27T21:10:40.318Z"
   },
   {
    "duration": 13,
    "start_time": "2023-10-27T21:10:40.346Z"
   },
   {
    "duration": 9,
    "start_time": "2023-10-27T21:10:40.361Z"
   },
   {
    "duration": 30,
    "start_time": "2023-10-27T21:10:40.372Z"
   },
   {
    "duration": 18,
    "start_time": "2023-10-27T21:10:40.404Z"
   },
   {
    "duration": 21,
    "start_time": "2023-10-27T21:10:40.423Z"
   },
   {
    "duration": 696,
    "start_time": "2023-10-27T21:10:40.446Z"
   },
   {
    "duration": 167,
    "start_time": "2023-10-27T21:10:41.144Z"
   },
   {
    "duration": 76,
    "start_time": "2023-10-27T21:10:41.317Z"
   },
   {
    "duration": 0,
    "start_time": "2023-10-27T21:10:41.395Z"
   },
   {
    "duration": 0,
    "start_time": "2023-10-27T21:10:41.396Z"
   },
   {
    "duration": 14,
    "start_time": "2023-10-27T21:11:06.572Z"
   },
   {
    "duration": 8,
    "start_time": "2023-10-27T21:11:09.485Z"
   },
   {
    "duration": 5,
    "start_time": "2023-10-27T21:12:12.655Z"
   },
   {
    "duration": 76,
    "start_time": "2023-10-27T21:13:33.734Z"
   },
   {
    "duration": 134,
    "start_time": "2023-10-27T21:13:42.033Z"
   },
   {
    "duration": 104,
    "start_time": "2023-10-27T21:14:09.356Z"
   },
   {
    "duration": 6,
    "start_time": "2023-10-27T21:14:21.818Z"
   },
   {
    "duration": 10,
    "start_time": "2023-10-27T21:14:35.624Z"
   },
   {
    "duration": 1307,
    "start_time": "2023-10-27T22:10:57.198Z"
   },
   {
    "duration": 51,
    "start_time": "2023-10-27T22:10:58.507Z"
   },
   {
    "duration": 14,
    "start_time": "2023-10-27T22:10:58.559Z"
   },
   {
    "duration": 15,
    "start_time": "2023-10-27T22:10:58.575Z"
   },
   {
    "duration": 40,
    "start_time": "2023-10-27T22:10:58.591Z"
   },
   {
    "duration": 1645,
    "start_time": "2023-10-27T22:10:58.632Z"
   },
   {
    "duration": 151,
    "start_time": "2023-10-27T22:11:00.279Z"
   },
   {
    "duration": 16,
    "start_time": "2023-10-27T22:11:00.432Z"
   },
   {
    "duration": 10,
    "start_time": "2023-10-27T22:11:00.449Z"
   },
   {
    "duration": 24,
    "start_time": "2023-10-27T22:11:00.463Z"
   },
   {
    "duration": 35,
    "start_time": "2023-10-27T22:11:00.488Z"
   },
   {
    "duration": 37,
    "start_time": "2023-10-27T22:11:00.525Z"
   },
   {
    "duration": 22,
    "start_time": "2023-10-27T22:11:00.564Z"
   },
   {
    "duration": 41,
    "start_time": "2023-10-27T22:11:00.587Z"
   },
   {
    "duration": 42,
    "start_time": "2023-10-27T22:11:00.629Z"
   },
   {
    "duration": 18,
    "start_time": "2023-10-27T22:11:00.673Z"
   },
   {
    "duration": 25,
    "start_time": "2023-10-27T22:11:00.692Z"
   },
   {
    "duration": 35,
    "start_time": "2023-10-27T22:11:00.718Z"
   },
   {
    "duration": 31,
    "start_time": "2023-10-27T22:11:00.755Z"
   },
   {
    "duration": 72,
    "start_time": "2023-10-27T22:11:00.787Z"
   },
   {
    "duration": 41,
    "start_time": "2023-10-27T22:11:00.861Z"
   },
   {
    "duration": 32,
    "start_time": "2023-10-27T22:11:00.903Z"
   },
   {
    "duration": 34,
    "start_time": "2023-10-27T22:11:00.937Z"
   },
   {
    "duration": 84,
    "start_time": "2023-10-27T22:11:00.972Z"
   },
   {
    "duration": 39,
    "start_time": "2023-10-27T22:11:01.058Z"
   },
   {
    "duration": 62,
    "start_time": "2023-10-27T22:11:01.099Z"
   },
   {
    "duration": 36,
    "start_time": "2023-10-27T22:11:01.162Z"
   },
   {
    "duration": 94,
    "start_time": "2023-10-27T22:11:01.203Z"
   },
   {
    "duration": 68,
    "start_time": "2023-10-27T22:11:01.299Z"
   },
   {
    "duration": 52,
    "start_time": "2023-10-27T22:11:01.368Z"
   },
   {
    "duration": 111,
    "start_time": "2023-10-27T22:11:01.421Z"
   },
   {
    "duration": 77,
    "start_time": "2023-10-27T22:11:01.534Z"
   },
   {
    "duration": 64,
    "start_time": "2023-10-27T22:11:01.613Z"
   },
   {
    "duration": 35,
    "start_time": "2023-10-27T22:11:01.678Z"
   },
   {
    "duration": 51,
    "start_time": "2023-10-27T22:11:01.715Z"
   },
   {
    "duration": 485,
    "start_time": "2023-10-27T22:11:01.769Z"
   },
   {
    "duration": 260,
    "start_time": "2023-10-27T22:11:02.256Z"
   },
   {
    "duration": 347,
    "start_time": "2023-10-27T22:11:02.518Z"
   },
   {
    "duration": 156,
    "start_time": "2023-10-27T22:11:02.866Z"
   },
   {
    "duration": 80395,
    "start_time": "2023-10-27T22:11:03.024Z"
   },
   {
    "duration": 154,
    "start_time": "2023-10-27T22:12:23.420Z"
   },
   {
    "duration": 11,
    "start_time": "2023-10-27T22:12:23.575Z"
   },
   {
    "duration": 171,
    "start_time": "2023-10-27T22:12:23.588Z"
   },
   {
    "duration": 181,
    "start_time": "2023-10-27T22:12:23.761Z"
   },
   {
    "duration": 254,
    "start_time": "2023-10-27T22:12:23.943Z"
   },
   {
    "duration": 46,
    "start_time": "2023-10-27T22:12:24.198Z"
   },
   {
    "duration": 182,
    "start_time": "2023-10-27T22:12:24.245Z"
   },
   {
    "duration": 386,
    "start_time": "2023-10-27T22:12:24.429Z"
   },
   {
    "duration": 169,
    "start_time": "2023-10-27T22:12:24.817Z"
   },
   {
    "duration": 9,
    "start_time": "2023-10-27T22:12:24.987Z"
   },
   {
    "duration": 9,
    "start_time": "2023-10-27T22:12:24.997Z"
   },
   {
    "duration": 10,
    "start_time": "2023-10-27T22:12:25.007Z"
   },
   {
    "duration": 38,
    "start_time": "2023-10-27T22:12:25.018Z"
   },
   {
    "duration": 12,
    "start_time": "2023-10-27T22:12:25.058Z"
   },
   {
    "duration": 476,
    "start_time": "2023-10-27T22:12:25.072Z"
   },
   {
    "duration": 242,
    "start_time": "2023-10-27T22:12:25.552Z"
   },
   {
    "duration": 35,
    "start_time": "2023-10-27T22:12:25.795Z"
   },
   {
    "duration": 236,
    "start_time": "2023-10-27T22:12:25.844Z"
   },
   {
    "duration": 534,
    "start_time": "2023-10-27T22:12:26.081Z"
   },
   {
    "duration": 166,
    "start_time": "2023-10-27T22:12:26.616Z"
   },
   {
    "duration": 9,
    "start_time": "2023-10-27T22:12:26.784Z"
   },
   {
    "duration": 13,
    "start_time": "2023-10-27T22:12:26.795Z"
   },
   {
    "duration": 10,
    "start_time": "2023-10-27T22:12:26.809Z"
   },
   {
    "duration": 33,
    "start_time": "2023-10-27T22:12:26.820Z"
   },
   {
    "duration": 109,
    "start_time": "2023-10-27T22:12:26.854Z"
   },
   {
    "duration": 235,
    "start_time": "2023-10-27T22:12:26.966Z"
   },
   {
    "duration": 21,
    "start_time": "2023-10-27T22:12:27.202Z"
   },
   {
    "duration": 174,
    "start_time": "2023-10-27T22:12:27.224Z"
   },
   {
    "duration": 253,
    "start_time": "2023-10-27T22:12:27.399Z"
   },
   {
    "duration": 157,
    "start_time": "2023-10-27T22:12:27.656Z"
   },
   {
    "duration": 9,
    "start_time": "2023-10-27T22:12:27.815Z"
   },
   {
    "duration": 26,
    "start_time": "2023-10-27T22:12:27.826Z"
   },
   {
    "duration": 20,
    "start_time": "2023-10-27T22:12:27.857Z"
   },
   {
    "duration": 14,
    "start_time": "2023-10-27T22:12:27.878Z"
   },
   {
    "duration": 17,
    "start_time": "2023-10-27T22:12:27.893Z"
   },
   {
    "duration": 11,
    "start_time": "2023-10-27T22:12:27.911Z"
   },
   {
    "duration": 7,
    "start_time": "2023-10-27T22:12:27.923Z"
   },
   {
    "duration": 26,
    "start_time": "2023-10-27T22:12:27.932Z"
   },
   {
    "duration": 18,
    "start_time": "2023-10-27T22:12:27.960Z"
   },
   {
    "duration": 636,
    "start_time": "2023-10-27T22:12:27.980Z"
   },
   {
    "duration": 170,
    "start_time": "2023-10-27T22:12:28.617Z"
   },
   {
    "duration": 9,
    "start_time": "2023-10-27T22:12:28.792Z"
   },
   {
    "duration": 9,
    "start_time": "2023-10-27T22:12:28.803Z"
   },
   {
    "duration": 110,
    "start_time": "2023-10-28T20:30:11.078Z"
   },
   {
    "duration": 54,
    "start_time": "2023-10-28T20:30:47.241Z"
   },
   {
    "duration": 7,
    "start_time": "2023-10-28T20:31:00.755Z"
   },
   {
    "duration": 1700,
    "start_time": "2023-10-28T21:13:30.405Z"
   },
   {
    "duration": 86,
    "start_time": "2023-10-28T21:13:32.108Z"
   },
   {
    "duration": 22,
    "start_time": "2023-10-28T21:13:32.196Z"
   },
   {
    "duration": 15,
    "start_time": "2023-10-28T21:13:32.219Z"
   },
   {
    "duration": 58,
    "start_time": "2023-10-28T21:13:32.236Z"
   },
   {
    "duration": 1923,
    "start_time": "2023-10-28T21:13:32.297Z"
   },
   {
    "duration": 157,
    "start_time": "2023-10-28T21:13:34.222Z"
   },
   {
    "duration": 9,
    "start_time": "2023-10-28T21:13:34.380Z"
   },
   {
    "duration": 25,
    "start_time": "2023-10-28T21:13:34.391Z"
   },
   {
    "duration": 8,
    "start_time": "2023-10-28T21:13:34.417Z"
   },
   {
    "duration": 82,
    "start_time": "2023-10-28T21:14:10.086Z"
   },
   {
    "duration": 10,
    "start_time": "2023-10-28T21:14:14.932Z"
   },
   {
    "duration": 5,
    "start_time": "2023-10-28T21:14:23.551Z"
   },
   {
    "duration": 1448,
    "start_time": "2023-10-28T21:29:33.416Z"
   },
   {
    "duration": 44,
    "start_time": "2023-10-28T21:29:34.866Z"
   },
   {
    "duration": 27,
    "start_time": "2023-10-28T21:29:34.912Z"
   },
   {
    "duration": 14,
    "start_time": "2023-10-28T21:29:34.942Z"
   },
   {
    "duration": 61,
    "start_time": "2023-10-28T21:29:34.958Z"
   },
   {
    "duration": 2029,
    "start_time": "2023-10-28T21:29:35.021Z"
   },
   {
    "duration": 169,
    "start_time": "2023-10-28T21:29:37.052Z"
   },
   {
    "duration": 12,
    "start_time": "2023-10-28T21:29:37.223Z"
   },
   {
    "duration": 23,
    "start_time": "2023-10-28T21:29:37.237Z"
   },
   {
    "duration": 19,
    "start_time": "2023-10-28T21:29:37.263Z"
   },
   {
    "duration": 36,
    "start_time": "2023-10-28T21:29:37.284Z"
   },
   {
    "duration": 25,
    "start_time": "2023-10-28T21:29:37.322Z"
   },
   {
    "duration": 18,
    "start_time": "2023-10-28T21:29:37.348Z"
   },
   {
    "duration": 18,
    "start_time": "2023-10-28T21:29:37.368Z"
   },
   {
    "duration": 44,
    "start_time": "2023-10-28T21:29:37.387Z"
   },
   {
    "duration": 19,
    "start_time": "2023-10-28T21:29:37.433Z"
   },
   {
    "duration": 17,
    "start_time": "2023-10-28T21:29:37.454Z"
   },
   {
    "duration": 26,
    "start_time": "2023-10-28T21:29:37.472Z"
   },
   {
    "duration": 35,
    "start_time": "2023-10-28T21:29:37.500Z"
   },
   {
    "duration": 24,
    "start_time": "2023-10-28T21:29:37.536Z"
   },
   {
    "duration": 41,
    "start_time": "2023-10-28T21:29:37.562Z"
   },
   {
    "duration": 33,
    "start_time": "2023-10-28T21:29:37.605Z"
   },
   {
    "duration": 46,
    "start_time": "2023-10-28T21:29:37.640Z"
   },
   {
    "duration": 40,
    "start_time": "2023-10-28T21:29:37.688Z"
   },
   {
    "duration": 15,
    "start_time": "2023-10-28T21:29:37.730Z"
   },
   {
    "duration": 24,
    "start_time": "2023-10-28T21:29:37.746Z"
   },
   {
    "duration": 28,
    "start_time": "2023-10-28T21:29:37.771Z"
   },
   {
    "duration": 48,
    "start_time": "2023-10-28T21:29:37.804Z"
   },
   {
    "duration": 38,
    "start_time": "2023-10-28T21:29:37.854Z"
   },
   {
    "duration": 30,
    "start_time": "2023-10-28T21:29:37.894Z"
   },
   {
    "duration": 31,
    "start_time": "2023-10-28T21:29:37.926Z"
   },
   {
    "duration": 25,
    "start_time": "2023-10-28T21:29:37.959Z"
   },
   {
    "duration": 22,
    "start_time": "2023-10-28T21:29:37.986Z"
   },
   {
    "duration": 11,
    "start_time": "2023-10-28T21:29:38.009Z"
   },
   {
    "duration": 53,
    "start_time": "2023-10-28T21:29:38.022Z"
   },
   {
    "duration": 441,
    "start_time": "2023-10-28T21:29:38.076Z"
   },
   {
    "duration": 164,
    "start_time": "2023-10-28T21:29:38.519Z"
   },
   {
    "duration": 300,
    "start_time": "2023-10-28T21:29:38.685Z"
   },
   {
    "duration": 168,
    "start_time": "2023-10-28T21:29:38.986Z"
   },
   {
    "duration": 77272,
    "start_time": "2023-10-28T21:29:39.155Z"
   },
   {
    "duration": 166,
    "start_time": "2023-10-28T21:30:56.428Z"
   },
   {
    "duration": 27,
    "start_time": "2023-10-28T21:30:56.596Z"
   },
   {
    "duration": 165,
    "start_time": "2023-10-28T21:30:56.625Z"
   },
   {
    "duration": 320,
    "start_time": "2023-10-28T21:30:56.792Z"
   },
   {
    "duration": 270,
    "start_time": "2023-10-28T21:30:57.114Z"
   },
   {
    "duration": 46,
    "start_time": "2023-10-28T21:30:57.386Z"
   },
   {
    "duration": 188,
    "start_time": "2023-10-28T21:30:57.435Z"
   },
   {
    "duration": 355,
    "start_time": "2023-10-28T21:30:57.625Z"
   },
   {
    "duration": 177,
    "start_time": "2023-10-28T21:30:57.982Z"
   },
   {
    "duration": 10,
    "start_time": "2023-10-28T21:30:58.160Z"
   },
   {
    "duration": 11,
    "start_time": "2023-10-28T21:30:58.171Z"
   },
   {
    "duration": 21,
    "start_time": "2023-10-28T21:30:58.183Z"
   },
   {
    "duration": 11,
    "start_time": "2023-10-28T21:30:58.213Z"
   },
   {
    "duration": 20,
    "start_time": "2023-10-28T21:30:58.226Z"
   },
   {
    "duration": 473,
    "start_time": "2023-10-28T21:30:58.247Z"
   },
   {
    "duration": 277,
    "start_time": "2023-10-28T21:30:58.722Z"
   },
   {
    "duration": 38,
    "start_time": "2023-10-28T21:30:59.012Z"
   },
   {
    "duration": 273,
    "start_time": "2023-10-28T21:30:59.051Z"
   },
   {
    "duration": 470,
    "start_time": "2023-10-28T21:30:59.326Z"
   },
   {
    "duration": 179,
    "start_time": "2023-10-28T21:30:59.798Z"
   },
   {
    "duration": 10,
    "start_time": "2023-10-28T21:30:59.978Z"
   },
   {
    "duration": 30,
    "start_time": "2023-10-28T21:30:59.990Z"
   },
   {
    "duration": 99,
    "start_time": "2023-10-28T21:31:00.024Z"
   },
   {
    "duration": 40,
    "start_time": "2023-10-28T21:31:00.125Z"
   },
   {
    "duration": 449,
    "start_time": "2023-10-28T21:31:00.167Z"
   },
   {
    "duration": 265,
    "start_time": "2023-10-28T21:31:00.625Z"
   },
   {
    "duration": 37,
    "start_time": "2023-10-28T21:31:00.892Z"
   },
   {
    "duration": 199,
    "start_time": "2023-10-28T21:31:00.930Z"
   },
   {
    "duration": 238,
    "start_time": "2023-10-28T21:31:01.130Z"
   },
   {
    "duration": 204,
    "start_time": "2023-10-28T21:31:01.369Z"
   },
   {
    "duration": 12,
    "start_time": "2023-10-28T21:31:01.574Z"
   },
   {
    "duration": 56,
    "start_time": "2023-10-28T21:31:01.587Z"
   },
   {
    "duration": 60,
    "start_time": "2023-10-28T21:31:01.644Z"
   },
   {
    "duration": 43,
    "start_time": "2023-10-28T21:31:01.712Z"
   },
   {
    "duration": 69,
    "start_time": "2023-10-28T21:31:01.756Z"
   },
   {
    "duration": 48,
    "start_time": "2023-10-28T21:31:01.827Z"
   },
   {
    "duration": 46,
    "start_time": "2023-10-28T21:31:01.876Z"
   },
   {
    "duration": 64,
    "start_time": "2023-10-28T21:31:01.924Z"
   },
   {
    "duration": 90,
    "start_time": "2023-10-28T21:31:01.990Z"
   },
   {
    "duration": 641,
    "start_time": "2023-10-28T21:31:02.081Z"
   },
   {
    "duration": 176,
    "start_time": "2023-10-28T21:31:02.724Z"
   },
   {
    "duration": 14,
    "start_time": "2023-10-28T21:31:02.916Z"
   },
   {
    "duration": 40,
    "start_time": "2023-10-28T21:31:02.932Z"
   },
   {
    "duration": 17,
    "start_time": "2023-10-28T21:36:20.809Z"
   },
   {
    "duration": 9,
    "start_time": "2023-10-28T21:36:50.230Z"
   },
   {
    "duration": 9,
    "start_time": "2023-10-28T21:36:53.154Z"
   },
   {
    "duration": 6,
    "start_time": "2023-10-28T21:39:46.298Z"
   },
   {
    "duration": 107,
    "start_time": "2023-10-28T21:39:57.917Z"
   },
   {
    "duration": 9,
    "start_time": "2023-10-28T21:40:00.474Z"
   },
   {
    "duration": 13,
    "start_time": "2023-10-28T21:40:02.417Z"
   },
   {
    "duration": 3,
    "start_time": "2023-10-28T21:40:10.188Z"
   },
   {
    "duration": 14,
    "start_time": "2023-10-28T21:40:16.058Z"
   },
   {
    "duration": 9,
    "start_time": "2023-10-28T21:40:23.942Z"
   },
   {
    "duration": 3,
    "start_time": "2023-10-28T21:40:24.242Z"
   },
   {
    "duration": 20,
    "start_time": "2023-10-28T21:47:36.500Z"
   },
   {
    "duration": 21,
    "start_time": "2023-10-28T21:47:40.805Z"
   },
   {
    "duration": 16,
    "start_time": "2023-10-28T21:47:49.679Z"
   },
   {
    "duration": 19,
    "start_time": "2023-10-28T21:49:35.756Z"
   },
   {
    "duration": 9,
    "start_time": "2023-10-28T21:50:02.585Z"
   },
   {
    "duration": 7,
    "start_time": "2023-10-28T21:50:04.856Z"
   },
   {
    "duration": 9,
    "start_time": "2023-10-28T21:50:15.854Z"
   },
   {
    "duration": 5,
    "start_time": "2023-10-28T21:50:17.130Z"
   },
   {
    "duration": 168,
    "start_time": "2023-10-28T21:50:26.159Z"
   },
   {
    "duration": 134,
    "start_time": "2023-10-28T21:50:38.805Z"
   },
   {
    "duration": 9,
    "start_time": "2023-10-28T21:51:02.966Z"
   },
   {
    "duration": 132,
    "start_time": "2023-10-28T21:51:03.735Z"
   },
   {
    "duration": 152,
    "start_time": "2023-10-28T21:51:10.088Z"
   },
   {
    "duration": 133,
    "start_time": "2023-10-28T21:51:26.490Z"
   },
   {
    "duration": 185,
    "start_time": "2023-10-28T21:51:36.034Z"
   },
   {
    "duration": 146,
    "start_time": "2023-10-28T21:51:44.878Z"
   },
   {
    "duration": 148,
    "start_time": "2023-10-28T21:51:48.854Z"
   },
   {
    "duration": 13,
    "start_time": "2023-10-28T21:51:57.906Z"
   },
   {
    "duration": 248,
    "start_time": "2023-10-28T21:51:58.751Z"
   },
   {
    "duration": 143,
    "start_time": "2023-10-28T21:52:14.856Z"
   },
   {
    "duration": 154,
    "start_time": "2023-10-28T21:52:31.470Z"
   },
   {
    "duration": 153,
    "start_time": "2023-10-28T21:52:46.682Z"
   },
   {
    "duration": 154,
    "start_time": "2023-10-28T21:53:09.233Z"
   },
   {
    "duration": 198,
    "start_time": "2023-10-28T21:54:36.237Z"
   },
   {
    "duration": 187,
    "start_time": "2023-10-28T21:54:44.963Z"
   },
   {
    "duration": 188,
    "start_time": "2023-10-28T21:54:48.105Z"
   },
   {
    "duration": 149,
    "start_time": "2023-10-28T21:54:53.150Z"
   },
   {
    "duration": 149,
    "start_time": "2023-10-28T21:54:57.018Z"
   },
   {
    "duration": 159,
    "start_time": "2023-10-28T21:55:02.800Z"
   },
   {
    "duration": 150,
    "start_time": "2023-10-28T21:55:08.458Z"
   },
   {
    "duration": 147,
    "start_time": "2023-10-28T21:55:13.930Z"
   },
   {
    "duration": 167,
    "start_time": "2023-10-28T21:55:16.168Z"
   },
   {
    "duration": 151,
    "start_time": "2023-10-28T21:55:17.998Z"
   },
   {
    "duration": 200,
    "start_time": "2023-10-28T21:55:20.823Z"
   },
   {
    "duration": 305,
    "start_time": "2023-10-28T21:55:26.643Z"
   },
   {
    "duration": 221,
    "start_time": "2023-10-28T21:56:05.699Z"
   },
   {
    "duration": 158,
    "start_time": "2023-10-28T21:56:34.182Z"
   },
   {
    "duration": 158,
    "start_time": "2023-10-28T21:56:37.769Z"
   },
   {
    "duration": 222,
    "start_time": "2023-10-28T21:56:41.193Z"
   },
   {
    "duration": 182,
    "start_time": "2023-10-28T21:56:49.773Z"
   },
   {
    "duration": 105,
    "start_time": "2023-10-28T21:57:02.121Z"
   },
   {
    "duration": 187,
    "start_time": "2023-10-28T21:57:04.898Z"
   },
   {
    "duration": 83,
    "start_time": "2023-10-28T21:57:31.884Z"
   },
   {
    "duration": 194,
    "start_time": "2023-10-28T21:57:35.389Z"
   },
   {
    "duration": 169,
    "start_time": "2023-10-28T22:00:33.038Z"
   },
   {
    "duration": 157,
    "start_time": "2023-10-28T22:00:50.417Z"
   },
   {
    "duration": 234,
    "start_time": "2023-10-28T22:00:56.082Z"
   },
   {
    "duration": 91,
    "start_time": "2023-10-28T22:01:28.217Z"
   },
   {
    "duration": 11,
    "start_time": "2023-10-28T22:01:31.361Z"
   },
   {
    "duration": 218,
    "start_time": "2023-10-28T22:01:38.815Z"
   },
   {
    "duration": 11,
    "start_time": "2023-10-28T22:03:10.873Z"
   },
   {
    "duration": 211,
    "start_time": "2023-10-28T22:03:11.932Z"
   },
   {
    "duration": 11,
    "start_time": "2023-10-28T22:03:21.013Z"
   },
   {
    "duration": 200,
    "start_time": "2023-10-28T22:03:22.820Z"
   },
   {
    "duration": 208,
    "start_time": "2023-10-28T22:05:52.041Z"
   },
   {
    "duration": 328,
    "start_time": "2023-10-28T22:07:28.039Z"
   },
   {
    "duration": 218,
    "start_time": "2023-10-28T22:07:53.375Z"
   },
   {
    "duration": 195,
    "start_time": "2023-10-28T22:08:07.859Z"
   },
   {
    "duration": 190,
    "start_time": "2023-10-28T22:08:14.146Z"
   },
   {
    "duration": 11,
    "start_time": "2023-10-28T22:10:40.139Z"
   },
   {
    "duration": 13,
    "start_time": "2023-10-28T22:10:56.849Z"
   },
   {
    "duration": 13,
    "start_time": "2023-10-28T22:11:04.761Z"
   },
   {
    "duration": 10,
    "start_time": "2023-10-28T22:11:25.551Z"
   },
   {
    "duration": 11,
    "start_time": "2023-10-28T22:11:56.162Z"
   },
   {
    "duration": 12,
    "start_time": "2023-10-28T22:12:09.567Z"
   },
   {
    "duration": 14,
    "start_time": "2023-10-28T22:12:14.000Z"
   },
   {
    "duration": 10,
    "start_time": "2023-10-28T22:12:17.915Z"
   },
   {
    "duration": 11,
    "start_time": "2023-10-28T22:12:26.860Z"
   },
   {
    "duration": 10,
    "start_time": "2023-10-28T22:12:56.160Z"
   },
   {
    "duration": 191,
    "start_time": "2023-10-28T22:13:13.077Z"
   },
   {
    "duration": 187,
    "start_time": "2023-10-28T22:13:33.386Z"
   },
   {
    "duration": 4,
    "start_time": "2023-10-28T22:25:49.442Z"
   },
   {
    "duration": 4,
    "start_time": "2023-10-28T22:30:46.409Z"
   },
   {
    "duration": 1491,
    "start_time": "2023-10-28T22:40:16.083Z"
   },
   {
    "duration": 44,
    "start_time": "2023-10-28T22:40:17.576Z"
   },
   {
    "duration": 16,
    "start_time": "2023-10-28T22:40:17.622Z"
   },
   {
    "duration": 13,
    "start_time": "2023-10-28T22:40:17.639Z"
   },
   {
    "duration": 40,
    "start_time": "2023-10-28T22:40:17.653Z"
   },
   {
    "duration": 1755,
    "start_time": "2023-10-28T22:40:17.707Z"
   },
   {
    "duration": 162,
    "start_time": "2023-10-28T22:40:19.463Z"
   },
   {
    "duration": 8,
    "start_time": "2023-10-28T22:40:19.626Z"
   },
   {
    "duration": 10,
    "start_time": "2023-10-28T22:40:19.636Z"
   },
   {
    "duration": 7,
    "start_time": "2023-10-28T22:40:19.649Z"
   },
   {
    "duration": 12,
    "start_time": "2023-10-28T22:40:19.657Z"
   },
   {
    "duration": 7,
    "start_time": "2023-10-28T22:40:19.671Z"
   },
   {
    "duration": 13,
    "start_time": "2023-10-28T22:40:19.679Z"
   },
   {
    "duration": 19,
    "start_time": "2023-10-28T22:40:19.693Z"
   },
   {
    "duration": 25,
    "start_time": "2023-10-28T22:40:19.713Z"
   },
   {
    "duration": 19,
    "start_time": "2023-10-28T22:40:19.739Z"
   },
   {
    "duration": 4,
    "start_time": "2023-10-28T22:40:19.760Z"
   },
   {
    "duration": 14,
    "start_time": "2023-10-28T22:40:19.766Z"
   },
   {
    "duration": 6,
    "start_time": "2023-10-28T22:40:19.782Z"
   },
   {
    "duration": 7,
    "start_time": "2023-10-28T22:40:19.789Z"
   },
   {
    "duration": 22,
    "start_time": "2023-10-28T22:40:19.797Z"
   },
   {
    "duration": 11,
    "start_time": "2023-10-28T22:40:19.820Z"
   },
   {
    "duration": 25,
    "start_time": "2023-10-28T22:40:19.833Z"
   },
   {
    "duration": 6,
    "start_time": "2023-10-28T22:40:19.860Z"
   },
   {
    "duration": 6,
    "start_time": "2023-10-28T22:40:19.867Z"
   },
   {
    "duration": 8,
    "start_time": "2023-10-28T22:40:19.874Z"
   },
   {
    "duration": 4,
    "start_time": "2023-10-28T22:40:19.884Z"
   },
   {
    "duration": 17,
    "start_time": "2023-10-28T22:40:19.910Z"
   },
   {
    "duration": 17,
    "start_time": "2023-10-28T22:40:19.929Z"
   },
   {
    "duration": 16,
    "start_time": "2023-10-28T22:40:19.948Z"
   },
   {
    "duration": 19,
    "start_time": "2023-10-28T22:40:19.966Z"
   },
   {
    "duration": 24,
    "start_time": "2023-10-28T22:40:19.987Z"
   },
   {
    "duration": 30,
    "start_time": "2023-10-28T22:40:20.013Z"
   },
   {
    "duration": 18,
    "start_time": "2023-10-28T22:40:20.045Z"
   },
   {
    "duration": 21,
    "start_time": "2023-10-28T22:40:20.064Z"
   },
   {
    "duration": 332,
    "start_time": "2023-10-28T22:40:20.087Z"
   },
   {
    "duration": 163,
    "start_time": "2023-10-28T22:40:20.508Z"
   },
   {
    "duration": 307,
    "start_time": "2023-10-28T22:40:20.673Z"
   },
   {
    "duration": 158,
    "start_time": "2023-10-28T22:40:20.982Z"
   },
   {
    "duration": 74182,
    "start_time": "2023-10-28T22:40:21.142Z"
   },
   {
    "duration": 170,
    "start_time": "2023-10-28T22:41:35.326Z"
   },
   {
    "duration": 18,
    "start_time": "2023-10-28T22:41:35.498Z"
   },
   {
    "duration": 163,
    "start_time": "2023-10-28T22:41:35.518Z"
   },
   {
    "duration": 331,
    "start_time": "2023-10-28T22:41:35.683Z"
   },
   {
    "duration": 287,
    "start_time": "2023-10-28T22:41:36.016Z"
   },
   {
    "duration": 31,
    "start_time": "2023-10-28T22:41:36.307Z"
   },
   {
    "duration": 182,
    "start_time": "2023-10-28T22:41:36.340Z"
   },
   {
    "duration": 362,
    "start_time": "2023-10-28T22:41:36.523Z"
   },
   {
    "duration": 174,
    "start_time": "2023-10-28T22:41:36.887Z"
   },
   {
    "duration": 10,
    "start_time": "2023-10-28T22:41:37.062Z"
   },
   {
    "duration": 31,
    "start_time": "2023-10-28T22:41:37.074Z"
   },
   {
    "duration": 10,
    "start_time": "2023-10-28T22:41:37.106Z"
   },
   {
    "duration": 14,
    "start_time": "2023-10-28T22:41:37.118Z"
   },
   {
    "duration": 12,
    "start_time": "2023-10-28T22:41:37.133Z"
   },
   {
    "duration": 463,
    "start_time": "2023-10-28T22:41:37.147Z"
   },
   {
    "duration": 255,
    "start_time": "2023-10-28T22:41:37.612Z"
   },
   {
    "duration": 47,
    "start_time": "2023-10-28T22:41:37.869Z"
   },
   {
    "duration": 289,
    "start_time": "2023-10-28T22:41:37.918Z"
   },
   {
    "duration": 468,
    "start_time": "2023-10-28T22:41:38.209Z"
   },
   {
    "duration": 171,
    "start_time": "2023-10-28T22:41:38.679Z"
   },
   {
    "duration": 12,
    "start_time": "2023-10-28T22:41:38.853Z"
   },
   {
    "duration": 13,
    "start_time": "2023-10-28T22:41:38.867Z"
   },
   {
    "duration": 27,
    "start_time": "2023-10-28T22:41:38.881Z"
   },
   {
    "duration": 19,
    "start_time": "2023-10-28T22:41:38.910Z"
   },
   {
    "duration": 278,
    "start_time": "2023-10-28T22:41:38.931Z"
   },
   {
    "duration": 252,
    "start_time": "2023-10-28T22:41:39.211Z"
   },
   {
    "duration": 22,
    "start_time": "2023-10-28T22:41:39.465Z"
   },
   {
    "duration": 182,
    "start_time": "2023-10-28T22:41:39.489Z"
   },
   {
    "duration": 232,
    "start_time": "2023-10-28T22:41:39.673Z"
   },
   {
    "duration": 180,
    "start_time": "2023-10-28T22:41:39.907Z"
   },
   {
    "duration": 18,
    "start_time": "2023-10-28T22:41:40.090Z"
   },
   {
    "duration": 20,
    "start_time": "2023-10-28T22:41:40.110Z"
   },
   {
    "duration": 13,
    "start_time": "2023-10-28T22:41:40.131Z"
   },
   {
    "duration": 33,
    "start_time": "2023-10-28T22:41:40.146Z"
   },
   {
    "duration": 13,
    "start_time": "2023-10-28T22:41:40.180Z"
   },
   {
    "duration": 25,
    "start_time": "2023-10-28T22:41:40.195Z"
   },
   {
    "duration": 22,
    "start_time": "2023-10-28T22:41:40.222Z"
   },
   {
    "duration": 22,
    "start_time": "2023-10-28T22:41:40.245Z"
   },
   {
    "duration": 11,
    "start_time": "2023-10-28T22:41:40.268Z"
   },
   {
    "duration": 600,
    "start_time": "2023-10-28T22:41:40.281Z"
   },
   {
    "duration": 189,
    "start_time": "2023-10-28T22:41:40.883Z"
   },
   {
    "duration": 12,
    "start_time": "2023-10-28T22:41:41.077Z"
   },
   {
    "duration": 203,
    "start_time": "2023-10-28T22:41:41.091Z"
   },
   {
    "duration": 13,
    "start_time": "2023-10-28T22:41:41.295Z"
   },
   {
    "duration": 21,
    "start_time": "2023-10-28T22:41:41.310Z"
   }
  ],
  "kernelspec": {
   "display_name": "Python 3",
   "language": "python",
   "name": "python3"
  },
  "language_info": {
   "codemirror_mode": {
    "name": "ipython",
    "version": 3
   },
   "file_extension": ".py",
   "mimetype": "text/x-python",
   "name": "python",
   "nbconvert_exporter": "python",
   "pygments_lexer": "ipython3",
   "version": "3.8.8"
  },
  "toc": {
   "base_numbering": 1,
   "nav_menu": {},
   "number_sections": true,
   "sideBar": true,
   "skip_h1_title": true,
   "title_cell": "Содержание",
   "title_sidebar": "Contents",
   "toc_cell": true,
   "toc_position": {},
   "toc_section_display": true,
   "toc_window_display": true
  }
 },
 "nbformat": 4,
 "nbformat_minor": 2
}
